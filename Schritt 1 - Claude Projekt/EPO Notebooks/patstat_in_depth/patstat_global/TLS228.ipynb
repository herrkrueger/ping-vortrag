{
 "cells": [
  {
   "cell_type": "markdown",
   "id": "218488dd-3838-48b4-8732-d06b94f2733e",
   "metadata": {},
   "source": [
    "# The Citation between DOCDB Families Table (TLS228_DOCDB_FAM_CITN)"
   ]
  },
  {
   "cell_type": "markdown",
   "id": "ccd08772-7c51-4e60-aa79-2f1773809a65",
   "metadata": {},
   "source": [
    "Welcome to the **Citation between DOCDB Families Table**, coded as TLS228_DOCDB_FAM_CITN. This table contains one entry for each pair of DOCDB simple families, where one member of a family cites at least one member of another family. That means if multiple publications of one family cite one or multiple publication(s) / application(s) of another family, then this is counted as one citation between these 2 families."
   ]
  },
  {
   "cell_type": "markdown",
   "id": "d8195676-b99f-4f89-9b78-46161d257b08",
   "metadata": {},
   "source": [
    "In this table, both cited publications (typical case) and cited applications (also possible) are considered."
   ]
  },
  {
   "cell_type": "code",
   "execution_count": 6,
   "id": "9281d1cd-9292-4d79-8d2d-c6927555cee5",
   "metadata": {},
   "outputs": [],
   "source": [
    "from epo.tipdata.patstat import PatstatClient\n",
    "\n",
    "# Initialize the PATSTAT client\n",
    "patstat = PatstatClient(env='PROD')\n",
    "\n",
    "# Access ORM\n",
    "db = patstat.orm()\n",
    "\n",
    "# Importing the as models\n",
    "from epo.tipdata.patstat.database.models import TLS228_DOCDB_FAM_CITN"
   ]
  },
  {
   "cell_type": "markdown",
   "id": "1dee3b6f-89e4-4d99-87a0-7aca00dd11e2",
   "metadata": {},
   "source": [
    "## DOCDB_FAMILY_ID"
   ]
  },
  {
   "cell_type": "markdown",
   "id": "d8f72714-0ad4-46d4-b222-6d5a374957ca",
   "metadata": {},
   "source": [
    "This attribute provides a link to table TLS201 and it is the identifier of a DOCDB simple family."
   ]
  },
  {
   "cell_type": "code",
   "execution_count": 7,
   "id": "ce7eea39-e5dc-4059-8057-07406cd1882e",
   "metadata": {},
   "outputs": [
    {
     "data": {
      "text/html": [
       "<div>\n",
       "<style scoped>\n",
       "    .dataframe tbody tr th:only-of-type {\n",
       "        vertical-align: middle;\n",
       "    }\n",
       "\n",
       "    .dataframe tbody tr th {\n",
       "        vertical-align: top;\n",
       "    }\n",
       "\n",
       "    .dataframe thead th {\n",
       "        text-align: right;\n",
       "    }\n",
       "</style>\n",
       "<table border=\"1\" class=\"dataframe\">\n",
       "  <thead>\n",
       "    <tr style=\"text-align: right;\">\n",
       "      <th></th>\n",
       "      <th>docdb_family_id</th>\n",
       "      <th>cited_docdb_family_id</th>\n",
       "    </tr>\n",
       "  </thead>\n",
       "  <tbody>\n",
       "    <tr>\n",
       "      <th>0</th>\n",
       "      <td>71090642</td>\n",
       "      <td>41033455</td>\n",
       "    </tr>\n",
       "    <tr>\n",
       "      <th>1</th>\n",
       "      <td>41011909</td>\n",
       "      <td>19062236</td>\n",
       "    </tr>\n",
       "    <tr>\n",
       "      <th>2</th>\n",
       "      <td>41011909</td>\n",
       "      <td>19062236</td>\n",
       "    </tr>\n",
       "    <tr>\n",
       "      <th>3</th>\n",
       "      <td>41011909</td>\n",
       "      <td>19062236</td>\n",
       "    </tr>\n",
       "    <tr>\n",
       "      <th>4</th>\n",
       "      <td>38777173</td>\n",
       "      <td>37295458</td>\n",
       "    </tr>\n",
       "    <tr>\n",
       "      <th>...</th>\n",
       "      <td>...</td>\n",
       "      <td>...</td>\n",
       "    </tr>\n",
       "    <tr>\n",
       "      <th>995</th>\n",
       "      <td>3800217</td>\n",
       "      <td>13063532</td>\n",
       "    </tr>\n",
       "    <tr>\n",
       "      <th>996</th>\n",
       "      <td>3800217</td>\n",
       "      <td>13063532</td>\n",
       "    </tr>\n",
       "    <tr>\n",
       "      <th>997</th>\n",
       "      <td>3800217</td>\n",
       "      <td>13063532</td>\n",
       "    </tr>\n",
       "    <tr>\n",
       "      <th>998</th>\n",
       "      <td>3800217</td>\n",
       "      <td>13063532</td>\n",
       "    </tr>\n",
       "    <tr>\n",
       "      <th>999</th>\n",
       "      <td>3800217</td>\n",
       "      <td>13063532</td>\n",
       "    </tr>\n",
       "  </tbody>\n",
       "</table>\n",
       "<p>1000 rows × 2 columns</p>\n",
       "</div>"
      ],
      "text/plain": [
       "     docdb_family_id  cited_docdb_family_id\n",
       "0           71090642               41033455\n",
       "1           41011909               19062236\n",
       "2           41011909               19062236\n",
       "3           41011909               19062236\n",
       "4           38777173               37295458\n",
       "..               ...                    ...\n",
       "995          3800217               13063532\n",
       "996          3800217               13063532\n",
       "997          3800217               13063532\n",
       "998          3800217               13063532\n",
       "999          3800217               13063532\n",
       "\n",
       "[1000 rows x 2 columns]"
      ]
     },
     "execution_count": 7,
     "metadata": {},
     "output_type": "execute_result"
    }
   ],
   "source": [
    "# Import table TLS201\n",
    "from epo.tipdata.patstat.database.models import TLS201_APPLN\n",
    "\n",
    "show_join = db.query(\n",
    "    TLS201_APPLN.docdb_family_id,\n",
    "    TLS228_DOCDB_FAM_CITN.cited_docdb_family_id\n",
    ").join(\n",
    "    TLS201_APPLN, TLS228_DOCDB_FAM_CITN.docdb_family_id == TLS201_APPLN.docdb_family_id\n",
    ").limit(1000)\n",
    "\n",
    "show_join_df = patstat.df(show_join)\n",
    "show_join_df"
   ]
  },
  {
   "cell_type": "markdown",
   "id": "911fc88f-c90e-451c-8497-7adac503a3ab",
   "metadata": {},
   "source": [
    "## CITED_DOCDB_FAMILY_ID"
   ]
  },
  {
   "cell_type": "markdown",
   "id": "f7f5298a-b69f-40b7-a61c-f583374ca17f",
   "metadata": {},
   "source": [
    "ID of the cited DOCDB simple family. Uniquely identifies the cited family."
   ]
  },
  {
   "cell_type": "markdown",
   "id": "644d55d4-cfe6-49cf-8343-0a8fc9e79e7a",
   "metadata": {},
   "source": [
    "With this attribute, we can for example retrive the 5 most cited DOCDB family among the ones having applications filed at the EPO."
   ]
  },
  {
   "cell_type": "code",
   "execution_count": 9,
   "id": "0e77965e-23ec-4207-86da-4fd8c1c33342",
   "metadata": {},
   "outputs": [
    {
     "data": {
      "text/html": [
       "<div>\n",
       "<style scoped>\n",
       "    .dataframe tbody tr th:only-of-type {\n",
       "        vertical-align: middle;\n",
       "    }\n",
       "\n",
       "    .dataframe tbody tr th {\n",
       "        vertical-align: top;\n",
       "    }\n",
       "\n",
       "    .dataframe thead th {\n",
       "        text-align: right;\n",
       "    }\n",
       "</style>\n",
       "<table border=\"1\" class=\"dataframe\">\n",
       "  <thead>\n",
       "    <tr style=\"text-align: right;\">\n",
       "      <th></th>\n",
       "      <th>cited_docdb_family_id</th>\n",
       "      <th>Total citations</th>\n",
       "    </tr>\n",
       "  </thead>\n",
       "  <tbody>\n",
       "    <tr>\n",
       "      <th>0</th>\n",
       "      <td>23920101</td>\n",
       "      <td>9079</td>\n",
       "    </tr>\n",
       "    <tr>\n",
       "      <th>1</th>\n",
       "      <td>27109640</td>\n",
       "      <td>7219</td>\n",
       "    </tr>\n",
       "    <tr>\n",
       "      <th>2</th>\n",
       "      <td>24543134</td>\n",
       "      <td>6080</td>\n",
       "    </tr>\n",
       "    <tr>\n",
       "      <th>3</th>\n",
       "      <td>27124781</td>\n",
       "      <td>5708</td>\n",
       "    </tr>\n",
       "    <tr>\n",
       "      <th>4</th>\n",
       "      <td>27399321</td>\n",
       "      <td>4514</td>\n",
       "    </tr>\n",
       "  </tbody>\n",
       "</table>\n",
       "</div>"
      ],
      "text/plain": [
       "   cited_docdb_family_id  Total citations\n",
       "0               23920101             9079\n",
       "1               27109640             7219\n",
       "2               24543134             6080\n",
       "3               27124781             5708\n",
       "4               27399321             4514"
      ]
     },
     "execution_count": 9,
     "metadata": {},
     "output_type": "execute_result"
    }
   ],
   "source": [
    "from sqlalchemy import func\n",
    "\n",
    "most_cited_fams = db.query(\n",
    "    TLS228_DOCDB_FAM_CITN.cited_docdb_family_id,\n",
    "    func.count(TLS201_APPLN.docdb_family_id).label('Total citations')\n",
    ").join(\n",
    "    TLS228_DOCDB_FAM_CITN, TLS201_APPLN.docdb_family_id == TLS228_DOCDB_FAM_CITN.docdb_family_id\n",
    ").filter(\n",
    "    TLS201_APPLN.appln_auth == 'EP'\n",
    ").group_by(\n",
    "    TLS228_DOCDB_FAM_CITN.cited_docdb_family_id\n",
    ").order_by(\n",
    "    func.count(TLS201_APPLN.docdb_family_id).desc()\n",
    ").limit(5)\n",
    "\n",
    "most_cited_fams_df = patstat.df(most_cited_fams)\n",
    "most_cited_fams_df"
   ]
  },
  {
   "cell_type": "code",
   "execution_count": null,
   "id": "8d19df2a-e981-4eb6-b03b-8f506242629d",
   "metadata": {},
   "outputs": [],
   "source": []
  }
 ],
 "metadata": {
  "kernelspec": {
   "display_name": "Python 3 (ipykernel)",
   "language": "python",
   "name": "python3"
  },
  "language_info": {
   "codemirror_mode": {
    "name": "ipython",
    "version": 3
   },
   "file_extension": ".py",
   "mimetype": "text/x-python",
   "name": "python",
   "nbconvert_exporter": "python",
   "pygments_lexer": "ipython3",
   "version": "3.11.10"
  }
 },
 "nbformat": 4,
 "nbformat_minor": 5
}
