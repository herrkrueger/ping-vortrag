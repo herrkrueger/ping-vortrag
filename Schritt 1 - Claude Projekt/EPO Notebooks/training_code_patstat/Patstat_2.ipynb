{
 "cells": [
  {
   "cell_type": "markdown",
   "id": "f978532e-fd17-4a39-a56b-648046a5676b",
   "metadata": {},
   "source": [
    "## The Patstat library - Lesson 2 \n",
    "This notebook expands on the first lesson about Patstat. We will take a look at the applications table, which is the main table of the database schema of Patstat. "
   ]
  },
  {
   "cell_type": "markdown",
   "id": "ea600367-30ec-47bc-95a0-37a40fc952d1",
   "metadata": {},
   "source": [
    "## The applications table\n",
    "When working with Patstat you should be familiar with its rich data structure. The goal of this course is not to explain the whole set of tables and fields, since this can be found in the official documentation. We will, however, take a look at some of the main tables and work with them to perform data analysis. \n",
    "\n",
    "Table `tls201_appln`, that we will be refering to as the `applications table` is the central table in the databse schema for PATSTAT global. Almost all other tables in the schema have a direct relationship with the applications table. Let's take a look at this table\n"
   ]
  },
  {
   "cell_type": "markdown",
   "id": "202d9b28-c176-4601-a8ff-14d44556c5bf",
   "metadata": {},
   "source": [
    "### Viewing all the fields with SQL\n",
    "We saw in lesson 1 that we can query patstat using SQL language, using the  method `sql_query`. We are going to take advantage of that and query using `SELECT * FROM tls201_appln`, which gives us all the fields in a given table.  "
   ]
  },
  {
   "cell_type": "code",
   "execution_count": 1,
   "id": "61e94d70-1163-417c-b202-e52872a4e077",
   "metadata": {},
   "outputs": [],
   "source": [
    "# Importing the patstat client\n",
    "from epo.tipdata.patstat import PatstatClient\n",
    "\n",
    "# Initialize the PATSTAT client\n",
    "patstat = PatstatClient()\n",
    "\n",
    "# Access ORM\n",
    "db = patstat.orm()\n"
   ]
  },
  {
   "cell_type": "code",
   "execution_count": null,
   "id": "55a89d8a-d287-43ca-997c-5d57569f3874",
   "metadata": {},
   "outputs": [],
   "source": [
    "# Querying with SQL for all the fields in the applications table\n",
    "\n",
    "res = patstat.sql_query(\"\"\"\n",
    "SELECT\n",
    "    *\n",
    "FROM\n",
    "    tls201_appln\n",
    "\"\"\")\n",
    "\n",
    "# Printing the number of fields\n",
    "print (f\"Number of fields in the applications table\", len(res[0]))\n",
    "\n",
    "# Showing the first result \n",
    "res[0]"
   ]
  },
  {
   "cell_type": "markdown",
   "id": "587e4ed3-9ae1-4ebe-aa7a-0f0917dd554a",
   "metadata": {
    "jp-MarkdownHeadingCollapsed": true
   },
   "source": [
    "### The fields in the applications table\n",
    "We can see that table `tls201_appln` in the PATSTAT database contains 27 fields. Below you can see a description of each field. "
   ]
  },
  {
   "cell_type": "markdown",
   "id": "1221c424-fe8a-4f71-bb3b-f728f6b00ef2",
   "metadata": {},
   "source": [
    "\n",
    "1. **appln_id**: A unique identifier for the patent application. This is an internal number used to uniquely identify each application within the database.\n",
    "\n",
    "2. **appln_auth**: The patent authority or office where the application was filed. For example, 'EP' stands for the European Patent Office.\n",
    "\n",
    "3. **appln_nr**: The application number assigned by the patent authority. This number is unique within the context of the authority.\n",
    "\n",
    "4. **appln_kind**: The kind of patent document, often represented by a letter (e.g., 'A' for a published application, 'B' for a granted patent).\n",
    "\n",
    "5. **appln_filing_date**: The date on which the patent application was filed with the patent authority.\n",
    "\n",
    "6. **appln_filing_year**: The year in which the patent application was filed, extracted from the filing date.\n",
    "\n",
    "7. **appln_nr_epodoc**: The application number in the EPODOC format, a standardized format used by the European Patent Office.\n",
    "\n",
    "8. **appln_nr_original**: The original application number as assigned by the patent authority.\n",
    "\n",
    "9. **ipr_type**: The type of intellectual property right, such as 'PI' for patent of invention.\n",
    "\n",
    "10. **receiving_office**: The receiving office for the application, which is typically used in the context of international patent applications.\n",
    "\n",
    "11. **internat_appln_id**: Identifier for the international application, if applicable.\n",
    "\n",
    "12. **int_phase**: Indicates whether the application is in the international phase ('Y' for yes, 'N' for no).\n",
    "\n",
    "13. **reg_phase**: Indicates whether the application is in the regional phase ('Y' for yes, 'N' for no).\n",
    "\n",
    "14. **nat_phase**: Indicates whether the application is in the national phase ('Y' for yes, 'N' for no).\n",
    "\n",
    "15. **earliest_filing_date**: The earliest filing date among all related applications in the same patent family.\n",
    "\n",
    "16. **earliest_filing_year**: The year of the earliest filing date.\n",
    "\n",
    "17. **earliest_filing_id**: Identifier for the earliest related application.\n",
    "\n",
    "18. **earliest_publn_date**: The earliest publication date of the application.\n",
    "\n",
    "19. **earliest_publn_year**: The year of the earliest publication date.\n",
    "\n",
    "20. **earliest_pat_publn_id**: Identifier for the earliest related publication.\n",
    "\n",
    "21. **granted**: Indicates whether the application has been granted ('Y' for yes, 'N' for no).\n",
    "\n",
    "22. **docdb_family_id**: Identifier for the DOCDB patent family, which groups related patent documents across different countries.\n",
    "\n",
    "23. **inpadoc_family_id**: Identifier for the INPADOC patent family, a broader grouping of related patent documents.\n",
    "\n",
    "24. **docdb_family_size**: The number of documents in the DOCDB patent family.\n",
    "\n",
    "25. **nb_citing_docdb_fam**: The number of DOCDB patent families that cite this application.\n",
    "\n",
    "26. **nb_applicants**: The number of applicants for the patent.\n",
    "\n",
    "27. **nb_inventors**: The number of inventors listed on the application."
   ]
  },
  {
   "cell_type": "markdown",
   "id": "f16d62fd-c2a6-40db-ad0a-fbc0487042ab",
   "metadata": {},
   "source": [
    "## Example query: the most influencial European patents of the decade\n",
    "Before moving to more complex queries, let's take a look at an example of a query using only the applications table.\n",
    "\n",
    "We will use ORM for this example and throughout the rest of the course. Remember that for working with ORM, we need to import the table(s) we want to work with as models. "
   ]
  },
  {
   "cell_type": "code",
   "execution_count": 29,
   "id": "bf974096-5793-4b12-997b-8800b69f26e8",
   "metadata": {},
   "outputs": [],
   "source": [
    "# Importing tables as models\n",
    "from epo.tipdata.patstat.database.models import TLS201_APPLN"
   ]
  },
  {
   "cell_type": "markdown",
   "id": "d1da55a6-644d-45b5-834a-291922382123",
   "metadata": {},
   "source": [
    "### Our query\n",
    "We will see what granted European patents have been cited the most, from the applications filed in this decade. "
   ]
  },
  {
   "cell_type": "code",
   "execution_count": 4,
   "id": "0364dbea-00b5-44a5-9122-0d45cf1d9307",
   "metadata": {},
   "outputs": [
    {
     "data": {
      "text/html": [
       "<div>\n",
       "<style scoped>\n",
       "    .dataframe tbody tr th:only-of-type {\n",
       "        vertical-align: middle;\n",
       "    }\n",
       "\n",
       "    .dataframe tbody tr th {\n",
       "        vertical-align: top;\n",
       "    }\n",
       "\n",
       "    .dataframe thead th {\n",
       "        text-align: right;\n",
       "    }\n",
       "</style>\n",
       "<table border=\"1\" class=\"dataframe\">\n",
       "  <thead>\n",
       "    <tr style=\"text-align: right;\">\n",
       "      <th></th>\n",
       "      <th>appln_id</th>\n",
       "      <th>appln_nr</th>\n",
       "      <th>appln_filing_date</th>\n",
       "      <th>nb_citing_docdb_fam</th>\n",
       "    </tr>\n",
       "  </thead>\n",
       "  <tbody>\n",
       "    <tr>\n",
       "      <th>0</th>\n",
       "      <td>533200270</td>\n",
       "      <td>20182100</td>\n",
       "      <td>2020-06-24</td>\n",
       "      <td>302</td>\n",
       "    </tr>\n",
       "    <tr>\n",
       "      <th>1</th>\n",
       "      <td>533200253</td>\n",
       "      <td>20181956</td>\n",
       "      <td>2020-06-24</td>\n",
       "      <td>302</td>\n",
       "    </tr>\n",
       "    <tr>\n",
       "      <th>2</th>\n",
       "      <td>533254899</td>\n",
       "      <td>20182485</td>\n",
       "      <td>2020-06-26</td>\n",
       "      <td>207</td>\n",
       "    </tr>\n",
       "    <tr>\n",
       "      <th>3</th>\n",
       "      <td>543216412</td>\n",
       "      <td>20215721</td>\n",
       "      <td>2020-12-18</td>\n",
       "      <td>179</td>\n",
       "    </tr>\n",
       "    <tr>\n",
       "      <th>4</th>\n",
       "      <td>534806764</td>\n",
       "      <td>20186667</td>\n",
       "      <td>2020-07-20</td>\n",
       "      <td>155</td>\n",
       "    </tr>\n",
       "    <tr>\n",
       "      <th>...</th>\n",
       "      <td>...</td>\n",
       "      <td>...</td>\n",
       "      <td>...</td>\n",
       "      <td>...</td>\n",
       "    </tr>\n",
       "    <tr>\n",
       "      <th>26119</th>\n",
       "      <td>544684043</td>\n",
       "      <td>21700250</td>\n",
       "      <td>2021-01-05</td>\n",
       "      <td>0</td>\n",
       "    </tr>\n",
       "    <tr>\n",
       "      <th>26120</th>\n",
       "      <td>547136081</td>\n",
       "      <td>21162486</td>\n",
       "      <td>2021-03-15</td>\n",
       "      <td>0</td>\n",
       "    </tr>\n",
       "    <tr>\n",
       "      <th>26121</th>\n",
       "      <td>566183869</td>\n",
       "      <td>22155069</td>\n",
       "      <td>2022-02-03</td>\n",
       "      <td>0</td>\n",
       "    </tr>\n",
       "    <tr>\n",
       "      <th>26122</th>\n",
       "      <td>566731184</td>\n",
       "      <td>22155771</td>\n",
       "      <td>2022-02-09</td>\n",
       "      <td>0</td>\n",
       "    </tr>\n",
       "    <tr>\n",
       "      <th>26123</th>\n",
       "      <td>569137597</td>\n",
       "      <td>22163438</td>\n",
       "      <td>2022-03-22</td>\n",
       "      <td>0</td>\n",
       "    </tr>\n",
       "  </tbody>\n",
       "</table>\n",
       "<p>26124 rows × 4 columns</p>\n",
       "</div>"
      ],
      "text/plain": [
       "        appln_id  appln_nr appln_filing_date  nb_citing_docdb_fam\n",
       "0      533200270  20182100        2020-06-24                  302\n",
       "1      533200253  20181956        2020-06-24                  302\n",
       "2      533254899  20182485        2020-06-26                  207\n",
       "3      543216412  20215721        2020-12-18                  179\n",
       "4      534806764  20186667        2020-07-20                  155\n",
       "...          ...       ...               ...                  ...\n",
       "26119  544684043  21700250        2021-01-05                    0\n",
       "26120  547136081  21162486        2021-03-15                    0\n",
       "26121  566183869  22155069        2022-02-03                    0\n",
       "26122  566731184  22155771        2022-02-09                    0\n",
       "26123  569137597  22163438        2022-03-22                    0\n",
       "\n",
       "[26124 rows x 4 columns]"
      ]
     },
     "execution_count": 4,
     "metadata": {},
     "output_type": "execute_result"
    }
   ],
   "source": [
    "# Importing necessary modules\n",
    "from epo.tipdata.patstat.database.models import TLS201_APPLN\n",
    "\n",
    "# Define the query in ORM\n",
    "q = db.query(\n",
    "    TLS201_APPLN.appln_id,\n",
    "    TLS201_APPLN.appln_nr,\n",
    "    TLS201_APPLN.appln_filing_date,\n",
    "    TLS201_APPLN.nb_citing_docdb_fam  # number of families citing the application\n",
    ").filter(\n",
    "    TLS201_APPLN.appln_filing_year >= 2020,\n",
    "    TLS201_APPLN.appln_auth == 'EP',\n",
    "    TLS201_APPLN.granted == 'Y'\n",
    ").order_by(\n",
    "    TLS201_APPLN.nb_citing_docdb_fam.desc()\n",
    ")\n",
    "\n",
    "# Creating a dataframe with the results\n",
    "res= patstat.df(q)\n",
    "\n",
    "res\n"
   ]
  },
  {
   "cell_type": "markdown",
   "id": "b4450f0b-e05f-4c52-9f03-cea76cbbcbaa",
   "metadata": {},
   "source": [
    "### Adding a link to the register\n",
    "We will now add a link to the European patent register for the top 10 most cited granted patents. We use the application number of each record, and generate the url for the register with that application number. "
   ]
  },
  {
   "cell_type": "code",
   "execution_count": 5,
   "id": "aacaf108-5eed-4ebf-8c33-170739fedd85",
   "metadata": {},
   "outputs": [
    {
     "name": "stdout",
     "output_type": "stream",
     "text": [
      "https://register.epo.org/application?number=EP20182100\n",
      "https://register.epo.org/application?number=EP20181956\n",
      "https://register.epo.org/application?number=EP20182485\n",
      "https://register.epo.org/application?number=EP20215721\n",
      "https://register.epo.org/application?number=EP20186667\n",
      "https://register.epo.org/application?number=EP20708227\n",
      "https://register.epo.org/application?number=EP21749328\n",
      "https://register.epo.org/application?number=EP21802817\n",
      "https://register.epo.org/application?number=EP21707816\n",
      "https://register.epo.org/application?number=EP20163907\n"
     ]
    }
   ],
   "source": [
    "# Extract the first 10 records\n",
    "top_10_records = res.head(10)\n",
    "\n",
    "# Loop over the first 10 records and generate the URLs\n",
    "urls = []\n",
    "for index, row in top_10_records.iterrows():\n",
    "    appln_nr = row['appln_nr']\n",
    "    print (f\"https://register.epo.org/application?number=EP{appln_nr}\")\n",
    "   "
   ]
  },
  {
   "cell_type": "code",
   "execution_count": null,
   "id": "0b607aa4-760e-473b-a882-50509b92c773",
   "metadata": {},
   "outputs": [],
   "source": []
  }
 ],
 "metadata": {
  "kernelspec": {
   "display_name": "Python 3 (ipykernel)",
   "language": "python",
   "name": "python3"
  },
  "language_info": {
   "codemirror_mode": {
    "name": "ipython",
    "version": 3
   },
   "file_extension": ".py",
   "mimetype": "text/x-python",
   "name": "python",
   "nbconvert_exporter": "python",
   "pygments_lexer": "ipython3",
   "version": "3.11.9"
  }
 },
 "nbformat": 4,
 "nbformat_minor": 5
}
