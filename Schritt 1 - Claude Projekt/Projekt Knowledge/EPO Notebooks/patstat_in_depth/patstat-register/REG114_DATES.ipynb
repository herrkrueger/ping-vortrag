{
 "cells": [
  {
   "cell_type": "markdown",
   "id": "37efd168-282f-40a8-b382-e4b4721ae015",
   "metadata": {},
   "source": [
    "# The REG114_DATES Table"
   ]
  },
  {
   "cell_type": "markdown",
   "id": "0ea86054-15ae-4310-86e4-f606b4427676",
   "metadata": {},
   "source": [
    "Welcome to table **REG114_DATES** of PATSTAT Register. This table contains some dates and, depending on the type of date, additional information:\n",
    "* date when the request for examination was validly made\n",
    "* date of dispatch of the first communication from the examining division\n",
    "* date of publication of the B2 document (patent maintained as amended)\n",
    "* date as of when the procedure was interrupted, with the cause of the interruption\n",
    "* date of resumption of the procedure resumed\n",
    "* date on which the procedure was suspended, with the reason for the suspension\n",
    "* date on which the application was converted into a national application, with the country/countries to which it was converted\n",
    "* date when the applicant withdrew his application\n",
    "* legal effect date when the application was deemed to be withdrawn\n",
    "* data concerning the handling of the request for revocation of the patent filed by the proprietor\n",
    "* date when the time limit for filing opposition expired"
   ]
  },
  {
   "cell_type": "code",
   "execution_count": 1,
   "id": "d2b52483-70bb-4e1f-ac65-a12ead30db77",
   "metadata": {},
   "outputs": [],
   "source": [
    "from epo.tipdata.patstat import PatstatClient\n",
    "from epo.tipdata.patstat.database.models import REG114_DATES\n",
    "from sqlalchemy import func\n",
    "import pandas as pd\n",
    "\n",
    "# Initialise the PATSTAT client\n",
    "patstat = PatstatClient(env='PROD')\n",
    "\n",
    "# Access ORM\n",
    "db = patstat.orm()"
   ]
  },
  {
   "cell_type": "markdown",
   "id": "f7968aee-691f-4de8-963b-f32c5564e2dc",
   "metadata": {},
   "source": [
    "## ID (Primary Key)"
   ]
  },
  {
   "cell_type": "markdown",
   "id": "99ebfa0b-7e87-4a54-b26b-386901ced877",
   "metadata": {},
   "source": [
    "Technical identifier for an application, without business meaning. Its values will not change from one PATSTAT edition to the next."
   ]
  },
  {
   "cell_type": "code",
   "execution_count": 5,
   "id": "4937efef-1299-42dc-bdb5-7127fecdee9a",
   "metadata": {},
   "outputs": [
    {
     "data": {
      "text/html": [
       "<div>\n",
       "<style scoped>\n",
       "    .dataframe tbody tr th:only-of-type {\n",
       "        vertical-align: middle;\n",
       "    }\n",
       "\n",
       "    .dataframe tbody tr th {\n",
       "        vertical-align: top;\n",
       "    }\n",
       "\n",
       "    .dataframe thead th {\n",
       "        text-align: right;\n",
       "    }\n",
       "</style>\n",
       "<table border=\"1\" class=\"dataframe\">\n",
       "  <thead>\n",
       "    <tr style=\"text-align: right;\">\n",
       "      <th></th>\n",
       "      <th>id</th>\n",
       "    </tr>\n",
       "  </thead>\n",
       "  <tbody>\n",
       "    <tr>\n",
       "      <th>0</th>\n",
       "      <td>11712554</td>\n",
       "    </tr>\n",
       "    <tr>\n",
       "      <th>1</th>\n",
       "      <td>6814915</td>\n",
       "    </tr>\n",
       "    <tr>\n",
       "      <th>2</th>\n",
       "      <td>5701729</td>\n",
       "    </tr>\n",
       "    <tr>\n",
       "      <th>3</th>\n",
       "      <td>16723281</td>\n",
       "    </tr>\n",
       "    <tr>\n",
       "      <th>4</th>\n",
       "      <td>18924039</td>\n",
       "    </tr>\n",
       "    <tr>\n",
       "      <th>...</th>\n",
       "      <td>...</td>\n",
       "    </tr>\n",
       "    <tr>\n",
       "      <th>995</th>\n",
       "      <td>12762640</td>\n",
       "    </tr>\n",
       "    <tr>\n",
       "      <th>996</th>\n",
       "      <td>11700930</td>\n",
       "    </tr>\n",
       "    <tr>\n",
       "      <th>997</th>\n",
       "      <td>81300375</td>\n",
       "    </tr>\n",
       "    <tr>\n",
       "      <th>998</th>\n",
       "      <td>16752355</td>\n",
       "    </tr>\n",
       "    <tr>\n",
       "      <th>999</th>\n",
       "      <td>17789518</td>\n",
       "    </tr>\n",
       "  </tbody>\n",
       "</table>\n",
       "<p>1000 rows × 1 columns</p>\n",
       "</div>"
      ],
      "text/plain": [
       "           id\n",
       "0    11712554\n",
       "1     6814915\n",
       "2     5701729\n",
       "3    16723281\n",
       "4    18924039\n",
       "..        ...\n",
       "995  12762640\n",
       "996  11700930\n",
       "997  81300375\n",
       "998  16752355\n",
       "999  17789518\n",
       "\n",
       "[1000 rows x 1 columns]"
      ]
     },
     "execution_count": 5,
     "metadata": {},
     "output_type": "execute_result"
    }
   ],
   "source": [
    "i = db.query(\n",
    "    REG114_DATES.id\n",
    ").limit(1000)\n",
    "\n",
    "df = patstat.df(i)\n",
    "df"
   ]
  },
  {
   "cell_type": "markdown",
   "id": "9172c123-7b0a-4056-ba6e-90bab7d2232c",
   "metadata": {},
   "source": [
    "## BULLETIN_YEAR"
   ]
  },
  {
   "cell_type": "markdown",
   "id": "cfe7504b-d389-4c23-a0ca-d23841da18fc",
   "metadata": {},
   "source": [
    "For actions that have been published in the EPO Bulletin, it is the year of the publication in the bulletin. The default value is 0, used for applications that are not published or for which the year is not known. The format is YYYY otherwise."
   ]
  },
  {
   "cell_type": "code",
   "execution_count": 3,
   "id": "056a3c32-a965-4aa3-9db5-ef78d83ed868",
   "metadata": {},
   "outputs": [
    {
     "data": {
      "text/html": [
       "<div>\n",
       "<style scoped>\n",
       "    .dataframe tbody tr th:only-of-type {\n",
       "        vertical-align: middle;\n",
       "    }\n",
       "\n",
       "    .dataframe tbody tr th {\n",
       "        vertical-align: top;\n",
       "    }\n",
       "\n",
       "    .dataframe thead th {\n",
       "        text-align: right;\n",
       "    }\n",
       "</style>\n",
       "<table border=\"1\" class=\"dataframe\">\n",
       "  <thead>\n",
       "    <tr style=\"text-align: right;\">\n",
       "      <th></th>\n",
       "      <th>bulletin_year</th>\n",
       "      <th>id</th>\n",
       "    </tr>\n",
       "  </thead>\n",
       "  <tbody>\n",
       "    <tr>\n",
       "      <th>0</th>\n",
       "      <td>2013</td>\n",
       "      <td>11712554</td>\n",
       "    </tr>\n",
       "    <tr>\n",
       "      <th>1</th>\n",
       "      <td>0</td>\n",
       "      <td>6814915</td>\n",
       "    </tr>\n",
       "    <tr>\n",
       "      <th>2</th>\n",
       "      <td>2012</td>\n",
       "      <td>5701729</td>\n",
       "    </tr>\n",
       "    <tr>\n",
       "      <th>3</th>\n",
       "      <td>0</td>\n",
       "      <td>16723281</td>\n",
       "    </tr>\n",
       "    <tr>\n",
       "      <th>4</th>\n",
       "      <td>2021</td>\n",
       "      <td>18924039</td>\n",
       "    </tr>\n",
       "    <tr>\n",
       "      <th>...</th>\n",
       "      <td>...</td>\n",
       "      <td>...</td>\n",
       "    </tr>\n",
       "    <tr>\n",
       "      <th>995</th>\n",
       "      <td>2017</td>\n",
       "      <td>12762640</td>\n",
       "    </tr>\n",
       "    <tr>\n",
       "      <th>996</th>\n",
       "      <td>2012</td>\n",
       "      <td>11700930</td>\n",
       "    </tr>\n",
       "    <tr>\n",
       "      <th>997</th>\n",
       "      <td>0</td>\n",
       "      <td>81300375</td>\n",
       "    </tr>\n",
       "    <tr>\n",
       "      <th>998</th>\n",
       "      <td>2017</td>\n",
       "      <td>16752355</td>\n",
       "    </tr>\n",
       "    <tr>\n",
       "      <th>999</th>\n",
       "      <td>2019</td>\n",
       "      <td>17789518</td>\n",
       "    </tr>\n",
       "  </tbody>\n",
       "</table>\n",
       "<p>1000 rows × 2 columns</p>\n",
       "</div>"
      ],
      "text/plain": [
       "     bulletin_year        id\n",
       "0             2013  11712554\n",
       "1                0   6814915\n",
       "2             2012   5701729\n",
       "3                0  16723281\n",
       "4             2021  18924039\n",
       "..             ...       ...\n",
       "995           2017  12762640\n",
       "996           2012  11700930\n",
       "997              0  81300375\n",
       "998           2017  16752355\n",
       "999           2019  17789518\n",
       "\n",
       "[1000 rows x 2 columns]"
      ]
     },
     "execution_count": 3,
     "metadata": {},
     "output_type": "execute_result"
    }
   ],
   "source": [
    "years = db.query(\n",
    "    REG114_DATES.bulletin_year,\n",
    "    REG114_DATES.id\n",
    ").limit(1000)\n",
    "\n",
    "years_df = patstat.df(years)\n",
    "years_df"
   ]
  },
  {
   "cell_type": "markdown",
   "id": "f376171d-2638-427f-9b83-1c1c560daca0",
   "metadata": {},
   "source": [
    "## BULLETIN_NR"
   ]
  },
  {
   "cell_type": "markdown",
   "id": "d50ece21-93d6-4115-8dbf-b71da45e8cc9",
   "metadata": {},
   "source": [
    "This is the issue number of the EPO Bulletin for actions that have been published in it. The Bulletin number indicates the calendar week the Bulletin has been published. The default value 0 is used when the attribute `bulletin_year` is 0."
   ]
  },
  {
   "cell_type": "code",
   "execution_count": 4,
   "id": "e10bd3ee-bbbe-4929-9c93-8376872a8f3a",
   "metadata": {},
   "outputs": [
    {
     "data": {
      "text/html": [
       "<div>\n",
       "<style scoped>\n",
       "    .dataframe tbody tr th:only-of-type {\n",
       "        vertical-align: middle;\n",
       "    }\n",
       "\n",
       "    .dataframe tbody tr th {\n",
       "        vertical-align: top;\n",
       "    }\n",
       "\n",
       "    .dataframe thead th {\n",
       "        text-align: right;\n",
       "    }\n",
       "</style>\n",
       "<table border=\"1\" class=\"dataframe\">\n",
       "  <thead>\n",
       "    <tr style=\"text-align: right;\">\n",
       "      <th></th>\n",
       "      <th>id</th>\n",
       "      <th>bulletin_nr</th>\n",
       "      <th>bulletin_year</th>\n",
       "    </tr>\n",
       "  </thead>\n",
       "  <tbody>\n",
       "    <tr>\n",
       "      <th>0</th>\n",
       "      <td>17784711</td>\n",
       "      <td>21</td>\n",
       "      <td>2022</td>\n",
       "    </tr>\n",
       "    <tr>\n",
       "      <th>1</th>\n",
       "      <td>6846395</td>\n",
       "      <td>2</td>\n",
       "      <td>2009</td>\n",
       "    </tr>\n",
       "    <tr>\n",
       "      <th>2</th>\n",
       "      <td>20887221</td>\n",
       "      <td>38</td>\n",
       "      <td>2022</td>\n",
       "    </tr>\n",
       "    <tr>\n",
       "      <th>3</th>\n",
       "      <td>16907343</td>\n",
       "      <td>19</td>\n",
       "      <td>2019</td>\n",
       "    </tr>\n",
       "    <tr>\n",
       "      <th>4</th>\n",
       "      <td>15822765</td>\n",
       "      <td>6</td>\n",
       "      <td>2018</td>\n",
       "    </tr>\n",
       "    <tr>\n",
       "      <th>...</th>\n",
       "      <td>...</td>\n",
       "      <td>...</td>\n",
       "      <td>...</td>\n",
       "    </tr>\n",
       "    <tr>\n",
       "      <th>95</th>\n",
       "      <td>6768143</td>\n",
       "      <td>35</td>\n",
       "      <td>2008</td>\n",
       "    </tr>\n",
       "    <tr>\n",
       "      <th>96</th>\n",
       "      <td>16166707</td>\n",
       "      <td>18</td>\n",
       "      <td>2021</td>\n",
       "    </tr>\n",
       "    <tr>\n",
       "      <th>97</th>\n",
       "      <td>19786804</td>\n",
       "      <td>0</td>\n",
       "      <td>0</td>\n",
       "    </tr>\n",
       "    <tr>\n",
       "      <th>98</th>\n",
       "      <td>13824578</td>\n",
       "      <td>45</td>\n",
       "      <td>2015</td>\n",
       "    </tr>\n",
       "    <tr>\n",
       "      <th>99</th>\n",
       "      <td>14764556</td>\n",
       "      <td>0</td>\n",
       "      <td>0</td>\n",
       "    </tr>\n",
       "  </tbody>\n",
       "</table>\n",
       "<p>100 rows × 3 columns</p>\n",
       "</div>"
      ],
      "text/plain": [
       "          id  bulletin_nr  bulletin_year\n",
       "0   17784711           21           2022\n",
       "1    6846395            2           2009\n",
       "2   20887221           38           2022\n",
       "3   16907343           19           2019\n",
       "4   15822765            6           2018\n",
       "..       ...          ...            ...\n",
       "95   6768143           35           2008\n",
       "96  16166707           18           2021\n",
       "97  19786804            0              0\n",
       "98  13824578           45           2015\n",
       "99  14764556            0              0\n",
       "\n",
       "[100 rows x 3 columns]"
      ]
     },
     "execution_count": 4,
     "metadata": {},
     "output_type": "execute_result"
    }
   ],
   "source": [
    "bulletin_nr = db.query(\n",
    "    REG114_DATES.id,\n",
    "    REG114_DATES.bulletin_nr,\n",
    "    REG114_DATES.bulletin_year\n",
    ").limit(100)\n",
    "\n",
    "bulletin_nr_df = patstat.df(bulletin_nr)\n",
    "bulletin_nr_df"
   ]
  },
  {
   "cell_type": "markdown",
   "id": "4e20bb09-c9fb-45ae-8b12-c405acfaa9bb",
   "metadata": {},
   "source": [
    "## DATE_TYPE"
   ]
  },
  {
   "cell_type": "markdown",
   "id": "abb2a3d6-4cd8-4810-a2a3-f09dcfacbf2f",
   "metadata": {},
   "source": [
    "This attribute indicates which type of date is stored in the corresponding row. The type can be one of the options presented at the beginning of this notebook. For major detail about the codes, please refer to the Data Catalog documentation."
   ]
  },
  {
   "cell_type": "markdown",
   "id": "74e2b078-f48a-469a-ac6d-7096095a5967",
   "metadata": {},
   "source": [
    "Let's how many applications we find for each data type."
   ]
  },
  {
   "cell_type": "code",
   "execution_count": 2,
   "id": "30216a5c-cc19-4988-bd86-ae1613826fb1",
   "metadata": {},
   "outputs": [
    {
     "data": {
      "text/html": [
       "<div>\n",
       "<style scoped>\n",
       "    .dataframe tbody tr th:only-of-type {\n",
       "        vertical-align: middle;\n",
       "    }\n",
       "\n",
       "    .dataframe tbody tr th {\n",
       "        vertical-align: top;\n",
       "    }\n",
       "\n",
       "    .dataframe thead th {\n",
       "        text-align: right;\n",
       "    }\n",
       "</style>\n",
       "<table border=\"1\" class=\"dataframe\">\n",
       "  <thead>\n",
       "    <tr style=\"text-align: right;\">\n",
       "      <th></th>\n",
       "      <th>date_type</th>\n",
       "      <th>Total applications</th>\n",
       "    </tr>\n",
       "  </thead>\n",
       "  <tbody>\n",
       "    <tr>\n",
       "      <th>0</th>\n",
       "      <td>RQEXAM</td>\n",
       "      <td>4127147</td>\n",
       "    </tr>\n",
       "    <tr>\n",
       "      <th>1</th>\n",
       "      <td>FEXRRQ</td>\n",
       "      <td>3400980</td>\n",
       "    </tr>\n",
       "    <tr>\n",
       "      <th>2</th>\n",
       "      <td>DWDRWN</td>\n",
       "      <td>3303200</td>\n",
       "    </tr>\n",
       "    <tr>\n",
       "      <th>3</th>\n",
       "      <td>OPPNFI</td>\n",
       "      <td>2137004</td>\n",
       "    </tr>\n",
       "    <tr>\n",
       "      <th>4</th>\n",
       "      <td>WDRWNA</td>\n",
       "      <td>1793065</td>\n",
       "    </tr>\n",
       "    <tr>\n",
       "      <th>5</th>\n",
       "      <td>PMNTAM</td>\n",
       "      <td>30722</td>\n",
       "    </tr>\n",
       "    <tr>\n",
       "      <th>6</th>\n",
       "      <td>PRCITR</td>\n",
       "      <td>8432</td>\n",
       "    </tr>\n",
       "    <tr>\n",
       "      <th>7</th>\n",
       "      <td>PRCRES</td>\n",
       "      <td>7813</td>\n",
       "    </tr>\n",
       "    <tr>\n",
       "      <th>8</th>\n",
       "      <td>RQCONV</td>\n",
       "      <td>654</td>\n",
       "    </tr>\n",
       "    <tr>\n",
       "      <th>9</th>\n",
       "      <td>RQREVO</td>\n",
       "      <td>148</td>\n",
       "    </tr>\n",
       "  </tbody>\n",
       "</table>\n",
       "</div>"
      ],
      "text/plain": [
       "  date_type  Total applications\n",
       "0    RQEXAM             4127147\n",
       "1    FEXRRQ             3400980\n",
       "2    DWDRWN             3303200\n",
       "3    OPPNFI             2137004\n",
       "4    WDRWNA             1793065\n",
       "5    PMNTAM               30722\n",
       "6    PRCITR                8432\n",
       "7    PRCRES                7813\n",
       "8    RQCONV                 654\n",
       "9    RQREVO                 148"
      ]
     },
     "execution_count": 2,
     "metadata": {},
     "output_type": "execute_result"
    }
   ],
   "source": [
    "types_freq = db.query(\n",
    "    REG114_DATES.date_type,\n",
    "    func.count(REG114_DATES.id).label('Total applications')\n",
    ").group_by(\n",
    "    REG114_DATES.date_type\n",
    ").order_by(\n",
    "    func.count(REG114_DATES.id).desc()\n",
    ")\n",
    "\n",
    "types_freq_df = patstat.df(types_freq)\n",
    "types_freq_df"
   ]
  },
  {
   "cell_type": "markdown",
   "id": "8cd5c830-cb32-4fc5-bd06-1eb43a454cec",
   "metadata": {},
   "source": [
    "We can also take a look at all the date types linked to one specific application, let's say ID number 17784711."
   ]
  },
  {
   "cell_type": "code",
   "execution_count": 4,
   "id": "2fe562c6-5750-49f3-b1f4-bfa54486ef8f",
   "metadata": {},
   "outputs": [
    {
     "data": {
      "text/html": [
       "<div>\n",
       "<style scoped>\n",
       "    .dataframe tbody tr th:only-of-type {\n",
       "        vertical-align: middle;\n",
       "    }\n",
       "\n",
       "    .dataframe tbody tr th {\n",
       "        vertical-align: top;\n",
       "    }\n",
       "\n",
       "    .dataframe thead th {\n",
       "        text-align: right;\n",
       "    }\n",
       "</style>\n",
       "<table border=\"1\" class=\"dataframe\">\n",
       "  <thead>\n",
       "    <tr style=\"text-align: right;\">\n",
       "      <th></th>\n",
       "      <th>date_type</th>\n",
       "      <th>id</th>\n",
       "    </tr>\n",
       "  </thead>\n",
       "  <tbody>\n",
       "    <tr>\n",
       "      <th>0</th>\n",
       "      <td>RQEXAM</td>\n",
       "      <td>17784711</td>\n",
       "    </tr>\n",
       "    <tr>\n",
       "      <th>1</th>\n",
       "      <td>OPPNFI</td>\n",
       "      <td>17784711</td>\n",
       "    </tr>\n",
       "    <tr>\n",
       "      <th>2</th>\n",
       "      <td>FEXRRQ</td>\n",
       "      <td>17784711</td>\n",
       "    </tr>\n",
       "  </tbody>\n",
       "</table>\n",
       "</div>"
      ],
      "text/plain": [
       "  date_type        id\n",
       "0    RQEXAM  17784711\n",
       "1    OPPNFI  17784711\n",
       "2    FEXRRQ  17784711"
      ]
     },
     "execution_count": 4,
     "metadata": {},
     "output_type": "execute_result"
    }
   ],
   "source": [
    "types = db.query(\n",
    "    REG114_DATES.date_type,\n",
    "    REG114_DATES.id\n",
    ").filter(\n",
    "    REG114_DATES.id == 17784711\n",
    ")\n",
    "\n",
    "types_df = patstat.df(types)\n",
    "types_df"
   ]
  },
  {
   "cell_type": "markdown",
   "id": "fdacf036-a44e-4d47-9250-dc4bf6fe6bd2",
   "metadata": {},
   "source": [
    "## EVENT_DATE"
   ]
  },
  {
   "cell_type": "markdown",
   "id": "254096b0-9036-4d42-ae7f-2ee8b96623d7",
   "metadata": {},
   "source": [
    "This attribute contains the date corresponding to the `date_type` attribute. The meaning of this attribute depends on the `date_type` attribute in table REG114_DATES."
   ]
  },
  {
   "cell_type": "markdown",
   "id": "b03e3d12-478b-40d5-98eb-0cf3e94b607a",
   "metadata": {},
   "source": [
    "For date with `date_type` equal to 'WDRWNA' and 'DWDRWN', in case of a deletion of the previous withdrawal date, a new date ‘9999-12-31’ will be issued."
   ]
  },
  {
   "cell_type": "markdown",
   "id": "d688db48-288d-42cb-b336-6982d99d24ff",
   "metadata": {},
   "source": [
    "As for `date_type`, we can retrieve all the date types and the corresponding event dates relative to one specific application. Let's use the same ID that we used in the previous section."
   ]
  },
  {
   "cell_type": "code",
   "execution_count": 5,
   "id": "4df145ba-03d2-4a5e-ba5a-bbb3e0fac2fa",
   "metadata": {},
   "outputs": [
    {
     "data": {
      "text/html": [
       "<div>\n",
       "<style scoped>\n",
       "    .dataframe tbody tr th:only-of-type {\n",
       "        vertical-align: middle;\n",
       "    }\n",
       "\n",
       "    .dataframe tbody tr th {\n",
       "        vertical-align: top;\n",
       "    }\n",
       "\n",
       "    .dataframe thead th {\n",
       "        text-align: right;\n",
       "    }\n",
       "</style>\n",
       "<table border=\"1\" class=\"dataframe\">\n",
       "  <thead>\n",
       "    <tr style=\"text-align: right;\">\n",
       "      <th></th>\n",
       "      <th>event_date</th>\n",
       "      <th>date_type</th>\n",
       "      <th>id</th>\n",
       "    </tr>\n",
       "  </thead>\n",
       "  <tbody>\n",
       "    <tr>\n",
       "      <th>0</th>\n",
       "      <td>2019-03-11</td>\n",
       "      <td>RQEXAM</td>\n",
       "      <td>17784711</td>\n",
       "    </tr>\n",
       "    <tr>\n",
       "      <th>1</th>\n",
       "      <td>2022-03-17</td>\n",
       "      <td>OPPNFI</td>\n",
       "      <td>17784711</td>\n",
       "    </tr>\n",
       "    <tr>\n",
       "      <th>2</th>\n",
       "      <td>2020-05-04</td>\n",
       "      <td>FEXRRQ</td>\n",
       "      <td>17784711</td>\n",
       "    </tr>\n",
       "  </tbody>\n",
       "</table>\n",
       "</div>"
      ],
      "text/plain": [
       "   event_date date_type        id\n",
       "0  2019-03-11    RQEXAM  17784711\n",
       "1  2022-03-17    OPPNFI  17784711\n",
       "2  2020-05-04    FEXRRQ  17784711"
      ]
     },
     "execution_count": 5,
     "metadata": {},
     "output_type": "execute_result"
    }
   ],
   "source": [
    "dates = db.query(\n",
    "    REG114_DATES.event_date,\n",
    "    REG114_DATES.date_type,\n",
    "    REG114_DATES.id\n",
    ").filter(\n",
    "    REG114_DATES.id == 17784711\n",
    ")\n",
    "\n",
    "dates_df = patstat.df(dates)\n",
    "dates_df"
   ]
  },
  {
   "cell_type": "markdown",
   "id": "bdf1d3a8-2882-43c9-927a-97004a5e0613",
   "metadata": {},
   "source": [
    "This means that on 2019-03-11 the request for examination for application 17784711 was validly made. Then, on 2020-05-04 the request for the first examination report was requested. Lastly, on 2022-03-17 the time available to file an opposition to the application expired."
   ]
  },
  {
   "cell_type": "markdown",
   "id": "489c26df-c82e-4376-a682-7a02318e5dd6",
   "metadata": {},
   "source": [
    "## CAUSE_INTERRUPTION "
   ]
  },
  {
   "cell_type": "markdown",
   "id": "f859ed1b-2360-42e2-a448-ee61de6283c2",
   "metadata": {},
   "source": [
    "Reason for interruption of proceedings. This attribute is only set to a non-default value (NA) if attribute `date_type` is equal to 'PRCITR', meaning “Proceedings interrupted”. The reason is one of the following:\n",
    "* NA, not applicable or unknown\n",
    "* DA, death of applicant\n",
    "* DR, death of representative\n",
    "* IA, legal incapacity of applicant\n",
    "* IR, legal incapacity of representative\n",
    "* PA, legal prevention of applicant\n",
    "* PR, legal prevention of representative"
   ]
  },
  {
   "cell_type": "markdown",
   "id": "c5c090d4-037b-4278-bd63-99a6a85d0891",
   "metadata": {},
   "source": [
    "In the following, we verify that there are no application with `cause_interruption` equal to a non-default value *and* for which the `date_type` is not 'PRCITR'. Thi swill result in an empty dataframe, so we would get an error when trying to access its value. To fix this, we use the `try-except` clause: the algorithm tries to retrieve the value and if this would generate an error then the command in the except will be 'executed' intead of launching the error message."
   ]
  },
  {
   "cell_type": "code",
   "execution_count": 13,
   "id": "ebf15857-ca44-4285-806b-ffc66def0e27",
   "metadata": {},
   "outputs": [
    {
     "name": "stdout",
     "output_type": "stream",
     "text": [
      "No instances matching the filter found.\n"
     ]
    }
   ],
   "source": [
    "nd = db.query(\n",
    "    REG114_DATES.date_type,\n",
    "    REG114_DATES.cause_interruption,\n",
    "    func.count(REG114_DATES.id).label('Total')\n",
    ").filter(\n",
    "    REG114_DATES.date_type != 'PRCITR',\n",
    "    REG114_DATES.cause_interruption != 'NA'\n",
    ").group_by(\n",
    "    REG114_DATES.date_type,\n",
    "    REG114_DATES.cause_interruption\n",
    ")\n",
    "\n",
    "nd_df = patstat.df(nd)\n",
    "\n",
    "# try-except clause\n",
    "try:\n",
    "    nd_df['Total'].item()\n",
    "except:\n",
    "    print(f\"No instances matching the filter found.\")"
   ]
  },
  {
   "cell_type": "markdown",
   "id": "bdd6fd77-dd85-48b8-84af-ff7ec50f1cf1",
   "metadata": {},
   "source": [
    "Let's take one application for which the proceeding was interrupted and retrieve the cause of it."
   ]
  },
  {
   "cell_type": "code",
   "execution_count": 15,
   "id": "22a6c695-b21d-4bdd-b387-c2ed8e972cfb",
   "metadata": {},
   "outputs": [
    {
     "data": {
      "text/html": [
       "<div>\n",
       "<style scoped>\n",
       "    .dataframe tbody tr th:only-of-type {\n",
       "        vertical-align: middle;\n",
       "    }\n",
       "\n",
       "    .dataframe tbody tr th {\n",
       "        vertical-align: top;\n",
       "    }\n",
       "\n",
       "    .dataframe thead th {\n",
       "        text-align: right;\n",
       "    }\n",
       "</style>\n",
       "<table border=\"1\" class=\"dataframe\">\n",
       "  <thead>\n",
       "    <tr style=\"text-align: right;\">\n",
       "      <th></th>\n",
       "      <th>cause_interruption</th>\n",
       "    </tr>\n",
       "  </thead>\n",
       "  <tbody>\n",
       "    <tr>\n",
       "      <th>0</th>\n",
       "      <td>PA</td>\n",
       "    </tr>\n",
       "    <tr>\n",
       "      <th>1</th>\n",
       "      <td>NA</td>\n",
       "    </tr>\n",
       "    <tr>\n",
       "      <th>2</th>\n",
       "      <td>NA</td>\n",
       "    </tr>\n",
       "    <tr>\n",
       "      <th>3</th>\n",
       "      <td>NA</td>\n",
       "    </tr>\n",
       "  </tbody>\n",
       "</table>\n",
       "</div>"
      ],
      "text/plain": [
       "  cause_interruption\n",
       "0                 PA\n",
       "1                 NA\n",
       "2                 NA\n",
       "3                 NA"
      ]
     },
     "execution_count": 15,
     "metadata": {},
     "output_type": "execute_result"
    }
   ],
   "source": [
    "interrupted = db.query(\n",
    "    REG114_DATES.cause_interruption\n",
    ").filter(\n",
    "    REG114_DATES.id == 16804857\n",
    ")\n",
    "\n",
    "interrupted_df = patstat.df(interrupted)\n",
    "interrupted_df"
   ]
  },
  {
   "cell_type": "markdown",
   "id": "715a69d0-37ec-4610-8cf0-b46dce64d56c",
   "metadata": {},
   "source": [
    "We can see that there three interruptions marked as NA, meaning that the reason is not known. It is worth to stress that the statement \"the attribute `cause_interruption` is only set to a non-default value if attribute `date_type` is equal to 'PRCITR'\" means that the non-default value is *possibly* ecountered if the date type is 'PRCITR'. More specifically, this is a necessary condition yet not sufficient."
   ]
  },
  {
   "cell_type": "markdown",
   "id": "3ab4b93f-a1e7-434d-8a6f-2a7828fcc154",
   "metadata": {},
   "source": [
    "## CONVERTED_TO_COUNTRY"
   ]
  },
  {
   "cell_type": "markdown",
   "id": "219cc57f-419b-444a-bcc3-6ae9ac09f206",
   "metadata": {},
   "source": [
    "The office (country) to which the application was converted into a national application. This attribute is only set to a non-default (the default value is an empty string) value if attribute `date_type` is equal to 'RQCONV', meaning “Request for conversion to national application”. This sentence is to be intended the same way of the first sentence of the previous section."
   ]
  },
  {
   "cell_type": "markdown",
   "id": "c7630348-0f9c-4b18-b62b-ed3aae3e2015",
   "metadata": {},
   "source": [
    "Let's take one application for which the conversion to national application was requested and retrieve the country to which the application was converted."
   ]
  },
  {
   "cell_type": "code",
   "execution_count": 22,
   "id": "2f3e0091-19ad-40cc-ae42-0e125b52d970",
   "metadata": {},
   "outputs": [
    {
     "data": {
      "text/html": [
       "<div>\n",
       "<style scoped>\n",
       "    .dataframe tbody tr th:only-of-type {\n",
       "        vertical-align: middle;\n",
       "    }\n",
       "\n",
       "    .dataframe tbody tr th {\n",
       "        vertical-align: top;\n",
       "    }\n",
       "\n",
       "    .dataframe thead th {\n",
       "        text-align: right;\n",
       "    }\n",
       "</style>\n",
       "<table border=\"1\" class=\"dataframe\">\n",
       "  <thead>\n",
       "    <tr style=\"text-align: right;\">\n",
       "      <th></th>\n",
       "      <th>id</th>\n",
       "      <th>converted_to_country</th>\n",
       "    </tr>\n",
       "  </thead>\n",
       "  <tbody>\n",
       "    <tr>\n",
       "      <th>0</th>\n",
       "      <td>79301195</td>\n",
       "      <td>GB</td>\n",
       "    </tr>\n",
       "    <tr>\n",
       "      <th>1</th>\n",
       "      <td>79301195</td>\n",
       "      <td></td>\n",
       "    </tr>\n",
       "  </tbody>\n",
       "</table>\n",
       "</div>"
      ],
      "text/plain": [
       "         id converted_to_country\n",
       "0  79301195                   GB\n",
       "1  79301195                     "
      ]
     },
     "execution_count": 22,
     "metadata": {},
     "output_type": "execute_result"
    }
   ],
   "source": [
    "country_conversion = db.query(\n",
    "    REG114_DATES.id,\n",
    "    REG114_DATES.converted_to_country\n",
    ").filter(\n",
    "    REG114_DATES.id == 79301195\n",
    ")\n",
    "\n",
    "country_conversion_df = patstat.df(country_conversion)\n",
    "country_conversion_df"
   ]
  },
  {
   "cell_type": "code",
   "execution_count": null,
   "id": "c9f1cb7d-b904-4445-bce7-895209ded166",
   "metadata": {},
   "outputs": [],
   "source": []
  }
 ],
 "metadata": {
  "kernelspec": {
   "display_name": "Python 3 (ipykernel)",
   "language": "python",
   "name": "python3"
  },
  "language_info": {
   "codemirror_mode": {
    "name": "ipython",
    "version": 3
   },
   "file_extension": ".py",
   "mimetype": "text/x-python",
   "name": "python",
   "nbconvert_exporter": "python",
   "pygments_lexer": "ipython3",
   "version": "3.11.10"
  }
 },
 "nbformat": 4,
 "nbformat_minor": 5
}
