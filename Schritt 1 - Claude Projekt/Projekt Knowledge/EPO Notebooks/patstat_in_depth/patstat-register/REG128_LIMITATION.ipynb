{
 "cells": [
  {
   "cell_type": "markdown",
   "id": "f3a74ceb-c58e-4baa-bde8-96a749519d02",
   "metadata": {},
   "source": [
    "# The REG128_LIMITATION: Request for limitation Table "
   ]
  },
  {
   "cell_type": "markdown",
   "id": "9def8c28-9062-4447-8058-911ef4743bd8",
   "metadata": {},
   "source": [
    "Welcome to an in-depth exploration of the ``REG128_LIMITATION`` table. This table holds crucial information related to the filing, allowance, and rejection of requests for limitation under the European Patent Convention (EPC), specifically Articles R.90 to R.95. A request for limitation involves a procedure where a patent proprietor can request to limit the scope of a patent, either voluntarily or following opposition or revocation proceedings.\n",
    "\n",
    "This table is key for understanding the processes involved in limiting patents, including how decisions are made and communicated, as well as tracking the impact of such decisions on patent validity. "
   ]
  },
  {
   "cell_type": "code",
   "execution_count": 1,
   "id": "d0c2385a-ee2f-42a2-afc7-d63c294da9dc",
   "metadata": {},
   "outputs": [],
   "source": [
    "from epo.tipdata.patstat import PatstatClient\n",
    "from epo.tipdata.patstat.database.models import REG128_LIMITATION, REG101_APPLN\n",
    "from sqlalchemy import select, func, case, select, and_\n",
    "\n",
    "patstat = PatstatClient(env='PROD')\n",
    "\n",
    "db = patstat.orm()"
   ]
  },
  {
   "cell_type": "code",
   "execution_count": 2,
   "id": "7bb5347d-5304-4dc5-adba-0fe48d70474f",
   "metadata": {},
   "outputs": [
    {
     "data": {
      "text/html": [
       "<div>\n",
       "<style scoped>\n",
       "    .dataframe tbody tr th:only-of-type {\n",
       "        vertical-align: middle;\n",
       "    }\n",
       "\n",
       "    .dataframe tbody tr th {\n",
       "        vertical-align: top;\n",
       "    }\n",
       "\n",
       "    .dataframe thead th {\n",
       "        text-align: right;\n",
       "    }\n",
       "</style>\n",
       "<table border=\"1\" class=\"dataframe\">\n",
       "  <thead>\n",
       "    <tr style=\"text-align: right;\">\n",
       "      <th></th>\n",
       "      <th>id</th>\n",
       "      <th>limit_seq_nr</th>\n",
       "      <th>limitation_filing_date</th>\n",
       "      <th>limitation_filing_decision</th>\n",
       "      <th>date_dispatch_allowance</th>\n",
       "      <th>date_payment_allowance</th>\n",
       "      <th>date_dispatch_rejection</th>\n",
       "      <th>date_legal_effect_rejection</th>\n",
       "    </tr>\n",
       "  </thead>\n",
       "  <tbody>\n",
       "    <tr>\n",
       "      <th>0</th>\n",
       "      <td>13751562</td>\n",
       "      <td>1</td>\n",
       "      <td>2018-08-14</td>\n",
       "      <td>admissible</td>\n",
       "      <td>2018-10-26</td>\n",
       "      <td>2019-01-24</td>\n",
       "      <td>9999-12-31</td>\n",
       "      <td>9999-12-31</td>\n",
       "    </tr>\n",
       "    <tr>\n",
       "      <th>1</th>\n",
       "      <td>14742312</td>\n",
       "      <td>1</td>\n",
       "      <td>2018-10-18</td>\n",
       "      <td>admissible</td>\n",
       "      <td>2018-12-10</td>\n",
       "      <td>2019-01-24</td>\n",
       "      <td>9999-12-31</td>\n",
       "      <td>9999-12-31</td>\n",
       "    </tr>\n",
       "    <tr>\n",
       "      <th>2</th>\n",
       "      <td>14001858</td>\n",
       "      <td>1</td>\n",
       "      <td>2020-09-11</td>\n",
       "      <td>admissible</td>\n",
       "      <td>2021-02-16</td>\n",
       "      <td>2021-03-03</td>\n",
       "      <td>9999-12-31</td>\n",
       "      <td>9999-12-31</td>\n",
       "    </tr>\n",
       "    <tr>\n",
       "      <th>3</th>\n",
       "      <td>95111717</td>\n",
       "      <td>1</td>\n",
       "      <td>2011-08-08</td>\n",
       "      <td>admissible</td>\n",
       "      <td>2011-12-13</td>\n",
       "      <td>2012-01-23</td>\n",
       "      <td>9999-12-31</td>\n",
       "      <td>9999-12-31</td>\n",
       "    </tr>\n",
       "    <tr>\n",
       "      <th>4</th>\n",
       "      <td>12801385</td>\n",
       "      <td>1</td>\n",
       "      <td>2022-09-23</td>\n",
       "      <td>admissible</td>\n",
       "      <td>2023-01-13</td>\n",
       "      <td>2023-04-11</td>\n",
       "      <td>9999-12-31</td>\n",
       "      <td>9999-12-31</td>\n",
       "    </tr>\n",
       "    <tr>\n",
       "      <th>...</th>\n",
       "      <td>...</td>\n",
       "      <td>...</td>\n",
       "      <td>...</td>\n",
       "      <td>...</td>\n",
       "      <td>...</td>\n",
       "      <td>...</td>\n",
       "      <td>...</td>\n",
       "      <td>...</td>\n",
       "    </tr>\n",
       "    <tr>\n",
       "      <th>670</th>\n",
       "      <td>92301449</td>\n",
       "      <td>1</td>\n",
       "      <td>2011-08-25</td>\n",
       "      <td>admissible</td>\n",
       "      <td>2011-11-10</td>\n",
       "      <td>2012-01-18</td>\n",
       "      <td>9999-12-31</td>\n",
       "      <td>9999-12-31</td>\n",
       "    </tr>\n",
       "    <tr>\n",
       "      <th>671</th>\n",
       "      <td>18720125</td>\n",
       "      <td>1</td>\n",
       "      <td>2022-06-17</td>\n",
       "      <td>admissible</td>\n",
       "      <td>2023-01-13</td>\n",
       "      <td>2023-04-06</td>\n",
       "      <td>9999-12-31</td>\n",
       "      <td>9999-12-31</td>\n",
       "    </tr>\n",
       "    <tr>\n",
       "      <th>672</th>\n",
       "      <td>10784559</td>\n",
       "      <td>1</td>\n",
       "      <td>2020-09-17</td>\n",
       "      <td>admissible</td>\n",
       "      <td>2020-12-16</td>\n",
       "      <td>2021-03-01</td>\n",
       "      <td>9999-12-31</td>\n",
       "      <td>9999-12-31</td>\n",
       "    </tr>\n",
       "    <tr>\n",
       "      <th>673</th>\n",
       "      <td>17816791</td>\n",
       "      <td>1</td>\n",
       "      <td>2022-04-13</td>\n",
       "      <td>admissible</td>\n",
       "      <td>2022-07-13</td>\n",
       "      <td>2022-07-26</td>\n",
       "      <td>9999-12-31</td>\n",
       "      <td>9999-12-31</td>\n",
       "    </tr>\n",
       "    <tr>\n",
       "      <th>674</th>\n",
       "      <td>19201254</td>\n",
       "      <td>1</td>\n",
       "      <td>2023-02-17</td>\n",
       "      <td>admissible</td>\n",
       "      <td>2023-09-22</td>\n",
       "      <td>2023-12-20</td>\n",
       "      <td>9999-12-31</td>\n",
       "      <td>9999-12-31</td>\n",
       "    </tr>\n",
       "  </tbody>\n",
       "</table>\n",
       "<p>675 rows × 8 columns</p>\n",
       "</div>"
      ],
      "text/plain": [
       "           id  limit_seq_nr limitation_filing_date limitation_filing_decision  \\\n",
       "0    13751562             1             2018-08-14                 admissible   \n",
       "1    14742312             1             2018-10-18                 admissible   \n",
       "2    14001858             1             2020-09-11                 admissible   \n",
       "3    95111717             1             2011-08-08                 admissible   \n",
       "4    12801385             1             2022-09-23                 admissible   \n",
       "..        ...           ...                    ...                        ...   \n",
       "670  92301449             1             2011-08-25                 admissible   \n",
       "671  18720125             1             2022-06-17                 admissible   \n",
       "672  10784559             1             2020-09-17                 admissible   \n",
       "673  17816791             1             2022-04-13                 admissible   \n",
       "674  19201254             1             2023-02-17                 admissible   \n",
       "\n",
       "    date_dispatch_allowance date_payment_allowance date_dispatch_rejection  \\\n",
       "0                2018-10-26             2019-01-24              9999-12-31   \n",
       "1                2018-12-10             2019-01-24              9999-12-31   \n",
       "2                2021-02-16             2021-03-03              9999-12-31   \n",
       "3                2011-12-13             2012-01-23              9999-12-31   \n",
       "4                2023-01-13             2023-04-11              9999-12-31   \n",
       "..                      ...                    ...                     ...   \n",
       "670              2011-11-10             2012-01-18              9999-12-31   \n",
       "671              2023-01-13             2023-04-06              9999-12-31   \n",
       "672              2020-12-16             2021-03-01              9999-12-31   \n",
       "673              2022-07-13             2022-07-26              9999-12-31   \n",
       "674              2023-09-22             2023-12-20              9999-12-31   \n",
       "\n",
       "    date_legal_effect_rejection  \n",
       "0                    9999-12-31  \n",
       "1                    9999-12-31  \n",
       "2                    9999-12-31  \n",
       "3                    9999-12-31  \n",
       "4                    9999-12-31  \n",
       "..                          ...  \n",
       "670                  9999-12-31  \n",
       "671                  9999-12-31  \n",
       "672                  9999-12-31  \n",
       "673                  9999-12-31  \n",
       "674                  9999-12-31  \n",
       "\n",
       "[675 rows x 8 columns]"
      ]
     },
     "execution_count": 2,
     "metadata": {},
     "output_type": "execute_result"
    }
   ],
   "source": [
    "q = db.query(\n",
    "    REG128_LIMITATION.id,\n",
    "    REG128_LIMITATION.limit_seq_nr,\n",
    "    REG128_LIMITATION.limitation_filing_date,\n",
    "    REG128_LIMITATION.limitation_filing_decision,\n",
    "    REG128_LIMITATION.date_dispatch_allowance,\n",
    "    REG128_LIMITATION.date_payment_allowance,\n",
    "    REG128_LIMITATION.date_dispatch_rejection,\n",
    "    REG128_LIMITATION.date_legal_effect_rejection\n",
    ")\n",
    "\n",
    "res = patstat.df(q)\n",
    "res"
   ]
  },
  {
   "cell_type": "markdown",
   "id": "680d92da-3a82-4e95-a764-885837e0a9b7",
   "metadata": {},
   "source": [
    "## Key Fields in the REG128_LIMITATION Table"
   ]
  },
  {
   "cell_type": "markdown",
   "id": "422f9e44-3cfe-40a7-a17b-30bf40f3006b",
   "metadata": {},
   "source": [
    "### ID (Primary Key)\n",
    "The ID field serves as a technical identifier that uniquely connects patent applications across various tables."
   ]
  },
  {
   "cell_type": "markdown",
   "id": "6fc1a555-462e-4fbb-a54c-bdcca18a4a6f",
   "metadata": {},
   "source": [
    "### LIMIT_SEQ_NR (Sequence Number of Limitation Request)(Primary Key)\n",
    "The ``LIMIT_SEQ_NR`` is a unique sequence number assigned to each limitation request filed for a particular patent application. This number helps distinguish between multiple limitation requests for the same application. It typically ranges from 1 to 10, with each request getting a new sequence number, starting from 1. This allows the tracking of all limitation requests, even if there are multiple for the same application."
   ]
  },
  {
   "cell_type": "markdown",
   "id": "74424919-d6bb-4d9d-a804-5a84906be2b7",
   "metadata": {},
   "source": [
    "### LIMITATION_FILING_DATE (Filing Date of Limitation Request)\n",
    "The ``LIMITATION_FILING_DATE`` records the date on which the request for limitation was officially filed. This date marks the beginning of the limitation procedure, during which the applicant seeks to restrict the scope of the patent claims. It is a crucial timestamp for understanding when the process started."
   ]
  },
  {
   "cell_type": "markdown",
   "id": "cba3557a-0513-4003-83b2-bb2bdc24963f",
   "metadata": {},
   "source": [
    "### LIMITATION_FILING_DECISION (Decision on Limitation Request)\n",
    "The ``LIMITATION_FILING_DECISION`` indicates the decision made regarding the admissibility of the limitation request. It reflects whether the request for limitation was accepted for further processing or whether it was deemed inadmissible. This decision is important as it determines whether the limitation procedure will proceed."
   ]
  },
  {
   "cell_type": "code",
   "execution_count": 3,
   "id": "5ed6723b-a569-438b-96db-515ad11d45cc",
   "metadata": {},
   "outputs": [
    {
     "data": {
      "text/html": [
       "<div>\n",
       "<style scoped>\n",
       "    .dataframe tbody tr th:only-of-type {\n",
       "        vertical-align: middle;\n",
       "    }\n",
       "\n",
       "    .dataframe tbody tr th {\n",
       "        vertical-align: top;\n",
       "    }\n",
       "\n",
       "    .dataframe thead th {\n",
       "        text-align: right;\n",
       "    }\n",
       "</style>\n",
       "<table border=\"1\" class=\"dataframe\">\n",
       "  <thead>\n",
       "    <tr style=\"text-align: right;\">\n",
       "      <th></th>\n",
       "      <th>limitation_filing_decision</th>\n",
       "    </tr>\n",
       "  </thead>\n",
       "  <tbody>\n",
       "    <tr>\n",
       "      <th>0</th>\n",
       "      <td>admissible</td>\n",
       "    </tr>\n",
       "    <tr>\n",
       "      <th>1</th>\n",
       "      <td>withdrawn</td>\n",
       "    </tr>\n",
       "    <tr>\n",
       "      <th>2</th>\n",
       "      <td>deemed not to be filed, Opposition pending/filed</td>\n",
       "    </tr>\n",
       "    <tr>\n",
       "      <th>3</th>\n",
       "      <td></td>\n",
       "    </tr>\n",
       "    <tr>\n",
       "      <th>4</th>\n",
       "      <td>inadmissible</td>\n",
       "    </tr>\n",
       "  </tbody>\n",
       "</table>\n",
       "</div>"
      ],
      "text/plain": [
       "                         limitation_filing_decision\n",
       "0                                        admissible\n",
       "1                                         withdrawn\n",
       "2  deemed not to be filed, Opposition pending/filed\n",
       "3                                                  \n",
       "4                                      inadmissible"
      ]
     },
     "execution_count": 3,
     "metadata": {},
     "output_type": "execute_result"
    }
   ],
   "source": [
    "q = db.query(\n",
    "    REG128_LIMITATION.limitation_filing_decision\n",
    ").distinct()\n",
    "\n",
    "res = patstat.df(q)\n",
    "res\n"
   ]
  },
  {
   "cell_type": "markdown",
   "id": "7c21972e-8ae4-496e-9390-26b763946cf9",
   "metadata": {},
   "source": [
    "### DATE_DISPATCH_ALLOWANCE (Dispatch Date of Limitation Allowance)\n",
    "\n",
    "The ``DATE_DISPATCH_ALLOWANCE`` marks the date when the intention to limit the patent was officially dispatched. It is the point at which the request for limitation has been accepted, and the applicant is informed of the allowance, signaling the acceptance of the limitation procedure."
   ]
  },
  {
   "cell_type": "markdown",
   "id": "7e26f04a-275c-4142-ae6f-65c2c8154576",
   "metadata": {},
   "source": [
    "### DATE_PAYMENT_ALLOWANCE (Payment Date of Limitation Fee)\n",
    "The ``DATE_PAYMENT_ALLOWANCE`` indicates the date on which the payment for the publication fee associated with the new limited specification was made. After a limitation request is allowed, this payment ensures that the updated patent specification, reflecting the limited claims, is published. This fee is a necessary part of the procedure to finalize the limitation."
   ]
  },
  {
   "cell_type": "markdown",
   "id": "bff4a238-4d2b-4daa-a022-f0e1e27cf0ef",
   "metadata": {},
   "source": [
    "\n",
    "### DATE_DISPATCH_REJECTION (Dispatch Date of Limitation Rejection)\n",
    "The ``DATE_DISPATCH_REJECTION`` refers to the date when the decision to reject a limitation request was formally dispatched. If the limitation request is found to be unfeasible or invalid, this date represents the formal communication of that rejection to the applicant."
   ]
  },
  {
   "cell_type": "markdown",
   "id": "c38d2192-3aa7-4fee-ada2-a24dda8e3d62",
   "metadata": {},
   "source": [
    "### DATE_LEGAL_EFFECT_REJECTION (Legal Effect Date of Limitation Rejection)\n",
    "The ``DATE_LEGAL_EFFECT_REJECTION`` captures the date when the rejection of a limitation request takes legal effect. This date signifies when the legal status of the application or patent is officially altered due to the rejection, preventing the requested limitation from being implemented.\n",
    "\n"
   ]
  }
 ],
 "metadata": {
  "kernelspec": {
   "display_name": "Python 3 (ipykernel)",
   "language": "python",
   "name": "python3"
  },
  "language_info": {
   "codemirror_mode": {
    "name": "ipython",
    "version": 3
   },
   "file_extension": ".py",
   "mimetype": "text/x-python",
   "name": "python",
   "nbconvert_exporter": "python",
   "pygments_lexer": "ipython3",
   "version": "3.11.10"
  }
 },
 "nbformat": 4,
 "nbformat_minor": 5
}
