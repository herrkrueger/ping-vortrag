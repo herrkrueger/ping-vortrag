{
 "cells": [
  {
   "cell_type": "markdown",
   "id": "646eb94c-e902-4b02-8c3d-a33cd6a56853",
   "metadata": {},
   "source": [
    "# The Patent Technical Relation Table (TLS205_TECH_REL)"
   ]
  },
  {
   "cell_type": "markdown",
   "id": "7a62503c-dcb6-47fc-bce9-fbe40475a5d1",
   "metadata": {},
   "source": [
    "Welcome to the fifth table of the PATSTAT database. As the name suggests, this table is about technical relations. Technical relations are \"priority-like\" relations between applications which have been detected by EPO examiners, but which have not been published by a patent office."
   ]
  },
  {
   "cell_type": "markdown",
   "id": "a139d316-857d-4fed-b895-c9819bade427",
   "metadata": {},
   "source": [
    "A technical family is created manually on request when documents disclosing identical subject matter (i.e., having identical description and drawings) are not automatically grouped together because they do not claim the same priority or combination of priorities."
   ]
  },
  {
   "cell_type": "markdown",
   "id": "4b650351-5b55-42e7-8cb8-8f35ed5af308",
   "metadata": {},
   "source": [
    "The reasons why applicants may decide not to claim a priority are of various kinds: for example, in some cases, the 12-month period foreseen in the Paris Convention might have been exceeded."
   ]
  },
  {
   "cell_type": "markdown",
   "id": "3f44e871-8995-4f9c-b53b-d7b9f4c022e2",
   "metadata": {},
   "source": [
    "Let's look at an example to better understand in which cases we can end up with technical relations and why they can be useful and meaningful. The EPO received a request for technical merge of the documents GB2542582, GB2542583 and GB2542584. These three patent applications, concerning a stretcher arrangement, were filed on the same day by the same applicant. The description and figures are in all three cases identical, but the claims cover three different aspects of the same invention: a pivoting arrangement for body support panels using coaxial actuators, a stretcher wheel assembly with solenoid activated locking mechanism and a pivoting body support for a stretcher, respectively. Since they were filed on the same day, they could not claim each other's priority and originally entered the EPO search collection as first filings. This was changed by the EPO expert in order to create the technical relations which we now see in the EPO databases."
   ]
  },
  {
   "cell_type": "code",
   "execution_count": 1,
   "id": "6445ddd4-3f47-4d85-8bdf-933246835dd5",
   "metadata": {},
   "outputs": [],
   "source": [
    "from epo.tipdata.patstat import PatstatClient\n",
    "\n",
    "# Initialize the PATSTAT client\n",
    "patstat = PatstatClient(env='PROD')\n",
    "\n",
    "# Access ORM\n",
    "db = patstat.orm()\n",
    "\n",
    "# Importing the as models\n",
    "from epo.tipdata.patstat.database.models import TLS205_TECH_REL"
   ]
  },
  {
   "cell_type": "markdown",
   "id": "f147ab81-bf87-4f13-883c-8f6274812b04",
   "metadata": {},
   "source": [
    "## APPLN_ID (Primary Key)"
   ]
  },
  {
   "cell_type": "markdown",
   "id": "cae53584-376f-466a-92ef-8f32839feb0a",
   "metadata": {},
   "source": [
    "Application ID linking this table to table TLS201. If we want to retrive earlier applications from table TLS201 that are claimed by applications in table TLS205 we have to `JOIN` between the two tables imposing the match between `tech_rel_appln_id` in table TLS205 and `appln_id` in table TLS201. The reason is the same explained for table TLS204."
   ]
  },
  {
   "cell_type": "code",
   "execution_count": 4,
   "id": "3071cef1-9c51-4c85-a2ea-c03e9afc41ba",
   "metadata": {},
   "outputs": [
    {
     "data": {
      "text/html": [
       "<div>\n",
       "<style scoped>\n",
       "    .dataframe tbody tr th:only-of-type {\n",
       "        vertical-align: middle;\n",
       "    }\n",
       "\n",
       "    .dataframe tbody tr th {\n",
       "        vertical-align: top;\n",
       "    }\n",
       "\n",
       "    .dataframe thead th {\n",
       "        text-align: right;\n",
       "    }\n",
       "</style>\n",
       "<table border=\"1\" class=\"dataframe\">\n",
       "  <thead>\n",
       "    <tr style=\"text-align: right;\">\n",
       "      <th></th>\n",
       "      <th>inpadoc_family_id</th>\n",
       "      <th>tech_rel_appln_id</th>\n",
       "      <th>appln_id</th>\n",
       "      <th>appln_filing_date</th>\n",
       "      <th>earliest_filing_date</th>\n",
       "    </tr>\n",
       "  </thead>\n",
       "  <tbody>\n",
       "    <tr>\n",
       "      <th>0</th>\n",
       "      <td>11330364</td>\n",
       "      <td>907848322</td>\n",
       "      <td>907848322</td>\n",
       "      <td>9999-12-31</td>\n",
       "      <td>9999-12-31</td>\n",
       "    </tr>\n",
       "    <tr>\n",
       "      <th>1</th>\n",
       "      <td>11336970</td>\n",
       "      <td>908548029</td>\n",
       "      <td>908548029</td>\n",
       "      <td>9999-12-31</td>\n",
       "      <td>9999-12-31</td>\n",
       "    </tr>\n",
       "    <tr>\n",
       "      <th>2</th>\n",
       "      <td>9450268</td>\n",
       "      <td>908034541</td>\n",
       "      <td>908034541</td>\n",
       "      <td>9999-12-31</td>\n",
       "      <td>9999-12-31</td>\n",
       "    </tr>\n",
       "    <tr>\n",
       "      <th>3</th>\n",
       "      <td>9450268</td>\n",
       "      <td>908034541</td>\n",
       "      <td>908034541</td>\n",
       "      <td>9999-12-31</td>\n",
       "      <td>9999-12-31</td>\n",
       "    </tr>\n",
       "    <tr>\n",
       "      <th>4</th>\n",
       "      <td>18642582</td>\n",
       "      <td>908671225</td>\n",
       "      <td>908671225</td>\n",
       "      <td>9999-12-31</td>\n",
       "      <td>9999-12-31</td>\n",
       "    </tr>\n",
       "    <tr>\n",
       "      <th>...</th>\n",
       "      <td>...</td>\n",
       "      <td>...</td>\n",
       "      <td>...</td>\n",
       "      <td>...</td>\n",
       "      <td>...</td>\n",
       "    </tr>\n",
       "    <tr>\n",
       "      <th>9995</th>\n",
       "      <td>20761113</td>\n",
       "      <td>907669819</td>\n",
       "      <td>907669819</td>\n",
       "      <td>1954-06-30</td>\n",
       "      <td>1954-06-30</td>\n",
       "    </tr>\n",
       "    <tr>\n",
       "      <th>9996</th>\n",
       "      <td>20756272</td>\n",
       "      <td>908415158</td>\n",
       "      <td>908415158</td>\n",
       "      <td>1954-04-26</td>\n",
       "      <td>1954-04-26</td>\n",
       "    </tr>\n",
       "    <tr>\n",
       "      <th>9997</th>\n",
       "      <td>20751388</td>\n",
       "      <td>908602916</td>\n",
       "      <td>908602916</td>\n",
       "      <td>1954-03-10</td>\n",
       "      <td>1954-03-10</td>\n",
       "    </tr>\n",
       "    <tr>\n",
       "      <th>9998</th>\n",
       "      <td>21140451</td>\n",
       "      <td>908471878</td>\n",
       "      <td>908471878</td>\n",
       "      <td>1954-03-08</td>\n",
       "      <td>1954-03-08</td>\n",
       "    </tr>\n",
       "    <tr>\n",
       "      <th>9999</th>\n",
       "      <td>22226241</td>\n",
       "      <td>907481742</td>\n",
       "      <td>907481742</td>\n",
       "      <td>1954-10-22</td>\n",
       "      <td>1954-10-22</td>\n",
       "    </tr>\n",
       "  </tbody>\n",
       "</table>\n",
       "<p>10000 rows × 5 columns</p>\n",
       "</div>"
      ],
      "text/plain": [
       "      inpadoc_family_id  tech_rel_appln_id   appln_id appln_filing_date  \\\n",
       "0              11330364          907848322  907848322        9999-12-31   \n",
       "1              11336970          908548029  908548029        9999-12-31   \n",
       "2               9450268          908034541  908034541        9999-12-31   \n",
       "3               9450268          908034541  908034541        9999-12-31   \n",
       "4              18642582          908671225  908671225        9999-12-31   \n",
       "...                 ...                ...        ...               ...   \n",
       "9995           20761113          907669819  907669819        1954-06-30   \n",
       "9996           20756272          908415158  908415158        1954-04-26   \n",
       "9997           20751388          908602916  908602916        1954-03-10   \n",
       "9998           21140451          908471878  908471878        1954-03-08   \n",
       "9999           22226241          907481742  907481742        1954-10-22   \n",
       "\n",
       "     earliest_filing_date  \n",
       "0              9999-12-31  \n",
       "1              9999-12-31  \n",
       "2              9999-12-31  \n",
       "3              9999-12-31  \n",
       "4              9999-12-31  \n",
       "...                   ...  \n",
       "9995           1954-06-30  \n",
       "9996           1954-04-26  \n",
       "9997           1954-03-10  \n",
       "9998           1954-03-08  \n",
       "9999           1954-10-22  \n",
       "\n",
       "[10000 rows x 5 columns]"
      ]
     },
     "execution_count": 4,
     "metadata": {},
     "output_type": "execute_result"
    }
   ],
   "source": [
    "# Import table TLS201\n",
    "from epo.tipdata.patstat.database.models import TLS201_APPLN\n",
    "\n",
    "tech_id = db.query(\n",
    "    TLS201_APPLN.inpadoc_family_id,\n",
    "    TLS205_TECH_REL.tech_rel_appln_id,\n",
    "    TLS201_APPLN.appln_id,\n",
    "    TLS201_APPLN.appln_filing_date,\n",
    "    TLS201_APPLN.earliest_filing_date\n",
    ").join(\n",
    "    TLS201_APPLN, TLS205_TECH_REL.tech_rel_appln_id == TLS201_APPLN.appln_id  # Join table TLS201 and TLS205 \n",
    ").limit(10000)\n",
    "\n",
    "tech_id_df = patstat.df(tech_id)\n",
    "tech_id_df"
   ]
  },
  {
   "cell_type": "markdown",
   "id": "8561a242-0740-4efa-bf53-6856f6c796da",
   "metadata": {},
   "source": [
    "## TECH_REL_APPLN_ID"
   ]
  },
  {
   "cell_type": "markdown",
   "id": "8f9ace92-4fcb-4e44-bf3a-77dccab7ebbd",
   "metadata": {},
   "source": [
    "This field defines the relationship between an application and a prior application (priority). If the priority-linkage-type is equal to 'T', then the priority is a technically related priority. The value of `appln_id` for this application is the `tech_rel_appln_id`."
   ]
  },
  {
   "cell_type": "markdown",
   "id": "91c50adc-cee0-484c-af91-6b0b119f839e",
   "metadata": {},
   "source": [
    "### TECH_REL_APPLN_ID is linked to INPADOC_FAMILY_ID"
   ]
  },
  {
   "cell_type": "markdown",
   "id": "4c88bf0c-ddf8-478c-9d34-2ff93c58f4ad",
   "metadata": {},
   "source": [
    "Let's show that applications referring to the same prior application (via technical relation) fall under the same INPADOC family but may possibly belong to different DOCDB families. In order to show this, we join table TLS201 and TLS205 via the `appln_id` attribute and retrive the `docdb_family_id` for a fixed `inpadoc_family_id`."
   ]
  },
  {
   "cell_type": "code",
   "execution_count": 3,
   "id": "e8b207e0-70d9-4146-9f30-3d419c9ec50c",
   "metadata": {},
   "outputs": [
    {
     "data": {
      "text/html": [
       "<div>\n",
       "<style scoped>\n",
       "    .dataframe tbody tr th:only-of-type {\n",
       "        vertical-align: middle;\n",
       "    }\n",
       "\n",
       "    .dataframe tbody tr th {\n",
       "        vertical-align: top;\n",
       "    }\n",
       "\n",
       "    .dataframe thead th {\n",
       "        text-align: right;\n",
       "    }\n",
       "</style>\n",
       "<table border=\"1\" class=\"dataframe\">\n",
       "  <thead>\n",
       "    <tr style=\"text-align: right;\">\n",
       "      <th></th>\n",
       "      <th>appln_id</th>\n",
       "      <th>tech_rel_appln_id</th>\n",
       "      <th>inpadoc_family_id</th>\n",
       "      <th>docdb_family_id</th>\n",
       "    </tr>\n",
       "  </thead>\n",
       "  <tbody>\n",
       "    <tr>\n",
       "      <th>0</th>\n",
       "      <td>441452953</td>\n",
       "      <td>413899147</td>\n",
       "      <td>98645</td>\n",
       "      <td>53373125</td>\n",
       "    </tr>\n",
       "    <tr>\n",
       "      <th>1</th>\n",
       "      <td>413899147</td>\n",
       "      <td>441452953</td>\n",
       "      <td>98645</td>\n",
       "      <td>51867932</td>\n",
       "    </tr>\n",
       "  </tbody>\n",
       "</table>\n",
       "</div>"
      ],
      "text/plain": [
       "    appln_id  tech_rel_appln_id  inpadoc_family_id  docdb_family_id\n",
       "0  441452953          413899147              98645         53373125\n",
       "1  413899147          441452953              98645         51867932"
      ]
     },
     "execution_count": 3,
     "metadata": {},
     "output_type": "execute_result"
    }
   ],
   "source": [
    "doc_inpa = db.query(\n",
    "    TLS201_APPLN.appln_id,\n",
    "    TLS205_TECH_REL.tech_rel_appln_id,\n",
    "    TLS201_APPLN.inpadoc_family_id,\n",
    "    TLS201_APPLN.docdb_family_id\n",
    ").join(\n",
    "    TLS201_APPLN, TLS205_TECH_REL.appln_id == TLS201_APPLN.appln_id  # Join tables TLS201 and TLS205 via the appln_id attribute\n",
    ").filter(\n",
    "    TLS201_APPLN.inpadoc_family_id == 98645\n",
    ").order_by(\n",
    "    TLS205_TECH_REL.tech_rel_appln_id\n",
    ")\n",
    "\n",
    "doc_inpa_df = patstat.df(doc_inpa)\n",
    "doc_inpa_df"
   ]
  },
  {
   "cell_type": "code",
   "execution_count": null,
   "id": "16a92c91-f638-4bdb-838c-8d60b2f776a0",
   "metadata": {},
   "outputs": [],
   "source": []
  }
 ],
 "metadata": {
  "kernelspec": {
   "display_name": "Python 3 (ipykernel)",
   "language": "python",
   "name": "python3"
  },
  "language_info": {
   "codemirror_mode": {
    "name": "ipython",
    "version": 3
   },
   "file_extension": ".py",
   "mimetype": "text/x-python",
   "name": "python",
   "nbconvert_exporter": "python",
   "pygments_lexer": "ipython3",
   "version": "3.11.10"
  }
 },
 "nbformat": 4,
 "nbformat_minor": 5
}
