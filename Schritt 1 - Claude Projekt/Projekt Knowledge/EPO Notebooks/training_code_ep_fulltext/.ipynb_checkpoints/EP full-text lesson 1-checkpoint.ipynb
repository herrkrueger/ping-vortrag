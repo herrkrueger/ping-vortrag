{
 "cells": [
  {
   "cell_type": "markdown",
   "id": "9da4423c-c969-47ef-bf7a-82d14c4cfb26",
   "metadata": {
    "tags": []
   },
   "source": [
    "# EPAB Library Primer"
   ]
  },
  {
   "cell_type": "code",
   "execution_count": 1,
   "id": "d3577a28-4603-44fd-8179-6a6d76f6ba3c",
   "metadata": {
    "tags": []
   },
   "outputs": [],
   "source": [
    "%load_ext autoreload\n",
    "%autoreload 2"
   ]
  },
  {
   "cell_type": "markdown",
   "id": "e8943295-de57-4ef4-934c-bf4a029b113b",
   "metadata": {
    "tags": []
   },
   "source": [
    "### Import the library and instantiate an EPAB client"
   ]
  },
  {
   "cell_type": "code",
   "execution_count": 2,
   "id": "f74a8911-6447-40cb-9ef6-9e83c98657d3",
   "metadata": {
    "tags": []
   },
   "outputs": [],
   "source": [
    "from epo.tipdata.epab import EPABClient\n",
    "epab = EPABClient()"
   ]
  },
  {
   "cell_type": "markdown",
   "id": "8cf94b00-aeb9-440e-a6eb-814cffad1227",
   "metadata": {
    "tags": []
   },
   "source": [
    "### Show and get help on the Database schema "
   ]
  },
  {
   "cell_type": "code",
   "execution_count": 7,
   "id": "324244e9-9aa2-47a8-b995-efb1be5c46a2",
   "metadata": {
    "tags": []
   },
   "outputs": [
    {
     "data": {
      "application/vnd.jupyter.widget-view+json": {
       "model_id": "dafce7b30e7c4beb8238b554a50f6ce7",
       "version_major": 2,
       "version_minor": 0
      },
      "text/plain": [
       "WidDatabaseFields(header='', input_data={'': [{'name': 'epab_doc_id', 'type': 'STRING', 'mode': 'REQUIRED', 'd…"
      ]
     },
     "execution_count": 7,
     "metadata": {},
     "output_type": "execute_result"
    }
   ],
   "source": [
    "epab.fields()"
   ]
  },
  {
   "cell_type": "markdown",
   "id": "be9e7160-3071-4955-9db6-652436db0faa",
   "metadata": {},
   "source": [
    "## Prebuild queries"
   ]
  },
  {
   "cell_type": "markdown",
   "id": "0adc3f19-3588-4eab-bf7b-0f4e2f28c0af",
   "metadata": {
    "jp-MarkdownHeadingCollapsed": true
   },
   "source": [
    "### Querying the publication values"
   ]
  },
  {
   "cell_type": "markdown",
   "id": "29020355-d3d7-4a05-8c23-f7b2cf802524",
   "metadata": {},
   "source": [
    "#### Combined query of multiple publication attributes "
   ]
  },
  {
   "cell_type": "code",
   "execution_count": 25,
   "id": "be5d8d34-4dc6-40ac-a285-ebff32c78099",
   "metadata": {},
   "outputs": [],
   "source": [
    "q = epab.query_publication(number=\"41%\", kindcodes=\"A1,A2\", language=\"FR, DE\", date_range=\"20180101-20230101\")"
   ]
  },
  {
   "cell_type": "code",
   "execution_count": 30,
   "id": "58ca3a11-a212-4c58-b35a-bf2fd91e50f0",
   "metadata": {},
   "outputs": [
    {
     "name": "stdout",
     "output_type": "stream",
     "text": [
      "8 publications\n"
     ]
    },
    {
     "data": {
      "text/html": [
       "<div>\n",
       "<style scoped>\n",
       "    .dataframe tbody tr th:only-of-type {\n",
       "        vertical-align: middle;\n",
       "    }\n",
       "\n",
       "    .dataframe tbody tr th {\n",
       "        vertical-align: top;\n",
       "    }\n",
       "\n",
       "    .dataframe thead th {\n",
       "        text-align: right;\n",
       "    }\n",
       "</style>\n",
       "<table border=\"1\" class=\"dataframe\">\n",
       "  <thead>\n",
       "    <tr style=\"text-align: right;\">\n",
       "      <th></th>\n",
       "      <th>publication.country</th>\n",
       "      <th>publication.number</th>\n",
       "      <th>publication.kind</th>\n",
       "      <th>publication.date</th>\n",
       "      <th>publication.language</th>\n",
       "    </tr>\n",
       "  </thead>\n",
       "  <tbody>\n",
       "    <tr>\n",
       "      <th>0</th>\n",
       "      <td>EP</td>\n",
       "      <td>4102526</td>\n",
       "      <td>A1</td>\n",
       "      <td>20221214</td>\n",
       "      <td>FR</td>\n",
       "    </tr>\n",
       "    <tr>\n",
       "      <th>1</th>\n",
       "      <td>EP</td>\n",
       "      <td>4100650</td>\n",
       "      <td>A1</td>\n",
       "      <td>20221214</td>\n",
       "      <td>FR</td>\n",
       "    </tr>\n",
       "    <tr>\n",
       "      <th>2</th>\n",
       "      <td>EP</td>\n",
       "      <td>4101359</td>\n",
       "      <td>A1</td>\n",
       "      <td>20221214</td>\n",
       "      <td>DE</td>\n",
       "    </tr>\n",
       "    <tr>\n",
       "      <th>3</th>\n",
       "      <td>EP</td>\n",
       "      <td>4101318</td>\n",
       "      <td>A1</td>\n",
       "      <td>20221214</td>\n",
       "      <td>DE</td>\n",
       "    </tr>\n",
       "    <tr>\n",
       "      <th>4</th>\n",
       "      <td>EP</td>\n",
       "      <td>4108786</td>\n",
       "      <td>A1</td>\n",
       "      <td>20221228</td>\n",
       "      <td>DE</td>\n",
       "    </tr>\n",
       "  </tbody>\n",
       "</table>\n",
       "</div>"
      ],
      "text/plain": [
       "  publication.country publication.number publication.kind publication.date  \\\n",
       "0                  EP            4102526               A1         20221214   \n",
       "1                  EP            4100650               A1         20221214   \n",
       "2                  EP            4101359               A1         20221214   \n",
       "3                  EP            4101318               A1         20221214   \n",
       "4                  EP            4108786               A1         20221228   \n",
       "\n",
       "  publication.language  \n",
       "0                   FR  \n",
       "1                   FR  \n",
       "2                   DE  \n",
       "3                   DE  \n",
       "4                   DE  "
      ]
     },
     "execution_count": 30,
     "metadata": {},
     "output_type": "execute_result"
    }
   ],
   "source": [
    "print(q)\n",
    "q.get_results(\"publication\", limit=5)"
   ]
  },
  {
   "cell_type": "markdown",
   "id": "7be155d0-6c8c-48d2-88cc-23ce9e3d0444",
   "metadata": {
    "jp-MarkdownHeadingCollapsed": true
   },
   "source": [
    "#### Querying by specific attributes"
   ]
  },
  {
   "cell_type": "markdown",
   "id": "4ea4c015-514b-47b9-9ef7-af5a68e700a6",
   "metadata": {},
   "source": [
    "##### Kindcode"
   ]
  },
  {
   "cell_type": "code",
   "execution_count": 6,
   "id": "21331fb8-dc00-43df-9ff3-bf1bec9a7fae",
   "metadata": {},
   "outputs": [
    {
     "name": "stdout",
     "output_type": "stream",
     "text": [
      "4264 publications\n"
     ]
    },
    {
     "data": {
      "text/html": [
       "<div>\n",
       "<style scoped>\n",
       "    .dataframe tbody tr th:only-of-type {\n",
       "        vertical-align: middle;\n",
       "    }\n",
       "\n",
       "    .dataframe tbody tr th {\n",
       "        vertical-align: top;\n",
       "    }\n",
       "\n",
       "    .dataframe thead th {\n",
       "        text-align: right;\n",
       "    }\n",
       "</style>\n",
       "<table border=\"1\" class=\"dataframe\">\n",
       "  <thead>\n",
       "    <tr style=\"text-align: right;\">\n",
       "      <th></th>\n",
       "      <th>publication.kind</th>\n",
       "      <th>publication.number</th>\n",
       "    </tr>\n",
       "  </thead>\n",
       "  <tbody>\n",
       "    <tr>\n",
       "      <th>0</th>\n",
       "      <td>A8</td>\n",
       "      <td>3739868</td>\n",
       "    </tr>\n",
       "    <tr>\n",
       "      <th>1</th>\n",
       "      <td>A8</td>\n",
       "      <td>3739604</td>\n",
       "    </tr>\n",
       "    <tr>\n",
       "      <th>2</th>\n",
       "      <td>A8</td>\n",
       "      <td>1810681</td>\n",
       "    </tr>\n",
       "    <tr>\n",
       "      <th>3</th>\n",
       "      <td>A8</td>\n",
       "      <td>4026688</td>\n",
       "    </tr>\n",
       "    <tr>\n",
       "      <th>4</th>\n",
       "      <td>A8</td>\n",
       "      <td>4043040</td>\n",
       "    </tr>\n",
       "  </tbody>\n",
       "</table>\n",
       "</div>"
      ],
      "text/plain": [
       "  publication.kind publication.number\n",
       "0               A8            3739868\n",
       "1               A8            3739604\n",
       "2               A8            1810681\n",
       "3               A8            4026688\n",
       "4               A8            4043040"
      ]
     },
     "execution_count": 6,
     "metadata": {},
     "output_type": "execute_result"
    }
   ],
   "source": [
    "q = epab.query_publication_kindcodes(\"A8\")\n",
    "print(q)\n",
    "q.get_results(\"publication.kind, publication.number\", limit=5)"
   ]
  },
  {
   "cell_type": "markdown",
   "id": "002dcb17-caa7-43f9-89e7-2f2bcd351fea",
   "metadata": {},
   "source": [
    "##### Publication language"
   ]
  },
  {
   "cell_type": "code",
   "execution_count": 7,
   "id": "3f816cc3-fcd4-4d84-92f5-ee1f1b9ff6d4",
   "metadata": {},
   "outputs": [
    {
     "name": "stdout",
     "output_type": "stream",
     "text": [
      "1849987 publications\n"
     ]
    },
    {
     "data": {
      "text/html": [
       "<div>\n",
       "<style scoped>\n",
       "    .dataframe tbody tr th:only-of-type {\n",
       "        vertical-align: middle;\n",
       "    }\n",
       "\n",
       "    .dataframe tbody tr th {\n",
       "        vertical-align: top;\n",
       "    }\n",
       "\n",
       "    .dataframe thead th {\n",
       "        text-align: right;\n",
       "    }\n",
       "</style>\n",
       "<table border=\"1\" class=\"dataframe\">\n",
       "  <thead>\n",
       "    <tr style=\"text-align: right;\">\n",
       "      <th></th>\n",
       "      <th>publication.country</th>\n",
       "      <th>publication.number</th>\n",
       "      <th>publication.kind</th>\n",
       "      <th>publication.date</th>\n",
       "      <th>publication.language</th>\n",
       "      <th>ipc</th>\n",
       "    </tr>\n",
       "  </thead>\n",
       "  <tbody>\n",
       "    <tr>\n",
       "      <th>0</th>\n",
       "      <td>EP</td>\n",
       "      <td>3167122</td>\n",
       "      <td>B8</td>\n",
       "      <td>20221109</td>\n",
       "      <td>FR</td>\n",
       "      <td>[{'version': '8', 'symbol': 'E01C7/24', 'categ...</td>\n",
       "    </tr>\n",
       "    <tr>\n",
       "      <th>1</th>\n",
       "      <td>EP</td>\n",
       "      <td>4060215</td>\n",
       "      <td>A8</td>\n",
       "      <td>20221109</td>\n",
       "      <td>DE</td>\n",
       "      <td>[{'version': '8', 'symbol': 'F16L21/00', 'cate...</td>\n",
       "    </tr>\n",
       "    <tr>\n",
       "      <th>2</th>\n",
       "      <td>EP</td>\n",
       "      <td>4007053</td>\n",
       "      <td>A3</td>\n",
       "      <td>20221109</td>\n",
       "      <td>DE</td>\n",
       "      <td>[{'version': '8', 'symbol': 'H01M50/209', 'cat...</td>\n",
       "    </tr>\n",
       "    <tr>\n",
       "      <th>3</th>\n",
       "      <td>EP</td>\n",
       "      <td>4046925</td>\n",
       "      <td>A3</td>\n",
       "      <td>20221109</td>\n",
       "      <td>DE</td>\n",
       "      <td>[{'version': '8', 'symbol': 'B65B67/08', 'cate...</td>\n",
       "    </tr>\n",
       "    <tr>\n",
       "      <th>4</th>\n",
       "      <td>EP</td>\n",
       "      <td>4046663</td>\n",
       "      <td>A3</td>\n",
       "      <td>20221109</td>\n",
       "      <td>DE</td>\n",
       "      <td>[{'version': '8', 'symbol': 'A61L9/20', 'categ...</td>\n",
       "    </tr>\n",
       "  </tbody>\n",
       "</table>\n",
       "</div>"
      ],
      "text/plain": [
       "  publication.country publication.number publication.kind publication.date  \\\n",
       "0                  EP            3167122               B8         20221109   \n",
       "1                  EP            4060215               A8         20221109   \n",
       "2                  EP            4007053               A3         20221109   \n",
       "3                  EP            4046925               A3         20221109   \n",
       "4                  EP            4046663               A3         20221109   \n",
       "\n",
       "  publication.language                                                ipc  \n",
       "0                   FR  [{'version': '8', 'symbol': 'E01C7/24', 'categ...  \n",
       "1                   DE  [{'version': '8', 'symbol': 'F16L21/00', 'cate...  \n",
       "2                   DE  [{'version': '8', 'symbol': 'H01M50/209', 'cat...  \n",
       "3                   DE  [{'version': '8', 'symbol': 'B65B67/08', 'cate...  \n",
       "4                   DE  [{'version': '8', 'symbol': 'A61L9/20', 'categ...  "
      ]
     },
     "execution_count": 7,
     "metadata": {},
     "output_type": "execute_result"
    }
   ],
   "source": [
    "q = epab.query_publication_languages(\"FR,DE\")\n",
    "print(q)\n",
    "q.get_results(\"publication, ipc\", limit=5)"
   ]
  },
  {
   "cell_type": "markdown",
   "id": "cf7d3f7a-ae60-4ad1-a27e-3a3ef1f92a9f",
   "metadata": {},
   "source": [
    "##### Publication date (range or single date)"
   ]
  },
  {
   "cell_type": "code",
   "execution_count": 8,
   "id": "82aac806-16e4-4e49-b7fd-ed17b86ac39e",
   "metadata": {
    "scrolled": true
   },
   "outputs": [
    {
     "name": "stdout",
     "output_type": "stream",
     "text": [
      "5838 publications\n"
     ]
    },
    {
     "data": {
      "text/html": [
       "<div>\n",
       "<style scoped>\n",
       "    .dataframe tbody tr th:only-of-type {\n",
       "        vertical-align: middle;\n",
       "    }\n",
       "\n",
       "    .dataframe tbody tr th {\n",
       "        vertical-align: top;\n",
       "    }\n",
       "\n",
       "    .dataframe thead th {\n",
       "        text-align: right;\n",
       "    }\n",
       "</style>\n",
       "<table border=\"1\" class=\"dataframe\">\n",
       "  <thead>\n",
       "    <tr style=\"text-align: right;\">\n",
       "      <th></th>\n",
       "      <th>publication.country</th>\n",
       "      <th>publication.number</th>\n",
       "      <th>publication.kind</th>\n",
       "      <th>publication.date</th>\n",
       "      <th>publication.language</th>\n",
       "    </tr>\n",
       "  </thead>\n",
       "  <tbody>\n",
       "    <tr>\n",
       "      <th>0</th>\n",
       "      <td>EP</td>\n",
       "      <td>2668266</td>\n",
       "      <td>B1</td>\n",
       "      <td>20180103</td>\n",
       "      <td>EN</td>\n",
       "    </tr>\n",
       "    <tr>\n",
       "      <th>1</th>\n",
       "      <td>EP</td>\n",
       "      <td>2668269</td>\n",
       "      <td>B1</td>\n",
       "      <td>20180103</td>\n",
       "      <td>EN</td>\n",
       "    </tr>\n",
       "    <tr>\n",
       "      <th>2</th>\n",
       "      <td>EP</td>\n",
       "      <td>2763694</td>\n",
       "      <td>B1</td>\n",
       "      <td>20180103</td>\n",
       "      <td>EN</td>\n",
       "    </tr>\n",
       "    <tr>\n",
       "      <th>3</th>\n",
       "      <td>EP</td>\n",
       "      <td>2736287</td>\n",
       "      <td>B1</td>\n",
       "      <td>20180103</td>\n",
       "      <td>EN</td>\n",
       "    </tr>\n",
       "    <tr>\n",
       "      <th>4</th>\n",
       "      <td>EP</td>\n",
       "      <td>2751193</td>\n",
       "      <td>B1</td>\n",
       "      <td>20180103</td>\n",
       "      <td>EN</td>\n",
       "    </tr>\n",
       "  </tbody>\n",
       "</table>\n",
       "</div>"
      ],
      "text/plain": [
       "  publication.country publication.number publication.kind publication.date  \\\n",
       "0                  EP            2668266               B1         20180103   \n",
       "1                  EP            2668269               B1         20180103   \n",
       "2                  EP            2763694               B1         20180103   \n",
       "3                  EP            2736287               B1         20180103   \n",
       "4                  EP            2751193               B1         20180103   \n",
       "\n",
       "  publication.language  \n",
       "0                   EN  \n",
       "1                   EN  \n",
       "2                   EN  \n",
       "3                   EN  \n",
       "4                   EN  "
      ]
     },
     "execution_count": 8,
     "metadata": {},
     "output_type": "execute_result"
    }
   ],
   "source": [
    "q = epab.query_publication_date(\"20180103\")\n",
    "print(q)\n",
    "q.get_results(\"publication\", limit=5)"
   ]
  },
  {
   "cell_type": "markdown",
   "id": "9a544fe0-babf-4dac-a4d2-8714d2ece0e5",
   "metadata": {},
   "source": [
    "##### Publication date can also be searched using truncation"
   ]
  },
  {
   "cell_type": "code",
   "execution_count": 9,
   "id": "a79ca86b-ec03-4cb2-a08c-71145ff5e03f",
   "metadata": {},
   "outputs": [
    {
     "name": "stdout",
     "output_type": "stream",
     "text": [
      "286062 publications\n"
     ]
    },
    {
     "data": {
      "text/html": [
       "<div>\n",
       "<style scoped>\n",
       "    .dataframe tbody tr th:only-of-type {\n",
       "        vertical-align: middle;\n",
       "    }\n",
       "\n",
       "    .dataframe tbody tr th {\n",
       "        vertical-align: top;\n",
       "    }\n",
       "\n",
       "    .dataframe thead th {\n",
       "        text-align: right;\n",
       "    }\n",
       "</style>\n",
       "<table border=\"1\" class=\"dataframe\">\n",
       "  <thead>\n",
       "    <tr style=\"text-align: right;\">\n",
       "      <th></th>\n",
       "      <th>publication.country</th>\n",
       "      <th>publication.number</th>\n",
       "      <th>publication.kind</th>\n",
       "      <th>publication.date</th>\n",
       "      <th>publication.language</th>\n",
       "    </tr>\n",
       "  </thead>\n",
       "  <tbody>\n",
       "    <tr>\n",
       "      <th>0</th>\n",
       "      <td>EP</td>\n",
       "      <td>3548501</td>\n",
       "      <td>B1</td>\n",
       "      <td>20210217</td>\n",
       "      <td>EN</td>\n",
       "    </tr>\n",
       "    <tr>\n",
       "      <th>1</th>\n",
       "      <td>EP</td>\n",
       "      <td>3399767</td>\n",
       "      <td>B1</td>\n",
       "      <td>20210217</td>\n",
       "      <td>EN</td>\n",
       "    </tr>\n",
       "    <tr>\n",
       "      <th>2</th>\n",
       "      <td>EP</td>\n",
       "      <td>3399769</td>\n",
       "      <td>B1</td>\n",
       "      <td>20210217</td>\n",
       "      <td>EN</td>\n",
       "    </tr>\n",
       "    <tr>\n",
       "      <th>3</th>\n",
       "      <td>EP</td>\n",
       "      <td>3515827</td>\n",
       "      <td>B1</td>\n",
       "      <td>20210217</td>\n",
       "      <td>DE</td>\n",
       "    </tr>\n",
       "    <tr>\n",
       "      <th>4</th>\n",
       "      <td>EP</td>\n",
       "      <td>3497048</td>\n",
       "      <td>B1</td>\n",
       "      <td>20210217</td>\n",
       "      <td>DE</td>\n",
       "    </tr>\n",
       "  </tbody>\n",
       "</table>\n",
       "</div>"
      ],
      "text/plain": [
       "  publication.country publication.number publication.kind publication.date  \\\n",
       "0                  EP            3548501               B1         20210217   \n",
       "1                  EP            3399767               B1         20210217   \n",
       "2                  EP            3399769               B1         20210217   \n",
       "3                  EP            3515827               B1         20210217   \n",
       "4                  EP            3497048               B1         20210217   \n",
       "\n",
       "  publication.language  \n",
       "0                   EN  \n",
       "1                   EN  \n",
       "2                   EN  \n",
       "3                   DE  \n",
       "4                   DE  "
      ]
     },
     "execution_count": 9,
     "metadata": {},
     "output_type": "execute_result"
    }
   ],
   "source": [
    "q = epab.query_publication_date(\"2021%\")\n",
    "print(q)\n",
    "q.get_results(\"publication\", limit=5)"
   ]
  },
  {
   "cell_type": "markdown",
   "id": "99020754-0248-495e-b155-2161a33b32be",
   "metadata": {
    "jp-MarkdownHeadingCollapsed": true
   },
   "source": [
    "### Querying the application values"
   ]
  },
  {
   "cell_type": "markdown",
   "id": "52ce3195-2da2-4ac0-8375-c6a8c7b11907",
   "metadata": {},
   "source": [
    "#### Combined query method"
   ]
  },
  {
   "cell_type": "code",
   "execution_count": 32,
   "id": "d3d3e001-ee8c-47e8-86c0-02aa9166c58f",
   "metadata": {},
   "outputs": [
    {
     "name": "stdout",
     "output_type": "stream",
     "text": [
      "101 publications\n"
     ]
    },
    {
     "data": {
      "text/html": [
       "<div>\n",
       "<style scoped>\n",
       "    .dataframe tbody tr th:only-of-type {\n",
       "        vertical-align: middle;\n",
       "    }\n",
       "\n",
       "    .dataframe tbody tr th {\n",
       "        vertical-align: top;\n",
       "    }\n",
       "\n",
       "    .dataframe thead th {\n",
       "        text-align: right;\n",
       "    }\n",
       "</style>\n",
       "<table border=\"1\" class=\"dataframe\">\n",
       "  <thead>\n",
       "    <tr style=\"text-align: right;\">\n",
       "      <th></th>\n",
       "      <th>application.number</th>\n",
       "      <th>application.filing_date</th>\n",
       "    </tr>\n",
       "  </thead>\n",
       "  <tbody>\n",
       "    <tr>\n",
       "      <th>0</th>\n",
       "      <td>16776881.1</td>\n",
       "      <td>20160407</td>\n",
       "    </tr>\n",
       "    <tr>\n",
       "      <th>1</th>\n",
       "      <td>16717192.5</td>\n",
       "      <td>20160407</td>\n",
       "    </tr>\n",
       "    <tr>\n",
       "      <th>2</th>\n",
       "      <td>16717592.6</td>\n",
       "      <td>20160413</td>\n",
       "    </tr>\n",
       "    <tr>\n",
       "      <th>3</th>\n",
       "      <td>16717232.9</td>\n",
       "      <td>20160408</td>\n",
       "    </tr>\n",
       "    <tr>\n",
       "      <th>4</th>\n",
       "      <td>16787193.8</td>\n",
       "      <td>20160428</td>\n",
       "    </tr>\n",
       "  </tbody>\n",
       "</table>\n",
       "</div>"
      ],
      "text/plain": [
       "  application.number application.filing_date\n",
       "0         16776881.1                20160407\n",
       "1         16717192.5                20160407\n",
       "2         16717592.6                20160413\n",
       "3         16717232.9                20160408\n",
       "4         16787193.8                20160428"
      ]
     },
     "execution_count": 32,
     "metadata": {},
     "output_type": "execute_result"
    }
   ],
   "source": [
    "q = epab.query_application(number=\"167%\", date_range=\"20160401-20160430\")\n",
    "print(q)\n",
    "q.get_results(\"application\", limit=5)"
   ]
  },
  {
   "cell_type": "markdown",
   "id": "ae666519-9ad1-432f-b3ed-22500296a429",
   "metadata": {},
   "source": [
    "#### Querying by specific attributes"
   ]
  },
  {
   "cell_type": "markdown",
   "id": "12c92d81-35b4-4751-97fb-332c6d624f13",
   "metadata": {},
   "source": [
    "##### Number"
   ]
  },
  {
   "cell_type": "code",
   "execution_count": 33,
   "id": "4cc0e670-2475-46ba-ae22-6efea7c728fa",
   "metadata": {},
   "outputs": [
    {
     "name": "stdout",
     "output_type": "stream",
     "text": [
      "844 publications\n"
     ]
    },
    {
     "data": {
      "text/html": [
       "<div>\n",
       "<style scoped>\n",
       "    .dataframe tbody tr th:only-of-type {\n",
       "        vertical-align: middle;\n",
       "    }\n",
       "\n",
       "    .dataframe tbody tr th {\n",
       "        vertical-align: top;\n",
       "    }\n",
       "\n",
       "    .dataframe thead th {\n",
       "        text-align: right;\n",
       "    }\n",
       "</style>\n",
       "<table border=\"1\" class=\"dataframe\">\n",
       "  <thead>\n",
       "    <tr style=\"text-align: right;\">\n",
       "      <th></th>\n",
       "      <th>application.number</th>\n",
       "      <th>application.filing_date</th>\n",
       "      <th>inventor</th>\n",
       "      <th>applicant</th>\n",
       "    </tr>\n",
       "  </thead>\n",
       "  <tbody>\n",
       "    <tr>\n",
       "      <th>0</th>\n",
       "      <td>16731678.5</td>\n",
       "      <td>20160405</td>\n",
       "      <td>[{'name': 'Rus, Adrian Ioan', 'address': 'Stra...</td>\n",
       "      <td>[{'name': 'Rus, Adrian Ioan', 'address': 'Stra...</td>\n",
       "    </tr>\n",
       "    <tr>\n",
       "      <th>1</th>\n",
       "      <td>16759753.3</td>\n",
       "      <td>20160831</td>\n",
       "      <td>[{'name': 'JANCZURA, Krzysztof', 'address': 'S...</td>\n",
       "      <td>[{'name': 'Pfeifer Holding GmbH &amp; Co. KG', 'ad...</td>\n",
       "    </tr>\n",
       "    <tr>\n",
       "      <th>2</th>\n",
       "      <td>16732276.7</td>\n",
       "      <td>20160623</td>\n",
       "      <td>[{'name': 'AHMED, Abu, Shohel', 'address': 'Ot...</td>\n",
       "      <td>[{'name': 'Telefonaktiebolaget LM Ericsson (pu...</td>\n",
       "    </tr>\n",
       "    <tr>\n",
       "      <th>3</th>\n",
       "      <td>16705480.8</td>\n",
       "      <td>20160216</td>\n",
       "      <td>[{'name': 'KRECHEL, Andreas', 'address': 'Gart...</td>\n",
       "      <td>[{'name': 'Sensus Spectrum LLC', 'address': '8...</td>\n",
       "    </tr>\n",
       "    <tr>\n",
       "      <th>4</th>\n",
       "      <td>16732670.1</td>\n",
       "      <td>20160629</td>\n",
       "      <td>[{'name': 'KÖHN, Arnim', 'address': 'Ringstras...</td>\n",
       "      <td>[{'name': 'Bayer CropScience Aktiengesellschaf...</td>\n",
       "    </tr>\n",
       "  </tbody>\n",
       "</table>\n",
       "</div>"
      ],
      "text/plain": [
       "  application.number application.filing_date  \\\n",
       "0         16731678.5                20160405   \n",
       "1         16759753.3                20160831   \n",
       "2         16732276.7                20160623   \n",
       "3         16705480.8                20160216   \n",
       "4         16732670.1                20160629   \n",
       "\n",
       "                                            inventor  \\\n",
       "0  [{'name': 'Rus, Adrian Ioan', 'address': 'Stra...   \n",
       "1  [{'name': 'JANCZURA, Krzysztof', 'address': 'S...   \n",
       "2  [{'name': 'AHMED, Abu, Shohel', 'address': 'Ot...   \n",
       "3  [{'name': 'KRECHEL, Andreas', 'address': 'Gart...   \n",
       "4  [{'name': 'KÖHN, Arnim', 'address': 'Ringstras...   \n",
       "\n",
       "                                           applicant  \n",
       "0  [{'name': 'Rus, Adrian Ioan', 'address': 'Stra...  \n",
       "1  [{'name': 'Pfeifer Holding GmbH & Co. KG', 'ad...  \n",
       "2  [{'name': 'Telefonaktiebolaget LM Ericsson (pu...  \n",
       "3  [{'name': 'Sensus Spectrum LLC', 'address': '8...  \n",
       "4  [{'name': 'Bayer CropScience Aktiengesellschaf...  "
      ]
     },
     "execution_count": 33,
     "metadata": {},
     "output_type": "execute_result"
    }
   ],
   "source": [
    "q = epab.query_application_number(\"167%\")\n",
    "print(q)\n",
    "q.get_results(\"application, inventor, applicant\", limit=5)"
   ]
  },
  {
   "cell_type": "markdown",
   "id": "10cc7baf-09ea-4006-bc9e-a0d39d148681",
   "metadata": {},
   "source": [
    "##### Filing date"
   ]
  },
  {
   "cell_type": "code",
   "execution_count": 12,
   "id": "9a8572e8-a2b1-4bb0-a534-f96f98368d40",
   "metadata": {},
   "outputs": [
    {
     "name": "stdout",
     "output_type": "stream",
     "text": [
      "1009 publications\n"
     ]
    },
    {
     "data": {
      "text/html": [
       "<div>\n",
       "<style scoped>\n",
       "    .dataframe tbody tr th:only-of-type {\n",
       "        vertical-align: middle;\n",
       "    }\n",
       "\n",
       "    .dataframe tbody tr th {\n",
       "        vertical-align: top;\n",
       "    }\n",
       "\n",
       "    .dataframe thead th {\n",
       "        text-align: right;\n",
       "    }\n",
       "</style>\n",
       "<table border=\"1\" class=\"dataframe\">\n",
       "  <thead>\n",
       "    <tr style=\"text-align: right;\">\n",
       "      <th></th>\n",
       "      <th>publication.number</th>\n",
       "      <th>application.number</th>\n",
       "    </tr>\n",
       "  </thead>\n",
       "  <tbody>\n",
       "    <tr>\n",
       "      <th>0</th>\n",
       "      <td>3256827</td>\n",
       "      <td>16702548.5</td>\n",
       "    </tr>\n",
       "    <tr>\n",
       "      <th>1</th>\n",
       "      <td>3256401</td>\n",
       "      <td>16704151.6</td>\n",
       "    </tr>\n",
       "    <tr>\n",
       "      <th>2</th>\n",
       "      <td>3257069</td>\n",
       "      <td>16702558.4</td>\n",
       "    </tr>\n",
       "    <tr>\n",
       "      <th>3</th>\n",
       "      <td>3257182</td>\n",
       "      <td>16704352.0</td>\n",
       "    </tr>\n",
       "    <tr>\n",
       "      <th>4</th>\n",
       "      <td>3257208</td>\n",
       "      <td>16708501.8</td>\n",
       "    </tr>\n",
       "  </tbody>\n",
       "</table>\n",
       "</div>"
      ],
      "text/plain": [
       "  publication.number application.number\n",
       "0            3256827         16702548.5\n",
       "1            3256401         16704151.6\n",
       "2            3257069         16702558.4\n",
       "3            3257182         16704352.0\n",
       "4            3257208         16708501.8"
      ]
     },
     "execution_count": 12,
     "metadata": {},
     "output_type": "execute_result"
    }
   ],
   "source": [
    "q = epab.query_application_filing_date(\"20160202\")\n",
    "print(q)\n",
    "q.get_results(\"publication.number, application.number\", limit=5)"
   ]
  },
  {
   "cell_type": "markdown",
   "id": "e9cecbd0-bccc-4de6-9a71-d2a662f7dd6f",
   "metadata": {
    "jp-MarkdownHeadingCollapsed": true
   },
   "source": [
    "### Querying the inventor, applicant and representative"
   ]
  },
  {
   "cell_type": "markdown",
   "id": "4e63e8ac-c7cf-4d9f-b355-60c644ac9e65",
   "metadata": {},
   "source": [
    "#### Querying by specific attributes"
   ]
  },
  {
   "cell_type": "markdown",
   "id": "81009369-ba1f-4b2a-91f4-4f2802cf4f52",
   "metadata": {},
   "source": [
    "##### Inventor name, city, country, address"
   ]
  },
  {
   "cell_type": "code",
   "execution_count": 13,
   "id": "9a28a3ac-a170-4d0a-8ee8-752ec699b3c9",
   "metadata": {},
   "outputs": [
    {
     "name": "stdout",
     "output_type": "stream",
     "text": [
      "337800 publications\n"
     ]
    },
    {
     "data": {
      "text/html": [
       "<div>\n",
       "<style scoped>\n",
       "    .dataframe tbody tr th:only-of-type {\n",
       "        vertical-align: middle;\n",
       "    }\n",
       "\n",
       "    .dataframe tbody tr th {\n",
       "        vertical-align: top;\n",
       "    }\n",
       "\n",
       "    .dataframe thead th {\n",
       "        text-align: right;\n",
       "    }\n",
       "</style>\n",
       "<table border=\"1\" class=\"dataframe\">\n",
       "  <thead>\n",
       "    <tr style=\"text-align: right;\">\n",
       "      <th></th>\n",
       "      <th>publication.country</th>\n",
       "      <th>publication.number</th>\n",
       "      <th>publication.kind</th>\n",
       "      <th>publication.date</th>\n",
       "      <th>publication.language</th>\n",
       "      <th>inventor</th>\n",
       "    </tr>\n",
       "  </thead>\n",
       "  <tbody>\n",
       "    <tr>\n",
       "      <th>0</th>\n",
       "      <td>EP</td>\n",
       "      <td>0701798</td>\n",
       "      <td>A1</td>\n",
       "      <td>19960320</td>\n",
       "      <td>EN</td>\n",
       "      <td>[{'name': 'Abidin, Michael R.', 'address': '18...</td>\n",
       "    </tr>\n",
       "    <tr>\n",
       "      <th>1</th>\n",
       "      <td>EP</td>\n",
       "      <td>2868320</td>\n",
       "      <td>A1</td>\n",
       "      <td>20150506</td>\n",
       "      <td>EN</td>\n",
       "      <td>[{'name': 'May, Michael', 'address': 'Industri...</td>\n",
       "    </tr>\n",
       "    <tr>\n",
       "      <th>2</th>\n",
       "      <td>EP</td>\n",
       "      <td>2868321</td>\n",
       "      <td>A1</td>\n",
       "      <td>20150506</td>\n",
       "      <td>EN</td>\n",
       "      <td>[{'name': 'May, Michael', 'address': 'Industri...</td>\n",
       "    </tr>\n",
       "    <tr>\n",
       "      <th>3</th>\n",
       "      <td>EP</td>\n",
       "      <td>2867255</td>\n",
       "      <td>A1</td>\n",
       "      <td>20150506</td>\n",
       "      <td>EN</td>\n",
       "      <td>[{'name': 'HEINDL, Dieter', 'address': 'Magnol...</td>\n",
       "    </tr>\n",
       "    <tr>\n",
       "      <th>4</th>\n",
       "      <td>EP</td>\n",
       "      <td>0415188</td>\n",
       "      <td>B1</td>\n",
       "      <td>19960320</td>\n",
       "      <td>EN</td>\n",
       "      <td>[{'name': 'Kaufman, Richard Allen', 'address':...</td>\n",
       "    </tr>\n",
       "  </tbody>\n",
       "</table>\n",
       "</div>"
      ],
      "text/plain": [
       "  publication.country publication.number publication.kind publication.date  \\\n",
       "0                  EP            0701798               A1         19960320   \n",
       "1                  EP            2868320               A1         20150506   \n",
       "2                  EP            2868321               A1         20150506   \n",
       "3                  EP            2867255               A1         20150506   \n",
       "4                  EP            0415188               B1         19960320   \n",
       "\n",
       "  publication.language                                           inventor  \n",
       "0                   EN  [{'name': 'Abidin, Michael R.', 'address': '18...  \n",
       "1                   EN  [{'name': 'May, Michael', 'address': 'Industri...  \n",
       "2                   EN  [{'name': 'May, Michael', 'address': 'Industri...  \n",
       "3                   EN  [{'name': 'HEINDL, Dieter', 'address': 'Magnol...  \n",
       "4                   EN  [{'name': 'Kaufman, Richard Allen', 'address':...  "
      ]
     },
     "execution_count": 13,
     "metadata": {},
     "output_type": "execute_result"
    }
   ],
   "source": [
    "q = epab.query_inventor_name(\"%Michael%\")\n",
    "print(q)\n",
    "q.get_results(\"publication, inventor\", limit=5)"
   ]
  },
  {
   "cell_type": "code",
   "execution_count": 14,
   "id": "0b2d71a0-bb8d-4366-99a1-b6b2afbc21a2",
   "metadata": {},
   "outputs": [
    {
     "name": "stdout",
     "output_type": "stream",
     "text": [
      "15157 publications\n"
     ]
    },
    {
     "data": {
      "text/plain": [
       "[{'inventor': [{'city': 'Yokohama-shi'},\n",
       "   {'city': 'Kawasaki-shi'},\n",
       "   {'city': 'Boston, MA 02114'},\n",
       "   {'city': 'Kawasaki-shi'}]},\n",
       " {'inventor': [{'city': '806, Boston,\\nMassachusetts 02116'}]},\n",
       " {'inventor': [{'city': 'Boston, MA 02115'}]},\n",
       " {'inventor': [{'city': 'Melrose, MA 02176'},\n",
       "   {'city': 'Andover, MA 01810'},\n",
       "   {'city': 'Andover, MA 01810'},\n",
       "   {'city': 'Boston, MA 02118'},\n",
       "   {'city': 'Andover, MA 01810-3417'},\n",
       "   {'city': 'Manchester, NH 03104'},\n",
       "   {'city': 'Newton Highlands, MA 02461-1849'},\n",
       "   {'city': 'Arlington, MA 02476'},\n",
       "   {'city': 'Chelmsford, MA 01824'}]},\n",
       " {'inventor': [{'city': 'Wellesley, MA 02181'}, {'city': 'Boston, MA 02114'}]}]"
      ]
     },
     "execution_count": 14,
     "metadata": {},
     "output_type": "execute_result"
    }
   ],
   "source": [
    "q = epab.query_inventor_city(\"%Boston%\")\n",
    "print(q)\n",
    "q.get_results(\"inventor.city\", output_type=\"list\", limit=5)"
   ]
  },
  {
   "cell_type": "code",
   "execution_count": 15,
   "id": "0b237de3-ba98-4418-a7aa-e641f720b89b",
   "metadata": {
    "scrolled": true
   },
   "outputs": [
    {
     "name": "stdout",
     "output_type": "stream",
     "text": [
      "268419 publications\n"
     ]
    },
    {
     "data": {
      "text/html": [
       "<div>\n",
       "<style scoped>\n",
       "    .dataframe tbody tr th:only-of-type {\n",
       "        vertical-align: middle;\n",
       "    }\n",
       "\n",
       "    .dataframe tbody tr th {\n",
       "        vertical-align: top;\n",
       "    }\n",
       "\n",
       "    .dataframe thead th {\n",
       "        text-align: right;\n",
       "    }\n",
       "</style>\n",
       "<table border=\"1\" class=\"dataframe\">\n",
       "  <thead>\n",
       "    <tr style=\"text-align: right;\">\n",
       "      <th></th>\n",
       "      <th>publication.country</th>\n",
       "      <th>publication.number</th>\n",
       "      <th>publication.kind</th>\n",
       "      <th>publication.date</th>\n",
       "      <th>publication.language</th>\n",
       "      <th>inventor</th>\n",
       "    </tr>\n",
       "  </thead>\n",
       "  <tbody>\n",
       "    <tr>\n",
       "      <th>0</th>\n",
       "      <td>EP</td>\n",
       "      <td>4289817</td>\n",
       "      <td>A1</td>\n",
       "      <td>20231213</td>\n",
       "      <td>EN</td>\n",
       "      <td>[{'country': 'IT'}, {'country': 'IT'}]</td>\n",
       "    </tr>\n",
       "    <tr>\n",
       "      <th>1</th>\n",
       "      <td>EP</td>\n",
       "      <td>4290776</td>\n",
       "      <td>A1</td>\n",
       "      <td>20231213</td>\n",
       "      <td>EN</td>\n",
       "      <td>[{'country': 'IT'}, {'country': 'IT'}, {'count...</td>\n",
       "    </tr>\n",
       "    <tr>\n",
       "      <th>2</th>\n",
       "      <td>EP</td>\n",
       "      <td>4289769</td>\n",
       "      <td>A1</td>\n",
       "      <td>20231213</td>\n",
       "      <td>EN</td>\n",
       "      <td>[{'country': 'IT'}]</td>\n",
       "    </tr>\n",
       "    <tr>\n",
       "      <th>3</th>\n",
       "      <td>EP</td>\n",
       "      <td>4290442</td>\n",
       "      <td>A1</td>\n",
       "      <td>20231213</td>\n",
       "      <td>EN</td>\n",
       "      <td>[{'country': 'IT'}, {'country': 'IT'}, {'count...</td>\n",
       "    </tr>\n",
       "    <tr>\n",
       "      <th>4</th>\n",
       "      <td>EP</td>\n",
       "      <td>4290007</td>\n",
       "      <td>A1</td>\n",
       "      <td>20231213</td>\n",
       "      <td>EN</td>\n",
       "      <td>[{'country': 'IT'}, {'country': 'IT'}, {'count...</td>\n",
       "    </tr>\n",
       "  </tbody>\n",
       "</table>\n",
       "</div>"
      ],
      "text/plain": [
       "  publication.country publication.number publication.kind publication.date  \\\n",
       "0                  EP            4289817               A1         20231213   \n",
       "1                  EP            4290776               A1         20231213   \n",
       "2                  EP            4289769               A1         20231213   \n",
       "3                  EP            4290442               A1         20231213   \n",
       "4                  EP            4290007               A1         20231213   \n",
       "\n",
       "  publication.language                                           inventor  \n",
       "0                   EN             [{'country': 'IT'}, {'country': 'IT'}]  \n",
       "1                   EN  [{'country': 'IT'}, {'country': 'IT'}, {'count...  \n",
       "2                   EN                                [{'country': 'IT'}]  \n",
       "3                   EN  [{'country': 'IT'}, {'country': 'IT'}, {'count...  \n",
       "4                   EN  [{'country': 'IT'}, {'country': 'IT'}, {'count...  "
      ]
     },
     "execution_count": 15,
     "metadata": {},
     "output_type": "execute_result"
    }
   ],
   "source": [
    "q = epab.query_inventor_country(\"GR, IT\")\n",
    "print(q)\n",
    "q.get_results(\"publication, inventor.country\", limit=5)"
   ]
  },
  {
   "cell_type": "markdown",
   "id": "217ab275-70db-4437-84dd-a3bb209decf4",
   "metadata": {},
   "source": [
    "##### Applicant name, city, country, address"
   ]
  },
  {
   "cell_type": "code",
   "execution_count": 16,
   "id": "fc58a679-ec02-41ee-8b60-41c49fca3844",
   "metadata": {},
   "outputs": [
    {
     "name": "stdout",
     "output_type": "stream",
     "text": [
      "768 publications\n"
     ]
    },
    {
     "data": {
      "text/html": [
       "<div>\n",
       "<style scoped>\n",
       "    .dataframe tbody tr th:only-of-type {\n",
       "        vertical-align: middle;\n",
       "    }\n",
       "\n",
       "    .dataframe tbody tr th {\n",
       "        vertical-align: top;\n",
       "    }\n",
       "\n",
       "    .dataframe thead th {\n",
       "        text-align: right;\n",
       "    }\n",
       "</style>\n",
       "<table border=\"1\" class=\"dataframe\">\n",
       "  <thead>\n",
       "    <tr style=\"text-align: right;\">\n",
       "      <th></th>\n",
       "      <th>publication.country</th>\n",
       "      <th>publication.number</th>\n",
       "      <th>publication.kind</th>\n",
       "      <th>publication.date</th>\n",
       "      <th>publication.language</th>\n",
       "      <th>applicant</th>\n",
       "    </tr>\n",
       "  </thead>\n",
       "  <tbody>\n",
       "    <tr>\n",
       "      <th>0</th>\n",
       "      <td>EP</td>\n",
       "      <td>3893011</td>\n",
       "      <td>B1</td>\n",
       "      <td>20231227</td>\n",
       "      <td>EN</td>\n",
       "      <td>[{'country': 'LT'}]</td>\n",
       "    </tr>\n",
       "    <tr>\n",
       "      <th>1</th>\n",
       "      <td>EP</td>\n",
       "      <td>3840192</td>\n",
       "      <td>A1</td>\n",
       "      <td>20210623</td>\n",
       "      <td>EN</td>\n",
       "      <td>[{'country': 'LT'}, {'country': 'LT'}]</td>\n",
       "    </tr>\n",
       "    <tr>\n",
       "      <th>2</th>\n",
       "      <td>EP</td>\n",
       "      <td>3711122</td>\n",
       "      <td>A1</td>\n",
       "      <td>20200923</td>\n",
       "      <td>EN</td>\n",
       "      <td>[{'country': 'LT'}]</td>\n",
       "    </tr>\n",
       "    <tr>\n",
       "      <th>3</th>\n",
       "      <td>EP</td>\n",
       "      <td>2827461</td>\n",
       "      <td>A3</td>\n",
       "      <td>20150624</td>\n",
       "      <td>EN</td>\n",
       "      <td>[{'country': 'LT'}]</td>\n",
       "    </tr>\n",
       "    <tr>\n",
       "      <th>4</th>\n",
       "      <td>EP</td>\n",
       "      <td>1837346</td>\n",
       "      <td>A2</td>\n",
       "      <td>20070926</td>\n",
       "      <td>EN</td>\n",
       "      <td>[{'country': 'LT'}]</td>\n",
       "    </tr>\n",
       "  </tbody>\n",
       "</table>\n",
       "</div>"
      ],
      "text/plain": [
       "  publication.country publication.number publication.kind publication.date  \\\n",
       "0                  EP            3893011               B1         20231227   \n",
       "1                  EP            3840192               A1         20210623   \n",
       "2                  EP            3711122               A1         20200923   \n",
       "3                  EP            2827461               A3         20150624   \n",
       "4                  EP            1837346               A2         20070926   \n",
       "\n",
       "  publication.language                               applicant  \n",
       "0                   EN                     [{'country': 'LT'}]  \n",
       "1                   EN  [{'country': 'LT'}, {'country': 'LT'}]  \n",
       "2                   EN                     [{'country': 'LT'}]  \n",
       "3                   EN                     [{'country': 'LT'}]  \n",
       "4                   EN                     [{'country': 'LT'}]  "
      ]
     },
     "execution_count": 16,
     "metadata": {},
     "output_type": "execute_result"
    }
   ],
   "source": [
    "# methods are substantially the same as for the inventor. E.g. \n",
    "\n",
    "q = epab.query_applicant_country(\"LT\")\n",
    "print(q)\n",
    "q.get_results(\"publication, applicant.country\", limit=5)"
   ]
  },
  {
   "cell_type": "markdown",
   "id": "bbcc41de-f310-4ab8-8a94-04147b743c16",
   "metadata": {},
   "source": [
    "##### Representative name, city, country, address"
   ]
  },
  {
   "cell_type": "code",
   "execution_count": 17,
   "id": "1e18b533-e08d-410e-8b26-c931146e3bed",
   "metadata": {},
   "outputs": [
    {
     "name": "stdout",
     "output_type": "stream",
     "text": [
      "16251 publications\n"
     ]
    },
    {
     "data": {
      "text/html": [
       "<div>\n",
       "<style scoped>\n",
       "    .dataframe tbody tr th:only-of-type {\n",
       "        vertical-align: middle;\n",
       "    }\n",
       "\n",
       "    .dataframe tbody tr th {\n",
       "        vertical-align: top;\n",
       "    }\n",
       "\n",
       "    .dataframe thead th {\n",
       "        text-align: right;\n",
       "    }\n",
       "</style>\n",
       "<table border=\"1\" class=\"dataframe\">\n",
       "  <thead>\n",
       "    <tr style=\"text-align: right;\">\n",
       "      <th></th>\n",
       "      <th>publication.language</th>\n",
       "      <th>representative.name</th>\n",
       "      <th>representative.address</th>\n",
       "      <th>representative.city</th>\n",
       "      <th>representative.country</th>\n",
       "    </tr>\n",
       "  </thead>\n",
       "  <tbody>\n",
       "    <tr>\n",
       "      <th>0</th>\n",
       "      <td>EN</td>\n",
       "      <td>Haseltine Lake Kempner LLP</td>\n",
       "      <td>One Portwall Square \\nPortwall Lane</td>\n",
       "      <td>Bristol BS1 6BH</td>\n",
       "      <td>GB</td>\n",
       "    </tr>\n",
       "    <tr>\n",
       "      <th>1</th>\n",
       "      <td>EN</td>\n",
       "      <td>Haseltine Lake Kempner LLP</td>\n",
       "      <td>One Portwall Square \\nPortwall Lane</td>\n",
       "      <td>Bristol BS1 6BH</td>\n",
       "      <td>GB</td>\n",
       "    </tr>\n",
       "    <tr>\n",
       "      <th>2</th>\n",
       "      <td>EN</td>\n",
       "      <td>Haseltine Lake Kempner LLP</td>\n",
       "      <td>One Portwall Square \\nPortwall Lane</td>\n",
       "      <td>Bristol BS1 6BH</td>\n",
       "      <td>GB</td>\n",
       "    </tr>\n",
       "    <tr>\n",
       "      <th>3</th>\n",
       "      <td>EN</td>\n",
       "      <td>Haseltine Lake Kempner LLP</td>\n",
       "      <td>Cheapside House \\n138 Cheapside</td>\n",
       "      <td>London EC2V 6BJ</td>\n",
       "      <td>GB</td>\n",
       "    </tr>\n",
       "    <tr>\n",
       "      <th>4</th>\n",
       "      <td>EN</td>\n",
       "      <td>Haseltine Lake Kempner LLP</td>\n",
       "      <td>One Portwall Square \\nPortwall Lane</td>\n",
       "      <td>Bristol BS1 6BH</td>\n",
       "      <td>GB</td>\n",
       "    </tr>\n",
       "  </tbody>\n",
       "</table>\n",
       "</div>"
      ],
      "text/plain": [
       "  publication.language         representative.name  \\\n",
       "0                   EN  Haseltine Lake Kempner LLP   \n",
       "1                   EN  Haseltine Lake Kempner LLP   \n",
       "2                   EN  Haseltine Lake Kempner LLP   \n",
       "3                   EN  Haseltine Lake Kempner LLP   \n",
       "4                   EN  Haseltine Lake Kempner LLP   \n",
       "\n",
       "                representative.address representative.city  \\\n",
       "0  One Portwall Square \\nPortwall Lane     Bristol BS1 6BH   \n",
       "1  One Portwall Square \\nPortwall Lane     Bristol BS1 6BH   \n",
       "2  One Portwall Square \\nPortwall Lane     Bristol BS1 6BH   \n",
       "3      Cheapside House \\n138 Cheapside     London EC2V 6BJ   \n",
       "4  One Portwall Square \\nPortwall Lane     Bristol BS1 6BH   \n",
       "\n",
       "  representative.country  \n",
       "0                     GB  \n",
       "1                     GB  \n",
       "2                     GB  \n",
       "3                     GB  \n",
       "4                     GB  "
      ]
     },
     "execution_count": 17,
     "metadata": {},
     "output_type": "execute_result"
    }
   ],
   "source": [
    "# methods are substantially the same as for the inventor and applicant. E.g. \n",
    "\n",
    "q = epab.query_representative_name(\"%Haseltine%\")\n",
    "print(q)\n",
    "q.get_results(\"publication.language, representative\", limit=5)"
   ]
  },
  {
   "cell_type": "markdown",
   "id": "613dfe04-7594-4527-a8ea-5302a7f25752",
   "metadata": {
    "jp-MarkdownHeadingCollapsed": true
   },
   "source": [
    "### Querying the IPC and CPC classifications"
   ]
  },
  {
   "cell_type": "markdown",
   "id": "406e8c0b-d3cd-462d-bb33-672197fcfd7d",
   "metadata": {},
   "source": [
    "#### Querying by specific attributes"
   ]
  },
  {
   "cell_type": "markdown",
   "id": "dda12155-21ef-4c25-9601-25640fb59bee",
   "metadata": {},
   "source": [
    "##### IPC"
   ]
  },
  {
   "cell_type": "code",
   "execution_count": 34,
   "id": "e834f378-945c-4c04-8292-641a392ec13e",
   "metadata": {},
   "outputs": [
    {
     "name": "stdout",
     "output_type": "stream",
     "text": [
      "1402 publications\n"
     ]
    },
    {
     "data": {
      "text/plain": [
       "[{'ipc': [{'symbol': 'H04L12/00'}, {'symbol': 'H04L29/08'}]},\n",
       " {'ipc': [{'symbol': 'H04Q11/04'}, {'symbol': 'H04L12/64'}]},\n",
       " {'ipc': [{'symbol': 'H04L12/24'}]},\n",
       " {'ipc': [{'symbol': 'H04L12/24'}, {'symbol': 'H04W16/02'}]},\n",
       " {'ipc': [{'symbol': 'H04W36/22'}, {'symbol': 'H04W72/12'}]}]"
      ]
     },
     "execution_count": 34,
     "metadata": {},
     "output_type": "execute_result"
    }
   ],
   "source": [
    "# Let's look for all the publications having one of two possible IPC symbols assigned \n",
    "\n",
    "q = epab.query_ipc(symbols=\"H04W36%, H04L12%\")\n",
    "print(q)\n",
    "q.get_results(\"ipc.symbol\", output_type=\"list\", limit=5)"
   ]
  },
  {
   "cell_type": "code",
   "execution_count": 35,
   "id": "8fc1c8b5-5bca-4902-a543-e6d8d3221489",
   "metadata": {},
   "outputs": [
    {
     "name": "stdout",
     "output_type": "stream",
     "text": [
      "8 publications\n"
     ]
    },
    {
     "data": {
      "text/plain": [
       "[{'ipc': [{'symbol': 'H04W36/14'},\n",
       "   {'symbol': 'H04L12/28'},\n",
       "   {'symbol': 'H04W36/00'}]},\n",
       " {'ipc': [{'symbol': 'H04W72/12'},\n",
       "   {'symbol': 'H04B17/00'},\n",
       "   {'symbol': 'H04W52/34'},\n",
       "   {'symbol': 'H04W72/04'},\n",
       "   {'symbol': 'H04W72/08'},\n",
       "   {'symbol': 'H04B17/382'},\n",
       "   {'symbol': 'H04B17/345'},\n",
       "   {'symbol': 'H04J11/00'},\n",
       "   {'symbol': 'H04L1/20'},\n",
       "   {'symbol': 'H04W24/08'},\n",
       "   {'symbol': 'H04W36/00'},\n",
       "   {'symbol': 'H04W36/18'},\n",
       "   {'symbol': 'H04W52/40'},\n",
       "   {'symbol': 'H04W28/02'},\n",
       "   {'symbol': 'H04W52/12'},\n",
       "   {'symbol': 'H04W52/24'},\n",
       "   {'symbol': 'H04W52/38'},\n",
       "   {'symbol': 'H04L12/911'},\n",
       "   {'symbol': 'H04L12/801'},\n",
       "   {'symbol': 'H04W92/12'},\n",
       "   {'symbol': 'H04W92/20'},\n",
       "   {'symbol': 'H04L5/00'}]},\n",
       " {'ipc': [{'symbol': 'H04W36/14'},\n",
       "   {'symbol': 'H04W36/22'},\n",
       "   {'symbol': 'H04W24/10'},\n",
       "   {'symbol': 'H04L12/24'}]},\n",
       " {'ipc': [{'symbol': 'H04W36/00'}, {'symbol': 'H04L12/28'}]},\n",
       " {'ipc': [{'symbol': 'H04L29/06'},\n",
       "   {'symbol': 'H04L12/14'},\n",
       "   {'symbol': 'H04L12/54'},\n",
       "   {'symbol': 'H04W8/26'},\n",
       "   {'symbol': 'H04W12/08'},\n",
       "   {'symbol': 'H04W36/12'},\n",
       "   {'symbol': 'G06Q20/10'},\n",
       "   {'symbol': 'H04L12/801'},\n",
       "   {'symbol': 'H04L12/723'},\n",
       "   {'symbol': 'H04L12/911'},\n",
       "   {'symbol': 'H04L29/12'},\n",
       "   {'symbol': 'H04L12/24'},\n",
       "   {'symbol': 'H04W12/06'},\n",
       "   {'symbol': 'H04W28/18'},\n",
       "   {'symbol': 'H04W36/00'},\n",
       "   {'symbol': 'H04L12/913'},\n",
       "   {'symbol': 'H04L12/927'}]}]"
      ]
     },
     "execution_count": 35,
     "metadata": {},
     "output_type": "execute_result"
    }
   ],
   "source": [
    "# We can also find all publications having *all* IPC symbols present, using the match_all parameter\n",
    "\n",
    "q = epab.query_ipc(symbols=[\"H04W36%\", \"H04L12%\"], match_all=True)\n",
    "print(q)\n",
    "q.get_results(\"ipc.symbol\", output_type=\"list\", limit=5)"
   ]
  },
  {
   "cell_type": "code",
   "execution_count": 20,
   "id": "83388a47-d7aa-4bc4-8c6f-09654c486b99",
   "metadata": {},
   "outputs": [
    {
     "name": "stdout",
     "output_type": "stream",
     "text": [
      "23960 publications\n"
     ]
    },
    {
     "data": {
      "text/plain": [
       "[{'ipc': [{'symbol': 'H04L12/56', 'version': '8'}]},\n",
       " {'ipc': [{'symbol': 'H04L29/06', 'version': '8'},\n",
       "   {'symbol': 'H04L12/56', 'version': '8'}]},\n",
       " {'ipc': [{'symbol': 'H04L12/28', 'version': '8'},\n",
       "   {'symbol': 'H04L12/56', 'version': '8'},\n",
       "   {'symbol': 'H04Q7/38', 'version': '8'}]},\n",
       " {'ipc': [{'symbol': 'H04L12/56', 'version': '8'},\n",
       "   {'symbol': 'H04Q7/38', 'version': '8'}]},\n",
       " {'ipc': [{'symbol': 'H04L12/56', 'version': '8'}]}]"
      ]
     },
     "execution_count": 20,
     "metadata": {},
     "output_type": "execute_result"
    }
   ],
   "source": [
    "# Let's also limit a query to IPC-8 version (also called IPCR) \n",
    "\n",
    "q = epab.query_ipc(symbols=[\"H04W36/00\", \"H04L12/56\"], ipc8_only=True)\n",
    "print(q)\n",
    "q.get_results(\"ipc.symbol, ipc.version\", output_type=\"list\", limit=5)"
   ]
  },
  {
   "cell_type": "code",
   "execution_count": 21,
   "id": "bc68b48f-9a8e-454e-9065-9113187885e2",
   "metadata": {},
   "outputs": [
    {
     "name": "stdout",
     "output_type": "stream",
     "text": [
      "386 publications\n"
     ]
    },
    {
     "data": {
      "text/plain": [
       "[{'ipc': [{'symbol': 'H04W4/90', 'category': 'Inv'},\n",
       "   {'symbol': 'H04W72/04', 'category': 'Inv'},\n",
       "   {'symbol': 'H04W76/23', 'category': 'Inv'},\n",
       "   {'symbol': 'H04W4/80', 'category': 'Inv'},\n",
       "   {'symbol': 'H04W76/14', 'category': 'Inv'},\n",
       "   {'symbol': 'H04W4/08', 'category': 'Inv'},\n",
       "   {'symbol': 'H04W84/04', 'category': 'Inv'},\n",
       "   {'symbol': 'H04W72/12', 'category': 'Inv'},\n",
       "   {'symbol': 'H04W8/00', 'category': 'Inv'},\n",
       "   {'symbol': 'H04W36/36', 'category': 'Inv'},\n",
       "   {'symbol': 'H04W36/00', 'category': 'Inv'}]},\n",
       " {'ipc': [{'symbol': 'H04L29/12', 'category': 'Inv'},\n",
       "   {'symbol': 'H04W36/00', 'category': 'Inv'},\n",
       "   {'symbol': 'H04W48/02', 'category': 'Inv'},\n",
       "   {'symbol': 'H04W48/14', 'category': 'Inv'},\n",
       "   {'symbol': 'H04W84/10', 'category': 'Inv'},\n",
       "   {'symbol': 'H04W84/12', 'category': 'Inv'},\n",
       "   {'symbol': 'H04W88/08', 'category': 'Inv'}]},\n",
       " {'ipc': [{'symbol': 'H04W8/20', 'category': 'Inv'},\n",
       "   {'symbol': 'H04W36/32', 'category': 'Inv'},\n",
       "   {'symbol': 'H04W48/20', 'category': 'Inv'},\n",
       "   {'symbol': 'H04W36/00', 'category': 'Inv'},\n",
       "   {'symbol': 'H04W84/04', 'category': 'Inv'}]},\n",
       " {'ipc': [{'symbol': 'H04L12/24', 'category': 'Inv'},\n",
       "   {'symbol': 'H04B7/00', 'category': 'Inv'},\n",
       "   {'symbol': 'H04L12/26', 'category': 'Inv'},\n",
       "   {'symbol': 'H04L12/801', 'category': 'Inv'},\n",
       "   {'symbol': 'H04L29/06', 'category': 'Inv'},\n",
       "   {'symbol': 'H04W24/02', 'category': 'Inv'},\n",
       "   {'symbol': 'H04W36/00', 'category': 'Inv'},\n",
       "   {'symbol': 'H04W84/04', 'category': 'Inv'},\n",
       "   {'symbol': 'H04W36/04', 'category': 'Inv'},\n",
       "   {'symbol': 'H04W24/04', 'category': 'Add'},\n",
       "   {'symbol': 'H04W36/16', 'category': 'Add'},\n",
       "   {'symbol': 'H04W64/00', 'category': 'Add'},\n",
       "   {'symbol': 'H04W76/32', 'category': 'Add'},\n",
       "   {'symbol': 'H04W88/10', 'category': 'Add'},\n",
       "   {'symbol': 'H04W88/16', 'category': 'Add'}]},\n",
       " {'ipc': [{'symbol': 'H04W4/22', 'category': 'Inv'},\n",
       "   {'symbol': 'H04W36/00', 'category': 'Inv'},\n",
       "   {'symbol': 'H04W48/16', 'category': 'Inv'},\n",
       "   {'symbol': 'H04W84/10', 'category': 'Inv'}]}]"
      ]
     },
     "execution_count": 21,
     "metadata": {},
     "output_type": "execute_result"
    }
   ],
   "source": [
    "# Let's now query for two symbols which should be both present and assigned as \"invention\" symbols\n",
    "\n",
    "q = epab.query_ipc(symbols=\"H04W36/00, H04W84%\", match_all=True, invention=True, ipc8_only=True)\n",
    "print(q)\n",
    "q.get_results(\"ipc.symbol, ipc.category\", output_type=\"list\", limit=5)"
   ]
  },
  {
   "cell_type": "markdown",
   "id": "f3ac4ee7-a3a3-467e-b7cd-d67ad9cd8ae1",
   "metadata": {},
   "source": [
    "##### CPC"
   ]
  },
  {
   "cell_type": "code",
   "execution_count": 10,
   "id": "165fb4fa-c061-4193-9d6c-33d42bba7651",
   "metadata": {},
   "outputs": [
    {
     "name": "stdout",
     "output_type": "stream",
     "text": [
      "0 publications\n"
     ]
    },
    {
     "data": {
      "text/plain": [
       "[]"
      ]
     },
     "execution_count": 10,
     "metadata": {},
     "output_type": "execute_result"
    }
   ],
   "source": [
    "# CPC works very similarly to IPC. Here a simple example:\n",
    "\n",
    "q = epab.query_cpc(symbols=\"H04L69%, H04L12%\", match_all=True)\n",
    "print(q)\n",
    "q.get_results(\"cpc.symbol\", output_type=\"list\", limit=5)"
   ]
  },
  {
   "cell_type": "code",
   "execution_count": 11,
   "id": "f2752908-38bb-480c-bd69-ebadbce479fa",
   "metadata": {
    "scrolled": true
   },
   "outputs": [
    {
     "name": "stdout",
     "output_type": "stream",
     "text": [
      "3 publications\n"
     ]
    },
    {
     "data": {
      "text/plain": [
       "[{'cpc': [{'symbol': 'H04L1/1819', 'category': 'Inv'},\n",
       "   {'symbol': 'H04L5/0032', 'category': 'Inv'},\n",
       "   {'symbol': 'H04L5/0037', 'category': 'Add'},\n",
       "   {'symbol': 'H04L5/0053', 'category': 'Inv'},\n",
       "   {'symbol': 'H04L5/0055', 'category': 'Add'},\n",
       "   {'symbol': 'H04L5/0094', 'category': 'Inv'},\n",
       "   {'symbol': 'H04W92/18', 'category': 'Add'},\n",
       "   {'symbol': 'H04W72/02', 'category': 'Add'},\n",
       "   {'symbol': 'H04L1/1887', 'category': 'Inv'},\n",
       "   {'symbol': 'H04W88/04', 'category': 'Add'}]},\n",
       " {'cpc': [{'symbol': 'Y02D30/70', 'category': 'Add'},\n",
       "   {'symbol': 'H04W40/22', 'category': 'Inv'},\n",
       "   {'symbol': 'H04W88/04', 'category': 'Add'},\n",
       "   {'symbol': 'H04L5/0053', 'category': 'Inv'},\n",
       "   {'symbol': 'H04L5/0048', 'category': 'Inv'},\n",
       "   {'symbol': 'H04W40/246', 'category': 'Add'},\n",
       "   {'symbol': 'H04W92/18', 'category': 'Add'},\n",
       "   {'symbol': 'H04W48/16', 'category': 'Add'}]},\n",
       " {'cpc': [{'symbol': 'H04W76/14', 'category': 'Inv'},\n",
       "   {'symbol': 'H04W88/04', 'category': 'Add'},\n",
       "   {'symbol': 'H04W76/30', 'category': 'Add'},\n",
       "   {'symbol': 'H04W76/19', 'category': 'Add'},\n",
       "   {'symbol': 'H04W76/23', 'category': 'Add'},\n",
       "   {'symbol': 'H04W28/0289', 'category': 'Inv'},\n",
       "   {'symbol': 'H04W92/18', 'category': 'Add'}]}]"
      ]
     },
     "execution_count": 11,
     "metadata": {},
     "output_type": "execute_result"
    }
   ],
   "source": [
    "q = epab.query_cpc(symbols=\"H04W88%, H04W92%\", match_all=True, invention=False)\n",
    "print(q)\n",
    "q.get_results(\"cpc.symbol, cpc.category\", output_type=\"list\", limit=5)"
   ]
  },
  {
   "cell_type": "markdown",
   "id": "9e6fbb98-1c17-45e4-82f5-afbee2757d6a",
   "metadata": {
    "jp-MarkdownHeadingCollapsed": true
   },
   "source": [
    "### Querying the Full-Text"
   ]
  },
  {
   "cell_type": "markdown",
   "id": "113f077a-e97c-4d6a-9c0a-456749e54b92",
   "metadata": {},
   "source": [
    "##### Titles"
   ]
  },
  {
   "cell_type": "code",
   "execution_count": 24,
   "id": "7b8289b0-c73b-4201-81be-dc7a3f042389",
   "metadata": {},
   "outputs": [
    {
     "name": "stdout",
     "output_type": "stream",
     "text": [
      "973 publications\n"
     ]
    },
    {
     "data": {
      "text/plain": [
       "[{'title': {'en': 'Canine corona virus vaccine'},\n",
       "  'applicant': [{'name': 'Akzo Nobel N.V.', 'country': 'NL'}]},\n",
       " {'title': {'en': 'ANTIGENIC PEPTIDES OF SARS CORONAVIRUS AND USES THEREOF'},\n",
       "  'applicant': [{'name': 'Crucell Holland B.V.', 'country': 'NL'}]},\n",
       " {'title': {'en': 'PEPTIDE FOR PREVENTION OR TREATMENT OF COVID-19'},\n",
       "  'applicant': [{'name': 'APEPTICO Forschung und Entwicklung GmbH',\n",
       "    'country': 'AT'}]},\n",
       " {'title': {'en': 'Pantropic canine coronavirus'},\n",
       "  'applicant': [{'name': 'Buonavoglia, Canio', 'country': 'IT'}]},\n",
       " {'title': {'en': 'A SURROGATE CELL-BASED CORONA VIRUS SPIKE PROTEIN BLOCKING ASSAY'},\n",
       "  'applicant': [{'name': 'Friedrich-Alexander-Universität Erlangen-Nürnberg',\n",
       "    'country': 'DE'}]}]"
      ]
     },
     "execution_count": 24,
     "metadata": {},
     "output_type": "execute_result"
    }
   ],
   "source": [
    "# Searching a set of possible terms (e.g. synonyms)\n",
    "q = epab.query_title(search_terms=\"covid, corona virus, coronavirus\", language=\"EN\", ignore_case=True)\n",
    "print(q)\n",
    "q.get_results(\"title.en, applicant.name, applicant.country\", output_type=\"list\", limit=5)"
   ]
  },
  {
   "cell_type": "code",
   "execution_count": 25,
   "id": "835e89c8-c941-4c7e-b7aa-cc39e5281b3e",
   "metadata": {},
   "outputs": [
    {
     "name": "stdout",
     "output_type": "stream",
     "text": [
      "1789 publications\n"
     ]
    },
    {
     "data": {
      "text/plain": [
       "[{'title': {'de': 'IMPFSTOFF GEGEN RESPIRATORISCHES SYNZYTIALVIRUS'},\n",
       "  'applicant': [{'name': 'VIB VZW',\n",
       "    'address': 'Rijvisschestraat 120',\n",
       "    'city': '9052 Gent',\n",
       "    'country': 'BE'},\n",
       "   {'name': 'Universiteit Gent',\n",
       "    'address': 'Sint-Pietersnieuwstraat 25',\n",
       "    'city': '9000 Gent',\n",
       "    'country': 'BE'}]},\n",
       " {'title': {'de': 'UNIVERSELLE INFLUENZA-IMPFSTOFFE MIT VIRUSARTIGEN PARTIKELN'},\n",
       "  'applicant': [{'name': 'Technovax, Inc.',\n",
       "    'address': '765 Old Saw Mill River Road',\n",
       "    'city': 'Tarrytown, New York 10591',\n",
       "    'country': 'US'}]},\n",
       " {'title': {'de': 'Kombinationsimpfstoff gegen das Streptococcus pneumoniae und Respiratorische Synzytialvirus (RSV)'},\n",
       "  'applicant': [{'name': 'GlaxoSmithKline Biologicals s.a.',\n",
       "    'address': \"rue de l'Institut 89\",\n",
       "    'city': '1330 Rixensart',\n",
       "    'country': 'BE'}]},\n",
       " {'title': {'de': 'REKOMBINANTES VACCINIA-VIRUS ALS IMPFSTOFF GEGEN DAS MAREK-VIRUS'},\n",
       "  'applicant': [{'name': 'VIROGENETICS CORPORATION',\n",
       "    'address': '465 Jordan Road,\\nRensselaer Technology Park',\n",
       "    'city': 'Troy, NY 12180',\n",
       "    'country': 'US'}]},\n",
       " {'title': {'de': 'GRIPPEVIRUS, REPLIZIERT IN SÄUGERZELLKULTUR, UND IMPFSTOFFHERSTELLUNG'},\n",
       "  'applicant': [{'name': \"ST. JUDE CHILDREN'S RESEARCH HOSPITAL\",\n",
       "    'address': '332 North Lauderdale',\n",
       "    'city': 'Memphis, TN 38105-2794',\n",
       "    'country': 'US'}]}]"
      ]
     },
     "execution_count": 25,
     "metadata": {},
     "output_type": "execute_result"
    }
   ],
   "source": [
    "# We can also look for having multiple terms in the same title\n",
    "q = epab.query_title(search_terms=\"impfstoff, virus\", match_all=True, language=\"DE\", ignore_case=True)\n",
    "print(q)\n",
    "q.get_results(\"title.de, applicant\", output_type=\"list\", limit=5)"
   ]
  },
  {
   "cell_type": "code",
   "execution_count": 26,
   "id": "63585f12-7a39-41e0-bef8-d11bca65a2f0",
   "metadata": {
    "scrolled": true
   },
   "outputs": [
    {
     "name": "stdout",
     "output_type": "stream",
     "text": [
      "WITH\n",
      "q1 as (\n",
      "  SELECT DISTINCT epab_doc_id FROM `p-epo-tip-prj-3a1f.p_epo_tip_euwe4_bqd_epab.publications` WHERE LOWER(title.de) like '%impfstoff%' AND LOWER(title.de) like '%virus%'\n",
      "),\n",
      "\n",
      "q_main as (\n",
      "  SELECT epab_doc_id FROM q1\n",
      ")\n",
      "\n",
      "SELECT\n",
      "\n",
      "FROM `p-epo-tip-prj-3a1f.p_epo_tip_euwe4_bqd_epab.publications` WHERE epab_doc_id IN (SELECT DISTINCT epab_doc_id FROM q_main);\n",
      "\n"
     ]
    }
   ],
   "source": [
    "print(q.get_raw_query(\"\"))"
   ]
  },
  {
   "cell_type": "markdown",
   "id": "7cc3b2fd-ee2a-4801-ab01-830cffda179e",
   "metadata": {},
   "source": [
    "##### Abstract, Description, Claims"
   ]
  },
  {
   "cell_type": "code",
   "execution_count": 84,
   "id": "b1c2c119-29a4-4506-9494-179387ab2aeb",
   "metadata": {},
   "outputs": [
    {
     "name": "stdout",
     "output_type": "stream",
     "text": [
      "20 publications\n"
     ]
    },
    {
     "data": {
      "text/plain": [
       "[{'abstract': {'language': 'EN',\n",
       "   'text': '<p id=\"pa01\" num=\"0001\">The present disclosure provides an information sending method, including in response to determining that a second SIM card in a connected state satisfies a handover condition for handing over the second SIM card from a first base station to a second base station, sending context information of a first SIM card to the first base station through the second SIM card, wherein the first SIM card is in an inactive state. According to the technical solutions of the present disclosure, the first SIM card does not need to send the context information to the second base station separately, nor temporarily adjust its state, thus the times of communication between the terminal and the base station are reduced, the communication progress is simplified and the communication resources are saved.<img id=\"iaf01\" file=\"imgaf001.tif\" wi=\"156\" he=\"51\" img-content=\"drawing\" img-format=\"tif\"/></p>'}},\n",
       " {'abstract': {'language': 'EN',\n",
       "   'text': '<p id=\"pa01\" num=\"0001\">A wireless communication method to provide mobility support of UEs (12) that are served by mobile relay base stations (14), by providing handover of a UE(12) for data traffic only between two mobile relay base stations. This is achieved by information exchanging between the source and target mobile relay stations of the concerned UE in handover, and/or the corresponding donor base stations (13, 11) if applicable. The handover is triggered by any of the following situations: (i) based on UE\\'s measurement report, the signal quality of a neighbour cell is much better than the current serving cell; (ii) based on the measurement of the serving mobile relay base station, the signal quality of the link to the UE is worse than a certain threshold; or (iii) based on the measurement of the serving mobile relay base station, the signal quality of a neighbour cell (potential donor base station) is much better than the current donor base station.\\n<img id=\"iaf01\" file=\"imgaf001.tif\" wi=\"143\" he=\"95\" img-content=\"drawing\" img-format=\"tif\"/></p>'}}]"
      ]
     },
     "execution_count": 84,
     "metadata": {},
     "output_type": "execute_result"
    }
   ],
   "source": [
    "# The methods for querying these fields are all very similar to the ones for the titles\n",
    "# Let's see a simple example with the Abstract\n",
    "\n",
    "q = epab.query_abstract(search_terms=\"handover, base station\", match_all=True, ignore_case=True)\n",
    "print(q)\n",
    "q.get_results(\"abstract\", output_type=\"list\", limit=2)"
   ]
  },
  {
   "cell_type": "code",
   "execution_count": 95,
   "id": "e7635838-a9c0-4a4e-8ab0-9a5b4f774ed7",
   "metadata": {},
   "outputs": [
    {
     "name": "stdout",
     "output_type": "stream",
     "text": [
      "75 publications\n"
     ]
    },
    {
     "data": {
      "text/plain": [
       "[{'claims': [{'amendment_statement': None}]},\n",
       " {'claims': [{'amendment_statement': None},\n",
       "   {'amendment_statement': None},\n",
       "   {'amendment_statement': None}]},\n",
       " {'claims': [{'amendment_statement': None}]},\n",
       " {'claims': [{'amendment_statement': None}]}]"
      ]
     },
     "execution_count": 95,
     "metadata": {},
     "output_type": "execute_result"
    }
   ],
   "source": [
    "q = epab.query_claims(search_terms=\"handover, base station\", match_all=True, ignore_case=True, is_amended=False)\n",
    "print(q)\n",
    "q.get_results(\"claims.amendment_statement\", output_type=\"list\", limit=4)"
   ]
  },
  {
   "cell_type": "markdown",
   "id": "f2a54c55-9100-4530-8948-1242a6744615",
   "metadata": {
    "jp-MarkdownHeadingCollapsed": true
   },
   "source": [
    "### Querying the divisional values"
   ]
  },
  {
   "cell_type": "code",
   "execution_count": 8,
   "id": "39375ede-313e-4008-bdfd-dc0505fce87f",
   "metadata": {},
   "outputs": [
    {
     "name": "stdout",
     "output_type": "stream",
     "text": [
      "54 publications\n"
     ]
    },
    {
     "data": {
      "text/html": [
       "<div>\n",
       "<style scoped>\n",
       "    .dataframe tbody tr th:only-of-type {\n",
       "        vertical-align: middle;\n",
       "    }\n",
       "\n",
       "    .dataframe tbody tr th {\n",
       "        vertical-align: top;\n",
       "    }\n",
       "\n",
       "    .dataframe thead th {\n",
       "        text-align: right;\n",
       "    }\n",
       "</style>\n",
       "<table border=\"1\" class=\"dataframe\">\n",
       "  <thead>\n",
       "    <tr style=\"text-align: right;\">\n",
       "      <th></th>\n",
       "      <th>divisional</th>\n",
       "    </tr>\n",
       "  </thead>\n",
       "  <tbody>\n",
       "    <tr>\n",
       "      <th>0</th>\n",
       "      <td>[{'application_number': '92116023.0', 'publica...</td>\n",
       "    </tr>\n",
       "    <tr>\n",
       "      <th>1</th>\n",
       "      <td>[{'application_number': '92120830.2', 'publica...</td>\n",
       "    </tr>\n",
       "    <tr>\n",
       "      <th>2</th>\n",
       "      <td>[{'application_number': '92106857.3', 'publica...</td>\n",
       "    </tr>\n",
       "    <tr>\n",
       "      <th>3</th>\n",
       "      <td>[{'application_number': '92105276.7', 'publica...</td>\n",
       "    </tr>\n",
       "    <tr>\n",
       "      <th>4</th>\n",
       "      <td>[{'application_number': '92118285.3', 'publica...</td>\n",
       "    </tr>\n",
       "  </tbody>\n",
       "</table>\n",
       "</div>"
      ],
      "text/plain": [
       "                                          divisional\n",
       "0  [{'application_number': '92116023.0', 'publica...\n",
       "1  [{'application_number': '92120830.2', 'publica...\n",
       "2  [{'application_number': '92106857.3', 'publica...\n",
       "3  [{'application_number': '92105276.7', 'publica...\n",
       "4  [{'application_number': '92118285.3', 'publica..."
      ]
     },
     "execution_count": 8,
     "metadata": {},
     "output_type": "execute_result"
    }
   ],
   "source": [
    "q = epab.query_divisional_application_number(\"92%\")\n",
    "print(q)\n",
    "q.get_results(\"divisional\", limit=5)"
   ]
  },
  {
   "cell_type": "code",
   "execution_count": 14,
   "id": "fdcfcfbd-6f65-4ab3-bacb-ab15c57e9abd",
   "metadata": {},
   "outputs": [
    {
     "name": "stdout",
     "output_type": "stream",
     "text": [
      "301 publications\n"
     ]
    },
    {
     "data": {
      "text/html": [
       "<div>\n",
       "<style scoped>\n",
       "    .dataframe tbody tr th:only-of-type {\n",
       "        vertical-align: middle;\n",
       "    }\n",
       "\n",
       "    .dataframe tbody tr th {\n",
       "        vertical-align: top;\n",
       "    }\n",
       "\n",
       "    .dataframe thead th {\n",
       "        text-align: right;\n",
       "    }\n",
       "</style>\n",
       "<table border=\"1\" class=\"dataframe\">\n",
       "  <thead>\n",
       "    <tr style=\"text-align: right;\">\n",
       "      <th></th>\n",
       "      <th>divisional</th>\n",
       "    </tr>\n",
       "  </thead>\n",
       "  <tbody>\n",
       "    <tr>\n",
       "      <th>0</th>\n",
       "      <td>[{'application_number': '18171860.2', 'publica...</td>\n",
       "    </tr>\n",
       "    <tr>\n",
       "      <th>1</th>\n",
       "      <td>[{'application_number': '19220153.1', 'publica...</td>\n",
       "    </tr>\n",
       "    <tr>\n",
       "      <th>2</th>\n",
       "      <td>[{'application_number': '20176043.6', 'publica...</td>\n",
       "    </tr>\n",
       "    <tr>\n",
       "      <th>3</th>\n",
       "      <td>[{'application_number': '20212577.9', 'publica...</td>\n",
       "    </tr>\n",
       "    <tr>\n",
       "      <th>4</th>\n",
       "      <td>[{'application_number': '20154304.8', 'publica...</td>\n",
       "    </tr>\n",
       "  </tbody>\n",
       "</table>\n",
       "</div>"
      ],
      "text/plain": [
       "                                          divisional\n",
       "0  [{'application_number': '18171860.2', 'publica...\n",
       "1  [{'application_number': '19220153.1', 'publica...\n",
       "2  [{'application_number': '20176043.6', 'publica...\n",
       "3  [{'application_number': '20212577.9', 'publica...\n",
       "4  [{'application_number': '20154304.8', 'publica..."
      ]
     },
     "execution_count": 14,
     "metadata": {},
     "output_type": "execute_result"
    }
   ],
   "source": [
    "q = epab.query_divisional_date(date_range=\"20180101-20230101\")\n",
    "print(q)\n",
    "q.get_results(\"divisional\", limit=5)"
   ]
  },
  {
   "cell_type": "code",
   "execution_count": 16,
   "id": "8400a180-bca0-4584-be36-9ac4c555ab94",
   "metadata": {},
   "outputs": [
    {
     "name": "stdout",
     "output_type": "stream",
     "text": [
      "78 publications\n"
     ]
    },
    {
     "data": {
      "text/html": [
       "<div>\n",
       "<style scoped>\n",
       "    .dataframe tbody tr th:only-of-type {\n",
       "        vertical-align: middle;\n",
       "    }\n",
       "\n",
       "    .dataframe tbody tr th {\n",
       "        vertical-align: top;\n",
       "    }\n",
       "\n",
       "    .dataframe thead th {\n",
       "        text-align: right;\n",
       "    }\n",
       "</style>\n",
       "<table border=\"1\" class=\"dataframe\">\n",
       "  <thead>\n",
       "    <tr style=\"text-align: right;\">\n",
       "      <th></th>\n",
       "      <th>divisional</th>\n",
       "    </tr>\n",
       "  </thead>\n",
       "  <tbody>\n",
       "    <tr>\n",
       "      <th>0</th>\n",
       "      <td>[{'application_number': '90202263.1', 'publica...</td>\n",
       "    </tr>\n",
       "    <tr>\n",
       "      <th>1</th>\n",
       "      <td>[{'application_number': '91111637.4', 'publica...</td>\n",
       "    </tr>\n",
       "    <tr>\n",
       "      <th>2</th>\n",
       "      <td>[{'application_number': '91202323.1', 'publica...</td>\n",
       "    </tr>\n",
       "    <tr>\n",
       "      <th>3</th>\n",
       "      <td>[{'application_number': '90125685.9', 'publica...</td>\n",
       "    </tr>\n",
       "    <tr>\n",
       "      <th>4</th>\n",
       "      <td>[{'application_number': '91201905.6', 'publica...</td>\n",
       "    </tr>\n",
       "  </tbody>\n",
       "</table>\n",
       "</div>"
      ],
      "text/plain": [
       "                                          divisional\n",
       "0  [{'application_number': '90202263.1', 'publica...\n",
       "1  [{'application_number': '91111637.4', 'publica...\n",
       "2  [{'application_number': '91202323.1', 'publica...\n",
       "3  [{'application_number': '90125685.9', 'publica...\n",
       "4  [{'application_number': '91201905.6', 'publica..."
      ]
     },
     "execution_count": 16,
     "metadata": {},
     "output_type": "execute_result"
    }
   ],
   "source": [
    "q = epab.query_divisional_publication_number(\"04%\")\n",
    "print(q)\n",
    "q.get_results(\"divisional\", limit=5)"
   ]
  },
  {
   "cell_type": "markdown",
   "id": "271dd96d-f427-403a-b540-6f6a80ed3cce",
   "metadata": {
    "jp-MarkdownHeadingCollapsed": true
   },
   "source": [
    "### Querying parent values"
   ]
  },
  {
   "cell_type": "code",
   "execution_count": 4,
   "id": "9caeeb9b-a3eb-49f3-9c2f-83235d771378",
   "metadata": {},
   "outputs": [
    {
     "name": "stdout",
     "output_type": "stream",
     "text": [
      "96 publications\n"
     ]
    },
    {
     "data": {
      "text/html": [
       "<div>\n",
       "<style scoped>\n",
       "    .dataframe tbody tr th:only-of-type {\n",
       "        vertical-align: middle;\n",
       "    }\n",
       "\n",
       "    .dataframe tbody tr th {\n",
       "        vertical-align: top;\n",
       "    }\n",
       "\n",
       "    .dataframe thead th {\n",
       "        text-align: right;\n",
       "    }\n",
       "</style>\n",
       "<table border=\"1\" class=\"dataframe\">\n",
       "  <thead>\n",
       "    <tr style=\"text-align: right;\">\n",
       "      <th></th>\n",
       "      <th>parent</th>\n",
       "    </tr>\n",
       "  </thead>\n",
       "  <tbody>\n",
       "    <tr>\n",
       "      <th>0</th>\n",
       "      <td>[{'application_number': '99201346.6', 'publica...</td>\n",
       "    </tr>\n",
       "    <tr>\n",
       "      <th>1</th>\n",
       "      <td>[{'application_number': '92905435.1', 'publica...</td>\n",
       "    </tr>\n",
       "    <tr>\n",
       "      <th>2</th>\n",
       "      <td>[{'application_number': '92903822.2', 'publica...</td>\n",
       "    </tr>\n",
       "    <tr>\n",
       "      <th>3</th>\n",
       "      <td>[{'application_number': '92906491.3', 'publica...</td>\n",
       "    </tr>\n",
       "    <tr>\n",
       "      <th>4</th>\n",
       "      <td>[{'application_number': '92302400.4', 'publica...</td>\n",
       "    </tr>\n",
       "  </tbody>\n",
       "</table>\n",
       "</div>"
      ],
      "text/plain": [
       "                                              parent\n",
       "0  [{'application_number': '99201346.6', 'publica...\n",
       "1  [{'application_number': '92905435.1', 'publica...\n",
       "2  [{'application_number': '92903822.2', 'publica...\n",
       "3  [{'application_number': '92906491.3', 'publica...\n",
       "4  [{'application_number': '92302400.4', 'publica..."
      ]
     },
     "execution_count": 4,
     "metadata": {},
     "output_type": "execute_result"
    }
   ],
   "source": [
    "q = epab.query_parent_application_number(\"92%\")\n",
    "print(q)\n",
    "q.get_results(\"parent\", limit=5)"
   ]
  },
  {
   "cell_type": "code",
   "execution_count": 19,
   "id": "3c488505-e2d6-4574-aa4e-14bae411990f",
   "metadata": {},
   "outputs": [
    {
     "name": "stdout",
     "output_type": "stream",
     "text": [
      "255 publications\n"
     ]
    },
    {
     "data": {
      "text/html": [
       "<div>\n",
       "<style scoped>\n",
       "    .dataframe tbody tr th:only-of-type {\n",
       "        vertical-align: middle;\n",
       "    }\n",
       "\n",
       "    .dataframe tbody tr th {\n",
       "        vertical-align: top;\n",
       "    }\n",
       "\n",
       "    .dataframe thead th {\n",
       "        text-align: right;\n",
       "    }\n",
       "</style>\n",
       "<table border=\"1\" class=\"dataframe\">\n",
       "  <thead>\n",
       "    <tr style=\"text-align: right;\">\n",
       "      <th></th>\n",
       "      <th>parent</th>\n",
       "    </tr>\n",
       "  </thead>\n",
       "  <tbody>\n",
       "    <tr>\n",
       "      <th>0</th>\n",
       "      <td>[{'application_number': '19160310.9', 'publica...</td>\n",
       "    </tr>\n",
       "    <tr>\n",
       "      <th>1</th>\n",
       "      <td>[{'application_number': '21203998.6', 'publica...</td>\n",
       "    </tr>\n",
       "    <tr>\n",
       "      <th>2</th>\n",
       "      <td>[{'application_number': '21175877.6', 'publica...</td>\n",
       "    </tr>\n",
       "    <tr>\n",
       "      <th>3</th>\n",
       "      <td>[{'application_number': '18792345.3', 'publica...</td>\n",
       "    </tr>\n",
       "    <tr>\n",
       "      <th>4</th>\n",
       "      <td>[{'application_number': '20214161.0', 'publica...</td>\n",
       "    </tr>\n",
       "  </tbody>\n",
       "</table>\n",
       "</div>"
      ],
      "text/plain": [
       "                                              parent\n",
       "0  [{'application_number': '19160310.9', 'publica...\n",
       "1  [{'application_number': '21203998.6', 'publica...\n",
       "2  [{'application_number': '21175877.6', 'publica...\n",
       "3  [{'application_number': '18792345.3', 'publica...\n",
       "4  [{'application_number': '20214161.0', 'publica..."
      ]
     },
     "execution_count": 19,
     "metadata": {},
     "output_type": "execute_result"
    }
   ],
   "source": [
    "q = epab.query_parent_date(date_range=\"20180101-20230101\")\n",
    "print(q)\n",
    "q.get_results(\"parent\", limit=5)"
   ]
  },
  {
   "cell_type": "code",
   "execution_count": 20,
   "id": "ebfb1a68-d5e7-44c8-8229-ecca069e854e",
   "metadata": {},
   "outputs": [
    {
     "name": "stdout",
     "output_type": "stream",
     "text": [
      "139 publications\n"
     ]
    },
    {
     "data": {
      "text/html": [
       "<div>\n",
       "<style scoped>\n",
       "    .dataframe tbody tr th:only-of-type {\n",
       "        vertical-align: middle;\n",
       "    }\n",
       "\n",
       "    .dataframe tbody tr th {\n",
       "        vertical-align: top;\n",
       "    }\n",
       "\n",
       "    .dataframe thead th {\n",
       "        text-align: right;\n",
       "    }\n",
       "</style>\n",
       "<table border=\"1\" class=\"dataframe\">\n",
       "  <thead>\n",
       "    <tr style=\"text-align: right;\">\n",
       "      <th></th>\n",
       "      <th>parent</th>\n",
       "    </tr>\n",
       "  </thead>\n",
       "  <tbody>\n",
       "    <tr>\n",
       "      <th>0</th>\n",
       "      <td>[{'application_number': '90112550.0', 'publica...</td>\n",
       "    </tr>\n",
       "    <tr>\n",
       "      <th>1</th>\n",
       "      <td>[{'application_number': '90122791.8', 'publica...</td>\n",
       "    </tr>\n",
       "    <tr>\n",
       "      <th>2</th>\n",
       "      <td>[{'application_number': '90122566.4', 'publica...</td>\n",
       "    </tr>\n",
       "    <tr>\n",
       "      <th>3</th>\n",
       "      <td>[{'application_number': '92870002.0', 'publica...</td>\n",
       "    </tr>\n",
       "    <tr>\n",
       "      <th>4</th>\n",
       "      <td>[{'application_number': '91102110.3', 'publica...</td>\n",
       "    </tr>\n",
       "  </tbody>\n",
       "</table>\n",
       "</div>"
      ],
      "text/plain": [
       "                                              parent\n",
       "0  [{'application_number': '90112550.0', 'publica...\n",
       "1  [{'application_number': '90122791.8', 'publica...\n",
       "2  [{'application_number': '90122566.4', 'publica...\n",
       "3  [{'application_number': '92870002.0', 'publica...\n",
       "4  [{'application_number': '91102110.3', 'publica..."
      ]
     },
     "execution_count": 20,
     "metadata": {},
     "output_type": "execute_result"
    }
   ],
   "source": [
    "q = epab.query_parent_publication_number(\"04%\")\n",
    "print(q)\n",
    "q.get_results(\"parent\", limit=5)"
   ]
  },
  {
   "cell_type": "markdown",
   "id": "281f333a-d7a9-4419-9931-82c39dc84678",
   "metadata": {
    "jp-MarkdownHeadingCollapsed": true
   },
   "source": [
    "### Querying Search Report"
   ]
  },
  {
   "cell_type": "code",
   "execution_count": 76,
   "id": "e6dbc3a1-10a3-4e0e-9f29-9bb01f8cb509",
   "metadata": {},
   "outputs": [
    {
     "name": "stdout",
     "output_type": "stream",
     "text": [
      "12 publications\n"
     ]
    },
    {
     "data": {
      "text/html": [
       "<div>\n",
       "<style scoped>\n",
       "    .dataframe tbody tr th:only-of-type {\n",
       "        vertical-align: middle;\n",
       "    }\n",
       "\n",
       "    .dataframe tbody tr th {\n",
       "        vertical-align: top;\n",
       "    }\n",
       "\n",
       "    .dataframe thead th {\n",
       "        text-align: right;\n",
       "    }\n",
       "</style>\n",
       "<table border=\"1\" class=\"dataframe\">\n",
       "  <thead>\n",
       "    <tr style=\"text-align: right;\">\n",
       "      <th></th>\n",
       "      <th>search_report.date</th>\n",
       "      <th>search_report.ipc_field</th>\n",
       "      <th>search_report.is_no_unity</th>\n",
       "      <th>search_report.is_incomplete_search</th>\n",
       "      <th>search_report.is_no_search</th>\n",
       "    </tr>\n",
       "  </thead>\n",
       "  <tbody>\n",
       "    <tr>\n",
       "      <th>0</th>\n",
       "      <td>20220412</td>\n",
       "      <td>[B01J]</td>\n",
       "      <td>True</td>\n",
       "      <td>False</td>\n",
       "      <td>False</td>\n",
       "    </tr>\n",
       "    <tr>\n",
       "      <th>1</th>\n",
       "      <td>20140113</td>\n",
       "      <td>[B01D]</td>\n",
       "      <td>True</td>\n",
       "      <td>False</td>\n",
       "      <td>False</td>\n",
       "    </tr>\n",
       "    <tr>\n",
       "      <th>2</th>\n",
       "      <td>20111116</td>\n",
       "      <td>[A61J, B01F, B65B]</td>\n",
       "      <td>True</td>\n",
       "      <td>False</td>\n",
       "      <td>False</td>\n",
       "    </tr>\n",
       "    <tr>\n",
       "      <th>3</th>\n",
       "      <td>20200117</td>\n",
       "      <td>[G01N, C12M, B01L]</td>\n",
       "      <td>True</td>\n",
       "      <td>False</td>\n",
       "      <td>False</td>\n",
       "    </tr>\n",
       "    <tr>\n",
       "      <th>4</th>\n",
       "      <td>20141020</td>\n",
       "      <td>[B01L, G01N, B04B]</td>\n",
       "      <td>True</td>\n",
       "      <td>False</td>\n",
       "      <td>False</td>\n",
       "    </tr>\n",
       "  </tbody>\n",
       "</table>\n",
       "</div>"
      ],
      "text/plain": [
       "  search_report.date search_report.ipc_field  search_report.is_no_unity  \\\n",
       "0           20220412                  [B01J]                       True   \n",
       "1           20140113                  [B01D]                       True   \n",
       "2           20111116      [A61J, B01F, B65B]                       True   \n",
       "3           20200117      [G01N, C12M, B01L]                       True   \n",
       "4           20141020      [B01L, G01N, B04B]                       True   \n",
       "\n",
       "   search_report.is_incomplete_search  search_report.is_no_search  \n",
       "0                               False                       False  \n",
       "1                               False                       False  \n",
       "2                               False                       False  \n",
       "3                               False                       False  \n",
       "4                               False                       False  "
      ]
     },
     "execution_count": 76,
     "metadata": {},
     "output_type": "execute_result"
    }
   ],
   "source": [
    "q = epab.query_search_report(ipc=[\"B08\", \"B01\"], is_no_unity=True, match_all=True)\n",
    "print(q)\n",
    "q.get_results(\"search_report\", limit=5)"
   ]
  },
  {
   "cell_type": "markdown",
   "id": "412935ba-a80e-4a00-a5c5-3a70540e5c0e",
   "metadata": {
    "jp-MarkdownHeadingCollapsed": true
   },
   "source": [
    "### Querying Designated States"
   ]
  },
  {
   "cell_type": "code",
   "execution_count": 83,
   "id": "f27f842e-54d3-4984-be4e-2b97fa0a0356",
   "metadata": {},
   "outputs": [
    {
     "name": "stdout",
     "output_type": "stream",
     "text": [
      "17826 publications\n"
     ]
    },
    {
     "data": {
      "text/html": [
       "<div>\n",
       "<style scoped>\n",
       "    .dataframe tbody tr th:only-of-type {\n",
       "        vertical-align: middle;\n",
       "    }\n",
       "\n",
       "    .dataframe tbody tr th {\n",
       "        vertical-align: top;\n",
       "    }\n",
       "\n",
       "    .dataframe thead th {\n",
       "        text-align: right;\n",
       "    }\n",
       "</style>\n",
       "<table border=\"1\" class=\"dataframe\">\n",
       "  <thead>\n",
       "    <tr style=\"text-align: right;\">\n",
       "      <th></th>\n",
       "      <th>designated_states.contracting</th>\n",
       "      <th>designated_states.extension</th>\n",
       "      <th>designated_states.validation</th>\n",
       "    </tr>\n",
       "  </thead>\n",
       "  <tbody>\n",
       "    <tr>\n",
       "      <th>0</th>\n",
       "      <td>[AT, BE, BG, CH, CY, CZ, DE, DK, EE, ES, FI, F...</td>\n",
       "      <td>[AL, BA, HR, LV, MK, YU]</td>\n",
       "      <td>[]</td>\n",
       "    </tr>\n",
       "    <tr>\n",
       "      <th>1</th>\n",
       "      <td>[AT, BE, BG, CH, CY, CZ, DE, DK, EE, ES, FI, F...</td>\n",
       "      <td>[AL, LT, LV, MK, RO, SI]</td>\n",
       "      <td>[]</td>\n",
       "    </tr>\n",
       "    <tr>\n",
       "      <th>2</th>\n",
       "      <td>[AT, BE, CH, CY, DE, DK, ES, FI, FR, GB, GR, I...</td>\n",
       "      <td>[AL, LT, LV, MK, RO, SI]</td>\n",
       "      <td>[]</td>\n",
       "    </tr>\n",
       "    <tr>\n",
       "      <th>3</th>\n",
       "      <td>[AT, BE, CH, CY, DE, DK, ES, FI, FR, GB, GR, I...</td>\n",
       "      <td>[AL, LT, LV, MK, RO, SI]</td>\n",
       "      <td>[]</td>\n",
       "    </tr>\n",
       "    <tr>\n",
       "      <th>4</th>\n",
       "      <td>[AT, BE, CH, CY, DE, DK, ES, FI, FR, GB, GR, I...</td>\n",
       "      <td>[AL, LT, LV, MK, RO, SI]</td>\n",
       "      <td>[]</td>\n",
       "    </tr>\n",
       "  </tbody>\n",
       "</table>\n",
       "</div>"
      ],
      "text/plain": [
       "                       designated_states.contracting  \\\n",
       "0  [AT, BE, BG, CH, CY, CZ, DE, DK, EE, ES, FI, F...   \n",
       "1  [AT, BE, BG, CH, CY, CZ, DE, DK, EE, ES, FI, F...   \n",
       "2  [AT, BE, CH, CY, DE, DK, ES, FI, FR, GB, GR, I...   \n",
       "3  [AT, BE, CH, CY, DE, DK, ES, FI, FR, GB, GR, I...   \n",
       "4  [AT, BE, CH, CY, DE, DK, ES, FI, FR, GB, GR, I...   \n",
       "\n",
       "  designated_states.extension designated_states.validation  \n",
       "0    [AL, BA, HR, LV, MK, YU]                           []  \n",
       "1    [AL, LT, LV, MK, RO, SI]                           []  \n",
       "2    [AL, LT, LV, MK, RO, SI]                           []  \n",
       "3    [AL, LT, LV, MK, RO, SI]                           []  \n",
       "4    [AL, LT, LV, MK, RO, SI]                           []  "
      ]
     },
     "execution_count": 83,
     "metadata": {},
     "output_type": "execute_result"
    }
   ],
   "source": [
    "q = epab.query_designated_states(contracting=\"ES, IT\", extension=\"AL\")\n",
    "print(q)\n",
    "q.get_results(\"designated_states\", limit=5)"
   ]
  },
  {
   "cell_type": "markdown",
   "id": "33e76f1a-ed55-4212-915c-5eff5915d0b2",
   "metadata": {
    "jp-MarkdownHeadingCollapsed": true
   },
   "source": [
    "### Lang Queries"
   ]
  },
  {
   "cell_type": "code",
   "execution_count": 103,
   "id": "cd5738bb-4b5f-44ea-b41b-c5f365c11ba7",
   "metadata": {},
   "outputs": [
    {
     "name": "stdout",
     "output_type": "stream",
     "text": [
      "39395 publications\n"
     ]
    },
    {
     "data": {
      "text/html": [
       "<div>\n",
       "<style scoped>\n",
       "    .dataframe tbody tr th:only-of-type {\n",
       "        vertical-align: middle;\n",
       "    }\n",
       "\n",
       "    .dataframe tbody tr th {\n",
       "        vertical-align: top;\n",
       "    }\n",
       "\n",
       "    .dataframe thead th {\n",
       "        text-align: right;\n",
       "    }\n",
       "</style>\n",
       "<table border=\"1\" class=\"dataframe\">\n",
       "  <thead>\n",
       "    <tr style=\"text-align: right;\">\n",
       "      <th></th>\n",
       "      <th>abstract.language</th>\n",
       "      <th>abstract.text</th>\n",
       "    </tr>\n",
       "  </thead>\n",
       "  <tbody>\n",
       "    <tr>\n",
       "      <th>0</th>\n",
       "      <td>EN</td>\n",
       "      <td>&lt;p id=\"pa01\" num=\"0001\"&gt;There are disclosed a ...</td>\n",
       "    </tr>\n",
       "    <tr>\n",
       "      <th>1</th>\n",
       "      <td>EN</td>\n",
       "      <td>&lt;p id=\"pa01\" num=\"0001\"&gt;A spark plug having a ...</td>\n",
       "    </tr>\n",
       "    <tr>\n",
       "      <th>2</th>\n",
       "      <td>EN</td>\n",
       "      <td>&lt;p id=\"pa01\" num=\"0001\"&gt;A single method and ap...</td>\n",
       "    </tr>\n",
       "    <tr>\n",
       "      <th>3</th>\n",
       "      <td>EN</td>\n",
       "      <td>&lt;p id=\"pa01\" num=\"0001\"&gt;The present invention ...</td>\n",
       "    </tr>\n",
       "    <tr>\n",
       "      <th>4</th>\n",
       "      <td>EN</td>\n",
       "      <td>&lt;p id=\"pa01\" num=\"0001\"&gt;This invention relates...</td>\n",
       "    </tr>\n",
       "  </tbody>\n",
       "</table>\n",
       "</div>"
      ],
      "text/plain": [
       "  abstract.language                                      abstract.text\n",
       "0                EN  <p id=\"pa01\" num=\"0001\">There are disclosed a ...\n",
       "1                EN  <p id=\"pa01\" num=\"0001\">A spark plug having a ...\n",
       "2                EN  <p id=\"pa01\" num=\"0001\">A single method and ap...\n",
       "3                EN  <p id=\"pa01\" num=\"0001\">The present invention ...\n",
       "4                EN  <p id=\"pa01\" num=\"0001\">This invention relates..."
      ]
     },
     "execution_count": 103,
     "metadata": {},
     "output_type": "execute_result"
    }
   ],
   "source": [
    "q = epab.query_abstract_language(\"en\")\n",
    "print(q)\n",
    "q.get_results(\"abstract\", limit=5)"
   ]
  },
  {
   "cell_type": "code",
   "execution_count": 104,
   "id": "195f5121-153e-48d5-bc7c-15b3c106acf7",
   "metadata": {},
   "outputs": [
    {
     "name": "stdout",
     "output_type": "stream",
     "text": [
      "67552 publications\n"
     ]
    },
    {
     "data": {
      "text/html": [
       "<div>\n",
       "<style scoped>\n",
       "    .dataframe tbody tr th:only-of-type {\n",
       "        vertical-align: middle;\n",
       "    }\n",
       "\n",
       "    .dataframe tbody tr th {\n",
       "        vertical-align: top;\n",
       "    }\n",
       "\n",
       "    .dataframe thead th {\n",
       "        text-align: right;\n",
       "    }\n",
       "</style>\n",
       "<table border=\"1\" class=\"dataframe\">\n",
       "  <thead>\n",
       "    <tr style=\"text-align: right;\">\n",
       "      <th></th>\n",
       "      <th>abstract.language</th>\n",
       "      <th>abstract.text</th>\n",
       "      <th>abstract</th>\n",
       "    </tr>\n",
       "  </thead>\n",
       "  <tbody>\n",
       "    <tr>\n",
       "      <th>0</th>\n",
       "      <td>EN</td>\n",
       "      <td>&lt;p id=\"pa01\" num=\"0001\"&gt;A water-soluble pressu...</td>\n",
       "      <td>NaN</td>\n",
       "    </tr>\n",
       "    <tr>\n",
       "      <th>1</th>\n",
       "      <td>EN</td>\n",
       "      <td>&lt;p id=\"pa01\" num=\"0001\"&gt;A drum head and an att...</td>\n",
       "      <td>NaN</td>\n",
       "    </tr>\n",
       "    <tr>\n",
       "      <th>2</th>\n",
       "      <td>EN</td>\n",
       "      <td>&lt;p id=\"pa01\" num=\"0001\"&gt;A method of combating ...</td>\n",
       "      <td>NaN</td>\n",
       "    </tr>\n",
       "    <tr>\n",
       "      <th>3</th>\n",
       "      <td>EN</td>\n",
       "      <td>&lt;p id=\"pa01\" num=\"0001\"&gt;The invention disclose...</td>\n",
       "      <td>NaN</td>\n",
       "    </tr>\n",
       "    <tr>\n",
       "      <th>4</th>\n",
       "      <td>NaN</td>\n",
       "      <td>NaN</td>\n",
       "      <td>NaN</td>\n",
       "    </tr>\n",
       "  </tbody>\n",
       "</table>\n",
       "</div>"
      ],
      "text/plain": [
       "  abstract.language                                      abstract.text  \\\n",
       "0                EN  <p id=\"pa01\" num=\"0001\">A water-soluble pressu...   \n",
       "1                EN  <p id=\"pa01\" num=\"0001\">A drum head and an att...   \n",
       "2                EN  <p id=\"pa01\" num=\"0001\">A method of combating ...   \n",
       "3                EN  <p id=\"pa01\" num=\"0001\">The invention disclose...   \n",
       "4               NaN                                                NaN   \n",
       "\n",
       "   abstract  \n",
       "0       NaN  \n",
       "1       NaN  \n",
       "2       NaN  \n",
       "3       NaN  \n",
       "4       NaN  "
      ]
     },
     "execution_count": 104,
     "metadata": {},
     "output_type": "execute_result"
    }
   ],
   "source": [
    "q = epab.query_description_language(\"eN\")\n",
    "print(q)\n",
    "q.get_results(\"abstract\", limit=5)"
   ]
  },
  {
   "cell_type": "code",
   "execution_count": 107,
   "id": "50cb1faf-fbdf-4dc7-9361-e7ce08f92226",
   "metadata": {},
   "outputs": [
    {
     "name": "stdout",
     "output_type": "stream",
     "text": [
      "78459 publications\n"
     ]
    },
    {
     "data": {
      "text/html": [
       "<div>\n",
       "<style scoped>\n",
       "    .dataframe tbody tr th:only-of-type {\n",
       "        vertical-align: middle;\n",
       "    }\n",
       "\n",
       "    .dataframe tbody tr th {\n",
       "        vertical-align: top;\n",
       "    }\n",
       "\n",
       "    .dataframe thead th {\n",
       "        text-align: right;\n",
       "    }\n",
       "</style>\n",
       "<table border=\"1\" class=\"dataframe\">\n",
       "  <thead>\n",
       "    <tr style=\"text-align: right;\">\n",
       "      <th></th>\n",
       "      <th>abstract</th>\n",
       "      <th>abstract.language</th>\n",
       "      <th>abstract.text</th>\n",
       "    </tr>\n",
       "  </thead>\n",
       "  <tbody>\n",
       "    <tr>\n",
       "      <th>0</th>\n",
       "      <td>NaN</td>\n",
       "      <td>NaN</td>\n",
       "      <td>NaN</td>\n",
       "    </tr>\n",
       "    <tr>\n",
       "      <th>1</th>\n",
       "      <td>NaN</td>\n",
       "      <td>NaN</td>\n",
       "      <td>NaN</td>\n",
       "    </tr>\n",
       "    <tr>\n",
       "      <th>2</th>\n",
       "      <td>NaN</td>\n",
       "      <td>NaN</td>\n",
       "      <td>NaN</td>\n",
       "    </tr>\n",
       "    <tr>\n",
       "      <th>3</th>\n",
       "      <td>NaN</td>\n",
       "      <td>EN</td>\n",
       "      <td>&lt;p id=\"pa01\" num=\"0001\"&gt;A printed circuit boar...</td>\n",
       "    </tr>\n",
       "    <tr>\n",
       "      <th>4</th>\n",
       "      <td>NaN</td>\n",
       "      <td>NaN</td>\n",
       "      <td>NaN</td>\n",
       "    </tr>\n",
       "  </tbody>\n",
       "</table>\n",
       "</div>"
      ],
      "text/plain": [
       "   abstract abstract.language  \\\n",
       "0       NaN               NaN   \n",
       "1       NaN               NaN   \n",
       "2       NaN               NaN   \n",
       "3       NaN                EN   \n",
       "4       NaN               NaN   \n",
       "\n",
       "                                       abstract.text  \n",
       "0                                                NaN  \n",
       "1                                                NaN  \n",
       "2                                                NaN  \n",
       "3  <p id=\"pa01\" num=\"0001\">A printed circuit boar...  \n",
       "4                                                NaN  "
      ]
     },
     "execution_count": 107,
     "metadata": {},
     "output_type": "execute_result"
    }
   ],
   "source": [
    "q = epab.query_claims_language(\"en\")\n",
    "print(q)\n",
    "q.get_results(\"abstract\", limit=5)"
   ]
  },
  {
   "cell_type": "markdown",
   "id": "1064e1ae-2475-4480-a2d4-ca3dd935f202",
   "metadata": {
    "jp-MarkdownHeadingCollapsed": true
   },
   "source": [
    "## Combining queries together "
   ]
  },
  {
   "cell_type": "markdown",
   "id": "447b925e-89d8-4183-b623-e0d2d568969c",
   "metadata": {
    "tags": []
   },
   "source": [
    "Each query basically identifies a set of publications. \n",
    "Therefore, queries can be combined together with boolean operators providing: \n",
    "\n",
    "  - Intersection (logic *AND*): Using the `&` operator\n",
    "  - Union (logic *OR*): Using the `|` operator\n",
    "  - Exclusion (logic *AND NOT*): Using the `-` operator\n",
    "  - Negation (logic *NOT*): Using the `~` operator\n",
    "\n",
    "Let's see a few examples of how this allows to perform more complex (and complete) queries over the data set"
   ]
  },
  {
   "cell_type": "markdown",
   "id": "1308bc26-af10-47dd-9dd0-39255b8509c5",
   "metadata": {
    "tags": []
   },
   "source": [
    "##### Let's find all publication having specific combination of \"Invention\" and \"Additional\" IPC symbols"
   ]
  },
  {
   "cell_type": "code",
   "execution_count": 28,
   "id": "3348f8fd-0d4b-42d6-87d7-6835d014c37a",
   "metadata": {
    "tags": []
   },
   "outputs": [
    {
     "name": "stdout",
     "output_type": "stream",
     "text": [
      "85 publications\n"
     ]
    },
    {
     "data": {
      "text/plain": [
       "[{'ipc': [{'symbol': 'H04W36/00', 'category': 'Inv'},\n",
       "   {'symbol': 'H04W12/04', 'category': 'Inv'},\n",
       "   {'symbol': 'H04W36/22', 'category': 'Add'},\n",
       "   {'symbol': 'H04W84/04', 'category': 'Add'},\n",
       "   {'symbol': 'H04W88/06', 'category': 'Add'},\n",
       "   {'symbol': 'H04W92/20', 'category': 'Add'},\n",
       "   {'symbol': 'H04W12/06', 'category': 'Add'}]},\n",
       " {'ipc': [{'symbol': 'H04W36/08', 'category': 'Inv'},\n",
       "   {'symbol': 'H04W16/16', 'category': 'Add'},\n",
       "   {'symbol': 'H04W76/04', 'category': 'Add'},\n",
       "   {'symbol': 'H04W92/20', 'category': 'Add'},\n",
       "   {'symbol': 'H04W92/04', 'category': 'Add'},\n",
       "   {'symbol': 'H04W88/08', 'category': 'Add'}]},\n",
       " {'ipc': [{'symbol': 'H04W36/28', 'category': 'Inv'},\n",
       "   {'symbol': 'H04W76/15', 'category': 'Inv'},\n",
       "   {'symbol': 'H04W88/06', 'category': 'Add'},\n",
       "   {'symbol': 'H04W88/16', 'category': 'Add'},\n",
       "   {'symbol': 'H04W92/24', 'category': 'Add'}]},\n",
       " {'ipc': [{'symbol': 'H04W36/00', 'category': 'Inv'},\n",
       "   {'symbol': 'H04W76/00', 'category': 'Inv'},\n",
       "   {'symbol': 'H04W76/23', 'category': 'Inv'},\n",
       "   {'symbol': 'H04W8/02', 'category': 'Inv'},\n",
       "   {'symbol': 'H04W24/10', 'category': 'Add'},\n",
       "   {'symbol': 'H04W88/06', 'category': 'Add'},\n",
       "   {'symbol': 'H04W92/18', 'category': 'Add'}]},\n",
       " {'ipc': [{'symbol': 'H04W36/06', 'category': 'Inv'},\n",
       "   {'symbol': 'H04B7/26', 'category': 'Add'},\n",
       "   {'symbol': 'H04W84/04', 'category': 'Add'},\n",
       "   {'symbol': 'H04W36/00', 'category': 'Add'},\n",
       "   {'symbol': 'H04W88/08', 'category': 'Add'},\n",
       "   {'symbol': 'H04W92/20', 'category': 'Add'}]},\n",
       " {'ipc': [{'symbol': 'H04W36/32', 'category': 'Inv'},\n",
       "   {'symbol': 'H04W36/12', 'category': 'Inv'},\n",
       "   {'symbol': 'H04W76/12', 'category': 'Inv'},\n",
       "   {'symbol': 'H04L65/40', 'category': 'Inv'},\n",
       "   {'symbol': 'H04W88/14', 'category': 'Add'},\n",
       "   {'symbol': 'H04W92/24', 'category': 'Add'}]},\n",
       " {'ipc': [{'symbol': 'H04W36/00', 'category': 'Inv'},\n",
       "   {'symbol': 'H04W24/02', 'category': 'Add'},\n",
       "   {'symbol': 'H04W92/10', 'category': 'Add'},\n",
       "   {'symbol': 'H04W88/04', 'category': 'Add'}]},\n",
       " {'ipc': [{'symbol': 'H04L1/18', 'category': 'Inv'},\n",
       "   {'symbol': 'H04W36/02', 'category': 'Inv'},\n",
       "   {'symbol': 'H04L1/16', 'category': 'Inv'},\n",
       "   {'symbol': 'H04L1/00', 'category': 'Inv'},\n",
       "   {'symbol': 'H04W36/00', 'category': 'Add'},\n",
       "   {'symbol': 'H04W88/02', 'category': 'Add'},\n",
       "   {'symbol': 'H04W92/10', 'category': 'Add'}]},\n",
       " {'ipc': [{'symbol': 'H04W36/02', 'category': 'Inv'},\n",
       "   {'symbol': 'H04W88/08', 'category': 'Add'},\n",
       "   {'symbol': 'H04W92/12', 'category': 'Add'},\n",
       "   {'symbol': 'H04L29/08', 'category': 'Add'}]},\n",
       " {'ipc': [{'symbol': 'H04W36/00', 'category': 'Inv'},\n",
       "   {'symbol': 'H04W76/18', 'category': 'Inv'},\n",
       "   {'symbol': 'H04W80/10', 'category': 'Inv'},\n",
       "   {'symbol': 'H04W76/11', 'category': 'Inv'},\n",
       "   {'symbol': 'H04W36/14', 'category': 'Add'},\n",
       "   {'symbol': 'H04W88/06', 'category': 'Add'},\n",
       "   {'symbol': 'H04W92/02', 'category': 'Add'},\n",
       "   {'symbol': 'H04W48/02', 'category': 'Add'},\n",
       "   {'symbol': 'H04W12/06', 'category': 'Add'}]},\n",
       " {'ipc': [{'symbol': 'H04W36/08', 'category': 'Inv'},\n",
       "   {'symbol': 'H04W36/02', 'category': 'Inv'},\n",
       "   {'symbol': 'H04W76/20', 'category': 'Inv'},\n",
       "   {'symbol': 'H04W92/20', 'category': 'Add'},\n",
       "   {'symbol': 'H04W88/08', 'category': 'Add'}]},\n",
       " {'ipc': [{'symbol': 'H04W36/00', 'category': 'Inv'},\n",
       "   {'symbol': 'H04W24/04', 'category': 'Inv'},\n",
       "   {'symbol': 'H04W88/08', 'category': 'Add'},\n",
       "   {'symbol': 'H04W92/14', 'category': 'Add'}]},\n",
       " {'ipc': [{'symbol': 'H04W12/06', 'category': 'Inv'},\n",
       "   {'symbol': 'H04W12/45', 'category': 'Inv'},\n",
       "   {'symbol': 'H04W4/70', 'category': 'Inv'},\n",
       "   {'symbol': 'H04W36/12', 'category': 'Inv'},\n",
       "   {'symbol': 'H04W88/16', 'category': 'Add'},\n",
       "   {'symbol': 'H04W92/02', 'category': 'Add'}]},\n",
       " {'ipc': [{'symbol': 'H04W12/45', 'category': 'Inv'},\n",
       "   {'symbol': 'H04W12/06', 'category': 'Inv'},\n",
       "   {'symbol': 'H04W36/12', 'category': 'Inv'},\n",
       "   {'symbol': 'H04W88/16', 'category': 'Add'},\n",
       "   {'symbol': 'H04W92/02', 'category': 'Add'}]},\n",
       " {'ipc': [{'symbol': 'H04W12/06', 'category': 'Inv'},\n",
       "   {'symbol': 'H04W4/70', 'category': 'Inv'},\n",
       "   {'symbol': 'H04W36/12', 'category': 'Inv'},\n",
       "   {'symbol': 'H04W8/18', 'category': 'Inv'},\n",
       "   {'symbol': 'H04W8/20', 'category': 'Inv'},\n",
       "   {'symbol': 'H04W88/16', 'category': 'Add'},\n",
       "   {'symbol': 'H04W92/02', 'category': 'Add'},\n",
       "   {'symbol': 'H04L101/375', 'category': 'Add'}]},\n",
       " {'ipc': [{'symbol': 'H04W36/00', 'category': 'Inv'},\n",
       "   {'symbol': 'H04W12/03', 'category': 'Inv'},\n",
       "   {'symbol': 'H04W76/19', 'category': 'Inv'},\n",
       "   {'symbol': 'H04W88/08', 'category': 'Add'},\n",
       "   {'symbol': 'H04W92/12', 'category': 'Add'}]},\n",
       " {'ipc': [{'symbol': 'H04W36/14', 'category': 'Inv'},\n",
       "   {'symbol': 'H04W80/00', 'category': 'Add'},\n",
       "   {'symbol': 'H04W84/04', 'category': 'Add'},\n",
       "   {'symbol': 'H04W88/06', 'category': 'Add'},\n",
       "   {'symbol': 'H04W92/02', 'category': 'Add'}]},\n",
       " {'ipc': [{'symbol': 'H04W36/08', 'category': 'Inv'},\n",
       "   {'symbol': 'H04W76/12', 'category': 'Inv'},\n",
       "   {'symbol': 'H04W8/08', 'category': 'Add'},\n",
       "   {'symbol': 'H04W76/15', 'category': 'Add'},\n",
       "   {'symbol': 'H04W88/16', 'category': 'Add'},\n",
       "   {'symbol': 'H04W92/20', 'category': 'Add'}]},\n",
       " {'ipc': [{'symbol': 'H04W36/12', 'category': 'Inv'},\n",
       "   {'symbol': 'H04W36/10', 'category': 'Inv'},\n",
       "   {'symbol': 'H04W88/16', 'category': 'Add'},\n",
       "   {'symbol': 'H04W92/24', 'category': 'Add'}]},\n",
       " {'ipc': [{'symbol': 'H04W36/00', 'category': 'Inv'},\n",
       "   {'symbol': 'H04W88/16', 'category': 'Add'},\n",
       "   {'symbol': 'H04W92/04', 'category': 'Add'},\n",
       "   {'symbol': 'H04W92/20', 'category': 'Add'},\n",
       "   {'symbol': 'H04W76/22', 'category': 'Add'}]},\n",
       " {'ipc': [{'symbol': 'H04W36/00', 'category': 'Inv'},\n",
       "   {'symbol': 'H04W88/06', 'category': 'Add'},\n",
       "   {'symbol': 'H04W88/16', 'category': 'Add'},\n",
       "   {'symbol': 'H04W92/02', 'category': 'Add'},\n",
       "   {'symbol': 'H04W92/14', 'category': 'Add'},\n",
       "   {'symbol': 'H04W92/24', 'category': 'Add'}]},\n",
       " {'ipc': [{'symbol': 'H04W36/00', 'category': 'Inv'},\n",
       "   {'symbol': 'H04W76/02', 'category': 'Add'},\n",
       "   {'symbol': 'H04W88/08', 'category': 'Add'},\n",
       "   {'symbol': 'H04W92/20', 'category': 'Add'},\n",
       "   {'symbol': 'H04W84/04', 'category': 'Add'}]},\n",
       " {'ipc': [{'symbol': 'H04W56/00', 'category': 'Inv'},\n",
       "   {'symbol': 'H04W36/06', 'category': 'Inv'},\n",
       "   {'symbol': 'H04W88/06', 'category': 'Add'},\n",
       "   {'symbol': 'H04W88/10', 'category': 'Add'},\n",
       "   {'symbol': 'H04W92/02', 'category': 'Add'},\n",
       "   {'symbol': 'H04W68/02', 'category': 'Add'}]},\n",
       " {'ipc': [{'symbol': 'H04L5/00', 'category': 'Inv'},\n",
       "   {'symbol': 'H04W28/08', 'category': 'Inv'},\n",
       "   {'symbol': 'H04W24/02', 'category': 'Inv'},\n",
       "   {'symbol': 'H04W24/10', 'category': 'Inv'},\n",
       "   {'symbol': 'H04W36/22', 'category': 'Inv'},\n",
       "   {'symbol': 'H04W48/20', 'category': 'Inv'},\n",
       "   {'symbol': 'H04W92/20', 'category': 'Add'},\n",
       "   {'symbol': 'H04W8/24', 'category': 'Add'},\n",
       "   {'symbol': 'H04W28/02', 'category': 'Add'},\n",
       "   {'symbol': 'H04W84/12', 'category': 'Add'},\n",
       "   {'symbol': 'H04W88/12', 'category': 'Add'}]},\n",
       " {'ipc': [{'symbol': 'H04W36/14', 'category': 'Inv'},\n",
       "   {'symbol': 'H04W36/02', 'category': 'Add'},\n",
       "   {'symbol': 'H04W88/06', 'category': 'Add'},\n",
       "   {'symbol': 'H04W92/20', 'category': 'Add'}]},\n",
       " {'ipc': [{'symbol': 'H04W36/00', 'category': 'Inv'},\n",
       "   {'symbol': 'H04W48/20', 'category': 'Add'},\n",
       "   {'symbol': 'H04W88/06', 'category': 'Add'},\n",
       "   {'symbol': 'H04W36/22', 'category': 'Add'},\n",
       "   {'symbol': 'H04W92/20', 'category': 'Add'}]},\n",
       " {'ipc': [{'symbol': 'H04W76/15', 'category': 'Inv'},\n",
       "   {'symbol': 'H04W12/041', 'category': 'Inv'},\n",
       "   {'symbol': 'H04W12/043', 'category': 'Inv'},\n",
       "   {'symbol': 'H04L29/06', 'category': 'Inv'},\n",
       "   {'symbol': 'H04W36/00', 'category': 'Inv'},\n",
       "   {'symbol': 'H04W76/22', 'category': 'Add'},\n",
       "   {'symbol': 'H04W88/06', 'category': 'Add'},\n",
       "   {'symbol': 'H04W88/10', 'category': 'Add'},\n",
       "   {'symbol': 'H04W92/20', 'category': 'Add'}]},\n",
       " {'ipc': [{'symbol': 'H04W12/041', 'category': 'Inv'},\n",
       "   {'symbol': 'H04W36/00', 'category': 'Inv'},\n",
       "   {'symbol': 'H04W36/08', 'category': 'Inv'},\n",
       "   {'symbol': 'H04W88/02', 'category': 'Add'},\n",
       "   {'symbol': 'H04W88/08', 'category': 'Add'},\n",
       "   {'symbol': 'H04W92/20', 'category': 'Add'}]},\n",
       " {'ipc': [{'symbol': 'H04W36/08', 'category': 'Inv'},\n",
       "   {'symbol': 'H04W16/16', 'category': 'Add'},\n",
       "   {'symbol': 'H04W76/04', 'category': 'Add'},\n",
       "   {'symbol': 'H04W92/20', 'category': 'Add'},\n",
       "   {'symbol': 'H04W92/04', 'category': 'Add'},\n",
       "   {'symbol': 'H04W88/08', 'category': 'Add'}]},\n",
       " {'ipc': [{'symbol': 'H04W36/00', 'category': 'Inv'},\n",
       "   {'symbol': 'H04W76/14', 'category': 'Inv'},\n",
       "   {'symbol': 'H04W88/04', 'category': 'Add'},\n",
       "   {'symbol': 'H04W88/02', 'category': 'Add'},\n",
       "   {'symbol': 'H04L67/12', 'category': 'Add'},\n",
       "   {'symbol': 'H04W4/44', 'category': 'Add'},\n",
       "   {'symbol': 'H04W4/46', 'category': 'Add'},\n",
       "   {'symbol': 'H04W92/18', 'category': 'Add'}]},\n",
       " {'ipc': [{'symbol': 'H04W36/12', 'category': 'Inv'},\n",
       "   {'symbol': 'H04W36/36', 'category': 'Inv'},\n",
       "   {'symbol': 'H04W88/16', 'category': 'Add'},\n",
       "   {'symbol': 'H04W92/06', 'category': 'Add'}]},\n",
       " {'ipc': [{'symbol': 'H04W76/23', 'category': 'Inv'},\n",
       "   {'symbol': 'H04W24/10', 'category': 'Inv'},\n",
       "   {'symbol': 'H04W36/00', 'category': 'Inv'},\n",
       "   {'symbol': 'H04W36/30', 'category': 'Inv'},\n",
       "   {'symbol': 'H04W88/04', 'category': 'Add'},\n",
       "   {'symbol': 'H04W92/18', 'category': 'Add'}]},\n",
       " {'ipc': [{'symbol': 'H04W76/10', 'category': 'Inv'},\n",
       "   {'symbol': 'H04W36/22', 'category': 'Inv'},\n",
       "   {'symbol': 'H04W28/08', 'category': 'Inv'},\n",
       "   {'symbol': 'H04W48/08', 'category': 'Inv'},\n",
       "   {'symbol': 'H04W84/12', 'category': 'Add'},\n",
       "   {'symbol': 'H04W88/06', 'category': 'Add'},\n",
       "   {'symbol': 'H04W92/02', 'category': 'Add'}]},\n",
       " {'ipc': [{'symbol': 'H04W36/06', 'category': 'Inv'},\n",
       "   {'symbol': 'H04B7/26', 'category': 'Add'},\n",
       "   {'symbol': 'H04W36/00', 'category': 'Add'},\n",
       "   {'symbol': 'H04W84/04', 'category': 'Add'},\n",
       "   {'symbol': 'H04W88/08', 'category': 'Add'},\n",
       "   {'symbol': 'H04W92/20', 'category': 'Add'}]},\n",
       " {'ipc': [{'symbol': 'H04B7/155', 'category': 'Inv'},\n",
       "   {'symbol': 'H04B7/26', 'category': 'Inv'},\n",
       "   {'symbol': 'H04W48/18', 'category': 'Inv'},\n",
       "   {'symbol': 'H04W36/10', 'category': 'Inv'},\n",
       "   {'symbol': 'H04W40/36', 'category': 'Inv'},\n",
       "   {'symbol': 'H04W48/16', 'category': 'Add'},\n",
       "   {'symbol': 'H04W84/04', 'category': 'Add'},\n",
       "   {'symbol': 'H04W92/20', 'category': 'Add'},\n",
       "   {'symbol': 'H04W48/20', 'category': 'Add'},\n",
       "   {'symbol': 'H04W88/04', 'category': 'Add'}]},\n",
       " {'ipc': [{'symbol': 'H04L1/18', 'category': 'Inv'},\n",
       "   {'symbol': 'H04W36/02', 'category': 'Inv'},\n",
       "   {'symbol': 'H04L1/16', 'category': 'Inv'},\n",
       "   {'symbol': 'H04L1/00', 'category': 'Inv'},\n",
       "   {'symbol': 'H04W36/00', 'category': 'Add'},\n",
       "   {'symbol': 'H04W88/02', 'category': 'Add'},\n",
       "   {'symbol': 'H04W92/10', 'category': 'Add'}]},\n",
       " {'ipc': [{'symbol': 'H04W36/06', 'category': 'Inv'},\n",
       "   {'symbol': 'H04B7/26', 'category': 'Add'},\n",
       "   {'symbol': 'H04W84/04', 'category': 'Add'},\n",
       "   {'symbol': 'H04W36/00', 'category': 'Add'},\n",
       "   {'symbol': 'H04W88/08', 'category': 'Add'},\n",
       "   {'symbol': 'H04W92/20', 'category': 'Add'}]},\n",
       " {'ipc': [{'symbol': 'H04W12/06', 'category': 'Inv'},\n",
       "   {'symbol': 'H04W36/12', 'category': 'Inv'},\n",
       "   {'symbol': 'H04W88/16', 'category': 'Add'},\n",
       "   {'symbol': 'H04W92/02', 'category': 'Add'},\n",
       "   {'symbol': 'H04W12/45', 'category': 'Add'},\n",
       "   {'symbol': 'H04W12/63', 'category': 'Add'}]},\n",
       " {'ipc': [{'symbol': 'H04W36/00', 'category': 'Inv'},\n",
       "   {'symbol': 'H04W36/14', 'category': 'Inv'},\n",
       "   {'symbol': 'H04W84/04', 'category': 'Add'},\n",
       "   {'symbol': 'H04W88/16', 'category': 'Add'},\n",
       "   {'symbol': 'H04W84/12', 'category': 'Add'},\n",
       "   {'symbol': 'H04W92/06', 'category': 'Add'}]},\n",
       " {'ipc': [{'symbol': 'H04W36/08', 'category': 'Inv'},\n",
       "   {'symbol': 'H04W84/04', 'category': 'Add'},\n",
       "   {'symbol': 'H04W88/12', 'category': 'Add'},\n",
       "   {'symbol': 'H04W92/12', 'category': 'Add'}]},\n",
       " {'ipc': [{'symbol': 'H04W36/00', 'category': 'Inv'},\n",
       "   {'symbol': 'H04W48/20', 'category': 'Add'},\n",
       "   {'symbol': 'H04W88/06', 'category': 'Add'},\n",
       "   {'symbol': 'H04W36/22', 'category': 'Add'},\n",
       "   {'symbol': 'H04W92/20', 'category': 'Add'},\n",
       "   {'symbol': 'H04W84/12', 'category': 'Add'},\n",
       "   {'symbol': 'H04W84/04', 'category': 'Add'}]},\n",
       " {'ipc': [{'symbol': 'H04W36/00', 'category': 'Inv'},\n",
       "   {'symbol': 'H04W84/12', 'category': 'Add'},\n",
       "   {'symbol': 'H04W88/16', 'category': 'Add'},\n",
       "   {'symbol': 'H04W92/14', 'category': 'Add'},\n",
       "   {'symbol': 'H04W64/00', 'category': 'Add'},\n",
       "   {'symbol': 'H04W76/22', 'category': 'Add'}]},\n",
       " {'ipc': [{'symbol': 'H04L1/18', 'category': 'Inv'},\n",
       "   {'symbol': 'H04W36/02', 'category': 'Inv'},\n",
       "   {'symbol': 'H04L1/16', 'category': 'Inv'},\n",
       "   {'symbol': 'H04L1/00', 'category': 'Inv'},\n",
       "   {'symbol': 'H04W36/00', 'category': 'Add'},\n",
       "   {'symbol': 'H04W88/02', 'category': 'Add'},\n",
       "   {'symbol': 'H04W92/10', 'category': 'Add'}]},\n",
       " {'ipc': [{'symbol': 'H04W36/00', 'category': 'Inv'},\n",
       "   {'symbol': 'H04W36/22', 'category': 'Add'},\n",
       "   {'symbol': 'H04W84/04', 'category': 'Add'},\n",
       "   {'symbol': 'H04W88/06', 'category': 'Add'},\n",
       "   {'symbol': 'H04W92/20', 'category': 'Add'}]},\n",
       " {'ipc': [{'symbol': 'H04W36/00', 'category': 'Inv'},\n",
       "   {'symbol': 'H04W28/26', 'category': 'Add'},\n",
       "   {'symbol': 'H04W36/04', 'category': 'Add'},\n",
       "   {'symbol': 'H04W36/32', 'category': 'Add'},\n",
       "   {'symbol': 'H04W48/16', 'category': 'Add'},\n",
       "   {'symbol': 'H04W84/04', 'category': 'Add'},\n",
       "   {'symbol': 'H04W88/16', 'category': 'Add'},\n",
       "   {'symbol': 'H04W92/24', 'category': 'Add'},\n",
       "   {'symbol': 'H04W76/10', 'category': 'Add'}]},\n",
       " {'ipc': [{'symbol': 'H04W48/00', 'category': 'Inv'},\n",
       "   {'symbol': 'H04W8/02', 'category': 'Inv'},\n",
       "   {'symbol': 'H04W8/08', 'category': 'Inv'},\n",
       "   {'symbol': 'H04W12/06', 'category': 'Inv'},\n",
       "   {'symbol': 'H04W36/14', 'category': 'Inv'},\n",
       "   {'symbol': 'H04W8/24', 'category': 'Inv'},\n",
       "   {'symbol': 'H04L29/06', 'category': 'Add'},\n",
       "   {'symbol': 'H04W76/00', 'category': 'Add'},\n",
       "   {'symbol': 'H04W88/16', 'category': 'Add'},\n",
       "   {'symbol': 'H04W92/02', 'category': 'Add'}]},\n",
       " {'ipc': [{'symbol': 'H04W36/00', 'category': 'Inv'},\n",
       "   {'symbol': 'H04W88/10', 'category': 'Add'},\n",
       "   {'symbol': 'H04W92/20', 'category': 'Add'}]},\n",
       " {'ipc': [{'symbol': 'H04W36/00', 'category': 'Inv'},\n",
       "   {'symbol': 'H04W48/20', 'category': 'Add'},\n",
       "   {'symbol': 'H04W88/06', 'category': 'Add'},\n",
       "   {'symbol': 'H04W36/22', 'category': 'Add'},\n",
       "   {'symbol': 'H04W92/20', 'category': 'Add'}]},\n",
       " {'ipc': [{'symbol': 'H04W76/50', 'category': 'Inv'},\n",
       "   {'symbol': 'H04W36/00', 'category': 'Inv'},\n",
       "   {'symbol': 'H04W4/90', 'category': 'Add'},\n",
       "   {'symbol': 'H04W88/14', 'category': 'Add'},\n",
       "   {'symbol': 'H04W92/24', 'category': 'Add'}]},\n",
       " {'ipc': [{'symbol': 'H04W36/14', 'category': 'Inv'},\n",
       "   {'symbol': 'H04W36/02', 'category': 'Add'},\n",
       "   {'symbol': 'H04W88/06', 'category': 'Add'},\n",
       "   {'symbol': 'H04W92/20', 'category': 'Add'}]},\n",
       " {'ipc': [{'symbol': 'H04W36/00', 'category': 'Inv'},\n",
       "   {'symbol': 'H04W16/14', 'category': 'Add'},\n",
       "   {'symbol': 'H04W16/32', 'category': 'Add'},\n",
       "   {'symbol': 'H04W88/10', 'category': 'Add'},\n",
       "   {'symbol': 'H04W92/20', 'category': 'Add'}]},\n",
       " {'ipc': [{'symbol': 'H04W12/04', 'category': 'Inv'},\n",
       "   {'symbol': 'H04W36/00', 'category': 'Inv'},\n",
       "   {'symbol': 'H04W36/08', 'category': 'Inv'},\n",
       "   {'symbol': 'H04W88/02', 'category': 'Add'},\n",
       "   {'symbol': 'H04W88/08', 'category': 'Add'},\n",
       "   {'symbol': 'H04W92/20', 'category': 'Add'}]},\n",
       " {'ipc': [{'symbol': 'H04W36/28', 'category': 'Inv'},\n",
       "   {'symbol': 'H04W76/15', 'category': 'Inv'},\n",
       "   {'symbol': 'H04W88/06', 'category': 'Add'},\n",
       "   {'symbol': 'H04W88/16', 'category': 'Add'},\n",
       "   {'symbol': 'H04W92/24', 'category': 'Add'},\n",
       "   {'symbol': 'H04W4/24', 'category': 'Add'}]},\n",
       " {'ipc': [{'symbol': 'H04W36/16', 'category': 'Inv'},\n",
       "   {'symbol': 'H04B7/26', 'category': 'Add'},\n",
       "   {'symbol': 'H04W72/04', 'category': 'Add'},\n",
       "   {'symbol': 'H04W88/08', 'category': 'Add'},\n",
       "   {'symbol': 'H04W88/12', 'category': 'Add'},\n",
       "   {'symbol': 'H04W92/12', 'category': 'Add'}]},\n",
       " {'ipc': [{'symbol': 'H04W36/14', 'category': 'Inv'},\n",
       "   {'symbol': 'H04W84/12', 'category': 'Inv'},\n",
       "   {'symbol': 'H04W88/06', 'category': 'Inv'},\n",
       "   {'symbol': 'H04W72/04', 'category': 'Inv'},\n",
       "   {'symbol': 'H04W24/10', 'category': 'Inv'},\n",
       "   {'symbol': 'H04W52/02', 'category': 'Add'},\n",
       "   {'symbol': 'H04W88/08', 'category': 'Add'},\n",
       "   {'symbol': 'H04W92/10', 'category': 'Add'}]},\n",
       " {'ipc': [{'symbol': 'H04W76/12', 'category': 'Inv'},\n",
       "   {'symbol': 'H04W36/32', 'category': 'Inv'},\n",
       "   {'symbol': 'H04W36/12', 'category': 'Inv'},\n",
       "   {'symbol': 'H04W92/24', 'category': 'Add'},\n",
       "   {'symbol': 'H04W88/14', 'category': 'Add'}]},\n",
       " {'ipc': [{'symbol': 'H04W36/32', 'category': 'Inv'},\n",
       "   {'symbol': 'H04W36/12', 'category': 'Inv'},\n",
       "   {'symbol': 'H04W76/12', 'category': 'Inv'},\n",
       "   {'symbol': 'H04L65/40', 'category': 'Inv'},\n",
       "   {'symbol': 'H04W88/14', 'category': 'Add'},\n",
       "   {'symbol': 'H04W92/24', 'category': 'Add'}]},\n",
       " {'ipc': [{'symbol': 'H04W36/00', 'category': 'Inv'},\n",
       "   {'symbol': 'H04W88/10', 'category': 'Add'},\n",
       "   {'symbol': 'H04W92/20', 'category': 'Add'}]},\n",
       " {'ipc': [{'symbol': 'H04W36/24', 'category': 'Inv'},\n",
       "   {'symbol': 'H04W88/12', 'category': 'Add'},\n",
       "   {'symbol': 'H04W88/14', 'category': 'Add'},\n",
       "   {'symbol': 'H04W92/04', 'category': 'Add'}]},\n",
       " {'ipc': [{'symbol': 'H04W76/19', 'category': 'Inv'},\n",
       "   {'symbol': 'H04W12/03', 'category': 'Inv'},\n",
       "   {'symbol': 'H04W36/00', 'category': 'Inv'},\n",
       "   {'symbol': 'H04W88/08', 'category': 'Add'},\n",
       "   {'symbol': 'H04W92/12', 'category': 'Add'}]},\n",
       " {'ipc': [{'symbol': 'H04W76/10', 'category': 'Inv'},\n",
       "   {'symbol': 'H04W36/22', 'category': 'Inv'},\n",
       "   {'symbol': 'H04W28/08', 'category': 'Inv'},\n",
       "   {'symbol': 'H04W48/08', 'category': 'Inv'},\n",
       "   {'symbol': 'H04W84/12', 'category': 'Add'},\n",
       "   {'symbol': 'H04W88/06', 'category': 'Add'},\n",
       "   {'symbol': 'H04W92/02', 'category': 'Add'}]},\n",
       " {'ipc': [{'symbol': 'H04W36/00', 'category': 'Inv'},\n",
       "   {'symbol': 'H04W88/04', 'category': 'Add'},\n",
       "   {'symbol': 'H04W92/20', 'category': 'Add'},\n",
       "   {'symbol': 'H04W76/15', 'category': 'Add'}]},\n",
       " {'ipc': [{'symbol': 'H04W76/22', 'category': 'Inv'},\n",
       "   {'symbol': 'H04W76/38', 'category': 'Inv'},\n",
       "   {'symbol': 'H04W36/00', 'category': 'Inv'},\n",
       "   {'symbol': 'H04W80/10', 'category': 'Inv'},\n",
       "   {'symbol': 'H04W88/14', 'category': 'Add'},\n",
       "   {'symbol': 'H04W92/24', 'category': 'Add'},\n",
       "   {'symbol': 'H04W8/08', 'category': 'Add'}]},\n",
       " {'ipc': [{'symbol': 'H04W36/00', 'category': 'Inv'},\n",
       "   {'symbol': 'H04W88/10', 'category': 'Add'},\n",
       "   {'symbol': 'H04W92/20', 'category': 'Add'},\n",
       "   {'symbol': 'H04W36/14', 'category': 'Add'}]},\n",
       " {'ipc': [{'symbol': 'H04W36/30', 'category': 'Inv'},\n",
       "   {'symbol': 'H04W36/08', 'category': 'Inv'},\n",
       "   {'symbol': 'H04W36/38', 'category': 'Add'},\n",
       "   {'symbol': 'H04W88/08', 'category': 'Add'},\n",
       "   {'symbol': 'H04W92/20', 'category': 'Add'}]},\n",
       " {'ipc': [{'symbol': 'H04W24/00', 'category': 'Inv'},\n",
       "   {'symbol': 'H04W36/00', 'category': 'Inv'},\n",
       "   {'symbol': 'H04W76/23', 'category': 'Inv'},\n",
       "   {'symbol': 'H04W76/00', 'category': 'Inv'},\n",
       "   {'symbol': 'H04W88/06', 'category': 'Add'},\n",
       "   {'symbol': 'H04W92/18', 'category': 'Add'}]},\n",
       " {'ipc': [{'symbol': 'H04W36/02', 'category': 'Inv'},\n",
       "   {'symbol': 'H04L1/18', 'category': 'Inv'},\n",
       "   {'symbol': 'H04W36/00', 'category': 'Inv'},\n",
       "   {'symbol': 'H04W36/36', 'category': 'Inv'},\n",
       "   {'symbol': 'H04W88/12', 'category': 'Add'},\n",
       "   {'symbol': 'H04W36/38', 'category': 'Add'},\n",
       "   {'symbol': 'H04W92/10', 'category': 'Add'}]},\n",
       " {'ipc': [{'symbol': 'H04W36/00', 'category': 'Inv'},\n",
       "   {'symbol': 'H04W36/22', 'category': 'Add'},\n",
       "   {'symbol': 'H04W84/04', 'category': 'Add'},\n",
       "   {'symbol': 'H04W88/06', 'category': 'Add'},\n",
       "   {'symbol': 'H04W92/20', 'category': 'Add'}]},\n",
       " {'ipc': [{'symbol': 'H04W12/04', 'category': 'Inv'},\n",
       "   {'symbol': 'H04W36/00', 'category': 'Inv'},\n",
       "   {'symbol': 'H04W36/08', 'category': 'Inv'},\n",
       "   {'symbol': 'H04W88/02', 'category': 'Add'},\n",
       "   {'symbol': 'H04W88/08', 'category': 'Add'},\n",
       "   {'symbol': 'H04W92/20', 'category': 'Add'}]},\n",
       " {'ipc': [{'symbol': 'H04W76/23', 'category': 'Inv'},\n",
       "   {'symbol': 'H04W24/10', 'category': 'Inv'},\n",
       "   {'symbol': 'H04W36/00', 'category': 'Inv'},\n",
       "   {'symbol': 'H04W36/30', 'category': 'Inv'},\n",
       "   {'symbol': 'H04W88/04', 'category': 'Add'},\n",
       "   {'symbol': 'H04W92/18', 'category': 'Add'}]},\n",
       " {'ipc': [{'symbol': 'H04W12/00', 'category': 'Inv'},\n",
       "   {'symbol': 'H04W4/70', 'category': 'Inv'},\n",
       "   {'symbol': 'H04W12/06', 'category': 'Inv'},\n",
       "   {'symbol': 'H04W36/12', 'category': 'Inv'},\n",
       "   {'symbol': 'H04W88/16', 'category': 'Add'},\n",
       "   {'symbol': 'H04W92/02', 'category': 'Add'}]},\n",
       " {'ipc': [{'symbol': 'H04W12/00', 'category': 'Inv'},\n",
       "   {'symbol': 'H04W12/06', 'category': 'Inv'},\n",
       "   {'symbol': 'H04W36/12', 'category': 'Inv'},\n",
       "   {'symbol': 'H04W88/16', 'category': 'Add'},\n",
       "   {'symbol': 'H04W92/02', 'category': 'Add'}]},\n",
       " {'ipc': [{'symbol': 'H04W12/00', 'category': 'Inv'},\n",
       "   {'symbol': 'H04W4/70', 'category': 'Inv'},\n",
       "   {'symbol': 'H04W12/06', 'category': 'Inv'},\n",
       "   {'symbol': 'H04W36/12', 'category': 'Inv'},\n",
       "   {'symbol': 'H04W88/16', 'category': 'Add'},\n",
       "   {'symbol': 'H04W92/02', 'category': 'Add'}]},\n",
       " {'ipc': [{'symbol': 'H04W36/00', 'category': 'Inv'},\n",
       "   {'symbol': 'H04W8/10', 'category': 'Inv'},\n",
       "   {'symbol': 'H04W76/12', 'category': 'Inv'},\n",
       "   {'symbol': 'H04W36/12', 'category': 'Inv'},\n",
       "   {'symbol': 'H04W88/06', 'category': 'Add'},\n",
       "   {'symbol': 'H04W60/04', 'category': 'Add'},\n",
       "   {'symbol': 'H04W84/04', 'category': 'Add'},\n",
       "   {'symbol': 'H04W92/02', 'category': 'Add'},\n",
       "   {'symbol': 'H04W8/12', 'category': 'Add'}]},\n",
       " {'ipc': [{'symbol': 'H04L1/18', 'category': 'Inv'},\n",
       "   {'symbol': 'H04L1/16', 'category': 'Inv'},\n",
       "   {'symbol': 'H04L1/00', 'category': 'Inv'},\n",
       "   {'symbol': 'H04W36/02', 'category': 'Inv'},\n",
       "   {'symbol': 'H04W36/00', 'category': 'Add'},\n",
       "   {'symbol': 'H04W88/02', 'category': 'Add'},\n",
       "   {'symbol': 'H04W92/10', 'category': 'Add'}]},\n",
       " {'ipc': [{'symbol': 'H04W36/24', 'category': 'Inv'},\n",
       "   {'symbol': 'H04W76/34', 'category': 'Inv'},\n",
       "   {'symbol': 'H04W8/22', 'category': 'Add'},\n",
       "   {'symbol': 'H04W16/32', 'category': 'Add'},\n",
       "   {'symbol': 'H04W36/36', 'category': 'Add'},\n",
       "   {'symbol': 'H04W88/06', 'category': 'Add'},\n",
       "   {'symbol': 'H04W92/20', 'category': 'Add'}]},\n",
       " {'ipc': [{'symbol': 'H04W36/28', 'category': 'Inv'},\n",
       "   {'symbol': 'H04W76/15', 'category': 'Inv'},\n",
       "   {'symbol': 'H04W4/24', 'category': 'Inv'},\n",
       "   {'symbol': 'H04L12/14', 'category': 'Inv'},\n",
       "   {'symbol': 'H04M15/00', 'category': 'Inv'},\n",
       "   {'symbol': 'H04W88/06', 'category': 'Add'},\n",
       "   {'symbol': 'H04W88/16', 'category': 'Add'},\n",
       "   {'symbol': 'H04W92/24', 'category': 'Add'}]},\n",
       " {'ipc': [{'symbol': 'H04W36/00', 'category': 'Inv'},\n",
       "   {'symbol': 'H04W36/14', 'category': 'Inv'},\n",
       "   {'symbol': 'H04W84/04', 'category': 'Add'},\n",
       "   {'symbol': 'H04W88/16', 'category': 'Add'},\n",
       "   {'symbol': 'H04W84/12', 'category': 'Add'},\n",
       "   {'symbol': 'H04W92/06', 'category': 'Add'}]},\n",
       " {'ipc': [{'symbol': 'H04W36/02', 'category': 'Inv'},\n",
       "   {'symbol': 'H04W76/10', 'category': 'Add'},\n",
       "   {'symbol': 'H04W76/30', 'category': 'Add'},\n",
       "   {'symbol': 'H04W88/08', 'category': 'Add'},\n",
       "   {'symbol': 'H04W88/18', 'category': 'Add'},\n",
       "   {'symbol': 'H04W92/04', 'category': 'Add'}]},\n",
       " {'ipc': [{'symbol': 'H04W36/24', 'category': 'Inv'},\n",
       "   {'symbol': 'H04W88/12', 'category': 'Add'},\n",
       "   {'symbol': 'H04W88/14', 'category': 'Add'},\n",
       "   {'symbol': 'H04W92/04', 'category': 'Add'}]},\n",
       " {'ipc': [{'symbol': 'H04W16/04', 'category': 'Inv'},\n",
       "   {'symbol': 'H04W28/08', 'category': 'Inv'},\n",
       "   {'symbol': 'H04W8/08', 'category': 'Inv'},\n",
       "   {'symbol': 'H04W36/22', 'category': 'Inv'},\n",
       "   {'symbol': 'H04W76/22', 'category': 'Inv'},\n",
       "   {'symbol': 'H04W76/12', 'category': 'Inv'},\n",
       "   {'symbol': 'H04W92/20', 'category': 'Add'},\n",
       "   {'symbol': 'H04W88/04', 'category': 'Add'},\n",
       "   {'symbol': 'H04W84/04', 'category': 'Add'},\n",
       "   {'symbol': 'H04W36/38', 'category': 'Add'},\n",
       "   {'symbol': 'H04W40/22', 'category': 'Add'}]},\n",
       " {'ipc': [{'symbol': 'H04W36/00', 'category': 'Inv'},\n",
       "   {'symbol': 'H04B7/155', 'category': 'Inv'},\n",
       "   {'symbol': 'H04W36/12', 'category': 'Add'},\n",
       "   {'symbol': 'H04W36/08', 'category': 'Add'},\n",
       "   {'symbol': 'H04W92/20', 'category': 'Add'},\n",
       "   {'symbol': 'H04W92/04', 'category': 'Add'},\n",
       "   {'symbol': 'H04W84/04', 'category': 'Add'},\n",
       "   {'symbol': 'H04W88/08', 'category': 'Add'},\n",
       "   {'symbol': 'H04W48/08', 'category': 'Add'}]},\n",
       " {'ipc': [{'symbol': 'H04W4/22', 'category': 'Inv'},\n",
       "   {'symbol': 'H04W76/00', 'category': 'Inv'},\n",
       "   {'symbol': 'H04W36/08', 'category': 'Inv'},\n",
       "   {'symbol': 'H04W36/14', 'category': 'Inv'},\n",
       "   {'symbol': 'H04W84/12', 'category': 'Add'},\n",
       "   {'symbol': 'H04W84/04', 'category': 'Add'},\n",
       "   {'symbol': 'H04W88/02', 'category': 'Add'},\n",
       "   {'symbol': 'H04W88/08', 'category': 'Add'},\n",
       "   {'symbol': 'H04L12/46', 'category': 'Add'},\n",
       "   {'symbol': 'H04L29/06', 'category': 'Add'},\n",
       "   {'symbol': 'H04W36/16', 'category': 'Add'},\n",
       "   {'symbol': 'H04W92/10', 'category': 'Add'},\n",
       "   {'symbol': 'H04W88/06', 'category': 'Add'}]},\n",
       " {'ipc': [{'symbol': 'H04W52/02', 'category': 'Inv'},\n",
       "   {'symbol': 'H04W36/00', 'category': 'Inv'},\n",
       "   {'symbol': 'H04W76/28', 'category': 'Inv'},\n",
       "   {'symbol': 'H04W24/10', 'category': 'Inv'},\n",
       "   {'symbol': 'H04W88/02', 'category': 'Add'},\n",
       "   {'symbol': 'H04W92/10', 'category': 'Add'}]},\n",
       " {'ipc': [{'symbol': 'H04W12/06', 'category': 'Inv'},\n",
       "   {'symbol': 'H04W36/12', 'category': 'Inv'},\n",
       "   {'symbol': 'H04W88/16', 'category': 'Add'},\n",
       "   {'symbol': 'H04W92/02', 'category': 'Add'},\n",
       "   {'symbol': 'H04W12/45', 'category': 'Add'}]}]"
      ]
     },
     "execution_count": 28,
     "metadata": {},
     "output_type": "execute_result"
    }
   ],
   "source": [
    "q1 = epab.query_ipc(\"H04W88%, H04W92%\", match_all=True, invention=False)\n",
    "q2 = epab.query_ipc(\"H04W36%\", invention=True)\n",
    "q3 = q1 & q2\n",
    "\n",
    "print(q3)\n",
    "q3.get_results(\"ipc.symbol, ipc.category\", output_type=\"list\")"
   ]
  },
  {
   "cell_type": "markdown",
   "id": "13c5ef80-5f87-44b8-a452-6a6a15e2cb0e",
   "metadata": {
    "tags": []
   },
   "source": [
    "##### Let's find all A2 publications filed as application after 2010"
   ]
  },
  {
   "cell_type": "code",
   "execution_count": 29,
   "id": "2f2f913c-dd37-4558-8f19-0bc617831b9a",
   "metadata": {
    "tags": []
   },
   "outputs": [
    {
     "name": "stdout",
     "output_type": "stream",
     "text": [
      "206393 publications\n"
     ]
    },
    {
     "data": {
      "text/html": [
       "<div>\n",
       "<style scoped>\n",
       "    .dataframe tbody tr th:only-of-type {\n",
       "        vertical-align: middle;\n",
       "    }\n",
       "\n",
       "    .dataframe tbody tr th {\n",
       "        vertical-align: top;\n",
       "    }\n",
       "\n",
       "    .dataframe thead th {\n",
       "        text-align: right;\n",
       "    }\n",
       "</style>\n",
       "<table border=\"1\" class=\"dataframe\">\n",
       "  <thead>\n",
       "    <tr style=\"text-align: right;\">\n",
       "      <th></th>\n",
       "      <th>publication.country</th>\n",
       "      <th>publication.number</th>\n",
       "      <th>publication.kind</th>\n",
       "      <th>publication.date</th>\n",
       "      <th>publication.language</th>\n",
       "      <th>application.number</th>\n",
       "      <th>application.filing_date</th>\n",
       "    </tr>\n",
       "  </thead>\n",
       "  <tbody>\n",
       "    <tr>\n",
       "      <th>0</th>\n",
       "      <td>EP</td>\n",
       "      <td>3607617</td>\n",
       "      <td>A2</td>\n",
       "      <td>20200212</td>\n",
       "      <td>EN</td>\n",
       "      <td>17916455.3</td>\n",
       "      <td>20171222</td>\n",
       "    </tr>\n",
       "    <tr>\n",
       "      <th>1</th>\n",
       "      <td>EP</td>\n",
       "      <td>3606560</td>\n",
       "      <td>A2</td>\n",
       "      <td>20200212</td>\n",
       "      <td>EN</td>\n",
       "      <td>18715032.1</td>\n",
       "      <td>20180404</td>\n",
       "    </tr>\n",
       "    <tr>\n",
       "      <th>2</th>\n",
       "      <td>EP</td>\n",
       "      <td>3606530</td>\n",
       "      <td>A2</td>\n",
       "      <td>20200212</td>\n",
       "      <td>EN</td>\n",
       "      <td>18718398.3</td>\n",
       "      <td>20180329</td>\n",
       "    </tr>\n",
       "    <tr>\n",
       "      <th>3</th>\n",
       "      <td>EP</td>\n",
       "      <td>3606959</td>\n",
       "      <td>A2</td>\n",
       "      <td>20200212</td>\n",
       "      <td>EN</td>\n",
       "      <td>18720501.8</td>\n",
       "      <td>20180405</td>\n",
       "    </tr>\n",
       "    <tr>\n",
       "      <th>4</th>\n",
       "      <td>EP</td>\n",
       "      <td>3607151</td>\n",
       "      <td>A2</td>\n",
       "      <td>20200212</td>\n",
       "      <td>EN</td>\n",
       "      <td>18721145.3</td>\n",
       "      <td>20180404</td>\n",
       "    </tr>\n",
       "  </tbody>\n",
       "</table>\n",
       "</div>"
      ],
      "text/plain": [
       "  publication.country publication.number publication.kind publication.date  \\\n",
       "0                  EP            3607617               A2         20200212   \n",
       "1                  EP            3606560               A2         20200212   \n",
       "2                  EP            3606530               A2         20200212   \n",
       "3                  EP            3606959               A2         20200212   \n",
       "4                  EP            3607151               A2         20200212   \n",
       "\n",
       "  publication.language application.number application.filing_date  \n",
       "0                   EN         17916455.3                20171222  \n",
       "1                   EN         18715032.1                20180404  \n",
       "2                   EN         18718398.3                20180329  \n",
       "3                   EN         18720501.8                20180405  \n",
       "4                   EN         18721145.3                20180404  "
      ]
     },
     "execution_count": 29,
     "metadata": {},
     "output_type": "execute_result"
    }
   ],
   "source": [
    "q1 = epab.query_publication_kindcodes(\"A2\")\n",
    "q2 = epab.query_application_filing_date(\"20100101-20501231\")\n",
    "q3 = q1 & q2\n",
    "\n",
    "print(q3)\n",
    "q3.get_results(\"publication, application\", limit=5)"
   ]
  },
  {
   "cell_type": "markdown",
   "id": "31028839-04d6-4b98-82eb-f7b82e8156d1",
   "metadata": {
    "tags": []
   },
   "source": [
    "##### Let's now exclude from the result list all Publications in English or German language"
   ]
  },
  {
   "cell_type": "code",
   "execution_count": 30,
   "id": "d15f34d8-9124-4379-b91f-94bed26c8087",
   "metadata": {
    "tags": []
   },
   "outputs": [
    {
     "name": "stdout",
     "output_type": "stream",
     "text": [
      "5009 publications\n"
     ]
    },
    {
     "data": {
      "text/html": [
       "<div>\n",
       "<style scoped>\n",
       "    .dataframe tbody tr th:only-of-type {\n",
       "        vertical-align: middle;\n",
       "    }\n",
       "\n",
       "    .dataframe tbody tr th {\n",
       "        vertical-align: top;\n",
       "    }\n",
       "\n",
       "    .dataframe thead th {\n",
       "        text-align: right;\n",
       "    }\n",
       "</style>\n",
       "<table border=\"1\" class=\"dataframe\">\n",
       "  <thead>\n",
       "    <tr style=\"text-align: right;\">\n",
       "      <th></th>\n",
       "      <th>publication.country</th>\n",
       "      <th>publication.number</th>\n",
       "      <th>publication.kind</th>\n",
       "      <th>publication.date</th>\n",
       "      <th>publication.language</th>\n",
       "      <th>application.number</th>\n",
       "      <th>application.filing_date</th>\n",
       "    </tr>\n",
       "  </thead>\n",
       "  <tbody>\n",
       "    <tr>\n",
       "      <th>0</th>\n",
       "      <td>EP</td>\n",
       "      <td>2236897</td>\n",
       "      <td>A2</td>\n",
       "      <td>20101006</td>\n",
       "      <td>FR</td>\n",
       "      <td>10290122.0</td>\n",
       "      <td>20100310</td>\n",
       "    </tr>\n",
       "    <tr>\n",
       "      <th>1</th>\n",
       "      <td>EP</td>\n",
       "      <td>2236898</td>\n",
       "      <td>A2</td>\n",
       "      <td>20101006</td>\n",
       "      <td>FR</td>\n",
       "      <td>10290123.8</td>\n",
       "      <td>20100310</td>\n",
       "    </tr>\n",
       "    <tr>\n",
       "      <th>2</th>\n",
       "      <td>EP</td>\n",
       "      <td>2236899</td>\n",
       "      <td>A2</td>\n",
       "      <td>20101006</td>\n",
       "      <td>FR</td>\n",
       "      <td>10305239.5</td>\n",
       "      <td>20100310</td>\n",
       "    </tr>\n",
       "    <tr>\n",
       "      <th>3</th>\n",
       "      <td>EP</td>\n",
       "      <td>2236356</td>\n",
       "      <td>A2</td>\n",
       "      <td>20101006</td>\n",
       "      <td>FR</td>\n",
       "      <td>10305117.3</td>\n",
       "      <td>20100204</td>\n",
       "    </tr>\n",
       "    <tr>\n",
       "      <th>4</th>\n",
       "      <td>EP</td>\n",
       "      <td>2236216</td>\n",
       "      <td>A2</td>\n",
       "      <td>20101006</td>\n",
       "      <td>FR</td>\n",
       "      <td>10305296.5</td>\n",
       "      <td>20100324</td>\n",
       "    </tr>\n",
       "  </tbody>\n",
       "</table>\n",
       "</div>"
      ],
      "text/plain": [
       "  publication.country publication.number publication.kind publication.date  \\\n",
       "0                  EP            2236897               A2         20101006   \n",
       "1                  EP            2236898               A2         20101006   \n",
       "2                  EP            2236899               A2         20101006   \n",
       "3                  EP            2236356               A2         20101006   \n",
       "4                  EP            2236216               A2         20101006   \n",
       "\n",
       "  publication.language application.number application.filing_date  \n",
       "0                   FR         10290122.0                20100310  \n",
       "1                   FR         10290123.8                20100310  \n",
       "2                   FR         10305239.5                20100310  \n",
       "3                   FR         10305117.3                20100204  \n",
       "4                   FR         10305296.5                20100324  "
      ]
     },
     "execution_count": 30,
     "metadata": {},
     "output_type": "execute_result"
    }
   ],
   "source": [
    "q4 = q3 - epab.query_publication_languages(\"EN,DE\")\n",
    "\n",
    "print(q4)\n",
    "q4.get_results(\"publication, application\", limit=5)"
   ]
  },
  {
   "cell_type": "markdown",
   "id": "3bcaeec6-abfd-479a-8eec-1ed65853b08f",
   "metadata": {
    "tags": []
   },
   "source": [
    "##### Let's now find all publications having either a certain IPC code or a set of terms in the description, and published after 2020"
   ]
  },
  {
   "cell_type": "code",
   "execution_count": 31,
   "id": "19004592-a3e2-47ae-a9cd-cb67542a99a1",
   "metadata": {
    "tags": []
   },
   "outputs": [
    {
     "name": "stdout",
     "output_type": "stream",
     "text": [
      "24816 publications\n"
     ]
    },
    {
     "data": {
      "text/html": [
       "<div>\n",
       "<style scoped>\n",
       "    .dataframe tbody tr th:only-of-type {\n",
       "        vertical-align: middle;\n",
       "    }\n",
       "\n",
       "    .dataframe tbody tr th {\n",
       "        vertical-align: top;\n",
       "    }\n",
       "\n",
       "    .dataframe thead th {\n",
       "        text-align: right;\n",
       "    }\n",
       "</style>\n",
       "<table border=\"1\" class=\"dataframe\">\n",
       "  <thead>\n",
       "    <tr style=\"text-align: right;\">\n",
       "      <th></th>\n",
       "      <th>title.en</th>\n",
       "      <th>cpc</th>\n",
       "    </tr>\n",
       "  </thead>\n",
       "  <tbody>\n",
       "    <tr>\n",
       "      <th>0</th>\n",
       "      <td>METHOD FOR CONSTRUCTING LOGGED MEASUREMENT ENT...</td>\n",
       "      <td>[]</td>\n",
       "    </tr>\n",
       "    <tr>\n",
       "      <th>1</th>\n",
       "      <td>IDENTIFYING A BEAM FOR ACCESSING A TARGET CELL...</td>\n",
       "      <td>[]</td>\n",
       "    </tr>\n",
       "    <tr>\n",
       "      <th>2</th>\n",
       "      <td>ACCESS FOR GROUP CALL SERVICES THROUGH A BROAD...</td>\n",
       "      <td>[]</td>\n",
       "    </tr>\n",
       "    <tr>\n",
       "      <th>3</th>\n",
       "      <td>METHOD AND APPARATUS FOR PERFORMING POWER HEAD...</td>\n",
       "      <td>[]</td>\n",
       "    </tr>\n",
       "    <tr>\n",
       "      <th>4</th>\n",
       "      <td>ACTIVATING LINKED USER EQUIPMENTS</td>\n",
       "      <td>[]</td>\n",
       "    </tr>\n",
       "  </tbody>\n",
       "</table>\n",
       "</div>"
      ],
      "text/plain": [
       "                                            title.en cpc\n",
       "0  METHOD FOR CONSTRUCTING LOGGED MEASUREMENT ENT...  []\n",
       "1  IDENTIFYING A BEAM FOR ACCESSING A TARGET CELL...  []\n",
       "2  ACCESS FOR GROUP CALL SERVICES THROUGH A BROAD...  []\n",
       "3  METHOD AND APPARATUS FOR PERFORMING POWER HEAD...  []\n",
       "4                  ACTIVATING LINKED USER EQUIPMENTS  []"
      ]
     },
     "execution_count": 31,
     "metadata": {},
     "output_type": "execute_result"
    }
   ],
   "source": [
    "q1 = epab.query_description(\"handover, channel\", match_all=True)\n",
    "q2 = epab.query_ipc(\"H04W36%\")\n",
    "q3 = epab.query_publication_date(\"20200101-20250101\")\n",
    "q4 = (q1 | q2) & q3\n",
    "\n",
    "print(q4)\n",
    "q4.get_results(\"title.en, cpc.symbol\", limit=5)"
   ]
  },
  {
   "cell_type": "markdown",
   "id": "9ac8392e-29ed-4377-9d08-7062e01162b5",
   "metadata": {
    "jp-MarkdownHeadingCollapsed": true
   },
   "source": [
    "## Retrieving data from a query"
   ]
  },
  {
   "cell_type": "markdown",
   "id": "a57f16bd-b687-4cbb-9cdf-817b6f5281a0",
   "metadata": {
    "tags": []
   },
   "source": [
    "##### Let's start with a generic query "
   ]
  },
  {
   "cell_type": "code",
   "execution_count": 32,
   "id": "57a67803-9ec9-4a50-b1f2-c90408ad02cd",
   "metadata": {
    "tags": []
   },
   "outputs": [
    {
     "data": {
      "text/plain": [
       "20631 publications"
      ]
     },
     "execution_count": 32,
     "metadata": {},
     "output_type": "execute_result"
    }
   ],
   "source": [
    "q = epab.query_publication_date(\"%1109\")\n",
    "q"
   ]
  },
  {
   "cell_type": "markdown",
   "id": "89dd6831-3fa7-493c-85a3-d01fabf57a6d",
   "metadata": {
    "jp-MarkdownHeadingCollapsed": true,
    "tags": []
   },
   "source": [
    "#### **get_results** vs. **iterator**: Getting all results in a single call or as batches in iterative calls"
   ]
  },
  {
   "cell_type": "code",
   "execution_count": 33,
   "id": "bcb91f6b-283b-4630-bf6b-926f2105f223",
   "metadata": {
    "tags": []
   },
   "outputs": [
    {
     "name": "stdout",
     "output_type": "stream",
     "text": [
      "Total results with a single call to get_results: 20631\n",
      "\n",
      "Result iterating in batches of 60 documents:\n",
      "In this iteration I have 60 publications\n",
      "In this iteration I have 60 publications\n",
      "In this iteration I have 60 publications\n",
      "In this iteration I have 60 publications\n",
      "In this iteration I have 60 publications\n",
      "In this iteration I have 60 publications\n",
      "In this iteration I have 60 publications\n",
      "In this iteration I have 60 publications\n",
      "In this iteration I have 60 publications\n",
      "In this iteration I have 60 publications\n",
      "In this iteration I have 60 publications\n",
      "In this iteration I have 60 publications\n",
      "In this iteration I have 60 publications\n",
      "In this iteration I have 60 publications\n",
      "In this iteration I have 60 publications\n",
      "In this iteration I have 60 publications\n",
      "In this iteration I have 60 publications\n",
      "In this iteration I have 60 publications\n",
      "In this iteration I have 60 publications\n",
      "In this iteration I have 60 publications\n",
      "In this iteration I have 60 publications\n",
      "In this iteration I have 60 publications\n",
      "In this iteration I have 60 publications\n",
      "In this iteration I have 60 publications\n",
      "In this iteration I have 60 publications\n",
      "In this iteration I have 60 publications\n",
      "In this iteration I have 60 publications\n",
      "In this iteration I have 60 publications\n",
      "In this iteration I have 60 publications\n",
      "In this iteration I have 60 publications\n",
      "In this iteration I have 60 publications\n",
      "In this iteration I have 60 publications\n",
      "In this iteration I have 60 publications\n",
      "In this iteration I have 60 publications\n",
      "In this iteration I have 60 publications\n",
      "In this iteration I have 60 publications\n",
      "In this iteration I have 60 publications\n",
      "In this iteration I have 60 publications\n",
      "In this iteration I have 60 publications\n",
      "In this iteration I have 60 publications\n",
      "In this iteration I have 60 publications\n",
      "In this iteration I have 60 publications\n",
      "In this iteration I have 60 publications\n",
      "In this iteration I have 60 publications\n",
      "In this iteration I have 60 publications\n",
      "In this iteration I have 60 publications\n",
      "In this iteration I have 60 publications\n",
      "In this iteration I have 60 publications\n",
      "In this iteration I have 60 publications\n",
      "In this iteration I have 60 publications\n",
      "In this iteration I have 60 publications\n",
      "In this iteration I have 60 publications\n",
      "In this iteration I have 60 publications\n",
      "In this iteration I have 60 publications\n",
      "In this iteration I have 60 publications\n",
      "In this iteration I have 60 publications\n",
      "In this iteration I have 60 publications\n",
      "In this iteration I have 60 publications\n",
      "In this iteration I have 60 publications\n",
      "In this iteration I have 60 publications\n",
      "In this iteration I have 60 publications\n",
      "In this iteration I have 60 publications\n",
      "In this iteration I have 60 publications\n",
      "In this iteration I have 60 publications\n",
      "In this iteration I have 60 publications\n",
      "In this iteration I have 60 publications\n",
      "In this iteration I have 60 publications\n",
      "In this iteration I have 60 publications\n",
      "In this iteration I have 60 publications\n",
      "In this iteration I have 60 publications\n",
      "In this iteration I have 60 publications\n",
      "In this iteration I have 60 publications\n",
      "In this iteration I have 60 publications\n",
      "In this iteration I have 60 publications\n",
      "In this iteration I have 60 publications\n",
      "In this iteration I have 60 publications\n",
      "In this iteration I have 60 publications\n",
      "In this iteration I have 60 publications\n",
      "In this iteration I have 60 publications\n",
      "In this iteration I have 60 publications\n",
      "In this iteration I have 60 publications\n",
      "In this iteration I have 60 publications\n",
      "In this iteration I have 60 publications\n",
      "In this iteration I have 60 publications\n",
      "In this iteration I have 60 publications\n",
      "In this iteration I have 60 publications\n",
      "In this iteration I have 60 publications\n",
      "In this iteration I have 60 publications\n",
      "In this iteration I have 60 publications\n",
      "In this iteration I have 60 publications\n",
      "In this iteration I have 60 publications\n",
      "In this iteration I have 60 publications\n",
      "In this iteration I have 60 publications\n",
      "In this iteration I have 60 publications\n",
      "In this iteration I have 60 publications\n",
      "In this iteration I have 60 publications\n",
      "In this iteration I have 60 publications\n",
      "In this iteration I have 60 publications\n",
      "In this iteration I have 60 publications\n",
      "In this iteration I have 60 publications\n",
      "In this iteration I have 60 publications\n",
      "In this iteration I have 60 publications\n",
      "In this iteration I have 60 publications\n",
      "In this iteration I have 60 publications\n",
      "In this iteration I have 60 publications\n",
      "In this iteration I have 60 publications\n",
      "In this iteration I have 60 publications\n",
      "In this iteration I have 60 publications\n",
      "In this iteration I have 60 publications\n",
      "In this iteration I have 60 publications\n",
      "In this iteration I have 60 publications\n",
      "In this iteration I have 60 publications\n",
      "In this iteration I have 60 publications\n",
      "In this iteration I have 60 publications\n",
      "In this iteration I have 60 publications\n",
      "In this iteration I have 60 publications\n",
      "In this iteration I have 60 publications\n",
      "In this iteration I have 60 publications\n",
      "In this iteration I have 60 publications\n",
      "In this iteration I have 60 publications\n",
      "In this iteration I have 60 publications\n",
      "In this iteration I have 60 publications\n",
      "In this iteration I have 60 publications\n",
      "In this iteration I have 60 publications\n",
      "In this iteration I have 60 publications\n",
      "In this iteration I have 60 publications\n",
      "In this iteration I have 60 publications\n",
      "In this iteration I have 60 publications\n",
      "In this iteration I have 60 publications\n",
      "In this iteration I have 60 publications\n",
      "In this iteration I have 60 publications\n",
      "In this iteration I have 60 publications\n",
      "In this iteration I have 60 publications\n",
      "In this iteration I have 60 publications\n",
      "In this iteration I have 60 publications\n",
      "In this iteration I have 60 publications\n",
      "In this iteration I have 60 publications\n",
      "In this iteration I have 60 publications\n",
      "In this iteration I have 60 publications\n",
      "In this iteration I have 60 publications\n",
      "In this iteration I have 60 publications\n",
      "In this iteration I have 60 publications\n",
      "In this iteration I have 60 publications\n",
      "In this iteration I have 60 publications\n",
      "In this iteration I have 60 publications\n",
      "In this iteration I have 60 publications\n",
      "In this iteration I have 60 publications\n",
      "In this iteration I have 60 publications\n",
      "In this iteration I have 60 publications\n",
      "In this iteration I have 60 publications\n",
      "In this iteration I have 60 publications\n",
      "In this iteration I have 60 publications\n",
      "In this iteration I have 60 publications\n",
      "In this iteration I have 60 publications\n",
      "In this iteration I have 60 publications\n",
      "In this iteration I have 60 publications\n",
      "In this iteration I have 60 publications\n",
      "In this iteration I have 60 publications\n",
      "In this iteration I have 60 publications\n",
      "In this iteration I have 60 publications\n",
      "In this iteration I have 60 publications\n",
      "In this iteration I have 60 publications\n",
      "In this iteration I have 60 publications\n",
      "In this iteration I have 60 publications\n",
      "In this iteration I have 60 publications\n",
      "In this iteration I have 60 publications\n",
      "In this iteration I have 60 publications\n",
      "In this iteration I have 60 publications\n",
      "In this iteration I have 60 publications\n",
      "In this iteration I have 60 publications\n",
      "In this iteration I have 60 publications\n",
      "In this iteration I have 60 publications\n",
      "In this iteration I have 60 publications\n",
      "In this iteration I have 60 publications\n",
      "In this iteration I have 60 publications\n",
      "In this iteration I have 60 publications\n",
      "In this iteration I have 60 publications\n",
      "In this iteration I have 60 publications\n",
      "In this iteration I have 60 publications\n",
      "In this iteration I have 60 publications\n",
      "In this iteration I have 60 publications\n",
      "In this iteration I have 60 publications\n",
      "In this iteration I have 60 publications\n",
      "In this iteration I have 60 publications\n",
      "In this iteration I have 60 publications\n",
      "In this iteration I have 60 publications\n",
      "In this iteration I have 60 publications\n",
      "In this iteration I have 60 publications\n",
      "In this iteration I have 60 publications\n",
      "In this iteration I have 60 publications\n",
      "In this iteration I have 60 publications\n",
      "In this iteration I have 60 publications\n",
      "In this iteration I have 60 publications\n",
      "In this iteration I have 60 publications\n",
      "In this iteration I have 60 publications\n",
      "In this iteration I have 60 publications\n",
      "In this iteration I have 60 publications\n",
      "In this iteration I have 60 publications\n",
      "In this iteration I have 60 publications\n",
      "In this iteration I have 60 publications\n",
      "In this iteration I have 60 publications\n",
      "In this iteration I have 60 publications\n",
      "In this iteration I have 60 publications\n",
      "In this iteration I have 60 publications\n",
      "In this iteration I have 60 publications\n",
      "In this iteration I have 60 publications\n",
      "In this iteration I have 60 publications\n",
      "In this iteration I have 60 publications\n",
      "In this iteration I have 60 publications\n",
      "In this iteration I have 60 publications\n",
      "In this iteration I have 60 publications\n",
      "In this iteration I have 60 publications\n",
      "In this iteration I have 60 publications\n",
      "In this iteration I have 60 publications\n",
      "In this iteration I have 60 publications\n",
      "In this iteration I have 60 publications\n",
      "In this iteration I have 60 publications\n",
      "In this iteration I have 60 publications\n",
      "In this iteration I have 60 publications\n",
      "In this iteration I have 60 publications\n",
      "In this iteration I have 60 publications\n",
      "In this iteration I have 60 publications\n",
      "In this iteration I have 60 publications\n",
      "In this iteration I have 60 publications\n",
      "In this iteration I have 60 publications\n",
      "In this iteration I have 60 publications\n",
      "In this iteration I have 60 publications\n",
      "In this iteration I have 60 publications\n",
      "In this iteration I have 60 publications\n",
      "In this iteration I have 60 publications\n",
      "In this iteration I have 60 publications\n",
      "In this iteration I have 60 publications\n",
      "In this iteration I have 60 publications\n",
      "In this iteration I have 60 publications\n",
      "In this iteration I have 60 publications\n",
      "In this iteration I have 60 publications\n",
      "In this iteration I have 60 publications\n",
      "In this iteration I have 60 publications\n",
      "In this iteration I have 60 publications\n",
      "In this iteration I have 60 publications\n",
      "In this iteration I have 60 publications\n",
      "In this iteration I have 60 publications\n",
      "In this iteration I have 60 publications\n",
      "In this iteration I have 60 publications\n",
      "In this iteration I have 60 publications\n",
      "In this iteration I have 60 publications\n",
      "In this iteration I have 60 publications\n",
      "In this iteration I have 60 publications\n",
      "In this iteration I have 60 publications\n",
      "In this iteration I have 60 publications\n",
      "In this iteration I have 60 publications\n",
      "In this iteration I have 60 publications\n",
      "In this iteration I have 60 publications\n",
      "In this iteration I have 60 publications\n",
      "In this iteration I have 60 publications\n",
      "In this iteration I have 60 publications\n",
      "In this iteration I have 60 publications\n",
      "In this iteration I have 60 publications\n",
      "In this iteration I have 60 publications\n",
      "In this iteration I have 60 publications\n",
      "In this iteration I have 60 publications\n",
      "In this iteration I have 60 publications\n",
      "In this iteration I have 60 publications\n",
      "In this iteration I have 60 publications\n",
      "In this iteration I have 60 publications\n",
      "In this iteration I have 60 publications\n",
      "In this iteration I have 60 publications\n",
      "In this iteration I have 60 publications\n",
      "In this iteration I have 60 publications\n",
      "In this iteration I have 60 publications\n",
      "In this iteration I have 60 publications\n",
      "In this iteration I have 60 publications\n",
      "In this iteration I have 60 publications\n",
      "In this iteration I have 60 publications\n",
      "In this iteration I have 60 publications\n",
      "In this iteration I have 60 publications\n",
      "In this iteration I have 60 publications\n",
      "In this iteration I have 60 publications\n",
      "In this iteration I have 60 publications\n",
      "In this iteration I have 60 publications\n",
      "In this iteration I have 60 publications\n",
      "In this iteration I have 60 publications\n",
      "In this iteration I have 60 publications\n",
      "In this iteration I have 60 publications\n",
      "In this iteration I have 60 publications\n",
      "In this iteration I have 60 publications\n",
      "In this iteration I have 60 publications\n",
      "In this iteration I have 60 publications\n",
      "In this iteration I have 60 publications\n",
      "In this iteration I have 60 publications\n",
      "In this iteration I have 60 publications\n",
      "In this iteration I have 60 publications\n",
      "In this iteration I have 60 publications\n",
      "In this iteration I have 60 publications\n",
      "In this iteration I have 60 publications\n",
      "In this iteration I have 60 publications\n",
      "In this iteration I have 60 publications\n",
      "In this iteration I have 60 publications\n",
      "In this iteration I have 60 publications\n",
      "In this iteration I have 60 publications\n",
      "In this iteration I have 60 publications\n",
      "In this iteration I have 60 publications\n",
      "In this iteration I have 60 publications\n",
      "In this iteration I have 60 publications\n",
      "In this iteration I have 60 publications\n",
      "In this iteration I have 60 publications\n",
      "In this iteration I have 60 publications\n",
      "In this iteration I have 60 publications\n",
      "In this iteration I have 60 publications\n",
      "In this iteration I have 60 publications\n",
      "In this iteration I have 60 publications\n",
      "In this iteration I have 60 publications\n",
      "In this iteration I have 60 publications\n",
      "In this iteration I have 60 publications\n",
      "In this iteration I have 60 publications\n",
      "In this iteration I have 60 publications\n",
      "In this iteration I have 60 publications\n",
      "In this iteration I have 60 publications\n",
      "In this iteration I have 60 publications\n",
      "In this iteration I have 60 publications\n",
      "In this iteration I have 60 publications\n",
      "In this iteration I have 60 publications\n",
      "In this iteration I have 60 publications\n",
      "In this iteration I have 60 publications\n",
      "In this iteration I have 60 publications\n",
      "In this iteration I have 60 publications\n",
      "In this iteration I have 60 publications\n",
      "In this iteration I have 60 publications\n",
      "In this iteration I have 60 publications\n",
      "In this iteration I have 60 publications\n",
      "In this iteration I have 60 publications\n",
      "In this iteration I have 60 publications\n",
      "In this iteration I have 60 publications\n",
      "In this iteration I have 60 publications\n",
      "In this iteration I have 60 publications\n",
      "In this iteration I have 60 publications\n",
      "In this iteration I have 60 publications\n",
      "In this iteration I have 60 publications\n",
      "In this iteration I have 60 publications\n",
      "In this iteration I have 60 publications\n",
      "In this iteration I have 60 publications\n",
      "In this iteration I have 60 publications\n",
      "In this iteration I have 60 publications\n",
      "In this iteration I have 51 publications\n"
     ]
    }
   ],
   "source": [
    "# Single call: Simpler, but cannot scale for big number of documents (memory, execution time etc)\n",
    "all_results = q.get_results(\"title.en\")\n",
    "print(\"Total results with a single call to get_results:\", len(all_results))\n",
    "\n",
    "# Iterative data retrieval: Allows streamed data processing. Ideal for big data sets\n",
    "print(\"\\nResult iterating in batches of 60 documents:\")\n",
    "for batch in q.iterator(\"title.en\", batch_size=60):\n",
    "    print(f\"In this iteration I have {len(batch)} publications\")"
   ]
  },
  {
   "cell_type": "markdown",
   "id": "59898630-b57c-456e-b807-5db57d399f6d",
   "metadata": {
    "tags": []
   },
   "source": [
    "#### Limiting number of results"
   ]
  },
  {
   "cell_type": "code",
   "execution_count": 34,
   "id": "a0b4c2bb-120b-4b39-98b9-1825c5cbb597",
   "metadata": {
    "tags": []
   },
   "outputs": [
    {
     "data": {
      "text/html": [
       "<div>\n",
       "<style scoped>\n",
       "    .dataframe tbody tr th:only-of-type {\n",
       "        vertical-align: middle;\n",
       "    }\n",
       "\n",
       "    .dataframe tbody tr th {\n",
       "        vertical-align: top;\n",
       "    }\n",
       "\n",
       "    .dataframe thead th {\n",
       "        text-align: right;\n",
       "    }\n",
       "</style>\n",
       "<table border=\"1\" class=\"dataframe\">\n",
       "  <thead>\n",
       "    <tr style=\"text-align: right;\">\n",
       "      <th></th>\n",
       "      <th>publication.country</th>\n",
       "      <th>publication.number</th>\n",
       "      <th>publication.kind</th>\n",
       "      <th>publication.date</th>\n",
       "      <th>publication.language</th>\n",
       "    </tr>\n",
       "  </thead>\n",
       "  <tbody>\n",
       "    <tr>\n",
       "      <th>0</th>\n",
       "      <td>EP</td>\n",
       "      <td>2384335</td>\n",
       "      <td>A1</td>\n",
       "      <td>20111109</td>\n",
       "      <td>EN</td>\n",
       "    </tr>\n",
       "    <tr>\n",
       "      <th>1</th>\n",
       "      <td>EP</td>\n",
       "      <td>2384595</td>\n",
       "      <td>A1</td>\n",
       "      <td>20111109</td>\n",
       "      <td>EN</td>\n",
       "    </tr>\n",
       "  </tbody>\n",
       "</table>\n",
       "</div>"
      ],
      "text/plain": [
       "  publication.country publication.number publication.kind publication.date  \\\n",
       "0                  EP            2384335               A1         20111109   \n",
       "1                  EP            2384595               A1         20111109   \n",
       "\n",
       "  publication.language  \n",
       "0                   EN  \n",
       "1                   EN  "
      ]
     },
     "execution_count": 34,
     "metadata": {},
     "output_type": "execute_result"
    }
   ],
   "source": [
    "q.get_results(\"publication\", limit=2)"
   ]
  },
  {
   "cell_type": "markdown",
   "id": "4f02fd52-6a47-4005-9cb8-9af6772006f3",
   "metadata": {
    "jp-MarkdownHeadingCollapsed": true,
    "tags": []
   },
   "source": [
    "### What can I retrieve? "
   ]
  },
  {
   "cell_type": "markdown",
   "id": "516e3a2b-2852-4be1-8be9-b7af82174a38",
   "metadata": {
    "tags": []
   },
   "source": [
    "All database fields listed by the `fields()` method are available for retrieval, and will be returned according to such schema.<br>\n",
    "In this way, the returned results are always consistent with a predefined model.  "
   ]
  },
  {
   "cell_type": "code",
   "execution_count": 35,
   "id": "aafb4d86-17f6-4f40-96ff-2a6092b119a9",
   "metadata": {
    "tags": []
   },
   "outputs": [
    {
     "data": {
      "application/vnd.jupyter.widget-view+json": {
       "model_id": "c1e0fa74f4dd48b59992515f103e93e0",
       "version_major": 2,
       "version_minor": 0
      },
      "text/plain": [
       "WidDatabaseFields(header='', input_data={'': [{'name': 'epab_doc_id', 'type': 'STRING', 'mode': 'REQUIRED', 'd…"
      ]
     },
     "execution_count": 35,
     "metadata": {},
     "output_type": "execute_result"
    }
   ],
   "source": [
    "epab.fields()"
   ]
  },
  {
   "cell_type": "markdown",
   "id": "2d48831c-4945-46c8-a548-e382400a44d4",
   "metadata": {
    "tags": []
   },
   "source": [
    "The content of a record can be returned with all its fields, e.g. "
   ]
  },
  {
   "cell_type": "code",
   "execution_count": 36,
   "id": "a6d70a64-55e7-4e20-b56e-df54d1fe11ac",
   "metadata": {
    "tags": []
   },
   "outputs": [
    {
     "data": {
      "text/plain": [
       "[{'publication': {'country': 'EP',\n",
       "   'number': '2384335',\n",
       "   'kind': 'A1',\n",
       "   'date': '20111109',\n",
       "   'language': 'EN'}},\n",
       " {'publication': {'country': 'EP',\n",
       "   'number': '2384595',\n",
       "   'kind': 'A1',\n",
       "   'date': '20111109',\n",
       "   'language': 'EN'}}]"
      ]
     },
     "execution_count": 36,
     "metadata": {},
     "output_type": "execute_result"
    }
   ],
   "source": [
    "q.get_results(\"publication\", output_type=\"list\", limit=2)"
   ]
  },
  {
   "cell_type": "markdown",
   "id": "6c046289-fc70-4f65-a193-3cdd9339f49d",
   "metadata": {
    "tags": []
   },
   "source": [
    "Alternatively, it is possible to explicitly request only some sub-fields. However the structure will be preserved, e.g. "
   ]
  },
  {
   "cell_type": "code",
   "execution_count": 37,
   "id": "382cbdc8-8736-4b48-9d54-9f722ab29046",
   "metadata": {
    "tags": []
   },
   "outputs": [
    {
     "data": {
      "text/plain": [
       "[{'publication': {'kind': 'B1', 'language': 'EN'}},\n",
       " {'publication': {'kind': 'B1', 'language': 'EN'}}]"
      ]
     },
     "execution_count": 37,
     "metadata": {},
     "output_type": "execute_result"
    }
   ],
   "source": [
    "q.get_results(\"publication.kind, publication.language\", output_type=\"list\", limit=2)"
   ]
  },
  {
   "cell_type": "markdown",
   "id": "fe529f2c-754d-4902-b914-f0dfa4009cb0",
   "metadata": {
    "tags": []
   },
   "source": [
    "The fields list can be specified as comma-separated string (see above), or in a classical Python list:"
   ]
  },
  {
   "cell_type": "code",
   "execution_count": 38,
   "id": "99faccec-4852-4906-a3bc-53608198ce1b",
   "metadata": {
    "tags": []
   },
   "outputs": [
    {
     "data": {
      "text/plain": [
       "[{'publication': {'kind': 'B1', 'language': 'EN'}},\n",
       " {'publication': {'kind': 'B1', 'language': 'EN'}}]"
      ]
     },
     "execution_count": 38,
     "metadata": {},
     "output_type": "execute_result"
    }
   ],
   "source": [
    "q.get_results([\"publication.kind\", \"publication.language\"], output_type=\"list\", limit=2)"
   ]
  },
  {
   "cell_type": "markdown",
   "id": "821ffdcd-dfc9-4d96-9fa9-345907d0f874",
   "metadata": {
    "tags": []
   },
   "source": [
    "##### Retrieving supplementary publication data (drawings etc.)"
   ]
  },
  {
   "cell_type": "markdown",
   "id": "cf630c7f-8ad4-4235-8a7e-bd07128e7e69",
   "metadata": {
    "tags": []
   },
   "source": [
    "In addition to regular database fields, it is possible to retrieve also supplementary data which is attached to the publication.<br>\n",
    "A special field in the database called **attachment** provides the complete list of such data, which in short are: \n",
    "\n",
    "- The **Drawings** (*DRW*) accompaining the publication\n",
    "- The images **embedded** (*EMB*) in the description, abstract and claims (often also called \"inlines\", they typically represent mathematical expressions, chemistry formulas and tables) \n",
    "- The fac-simile of the original **Search Report** (*SREP*). Note: This is a set of images. The database also stores text information extracted from the Search Report in the fields *search_report** and *srep_citation*\n",
    "- The **Sequence Listing** (*SEQL*) files\n",
    "- The **PDF** (*PDF*) version of the original publication\n",
    "- Any **additional** (*ADD*) file accompaining the publication\n",
    "- The source ST.36 **XML file** produced by the EPO and used for extracting all the database fields. It can be useful for extracting some information not (yet) available in the database\n",
    "\n",
    "For instance: "
   ]
  },
  {
   "cell_type": "code",
   "execution_count": 39,
   "id": "c6258df8-4765-4b4d-80d0-183284f7144f",
   "metadata": {
    "tags": []
   },
   "outputs": [
    {
     "data": {
      "text/plain": [
       "[{'publication': {'language': 'EN',\n",
       "   '_field_2': [{'category': 'EMB',\n",
       "     'file_name': 'imgb0005.tif',\n",
       "     'file_format': 'PNG',\n",
       "     'drawing_id': None,\n",
       "     'drawing_number': None},\n",
       "    {'category': 'EMB',\n",
       "     'file_name': 'imgb0020.tif',\n",
       "     'file_format': 'PNG',\n",
       "     'drawing_id': None,\n",
       "     'drawing_number': None},\n",
       "    {'category': 'EMB',\n",
       "     'file_name': 'imgb0006.tif',\n",
       "     'file_format': 'PNG',\n",
       "     'drawing_id': None,\n",
       "     'drawing_number': None},\n",
       "    {'category': 'EMB',\n",
       "     'file_name': 'imgb0025.tif',\n",
       "     'file_format': 'PNG',\n",
       "     'drawing_id': None,\n",
       "     'drawing_number': None},\n",
       "    {'category': 'EMB',\n",
       "     'file_name': 'imgb0024.tif',\n",
       "     'file_format': 'PNG',\n",
       "     'drawing_id': None,\n",
       "     'drawing_number': None},\n",
       "    {'category': 'EMB',\n",
       "     'file_name': 'imgb0027.tif',\n",
       "     'file_format': 'PNG',\n",
       "     'drawing_id': None,\n",
       "     'drawing_number': None},\n",
       "    {'category': 'EMB',\n",
       "     'file_name': 'imgb0030.tif',\n",
       "     'file_format': 'PNG',\n",
       "     'drawing_id': None,\n",
       "     'drawing_number': None},\n",
       "    {'category': 'EMB',\n",
       "     'file_name': 'imgb0015.tif',\n",
       "     'file_format': 'PNG',\n",
       "     'drawing_id': None,\n",
       "     'drawing_number': None},\n",
       "    {'category': 'EMB',\n",
       "     'file_name': 'imgb0017.tif',\n",
       "     'file_format': 'PNG',\n",
       "     'drawing_id': None,\n",
       "     'drawing_number': None},\n",
       "    {'category': 'EMB',\n",
       "     'file_name': 'imgb0018.tif',\n",
       "     'file_format': 'PNG',\n",
       "     'drawing_id': None,\n",
       "     'drawing_number': None},\n",
       "    {'category': 'EMB',\n",
       "     'file_name': 'imgb0021.tif',\n",
       "     'file_format': 'PNG',\n",
       "     'drawing_id': None,\n",
       "     'drawing_number': None},\n",
       "    {'category': 'EMB',\n",
       "     'file_name': 'imgb0026.tif',\n",
       "     'file_format': 'PNG',\n",
       "     'drawing_id': None,\n",
       "     'drawing_number': None},\n",
       "    {'category': 'EMB',\n",
       "     'file_name': 'imgb0029.tif',\n",
       "     'file_format': 'PNG',\n",
       "     'drawing_id': None,\n",
       "     'drawing_number': None},\n",
       "    {'category': 'EMB',\n",
       "     'file_name': 'imgb0019.tif',\n",
       "     'file_format': 'PNG',\n",
       "     'drawing_id': None,\n",
       "     'drawing_number': None},\n",
       "    {'category': 'EMB',\n",
       "     'file_name': 'imgb0036.tif',\n",
       "     'file_format': 'PNG',\n",
       "     'drawing_id': None,\n",
       "     'drawing_number': None},\n",
       "    {'category': 'EMB',\n",
       "     'file_name': 'imgb0003.tif',\n",
       "     'file_format': 'PNG',\n",
       "     'drawing_id': None,\n",
       "     'drawing_number': None},\n",
       "    {'category': 'EMB',\n",
       "     'file_name': 'imgb0008.tif',\n",
       "     'file_format': 'PNG',\n",
       "     'drawing_id': None,\n",
       "     'drawing_number': None},\n",
       "    {'category': 'EMB',\n",
       "     'file_name': 'imgb0028.tif',\n",
       "     'file_format': 'PNG',\n",
       "     'drawing_id': None,\n",
       "     'drawing_number': None},\n",
       "    {'category': 'EMB',\n",
       "     'file_name': 'imgb0031.tif',\n",
       "     'file_format': 'PNG',\n",
       "     'drawing_id': None,\n",
       "     'drawing_number': None},\n",
       "    {'category': 'EMB',\n",
       "     'file_name': 'imgb0035.tif',\n",
       "     'file_format': 'PNG',\n",
       "     'drawing_id': None,\n",
       "     'drawing_number': None},\n",
       "    {'category': 'EMB',\n",
       "     'file_name': 'imgb0039.tif',\n",
       "     'file_format': 'PNG',\n",
       "     'drawing_id': None,\n",
       "     'drawing_number': None},\n",
       "    {'category': 'EMB',\n",
       "     'file_name': 'imgb0037.tif',\n",
       "     'file_format': 'PNG',\n",
       "     'drawing_id': None,\n",
       "     'drawing_number': None},\n",
       "    {'category': 'EMB',\n",
       "     'file_name': 'imgb0033.tif',\n",
       "     'file_format': 'PNG',\n",
       "     'drawing_id': None,\n",
       "     'drawing_number': None},\n",
       "    {'category': 'EMB',\n",
       "     'file_name': 'imgb0011.tif',\n",
       "     'file_format': 'PNG',\n",
       "     'drawing_id': None,\n",
       "     'drawing_number': None},\n",
       "    {'category': 'EMB',\n",
       "     'file_name': 'imgb0040.tif',\n",
       "     'file_format': 'PNG',\n",
       "     'drawing_id': None,\n",
       "     'drawing_number': None},\n",
       "    {'category': 'EMB',\n",
       "     'file_name': 'imgb0004.tif',\n",
       "     'file_format': 'PNG',\n",
       "     'drawing_id': None,\n",
       "     'drawing_number': None},\n",
       "    {'category': 'EMB',\n",
       "     'file_name': 'imgb0014.tif',\n",
       "     'file_format': 'PNG',\n",
       "     'drawing_id': None,\n",
       "     'drawing_number': None},\n",
       "    {'category': 'EMB',\n",
       "     'file_name': 'imgb0023.tif',\n",
       "     'file_format': 'PNG',\n",
       "     'drawing_id': None,\n",
       "     'drawing_number': None},\n",
       "    {'category': 'EMB',\n",
       "     'file_name': 'imgb0034.tif',\n",
       "     'file_format': 'PNG',\n",
       "     'drawing_id': None,\n",
       "     'drawing_number': None},\n",
       "    {'category': 'EMB',\n",
       "     'file_name': 'imgb0002.tif',\n",
       "     'file_format': 'PNG',\n",
       "     'drawing_id': None,\n",
       "     'drawing_number': None},\n",
       "    {'category': 'EMB',\n",
       "     'file_name': 'imgb0012.tif',\n",
       "     'file_format': 'PNG',\n",
       "     'drawing_id': None,\n",
       "     'drawing_number': None},\n",
       "    {'category': 'EMB',\n",
       "     'file_name': 'imgb0038.tif',\n",
       "     'file_format': 'PNG',\n",
       "     'drawing_id': None,\n",
       "     'drawing_number': None},\n",
       "    {'category': 'EMB',\n",
       "     'file_name': 'imgb0009.tif',\n",
       "     'file_format': 'PNG',\n",
       "     'drawing_id': None,\n",
       "     'drawing_number': None},\n",
       "    {'category': 'EMB',\n",
       "     'file_name': 'imgb0010.tif',\n",
       "     'file_format': 'PNG',\n",
       "     'drawing_id': None,\n",
       "     'drawing_number': None},\n",
       "    {'category': 'EMB',\n",
       "     'file_name': 'imgb0001.tif',\n",
       "     'file_format': 'PNG',\n",
       "     'drawing_id': None,\n",
       "     'drawing_number': None},\n",
       "    {'category': 'EMB',\n",
       "     'file_name': 'imgb0013.tif',\n",
       "     'file_format': 'PNG',\n",
       "     'drawing_id': None,\n",
       "     'drawing_number': None},\n",
       "    {'category': 'EMB',\n",
       "     'file_name': 'imgb0016.tif',\n",
       "     'file_format': 'PNG',\n",
       "     'drawing_id': None,\n",
       "     'drawing_number': None},\n",
       "    {'category': 'EMB',\n",
       "     'file_name': 'imgb0022.tif',\n",
       "     'file_format': 'PNG',\n",
       "     'drawing_id': None,\n",
       "     'drawing_number': None},\n",
       "    {'category': 'EMB',\n",
       "     'file_name': 'imgb0007.tif',\n",
       "     'file_format': 'PNG',\n",
       "     'drawing_id': None,\n",
       "     'drawing_number': None},\n",
       "    {'category': 'EMB',\n",
       "     'file_name': 'imgb0032.tif',\n",
       "     'file_format': 'PNG',\n",
       "     'drawing_id': None,\n",
       "     'drawing_number': None},\n",
       "    {'category': 'DRW',\n",
       "     'file_name': 'imgf0002.tif',\n",
       "     'file_format': 'PNG',\n",
       "     'drawing_id': 'f0001',\n",
       "     'drawing_number': '1'},\n",
       "    {'category': 'DRW',\n",
       "     'file_name': 'imgf0003.tif',\n",
       "     'file_format': 'PNG',\n",
       "     'drawing_id': 'f0002',\n",
       "     'drawing_number': '2(a),2(b)'},\n",
       "    {'category': 'DRW',\n",
       "     'file_name': 'imgf0007.tif',\n",
       "     'file_format': 'PNG',\n",
       "     'drawing_id': 'f0003',\n",
       "     'drawing_number': '3'},\n",
       "    {'category': 'DRW',\n",
       "     'file_name': 'imgf0009.tif',\n",
       "     'file_format': 'PNG',\n",
       "     'drawing_id': 'f0004',\n",
       "     'drawing_number': '4(a),4(b),5'},\n",
       "    {'category': 'DRW',\n",
       "     'file_name': 'imgf0004.tif',\n",
       "     'file_format': 'PNG',\n",
       "     'drawing_id': 'f0005',\n",
       "     'drawing_number': '6'},\n",
       "    {'category': 'DRW',\n",
       "     'file_name': 'imgf0010.tif',\n",
       "     'file_format': 'PNG',\n",
       "     'drawing_id': 'f0006',\n",
       "     'drawing_number': '7(a),7(b),7(c),7(d)'},\n",
       "    {'category': 'DRW',\n",
       "     'file_name': 'imgf0001.tif',\n",
       "     'file_format': 'PNG',\n",
       "     'drawing_id': 'f0007',\n",
       "     'drawing_number': '8(a),8(b),8(c),8(d)'},\n",
       "    {'category': 'DRW',\n",
       "     'file_name': 'imgf0011.tif',\n",
       "     'file_format': 'PNG',\n",
       "     'drawing_id': 'f0008',\n",
       "     'drawing_number': '9A,9B,9C,9D,9E,9'},\n",
       "    {'category': 'DRW',\n",
       "     'file_name': 'imgf0012.tif',\n",
       "     'file_format': 'PNG',\n",
       "     'drawing_id': 'f0009',\n",
       "     'drawing_number': '10'},\n",
       "    {'category': 'DRW',\n",
       "     'file_name': 'imgf0013.tif',\n",
       "     'file_format': 'PNG',\n",
       "     'drawing_id': 'f0010',\n",
       "     'drawing_number': '11'},\n",
       "    {'category': 'DRW',\n",
       "     'file_name': 'imgf0005.tif',\n",
       "     'file_format': 'PNG',\n",
       "     'drawing_id': 'f0011',\n",
       "     'drawing_number': '12,13'},\n",
       "    {'category': 'DRW',\n",
       "     'file_name': 'imgf0020.tif',\n",
       "     'file_format': 'PNG',\n",
       "     'drawing_id': 'f0012',\n",
       "     'drawing_number': '14,15'},\n",
       "    {'category': 'DRW',\n",
       "     'file_name': 'imgf0017.tif',\n",
       "     'file_format': 'PNG',\n",
       "     'drawing_id': 'f0013',\n",
       "     'drawing_number': '16,17'},\n",
       "    {'category': 'DRW',\n",
       "     'file_name': 'imgf0018.tif',\n",
       "     'file_format': 'PNG',\n",
       "     'drawing_id': 'f0014',\n",
       "     'drawing_number': '18,19'},\n",
       "    {'category': 'DRW',\n",
       "     'file_name': 'imgf0015.tif',\n",
       "     'file_format': 'PNG',\n",
       "     'drawing_id': 'f0015',\n",
       "     'drawing_number': '20,21'},\n",
       "    {'category': 'DRW',\n",
       "     'file_name': 'imgf0019.tif',\n",
       "     'file_format': 'PNG',\n",
       "     'drawing_id': 'f0016',\n",
       "     'drawing_number': '22,23'},\n",
       "    {'category': 'DRW',\n",
       "     'file_name': 'imgf0008.tif',\n",
       "     'file_format': 'PNG',\n",
       "     'drawing_id': 'f0017',\n",
       "     'drawing_number': '24,25'},\n",
       "    {'category': 'DRW',\n",
       "     'file_name': 'imgf0014.tif',\n",
       "     'file_format': 'PNG',\n",
       "     'drawing_id': 'f0018',\n",
       "     'drawing_number': '26,27'},\n",
       "    {'category': 'DRW',\n",
       "     'file_name': 'imgf0006.tif',\n",
       "     'file_format': 'PNG',\n",
       "     'drawing_id': 'f0019',\n",
       "     'drawing_number': '28,29'},\n",
       "    {'category': 'DRW',\n",
       "     'file_name': 'imgf0016.tif',\n",
       "     'file_format': 'PNG',\n",
       "     'drawing_id': 'f0020',\n",
       "     'drawing_number': '30'},\n",
       "    {'category': 'PDF',\n",
       "     'file_name': 'EP10765607NWB1.pdf',\n",
       "     'file_format': 'PDF',\n",
       "     'drawing_id': None,\n",
       "     'drawing_number': None},\n",
       "    {'category': 'XML',\n",
       "     'file_name': 'EP10765607NWB1.xml',\n",
       "     'file_format': 'XML',\n",
       "     'drawing_id': None,\n",
       "     'drawing_number': None}],\n",
       "   'attachment': [{'category': 'EMB',\n",
       "     'file_name': 'imgb0005.tif',\n",
       "     'file_format': 'PNG',\n",
       "     'drawing_id': None,\n",
       "     'drawing_number': None},\n",
       "    {'category': 'EMB',\n",
       "     'file_name': 'imgb0020.tif',\n",
       "     'file_format': 'PNG',\n",
       "     'drawing_id': None,\n",
       "     'drawing_number': None},\n",
       "    {'category': 'EMB',\n",
       "     'file_name': 'imgb0006.tif',\n",
       "     'file_format': 'PNG',\n",
       "     'drawing_id': None,\n",
       "     'drawing_number': None},\n",
       "    {'category': 'EMB',\n",
       "     'file_name': 'imgb0025.tif',\n",
       "     'file_format': 'PNG',\n",
       "     'drawing_id': None,\n",
       "     'drawing_number': None},\n",
       "    {'category': 'EMB',\n",
       "     'file_name': 'imgb0024.tif',\n",
       "     'file_format': 'PNG',\n",
       "     'drawing_id': None,\n",
       "     'drawing_number': None},\n",
       "    {'category': 'EMB',\n",
       "     'file_name': 'imgb0027.tif',\n",
       "     'file_format': 'PNG',\n",
       "     'drawing_id': None,\n",
       "     'drawing_number': None},\n",
       "    {'category': 'EMB',\n",
       "     'file_name': 'imgb0030.tif',\n",
       "     'file_format': 'PNG',\n",
       "     'drawing_id': None,\n",
       "     'drawing_number': None},\n",
       "    {'category': 'EMB',\n",
       "     'file_name': 'imgb0015.tif',\n",
       "     'file_format': 'PNG',\n",
       "     'drawing_id': None,\n",
       "     'drawing_number': None},\n",
       "    {'category': 'EMB',\n",
       "     'file_name': 'imgb0017.tif',\n",
       "     'file_format': 'PNG',\n",
       "     'drawing_id': None,\n",
       "     'drawing_number': None},\n",
       "    {'category': 'EMB',\n",
       "     'file_name': 'imgb0018.tif',\n",
       "     'file_format': 'PNG',\n",
       "     'drawing_id': None,\n",
       "     'drawing_number': None},\n",
       "    {'category': 'EMB',\n",
       "     'file_name': 'imgb0021.tif',\n",
       "     'file_format': 'PNG',\n",
       "     'drawing_id': None,\n",
       "     'drawing_number': None},\n",
       "    {'category': 'EMB',\n",
       "     'file_name': 'imgb0026.tif',\n",
       "     'file_format': 'PNG',\n",
       "     'drawing_id': None,\n",
       "     'drawing_number': None},\n",
       "    {'category': 'EMB',\n",
       "     'file_name': 'imgb0029.tif',\n",
       "     'file_format': 'PNG',\n",
       "     'drawing_id': None,\n",
       "     'drawing_number': None},\n",
       "    {'category': 'EMB',\n",
       "     'file_name': 'imgb0019.tif',\n",
       "     'file_format': 'PNG',\n",
       "     'drawing_id': None,\n",
       "     'drawing_number': None},\n",
       "    {'category': 'EMB',\n",
       "     'file_name': 'imgb0036.tif',\n",
       "     'file_format': 'PNG',\n",
       "     'drawing_id': None,\n",
       "     'drawing_number': None},\n",
       "    {'category': 'EMB',\n",
       "     'file_name': 'imgb0003.tif',\n",
       "     'file_format': 'PNG',\n",
       "     'drawing_id': None,\n",
       "     'drawing_number': None},\n",
       "    {'category': 'EMB',\n",
       "     'file_name': 'imgb0008.tif',\n",
       "     'file_format': 'PNG',\n",
       "     'drawing_id': None,\n",
       "     'drawing_number': None},\n",
       "    {'category': 'EMB',\n",
       "     'file_name': 'imgb0028.tif',\n",
       "     'file_format': 'PNG',\n",
       "     'drawing_id': None,\n",
       "     'drawing_number': None},\n",
       "    {'category': 'EMB',\n",
       "     'file_name': 'imgb0031.tif',\n",
       "     'file_format': 'PNG',\n",
       "     'drawing_id': None,\n",
       "     'drawing_number': None},\n",
       "    {'category': 'EMB',\n",
       "     'file_name': 'imgb0035.tif',\n",
       "     'file_format': 'PNG',\n",
       "     'drawing_id': None,\n",
       "     'drawing_number': None},\n",
       "    {'category': 'EMB',\n",
       "     'file_name': 'imgb0039.tif',\n",
       "     'file_format': 'PNG',\n",
       "     'drawing_id': None,\n",
       "     'drawing_number': None},\n",
       "    {'category': 'EMB',\n",
       "     'file_name': 'imgb0037.tif',\n",
       "     'file_format': 'PNG',\n",
       "     'drawing_id': None,\n",
       "     'drawing_number': None},\n",
       "    {'category': 'EMB',\n",
       "     'file_name': 'imgb0033.tif',\n",
       "     'file_format': 'PNG',\n",
       "     'drawing_id': None,\n",
       "     'drawing_number': None},\n",
       "    {'category': 'EMB',\n",
       "     'file_name': 'imgb0011.tif',\n",
       "     'file_format': 'PNG',\n",
       "     'drawing_id': None,\n",
       "     'drawing_number': None},\n",
       "    {'category': 'EMB',\n",
       "     'file_name': 'imgb0040.tif',\n",
       "     'file_format': 'PNG',\n",
       "     'drawing_id': None,\n",
       "     'drawing_number': None},\n",
       "    {'category': 'EMB',\n",
       "     'file_name': 'imgb0004.tif',\n",
       "     'file_format': 'PNG',\n",
       "     'drawing_id': None,\n",
       "     'drawing_number': None},\n",
       "    {'category': 'EMB',\n",
       "     'file_name': 'imgb0014.tif',\n",
       "     'file_format': 'PNG',\n",
       "     'drawing_id': None,\n",
       "     'drawing_number': None},\n",
       "    {'category': 'EMB',\n",
       "     'file_name': 'imgb0023.tif',\n",
       "     'file_format': 'PNG',\n",
       "     'drawing_id': None,\n",
       "     'drawing_number': None},\n",
       "    {'category': 'EMB',\n",
       "     'file_name': 'imgb0034.tif',\n",
       "     'file_format': 'PNG',\n",
       "     'drawing_id': None,\n",
       "     'drawing_number': None},\n",
       "    {'category': 'EMB',\n",
       "     'file_name': 'imgb0002.tif',\n",
       "     'file_format': 'PNG',\n",
       "     'drawing_id': None,\n",
       "     'drawing_number': None},\n",
       "    {'category': 'EMB',\n",
       "     'file_name': 'imgb0012.tif',\n",
       "     'file_format': 'PNG',\n",
       "     'drawing_id': None,\n",
       "     'drawing_number': None},\n",
       "    {'category': 'EMB',\n",
       "     'file_name': 'imgb0038.tif',\n",
       "     'file_format': 'PNG',\n",
       "     'drawing_id': None,\n",
       "     'drawing_number': None},\n",
       "    {'category': 'EMB',\n",
       "     'file_name': 'imgb0009.tif',\n",
       "     'file_format': 'PNG',\n",
       "     'drawing_id': None,\n",
       "     'drawing_number': None},\n",
       "    {'category': 'EMB',\n",
       "     'file_name': 'imgb0010.tif',\n",
       "     'file_format': 'PNG',\n",
       "     'drawing_id': None,\n",
       "     'drawing_number': None},\n",
       "    {'category': 'EMB',\n",
       "     'file_name': 'imgb0001.tif',\n",
       "     'file_format': 'PNG',\n",
       "     'drawing_id': None,\n",
       "     'drawing_number': None},\n",
       "    {'category': 'EMB',\n",
       "     'file_name': 'imgb0013.tif',\n",
       "     'file_format': 'PNG',\n",
       "     'drawing_id': None,\n",
       "     'drawing_number': None},\n",
       "    {'category': 'EMB',\n",
       "     'file_name': 'imgb0016.tif',\n",
       "     'file_format': 'PNG',\n",
       "     'drawing_id': None,\n",
       "     'drawing_number': None},\n",
       "    {'category': 'EMB',\n",
       "     'file_name': 'imgb0022.tif',\n",
       "     'file_format': 'PNG',\n",
       "     'drawing_id': None,\n",
       "     'drawing_number': None},\n",
       "    {'category': 'EMB',\n",
       "     'file_name': 'imgb0007.tif',\n",
       "     'file_format': 'PNG',\n",
       "     'drawing_id': None,\n",
       "     'drawing_number': None},\n",
       "    {'category': 'EMB',\n",
       "     'file_name': 'imgb0032.tif',\n",
       "     'file_format': 'PNG',\n",
       "     'drawing_id': None,\n",
       "     'drawing_number': None},\n",
       "    {'category': 'DRW',\n",
       "     'file_name': 'imgf0002.tif',\n",
       "     'file_format': 'PNG',\n",
       "     'drawing_id': 'f0001',\n",
       "     'drawing_number': '1'},\n",
       "    {'category': 'DRW',\n",
       "     'file_name': 'imgf0003.tif',\n",
       "     'file_format': 'PNG',\n",
       "     'drawing_id': 'f0002',\n",
       "     'drawing_number': '2(a),2(b)'},\n",
       "    {'category': 'DRW',\n",
       "     'file_name': 'imgf0007.tif',\n",
       "     'file_format': 'PNG',\n",
       "     'drawing_id': 'f0003',\n",
       "     'drawing_number': '3'},\n",
       "    {'category': 'DRW',\n",
       "     'file_name': 'imgf0009.tif',\n",
       "     'file_format': 'PNG',\n",
       "     'drawing_id': 'f0004',\n",
       "     'drawing_number': '4(a),4(b),5'},\n",
       "    {'category': 'DRW',\n",
       "     'file_name': 'imgf0004.tif',\n",
       "     'file_format': 'PNG',\n",
       "     'drawing_id': 'f0005',\n",
       "     'drawing_number': '6'},\n",
       "    {'category': 'DRW',\n",
       "     'file_name': 'imgf0010.tif',\n",
       "     'file_format': 'PNG',\n",
       "     'drawing_id': 'f0006',\n",
       "     'drawing_number': '7(a),7(b),7(c),7(d)'},\n",
       "    {'category': 'DRW',\n",
       "     'file_name': 'imgf0001.tif',\n",
       "     'file_format': 'PNG',\n",
       "     'drawing_id': 'f0007',\n",
       "     'drawing_number': '8(a),8(b),8(c),8(d)'},\n",
       "    {'category': 'DRW',\n",
       "     'file_name': 'imgf0011.tif',\n",
       "     'file_format': 'PNG',\n",
       "     'drawing_id': 'f0008',\n",
       "     'drawing_number': '9A,9B,9C,9D,9E,9'},\n",
       "    {'category': 'DRW',\n",
       "     'file_name': 'imgf0012.tif',\n",
       "     'file_format': 'PNG',\n",
       "     'drawing_id': 'f0009',\n",
       "     'drawing_number': '10'},\n",
       "    {'category': 'DRW',\n",
       "     'file_name': 'imgf0013.tif',\n",
       "     'file_format': 'PNG',\n",
       "     'drawing_id': 'f0010',\n",
       "     'drawing_number': '11'},\n",
       "    {'category': 'DRW',\n",
       "     'file_name': 'imgf0005.tif',\n",
       "     'file_format': 'PNG',\n",
       "     'drawing_id': 'f0011',\n",
       "     'drawing_number': '12,13'},\n",
       "    {'category': 'DRW',\n",
       "     'file_name': 'imgf0020.tif',\n",
       "     'file_format': 'PNG',\n",
       "     'drawing_id': 'f0012',\n",
       "     'drawing_number': '14,15'},\n",
       "    {'category': 'DRW',\n",
       "     'file_name': 'imgf0017.tif',\n",
       "     'file_format': 'PNG',\n",
       "     'drawing_id': 'f0013',\n",
       "     'drawing_number': '16,17'},\n",
       "    {'category': 'DRW',\n",
       "     'file_name': 'imgf0018.tif',\n",
       "     'file_format': 'PNG',\n",
       "     'drawing_id': 'f0014',\n",
       "     'drawing_number': '18,19'},\n",
       "    {'category': 'DRW',\n",
       "     'file_name': 'imgf0015.tif',\n",
       "     'file_format': 'PNG',\n",
       "     'drawing_id': 'f0015',\n",
       "     'drawing_number': '20,21'},\n",
       "    {'category': 'DRW',\n",
       "     'file_name': 'imgf0019.tif',\n",
       "     'file_format': 'PNG',\n",
       "     'drawing_id': 'f0016',\n",
       "     'drawing_number': '22,23'},\n",
       "    {'category': 'DRW',\n",
       "     'file_name': 'imgf0008.tif',\n",
       "     'file_format': 'PNG',\n",
       "     'drawing_id': 'f0017',\n",
       "     'drawing_number': '24,25'},\n",
       "    {'category': 'DRW',\n",
       "     'file_name': 'imgf0014.tif',\n",
       "     'file_format': 'PNG',\n",
       "     'drawing_id': 'f0018',\n",
       "     'drawing_number': '26,27'},\n",
       "    {'category': 'DRW',\n",
       "     'file_name': 'imgf0006.tif',\n",
       "     'file_format': 'PNG',\n",
       "     'drawing_id': 'f0019',\n",
       "     'drawing_number': '28,29'},\n",
       "    {'category': 'DRW',\n",
       "     'file_name': 'imgf0016.tif',\n",
       "     'file_format': 'PNG',\n",
       "     'drawing_id': 'f0020',\n",
       "     'drawing_number': '30'},\n",
       "    {'category': 'PDF',\n",
       "     'file_name': 'EP10765607NWB1.pdf',\n",
       "     'file_format': 'PDF',\n",
       "     'drawing_id': None,\n",
       "     'drawing_number': None},\n",
       "    {'category': 'XML',\n",
       "     'file_name': 'EP10765607NWB1.xml',\n",
       "     'file_format': 'XML',\n",
       "     'drawing_id': None,\n",
       "     'drawing_number': None}]}}]"
      ]
     },
     "execution_count": 39,
     "metadata": {},
     "output_type": "execute_result"
    }
   ],
   "source": [
    "result = q.get_results([\"publication.language, attachment\"], output_type=\"list\", limit=1)\n",
    "result"
   ]
  },
  {
   "cell_type": "markdown",
   "id": "05e1b2a1-de13-4d76-acc3-49f57e80dc5f",
   "metadata": {
    "tags": []
   },
   "source": [
    "To actually retrieve the content of one or more of the above attachments, the corresponding *category* can be specified in the **attachment** parameter of the get_results method, e.g.\n",
    "<br>**IMPORTANT** : This operation is very resource-intensive!! It can lead to high execution times and high memory consumption!! "
   ]
  },
  {
   "cell_type": "code",
   "execution_count": 40,
   "id": "17516965-3b7c-4f89-98ce-87e010cd7e51",
   "metadata": {
    "tags": []
   },
   "outputs": [],
   "source": [
    "result = q.get_results([\"publication.language\"], attachment=[\"DRW\", \"PDF\"], output_type=\"list\", limit=1)"
   ]
  },
  {
   "cell_type": "markdown",
   "id": "b5dfa200-c57c-47de-b299-efcf7551fbad",
   "metadata": {
    "tags": []
   },
   "source": [
    "In this case, the **attachment** field is also automatically retrieved and the byte-content of the corresponding attachment is stored in a sub-field called **content**, i.e."
   ]
  },
  {
   "cell_type": "code",
   "execution_count": 41,
   "id": "0fa63e09-8072-4194-8240-36f6b0154d14",
   "metadata": {
    "tags": []
   },
   "outputs": [
    {
     "name": "stdout",
     "output_type": "stream",
     "text": [
      "imgaf001.tif EMB\n",
      "Content:  Not retrieved\n",
      "\n",
      "imgb0001.tif EMB\n",
      "Content:  Not retrieved\n",
      "\n",
      "imgf0003.tif DRW\n",
      "Content:  b'\\x89PNG\\r\\n\\x1a\\n\\x00\\x00\\x00\\rIHDR\\x00\\x00\\x06\\x87\\x00\\x00\\t\\x1c\\x08\\x00\\x00\\x00\\x00\\x13\\x00|\\xc6\\x00\\x00 \\x00IDATx\\x01\\xec\\xc1\\tb\\xdb\\xc8\\x96'\n",
      "\n",
      "imgf0001.tif DRW\n",
      "Content:  b'\\x89PNG\\r\\n\\x1a\\n\\x00\\x00\\x00\\rIHDR\\x00\\x00\\x06o\\x00\\x00\\x08A\\x08\\x00\\x00\\x00\\x00!R!\\xde\\x00\\x00 \\x00IDATx\\x01\\xec\\xc1\\tB\\xe2P\\x00'\n",
      "\n",
      "imgf0004.tif DRW\n",
      "Content:  b'\\x89PNG\\r\\n\\x1a\\n\\x00\\x00\\x00\\rIHDR\\x00\\x00\\x089\\x00\\x00\\x08-\\x08\\x00\\x00\\x00\\x00\\xb8\\x183\\xf6\\x00\\x00 \\x00IDATx\\x01\\xec\\xc1\\x01B[;\\x02'\n",
      "\n",
      "imgf0005.tif DRW\n",
      "Content:  b'\\x89PNG\\r\\n\\x1a\\n\\x00\\x00\\x00\\rIHDR\\x00\\x00\\x06-\\x00\\x00\\x0cY\\x08\\x00\\x00\\x00\\x00\\xa0\\xd7R\\xa6\\x00\\x00 \\x00IDATx\\x01\\xec\\xc1\\x07b\\xe2@\\x00'\n",
      "\n",
      "imgf0002.tif DRW\n",
      "Content:  b'\\x89PNG\\r\\n\\x1a\\n\\x00\\x00\\x00\\rIHDR\\x00\\x00\\x08\\x93\\x00\\x00\\x08\\x87\\x08\\x00\\x00\\x00\\x00\\xbe\\xe5\\x9bf\\x00\\x00 \\x00IDATx\\x01\\xec\\xc1\\x81B\\xe2X\\x00'\n",
      "\n",
      "srep0001.tif SREP\n",
      "Content:  Not retrieved\n",
      "\n",
      "EP87302951NWA1.pdf PDF\n",
      "Content:  b'%PDF-1.4\\r%\\xe2\\xe3\\xcf\\xd3\\r\\n159 0 obj\\n<</MarkInfo<</Marked tru'\n",
      "\n",
      "EP87302951NWA1.xml XML\n",
      "Content:  Not retrieved\n",
      "\n"
     ]
    }
   ],
   "source": [
    "for entry in result[0][\"attachment\"]: \n",
    "    print(entry[\"file_name\"], entry[\"category\"])\n",
    "    print(\"Content: \", entry.get(\"content\", \"Not retrieved\")[:50])\n",
    "    print()"
   ]
  },
  {
   "cell_type": "markdown",
   "id": "549892ce-0c3f-40f0-99c1-57962938fc35",
   "metadata": {
    "tags": []
   },
   "source": [
    "A simple mechanism for displaying e.g. the drawing is offered by ipython native libraries, e.g."
   ]
  },
  {
   "cell_type": "code",
   "execution_count": 42,
   "id": "38c5018c-9989-4327-bdc5-3a43ef44435f",
   "metadata": {
    "tags": []
   },
   "outputs": [
    {
     "ename": "KeyError",
     "evalue": "'content'",
     "output_type": "error",
     "traceback": [
      "\u001b[0;31m---------------------------------------------------------------------------\u001b[0m",
      "\u001b[0;31mKeyError\u001b[0m                                  Traceback (most recent call last)",
      "Cell \u001b[0;32mIn[42], line 3\u001b[0m\n\u001b[1;32m      1\u001b[0m \u001b[38;5;28;01mfrom\u001b[39;00m \u001b[38;5;21;01mIPython\u001b[39;00m\u001b[38;5;21;01m.\u001b[39;00m\u001b[38;5;21;01mdisplay\u001b[39;00m \u001b[38;5;28;01mimport\u001b[39;00m display, Image\n\u001b[0;32m----> 3\u001b[0m image \u001b[38;5;241m=\u001b[39m Image(\u001b[43mresult\u001b[49m\u001b[43m[\u001b[49m\u001b[38;5;241;43m0\u001b[39;49m\u001b[43m]\u001b[49m\u001b[43m[\u001b[49m\u001b[38;5;124;43m\"\u001b[39;49m\u001b[38;5;124;43mattachment\u001b[39;49m\u001b[38;5;124;43m\"\u001b[39;49m\u001b[43m]\u001b[49m\u001b[43m[\u001b[49m\u001b[38;5;241;43m0\u001b[39;49m\u001b[43m]\u001b[49m\u001b[43m[\u001b[49m\u001b[38;5;124;43m\"\u001b[39;49m\u001b[38;5;124;43mcontent\u001b[39;49m\u001b[38;5;124;43m\"\u001b[39;49m\u001b[43m]\u001b[49m, width\u001b[38;5;241m=\u001b[39m\u001b[38;5;241m300\u001b[39m)\n\u001b[1;32m      4\u001b[0m display(image)\n",
      "\u001b[0;31mKeyError\u001b[0m: 'content'"
     ]
    }
   ],
   "source": [
    "from IPython.display import display, Image\n",
    "\n",
    "image = Image(result[0][\"attachment\"][0][\"content\"], width=300)\n",
    "display(image)\n"
   ]
  },
  {
   "cell_type": "markdown",
   "id": "983b99c4-a9aa-45fd-866f-def57a5e1e9a",
   "metadata": {
    "tags": []
   },
   "source": [
    "In the coming sections we will see additional simplified mechanisms offered by the library to display and store the retrieved content "
   ]
  },
  {
   "cell_type": "markdown",
   "id": "40195830-c9f5-400f-b53d-942aa3ec2350",
   "metadata": {
    "tags": []
   },
   "source": [
    "### Getting the results in different formats"
   ]
  },
  {
   "cell_type": "markdown",
   "id": "3220e569-1f73-4881-86c8-9993b1739a58",
   "metadata": {
    "tags": []
   },
   "source": [
    "The result list can be provided in a number of different formats using the `output_type`parameter: \n",
    "\n",
    "- **dataframe** (default) : Data are embedded in a **Pandas** DataFrame. Ideal for powerful data-processing\n",
    "- **list** : Data are embedded in a simple, plain **list of dict**, for ensuring maximum Python compatibility and exchangeability.\n",
    "- **polars** (*COMING SOON!*): Data are embedded in a **Polars** DataFrame (Polars is an emerging and very powerful alternative to Pandas) \n",
    "- **datagrid**: For tabular visualization in an **Excel-like** widget, which allows simple filtering, sorting etc. (currently still limited)\n",
    "- **widgets**: A list of reusable **ipywidgets** component, for advanced single-record visualization "
   ]
  },
  {
   "cell_type": "markdown",
   "id": "427bd242-441b-497d-84e0-7b3bea340cb6",
   "metadata": {
    "jp-MarkdownHeadingCollapsed": true,
    "tags": []
   },
   "source": [
    "#### Getting results in a Pandas DataFrame "
   ]
  },
  {
   "cell_type": "code",
   "execution_count": null,
   "id": "9458fadb-0a20-4fd0-b891-c531b00839d0",
   "metadata": {
    "tags": []
   },
   "outputs": [],
   "source": [
    "dataframe = q.get_results(\"publication, ipc\") #, output_type=\"dataframe\"\n",
    "dataframe"
   ]
  },
  {
   "cell_type": "markdown",
   "id": "ce59dea7-7ab7-49af-b3f8-a8fa3c71d074",
   "metadata": {
    "jp-MarkdownHeadingCollapsed": true,
    "tags": []
   },
   "source": [
    "#### Getting results in a plain list of dicts"
   ]
  },
  {
   "cell_type": "code",
   "execution_count": null,
   "id": "f90dbf8c-5835-4c45-80fc-3c3cec10793a",
   "metadata": {
    "tags": []
   },
   "outputs": [],
   "source": [
    "results = q.get_results([\"publication\", \"representative\"], output_type=\"list\", limit=3)\n",
    "results"
   ]
  },
  {
   "cell_type": "markdown",
   "id": "47ebf51f-053c-44cd-86b9-d323086f386a",
   "metadata": {
    "jp-MarkdownHeadingCollapsed": true,
    "tags": []
   },
   "source": [
    "#### Getting results in a DataGrid structure "
   ]
  },
  {
   "cell_type": "code",
   "execution_count": null,
   "id": "adad9165-b5c5-413a-b8da-54526ef762ae",
   "metadata": {
    "tags": []
   },
   "outputs": [],
   "source": [
    "results_as_datagrid = q.get_results([\"publication\", \"representative\"], output_type=\"datagrid\")\n",
    "print(q)\n",
    "results_as_datagrid"
   ]
  },
  {
   "cell_type": "markdown",
   "id": "eace147f-34be-4ad4-8dbb-ee16a1d4990b",
   "metadata": {
    "jp-MarkdownHeadingCollapsed": true,
    "tags": []
   },
   "source": [
    "#### Getting results as a list of Widgets"
   ]
  },
  {
   "cell_type": "code",
   "execution_count": null,
   "id": "e1cdbf3e-d6e8-43cb-a2d8-4554fa47139c",
   "metadata": {
    "tags": []
   },
   "outputs": [],
   "source": [
    "results_as_widgets = q.get_results([\"publication\", \"application\", \"representative\", \"description\"], output_type=\"widgets\", limit=4)"
   ]
  },
  {
   "cell_type": "markdown",
   "id": "7887e973-d222-48d8-80d5-884933a06a5d",
   "metadata": {
    "tags": []
   },
   "source": [
    "##### Each element of the resulting list is a widget representing the retrieved elements as a rich ipyvuetify widget "
   ]
  },
  {
   "cell_type": "code",
   "execution_count": null,
   "id": "5b24b042-d154-4389-8f18-080b442d3bff",
   "metadata": {
    "scrolled": true,
    "tags": []
   },
   "outputs": [],
   "source": [
    "results_as_widgets[2]"
   ]
  },
  {
   "cell_type": "markdown",
   "id": "a04f74cb-2e4d-4b62-9f7a-43d789618f26",
   "metadata": {
    "tags": []
   },
   "source": [
    "Every sub-widget is also separately accessible and can be conveniently re-used in code/dashboards if needed, e.g. "
   ]
  },
  {
   "cell_type": "code",
   "execution_count": null,
   "id": "13ea1c38-08d3-47b1-b5d5-00e41c6ff1a9",
   "metadata": {
    "tags": []
   },
   "outputs": [],
   "source": [
    "results_as_widgets[2].representative"
   ]
  },
  {
   "cell_type": "markdown",
   "id": "dcdee320-c836-4c1a-bdd3-a3a6fab147eb",
   "metadata": {
    "jp-MarkdownHeadingCollapsed": true
   },
   "source": [
    "## Retrieving statistics of a query"
   ]
  },
  {
   "cell_type": "markdown",
   "id": "973fcf75-c61d-46ff-b4a3-a28b18df896f",
   "metadata": {
    "tags": []
   },
   "source": [
    "##### Let's start with a generic query "
   ]
  },
  {
   "cell_type": "code",
   "execution_count": null,
   "id": "a69fdbc4-e9ff-4313-9eea-4276cc79d219",
   "metadata": {
    "tags": []
   },
   "outputs": [],
   "source": [
    "q = epab.query_ipc(\"H04W%\")\n",
    "q"
   ]
  },
  {
   "cell_type": "markdown",
   "id": "8015fc31-b273-4b65-9b52-1a528ab727c5",
   "metadata": {},
   "source": [
    "#### Retrieve statistics for a certain field"
   ]
  },
  {
   "cell_type": "markdown",
   "id": "5728284c-63c1-4e5d-b30c-158ef01fe14a",
   "metadata": {},
   "source": [
    "The method **get_stats** returns a dataframe with the statistics over one or more selected fields\n",
    "\n",
    "- the **count** column reports the total number of occurrences of the corresponding field(s) value\n",
    "- the **unique_publications** column reports the number of unique publications having that value\n",
    "- the last two lines of the table are used to report the remainder and the total"
   ]
  },
  {
   "cell_type": "markdown",
   "id": "45af1a49-9205-4a87-8bad-fe278d487508",
   "metadata": {},
   "source": [
    "Let's see a couple of simple examples"
   ]
  },
  {
   "cell_type": "code",
   "execution_count": null,
   "id": "438eb1c6-4632-41dc-89d1-d0022c139daa",
   "metadata": {},
   "outputs": [],
   "source": [
    "q.get_stats(\"inventor.country\", limit=5)"
   ]
  },
  {
   "cell_type": "code",
   "execution_count": null,
   "id": "80f4fbba-3af2-4206-a2e1-011d6d9ca194",
   "metadata": {},
   "outputs": [],
   "source": [
    "q.get_stats(\"applicant.name\", limit=5)"
   ]
  },
  {
   "cell_type": "markdown",
   "id": "205da0af-a72a-4136-b501-003e6eeec8af",
   "metadata": {},
   "source": [
    "The results can also be sorted by a chosen column"
   ]
  },
  {
   "cell_type": "code",
   "execution_count": null,
   "id": "4d5da370-cc5c-47c1-9f54-a97ae838b539",
   "metadata": {},
   "outputs": [],
   "source": [
    "q.get_stats(\"publication.kind\", order_by=\"publication.kind ASC\", limit=5)"
   ]
  },
  {
   "cell_type": "markdown",
   "id": "6a3b24dd-ff08-4c79-b78f-bfe5b521a371",
   "metadata": {},
   "source": [
    "Another example with IPC classification"
   ]
  },
  {
   "cell_type": "code",
   "execution_count": null,
   "id": "0d35f7b2-b1a1-49a0-a837-6fa2db825530",
   "metadata": {},
   "outputs": [],
   "source": [
    "q.get_stats(\"ipc.symbol\", limit=15)"
   ]
  },
  {
   "cell_type": "markdown",
   "id": "09e9ad2c-5cb7-444b-b1b4-583a18a8a194",
   "metadata": {
    "jp-MarkdownHeadingCollapsed": true
   },
   "source": [
    "### Statistic over multiple fields"
   ]
  },
  {
   "cell_type": "code",
   "execution_count": null,
   "id": "18c9f42d-1a58-411c-912e-03f447323def",
   "metadata": {},
   "outputs": [],
   "source": [
    "q.get_stats(\"applicant.country, ipc.symbol \", limit=5)"
   ]
  },
  {
   "cell_type": "code",
   "execution_count": null,
   "id": "ff559b15-cbe7-4f36-b28a-74be143011e4",
   "metadata": {},
   "outputs": [],
   "source": [
    "q.get_stats(\"applicant.country, inventor.name\", limit=5, output_type=\"list\")"
   ]
  },
  {
   "cell_type": "code",
   "execution_count": null,
   "id": "9ef8d5b1-e477-4855-a8d1-ea7d3d1cbc8f",
   "metadata": {
    "tags": []
   },
   "outputs": [],
   "source": []
  },
  {
   "cell_type": "markdown",
   "id": "e58ca035-f9b6-4391-b21f-2c63744ba845",
   "metadata": {
    "jp-MarkdownHeadingCollapsed": true,
    "tags": []
   },
   "source": [
    "## Browsing the query results"
   ]
  },
  {
   "cell_type": "markdown",
   "id": "9cac5fba-150d-46c0-83b1-cfed9930eda3",
   "metadata": {
    "tags": []
   },
   "source": [
    "The query class offers a browser method for inspecting the complete content of the resulting publication. \n",
    "<br>This method should be wisely used as it computationally intensive (it retrieves all fields and images), so it's ideal for visual results inspection and it can be very conveniently embedded in a dashboard (it's a widget!)"
   ]
  },
  {
   "cell_type": "code",
   "execution_count": null,
   "id": "d15e5f3a-e188-4778-bd1c-445b6b51b1ba",
   "metadata": {
    "tags": []
   },
   "outputs": [],
   "source": [
    "# Retrieving 3 publications by their id\n",
    "q1 = epab.query_epab_doc_id(['EP4040719A120220810', 'EP0634409A119950118', 'EP0035957B119830727'])\n",
    "browser = q1.browse_results()\n",
    "browser"
   ]
  },
  {
   "cell_type": "code",
   "execution_count": null,
   "id": "43229e8e-5799-4594-a81b-bdc227f8629b",
   "metadata": {
    "tags": []
   },
   "outputs": [],
   "source": [
    "browser = q.browse_results()\n",
    "browser"
   ]
  },
  {
   "cell_type": "markdown",
   "id": "c37ab87d-27be-4632-bc65-308ee9f942fa",
   "metadata": {
    "tags": []
   },
   "source": [
    "Being a widget, it is event-reactive and it can be controlled using Python code! "
   ]
  },
  {
   "cell_type": "code",
   "execution_count": null,
   "id": "37bfde29-48c5-411c-af69-25907dc5b070",
   "metadata": {
    "tags": []
   },
   "outputs": [],
   "source": [
    "browser.next()"
   ]
  },
  {
   "cell_type": "code",
   "execution_count": null,
   "id": "42afdc08-5d62-4c47-86fc-9caf8da21408",
   "metadata": {
    "tags": []
   },
   "outputs": [],
   "source": [
    "browser.previous()"
   ]
  },
  {
   "cell_type": "code",
   "execution_count": null,
   "id": "666d4fe7-6213-4d2b-9711-9e456b23ac95",
   "metadata": {
    "tags": []
   },
   "outputs": [],
   "source": [
    "browser.selected_pub = 3"
   ]
  },
  {
   "cell_type": "code",
   "execution_count": null,
   "id": "66c3a106-a072-4c51-adf6-ca3c9317d6f4",
   "metadata": {
    "tags": []
   },
   "outputs": [],
   "source": [
    "browser.load_new_page()"
   ]
  },
  {
   "cell_type": "markdown",
   "id": "74ab482b-c400-4bbe-baa3-0a0a1c506d6e",
   "metadata": {
    "tags": []
   },
   "source": [
    "Furthemrore, the currently displayed single widgets as well as the source data can be also accessed"
   ]
  },
  {
   "cell_type": "code",
   "execution_count": null,
   "id": "1c48b217-f90c-43cf-82cf-8870d1ae0cfe",
   "metadata": {
    "tags": []
   },
   "outputs": [],
   "source": [
    "browser.get_current_publication()"
   ]
  },
  {
   "cell_type": "code",
   "execution_count": null,
   "id": "eada9d5e-29bb-46bf-9ed9-383ea4129485",
   "metadata": {
    "tags": []
   },
   "outputs": [],
   "source": [
    "browser.publication.application"
   ]
  },
  {
   "cell_type": "markdown",
   "id": "5ea49aa6-fd1b-47d0-a6c6-00c42c420a11",
   "metadata": {
    "jp-MarkdownHeadingCollapsed": true,
    "tags": []
   },
   "source": [
    "## Advanced usage of Queries"
   ]
  },
  {
   "cell_type": "code",
   "execution_count": null,
   "id": "fb7e46ac-5454-47d2-87be-0023c64147f4",
   "metadata": {
    "tags": []
   },
   "outputs": [],
   "source": [
    "q_h04w = epab.query(\"cpc.symbol like 'H04W%'\")"
   ]
  },
  {
   "cell_type": "markdown",
   "id": "bc9e27d4-b44c-4b86-a055-603d75162ebf",
   "metadata": {},
   "source": [
    "When you try to represent this new wuery object you will get the count of queried documents"
   ]
  },
  {
   "cell_type": "code",
   "execution_count": null,
   "id": "171acce9-2117-4ac6-b251-4fa0d26f53a8",
   "metadata": {
    "tags": []
   },
   "outputs": [],
   "source": [
    "q_h04w"
   ]
  },
  {
   "cell_type": "markdown",
   "id": "e5b54935-1f6d-4cd8-8fc5-55c7a032b919",
   "metadata": {},
   "source": [
    "You can get the count in a more pythonic way with len function:"
   ]
  },
  {
   "cell_type": "code",
   "execution_count": null,
   "id": "32c55c32-2ff5-4d22-a582-22ad0c0f9c95",
   "metadata": {
    "tags": []
   },
   "outputs": [],
   "source": [
    "len(q_h04w)"
   ]
  },
  {
   "cell_type": "markdown",
   "id": "313e2083-a311-47ad-8be3-2a0e4cdc4182",
   "metadata": {},
   "source": [
    "Or using .length property of the object"
   ]
  },
  {
   "cell_type": "code",
   "execution_count": null,
   "id": "2d268882-113f-4df5-89c9-fee77e4e3934",
   "metadata": {
    "tags": []
   },
   "outputs": [],
   "source": [
    "q_h04w.length"
   ]
  },
  {
   "cell_type": "markdown",
   "id": "30eb9c66-897c-4645-8329-bdb5fc216808",
   "metadata": {},
   "source": [
    "Now lets find some H04B  documents"
   ]
  },
  {
   "cell_type": "code",
   "execution_count": null,
   "id": "86a05b66-a361-42c0-9829-141ba4023637",
   "metadata": {
    "tags": []
   },
   "outputs": [],
   "source": [
    "q_h04l = epab.query(\"cpc.symbol like 'H04L%'\")\n",
    "q_h04l"
   ]
  },
  {
   "cell_type": "markdown",
   "id": "83b44758-e920-4a0f-b912-739b2f9706b1",
   "metadata": {
    "jp-MarkdownHeadingCollapsed": true
   },
   "source": [
    "## Sending a raw SQL query"
   ]
  },
  {
   "cell_type": "code",
   "execution_count": null,
   "id": "11477efc-72b3-4b8b-bec6-49b6ee7e3e3a",
   "metadata": {
    "tags": []
   },
   "outputs": [],
   "source": [
    "statement = f\"select epab_doc_id, application, applicant from `{epab.full_table_name}` where application.filing_date='20221014';\"\n",
    "statement"
   ]
  },
  {
   "cell_type": "code",
   "execution_count": null,
   "id": "2d217aa8-29e7-4da5-9eeb-f645387a91bb",
   "metadata": {
    "tags": []
   },
   "outputs": [],
   "source": [
    "results = epab.sql_query(statement)\n",
    "results"
   ]
  },
  {
   "cell_type": "code",
   "execution_count": null,
   "id": "68fe2979-7d62-4116-a170-f864eef2b0a2",
   "metadata": {
    "tags": []
   },
   "outputs": [],
   "source": [
    "for res in epab.sql_query_iterator(statement):\n",
    "    print(res)"
   ]
  },
  {
   "cell_type": "markdown",
   "id": "af7b9bc9-3205-406d-b584-9ca8aec36a7c",
   "metadata": {
    "jp-MarkdownHeadingCollapsed": true
   },
   "source": [
    "### Some advanced examples using the widgets"
   ]
  },
  {
   "cell_type": "code",
   "execution_count": null,
   "id": "e8bcc2fc-1b94-4c22-8027-4e11f17aa4e8",
   "metadata": {
    "tags": []
   },
   "outputs": [],
   "source": [
    "# Display the results using the vuetify grid system\n",
    "import ipyvuetify as vue\n",
    "\n",
    "table = vue.Container(children=[\n",
    "    vue.Row(children=[\n",
    "        vue.Col(children=[res.publication], cols=\"2\"),\n",
    "        vue.Col(children=[res.representative], cols=\"10\")\n",
    "    ], dense=True, outlined=True, class_=\"elevation-1\") for res in results_as_widgets\n",
    "])\n",
    "\n",
    "table\n"
   ]
  },
  {
   "cell_type": "code",
   "execution_count": null,
   "id": "8c3af36b-d02a-4794-b4e0-56af7e67f571",
   "metadata": {
    "tags": []
   },
   "outputs": [],
   "source": [
    "# ADVANCED EXAMPLE \n",
    "# Create a vuetify table with the results  \n",
    "\n",
    "import traitlets \n",
    "import ipywidgets, ipyvuetify\n",
    "\n",
    "class RichDataTable(ipyvuetify.VuetifyTemplate):\n",
    "    headers = traitlets.List().tag(sync=True, allow_null=True)\n",
    "    items = traitlets.List().tag(sync=True, **ipywidgets.widget_serialization)\n",
    "    template = traitlets.Unicode('''\n",
    "        <template>\n",
    "            <v-data-table dense :headers=\"headers\" :items=\"items\">\n",
    "              <template v-slot:item=\"row\">\n",
    "                  <tr>\n",
    "                    <td><jupyter-widget :widget=\"row.item.p\" /></td>\n",
    "                    <td><jupyter-widget :widget=\"row.item.r\" /></td>\n",
    "                  </tr>\n",
    "              </template>\n",
    "            </v-data-table>\n",
    "        </template>\n",
    "        ''').tag(sync=True)\n",
    "\n",
    "RichDataTable(headers=[\n",
    "            {'text': 'Publication', 'value': 'p'},\n",
    "            {'text': 'Representative', 'value': 'r'}],\n",
    "          items = [ {'p': wid.publication, 'r': wid.representative} for wid in results_as_widgets ]\n",
    "         )"
   ]
  }
 ],
 "metadata": {
  "kernelspec": {
   "display_name": "TIP",
   "language": "python",
   "name": "tip"
  },
  "language_info": {
   "codemirror_mode": {
    "name": "ipython",
    "version": 3
   },
   "file_extension": ".py",
   "mimetype": "text/x-python",
   "name": "python",
   "nbconvert_exporter": "python",
   "pygments_lexer": "ipython3",
   "version": "3.10.0"
  },
  "widgets": {
   "application/vnd.jupyter.widget-state+json": {
    "state": {},
    "version_major": 2,
    "version_minor": 0
   }
  }
 },
 "nbformat": 4,
 "nbformat_minor": 5
}
