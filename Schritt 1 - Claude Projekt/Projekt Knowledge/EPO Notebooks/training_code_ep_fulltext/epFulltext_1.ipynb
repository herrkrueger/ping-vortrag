{
 "cells": [
  {
   "cell_type": "markdown",
   "id": "9da4423c-c969-47ef-bf7a-82d14c4cfb26",
   "metadata": {
    "tags": []
   },
   "source": [
    "# The EP full-text library - Lesson 1\n",
    "This notebook is an introduction to the EP full-text library in TIP. The EPO publishes the patent applications and grated patents weekly and currently they amount to 7,3 million publications since 1978.  With the EP full-text library you can now now retrieve those A and B publications in TIP. The implementation of the EP full-text library in TIP is called EPAB. We will use the name EPAB throughout the rest of the course."
   ]
  },
  {
   "cell_type": "markdown",
   "id": "aef097cc-a6db-447d-8da6-bb209392507c",
   "metadata": {},
   "source": [
    "## Importing the EPAB library\n",
    "The first step to work with EPAB is to import the library, which is pre-installed in your TIP workspace. When you create an instance of the EPAB client, you get access to a test database of around 10 thousand publications. This reduces the size of the results we get, when creating our data analysis notebooks. Once you are ready to run the real analysis, you can access the full database of over 7 million documents with the `env='PROD'` argument in the `EPABClient()` method. "
   ]
  },
  {
   "cell_type": "code",
   "execution_count": 1,
   "id": "f74a8911-6447-40cb-9ef6-9e83c98657d3",
   "metadata": {
    "tags": []
   },
   "outputs": [
    {
     "name": "stdout",
     "output_type": "stream",
     "text": [
      "<epo.tipdata.epab.client.EPABClient object at 0x7e56a6b07b50>\n"
     ]
    }
   ],
   "source": [
    "# Importing the EPAB client\n",
    "from epo.tipdata.epab import EPABClient\n",
    "\n",
    "# creating an instance of the EPAB client with the TEST database\n",
    "epab = EPABClient(env='PROD')\n",
    "\n",
    "print (epab)"
   ]
  },
  {
   "cell_type": "markdown",
   "id": "8cf94b00-aeb9-440e-a6eb-814cffad1227",
   "metadata": {
    "tags": []
   },
   "source": [
    "## Our first query\n",
    "The EPAB client we just instantiated  is an object that comes loaded with methods allowing you to perform queries in the database of publications. Let's run our first query. We will search for patents that were granted (document kind B1) in January 2018. Do not worry about understanding the structure of the query, we will dive into that later in this course"
   ]
  },
  {
   "cell_type": "code",
   "execution_count": 2,
   "id": "9214726f-078c-463e-963b-8f3d2e3811b9",
   "metadata": {},
   "outputs": [
    {
     "name": "stdout",
     "output_type": "stream",
     "text": [
      "<class 'epo.tipdata.epab.query.Query'>\n"
     ]
    }
   ],
   "source": [
    "# we run the query_publication method of the epab class that we instantiated above, passing some query parameters and store it in a var called q\n",
    "q = epab.query_publication(number=\"%\", kind_code=\"B1\", date=\"20180101-20180131\")\n",
    "\n",
    "# seeing that q is an object\n",
    "print (type(q))\n",
    "\n"
   ]
  },
  {
   "cell_type": "code",
   "execution_count": 3,
   "id": "38a09601-9359-46d6-a9a7-9fa14176e768",
   "metadata": {},
   "outputs": [
    {
     "name": "stdout",
     "output_type": "stream",
     "text": [
      "We can also print the result of the query: 9345 publications\n"
     ]
    }
   ],
   "source": [
    "# you can also print the query and get the number of publications found\n",
    "print ('We can also print the result of the query:', q)"
   ]
  },
  {
   "cell_type": "markdown",
   "id": "5894056c-35b2-4354-b374-9d52c281a31a",
   "metadata": {},
   "source": [
    "### Understanding queries\n",
    "Let's take a look at what happened in the cell above. We have run a query on our object epab, and as a result we have generated a new object called q. This is a fundamental principle of the EPAB client. When you run a query, you do not get a list of results immediately. What you get is an object that contains a reference to the publications that result from that query. To get the results, you need to run the method `get_results()` on the query object and specify what information you want to get for each of the publications in the query. \n",
    "\n",
    "Before we start retrieving publications from the query, we need to understand the data fields available for each publication. The best way is to run the method `fields()` on the epab object."
   ]
  },
  {
   "cell_type": "code",
   "execution_count": 12,
   "id": "324244e9-9aa2-47a8-b995-efb1be5c46a2",
   "metadata": {
    "tags": []
   },
   "outputs": [
    {
     "data": {
      "application/vnd.jupyter.widget-view+json": {
       "model_id": "1b38955b8add4f55a1dc6cdc3b2bb8da",
       "version_major": 2,
       "version_minor": 0
      },
      "text/plain": [
       "WidDatabaseFields(header='', input_data={'': [{'name': 'epab_doc_id', 'type': 'STRING', 'mode': 'REQUIRED', 'd…"
      ]
     },
     "execution_count": 12,
     "metadata": {},
     "output_type": "execute_result"
    }
   ],
   "source": [
    "epab.fields()"
   ]
  },
  {
   "cell_type": "markdown",
   "id": "6f460dd4-3274-498b-8d03-554eee34c6bc",
   "metadata": {},
   "source": [
    "## The EPAB data structure\n",
    "When looking at the data structure above, you can see that the amount of information that you can retrieve with EPAB is quite large, with many fields in the data structure of each publication. To organize all this data, the fields are organized in levels. For example the fields `application.number` and the `application.date` are nested in a super field called `application`. You can get the results with information at field level, or super field level. Let's see an example of getting the results of all the fields of a super field."
   ]
  },
  {
   "cell_type": "code",
   "execution_count": 13,
   "id": "0b17b6d7-4334-4b0d-8161-f86bf4089811",
   "metadata": {},
   "outputs": [
    {
     "data": {
      "text/html": [
       "<div>\n",
       "<style scoped>\n",
       "    .dataframe tbody tr th:only-of-type {\n",
       "        vertical-align: middle;\n",
       "    }\n",
       "\n",
       "    .dataframe tbody tr th {\n",
       "        vertical-align: top;\n",
       "    }\n",
       "\n",
       "    .dataframe thead th {\n",
       "        text-align: right;\n",
       "    }\n",
       "</style>\n",
       "<table border=\"1\" class=\"dataframe\">\n",
       "  <thead>\n",
       "    <tr style=\"text-align: right;\">\n",
       "      <th></th>\n",
       "      <th>application.number</th>\n",
       "      <th>application.filing_date</th>\n",
       "    </tr>\n",
       "  </thead>\n",
       "  <tbody>\n",
       "    <tr>\n",
       "      <th>0</th>\n",
       "      <td>06721574.9</td>\n",
       "      <td>20060201</td>\n",
       "    </tr>\n",
       "    <tr>\n",
       "      <th>1</th>\n",
       "      <td>07380184.7</td>\n",
       "      <td>20070626</td>\n",
       "    </tr>\n",
       "    <tr>\n",
       "      <th>2</th>\n",
       "      <td>08734614.4</td>\n",
       "      <td>20080314</td>\n",
       "    </tr>\n",
       "    <tr>\n",
       "      <th>3</th>\n",
       "      <td>06450127.3</td>\n",
       "      <td>20060912</td>\n",
       "    </tr>\n",
       "    <tr>\n",
       "      <th>4</th>\n",
       "      <td>08150992.9</td>\n",
       "      <td>20080202</td>\n",
       "    </tr>\n",
       "    <tr>\n",
       "      <th>...</th>\n",
       "      <td>...</td>\n",
       "      <td>...</td>\n",
       "    </tr>\n",
       "    <tr>\n",
       "      <th>9340</th>\n",
       "      <td>10825797.3</td>\n",
       "      <td>20101023</td>\n",
       "    </tr>\n",
       "    <tr>\n",
       "      <th>9341</th>\n",
       "      <td>11826254.2</td>\n",
       "      <td>20110923</td>\n",
       "    </tr>\n",
       "    <tr>\n",
       "      <th>9342</th>\n",
       "      <td>11835198.0</td>\n",
       "      <td>20111021</td>\n",
       "    </tr>\n",
       "    <tr>\n",
       "      <th>9343</th>\n",
       "      <td>12180553.5</td>\n",
       "      <td>20120815</td>\n",
       "    </tr>\n",
       "    <tr>\n",
       "      <th>9344</th>\n",
       "      <td>12819568.2</td>\n",
       "      <td>20120803</td>\n",
       "    </tr>\n",
       "  </tbody>\n",
       "</table>\n",
       "<p>9345 rows × 2 columns</p>\n",
       "</div>"
      ],
      "text/plain": [
       "     application.number application.filing_date\n",
       "0            06721574.9                20060201\n",
       "1            07380184.7                20070626\n",
       "2            08734614.4                20080314\n",
       "3            06450127.3                20060912\n",
       "4            08150992.9                20080202\n",
       "...                 ...                     ...\n",
       "9340         10825797.3                20101023\n",
       "9341         11826254.2                20110923\n",
       "9342         11835198.0                20111021\n",
       "9343         12180553.5                20120815\n",
       "9344         12819568.2                20120803\n",
       "\n",
       "[9345 rows x 2 columns]"
      ]
     },
     "execution_count": 13,
     "metadata": {},
     "output_type": "execute_result"
    }
   ],
   "source": [
    "# getting the results with the super field application\n",
    "q.get_results(\"application\")"
   ]
  },
  {
   "cell_type": "markdown",
   "id": "cfc4c934-992b-420c-bc61-a802feccf50d",
   "metadata": {},
   "source": [
    "The first thing you notice,if you are familiar with working with data in Jupyter, is that the results are presented in a DataFrame. More on this later. You can see that by running `q.get_results(\"application\")` we get two the two fields nested in the `application` super field. What if we want to get only the application number? We can get the results with that field only."
   ]
  },
  {
   "cell_type": "code",
   "execution_count": 14,
   "id": "032ecdb8-1fef-4c16-82aa-c9ab47ef04c9",
   "metadata": {},
   "outputs": [
    {
     "data": {
      "text/html": [
       "<div>\n",
       "<style scoped>\n",
       "    .dataframe tbody tr th:only-of-type {\n",
       "        vertical-align: middle;\n",
       "    }\n",
       "\n",
       "    .dataframe tbody tr th {\n",
       "        vertical-align: top;\n",
       "    }\n",
       "\n",
       "    .dataframe thead th {\n",
       "        text-align: right;\n",
       "    }\n",
       "</style>\n",
       "<table border=\"1\" class=\"dataframe\">\n",
       "  <thead>\n",
       "    <tr style=\"text-align: right;\">\n",
       "      <th></th>\n",
       "      <th>application.number</th>\n",
       "    </tr>\n",
       "  </thead>\n",
       "  <tbody>\n",
       "    <tr>\n",
       "      <th>0</th>\n",
       "      <td>12848361.7</td>\n",
       "    </tr>\n",
       "    <tr>\n",
       "      <th>1</th>\n",
       "      <td>12851687.9</td>\n",
       "    </tr>\n",
       "    <tr>\n",
       "      <th>2</th>\n",
       "      <td>12852260.4</td>\n",
       "    </tr>\n",
       "    <tr>\n",
       "      <th>3</th>\n",
       "      <td>12869142.5</td>\n",
       "    </tr>\n",
       "    <tr>\n",
       "      <th>4</th>\n",
       "      <td>13003519.9</td>\n",
       "    </tr>\n",
       "    <tr>\n",
       "      <th>...</th>\n",
       "      <td>...</td>\n",
       "    </tr>\n",
       "    <tr>\n",
       "      <th>9340</th>\n",
       "      <td>10825797.3</td>\n",
       "    </tr>\n",
       "    <tr>\n",
       "      <th>9341</th>\n",
       "      <td>11826254.2</td>\n",
       "    </tr>\n",
       "    <tr>\n",
       "      <th>9342</th>\n",
       "      <td>11835198.0</td>\n",
       "    </tr>\n",
       "    <tr>\n",
       "      <th>9343</th>\n",
       "      <td>12180553.5</td>\n",
       "    </tr>\n",
       "    <tr>\n",
       "      <th>9344</th>\n",
       "      <td>12819568.2</td>\n",
       "    </tr>\n",
       "  </tbody>\n",
       "</table>\n",
       "<p>9345 rows × 1 columns</p>\n",
       "</div>"
      ],
      "text/plain": [
       "     application.number\n",
       "0            12848361.7\n",
       "1            12851687.9\n",
       "2            12852260.4\n",
       "3            12869142.5\n",
       "4            13003519.9\n",
       "...                 ...\n",
       "9340         10825797.3\n",
       "9341         11826254.2\n",
       "9342         11835198.0\n",
       "9343         12180553.5\n",
       "9344         12819568.2\n",
       "\n",
       "[9345 rows x 1 columns]"
      ]
     },
     "execution_count": 14,
     "metadata": {},
     "output_type": "execute_result"
    }
   ],
   "source": [
    "# getting the results with the application number only\n",
    "q.get_results(\"application.number\")"
   ]
  },
  {
   "cell_type": "markdown",
   "id": "01e8991c-41e2-4820-b534-475daaf50c7c",
   "metadata": {},
   "source": [
    "### Results with combined (super) fields\n",
    "When executing the `get_results` method you can freely combine fields and super fields. See the example below where we get the `application.number`, the entire super field `representative` and from the super field `title` we get only the English one as `title.en`. "
   ]
  },
  {
   "cell_type": "code",
   "execution_count": 15,
   "id": "501ab9d2-44cb-47ca-b514-628517750d1b",
   "metadata": {},
   "outputs": [
    {
     "data": {
      "text/html": [
       "<div>\n",
       "<style scoped>\n",
       "    .dataframe tbody tr th:only-of-type {\n",
       "        vertical-align: middle;\n",
       "    }\n",
       "\n",
       "    .dataframe tbody tr th {\n",
       "        vertical-align: top;\n",
       "    }\n",
       "\n",
       "    .dataframe thead th {\n",
       "        text-align: right;\n",
       "    }\n",
       "</style>\n",
       "<table border=\"1\" class=\"dataframe\">\n",
       "  <thead>\n",
       "    <tr style=\"text-align: right;\">\n",
       "      <th></th>\n",
       "      <th>application.number</th>\n",
       "      <th>representative.name</th>\n",
       "      <th>representative.address</th>\n",
       "      <th>representative.city</th>\n",
       "      <th>representative.country</th>\n",
       "      <th>title.en</th>\n",
       "    </tr>\n",
       "  </thead>\n",
       "  <tbody>\n",
       "    <tr>\n",
       "      <th>0</th>\n",
       "      <td>06721574.9</td>\n",
       "      <td>Abel &amp; Imray</td>\n",
       "      <td>Westpoint Building \\nJames Street West</td>\n",
       "      <td>Bath BA1 2DA</td>\n",
       "      <td>GB</td>\n",
       "      <td>MOBILE COMMUNICATION DEVICE WITH MUSIC INSTRUM...</td>\n",
       "    </tr>\n",
       "    <tr>\n",
       "      <th>1</th>\n",
       "      <td>07380184.7</td>\n",
       "      <td>Ungria López, Javier</td>\n",
       "      <td>Avda. Ramón y Cajal, 78</td>\n",
       "      <td>28043 Madrid</td>\n",
       "      <td>ES</td>\n",
       "      <td>Clutch mechanism couplable to door locks with ...</td>\n",
       "    </tr>\n",
       "    <tr>\n",
       "      <th>2</th>\n",
       "      <td>08734614.4</td>\n",
       "      <td>Schnappauf, Georg</td>\n",
       "      <td>ZSP Patentanwälte PartG mbB \\nHansastraße 32</td>\n",
       "      <td>80686 München</td>\n",
       "      <td>DE</td>\n",
       "      <td>MONOCLONAL ANTIBODIES AGAINST GT468 FOR TREATM...</td>\n",
       "    </tr>\n",
       "    <tr>\n",
       "      <th>3</th>\n",
       "      <td>06450127.3</td>\n",
       "      <td>Schwarz &amp; Partner Patentanwälte OG</td>\n",
       "      <td>Patentanwälte \\nWipplingerstraße 30</td>\n",
       "      <td>1010 Wien</td>\n",
       "      <td>AT</td>\n",
       "      <td>Apparatus and method for mobile contactless me...</td>\n",
       "    </tr>\n",
       "    <tr>\n",
       "      <th>4</th>\n",
       "      <td>08150992.9</td>\n",
       "      <td>Maier, Daniel Oliver</td>\n",
       "      <td>Siemens AG \\nPostfach 22 16 34</td>\n",
       "      <td>80506 München</td>\n",
       "      <td>DE</td>\n",
       "      <td>Order tracking method and system</td>\n",
       "    </tr>\n",
       "    <tr>\n",
       "      <th>...</th>\n",
       "      <td>...</td>\n",
       "      <td>...</td>\n",
       "      <td>...</td>\n",
       "      <td>...</td>\n",
       "      <td>...</td>\n",
       "      <td>...</td>\n",
       "    </tr>\n",
       "    <tr>\n",
       "      <th>9340</th>\n",
       "      <td>11179903.7</td>\n",
       "      <td>Forrest, Graham Robert</td>\n",
       "      <td>Mewburn Ellis LLP</td>\n",
       "      <td>City Tower\\n40 Basinghall Street\\nLondon EC2V 5DE</td>\n",
       "      <td>GB</td>\n",
       "      <td>Method for improving antibody</td>\n",
       "    </tr>\n",
       "    <tr>\n",
       "      <th>9341</th>\n",
       "      <td>15189224.7</td>\n",
       "      <td>Kiddle, Simon John</td>\n",
       "      <td>Mewburn Ellis LLP</td>\n",
       "      <td>City Tower\\n40 Basinghall Street\\nLondon EC2V 5DE</td>\n",
       "      <td>GB</td>\n",
       "      <td>FILAMENTOUS FUNGI HAVING AN ALTERED VISCOSITY ...</td>\n",
       "    </tr>\n",
       "    <tr>\n",
       "      <th>9342</th>\n",
       "      <td>11782457.3</td>\n",
       "      <td>Naylor, Matthew John</td>\n",
       "      <td>Mewburn Ellis LLP</td>\n",
       "      <td>City Tower\\n40 Basinghall Street\\nLondon EC2V 5DE</td>\n",
       "      <td>GB</td>\n",
       "      <td>COMPOSITE LOAD BEARING PANELS, RESIN-IMPREGNAT...</td>\n",
       "    </tr>\n",
       "    <tr>\n",
       "      <th>9343</th>\n",
       "      <td>10252133.3</td>\n",
       "      <td>Stoner, Gerard Patrick</td>\n",
       "      <td>Mewburn Ellis LLP</td>\n",
       "      <td>City Tower\\n40 Basinghall Street\\nLondon EC2V 5DE</td>\n",
       "      <td>GB</td>\n",
       "      <td>Titania-doped quartz glass and making method</td>\n",
       "    </tr>\n",
       "    <tr>\n",
       "      <th>9344</th>\n",
       "      <td>10749484.1</td>\n",
       "      <td>Sutcliffe, Nicholas Robert</td>\n",
       "      <td>Mewburn Ellis LLP</td>\n",
       "      <td>City Tower\\n40 Basinghall Street\\nLondon EC2V 5DE</td>\n",
       "      <td>GB</td>\n",
       "      <td>VARIANT IMMUNOGLOBULINS WITH IMPROVED MANUFACT...</td>\n",
       "    </tr>\n",
       "  </tbody>\n",
       "</table>\n",
       "<p>9345 rows × 6 columns</p>\n",
       "</div>"
      ],
      "text/plain": [
       "     application.number                 representative.name  \\\n",
       "0            06721574.9                        Abel & Imray   \n",
       "1            07380184.7                Ungria López, Javier   \n",
       "2            08734614.4                   Schnappauf, Georg   \n",
       "3            06450127.3  Schwarz & Partner Patentanwälte OG   \n",
       "4            08150992.9                Maier, Daniel Oliver   \n",
       "...                 ...                                 ...   \n",
       "9340         11179903.7              Forrest, Graham Robert   \n",
       "9341         15189224.7                  Kiddle, Simon John   \n",
       "9342         11782457.3                Naylor, Matthew John   \n",
       "9343         10252133.3              Stoner, Gerard Patrick   \n",
       "9344         10749484.1          Sutcliffe, Nicholas Robert   \n",
       "\n",
       "                            representative.address  \\\n",
       "0           Westpoint Building \\nJames Street West   \n",
       "1                          Avda. Ramón y Cajal, 78   \n",
       "2     ZSP Patentanwälte PartG mbB \\nHansastraße 32   \n",
       "3              Patentanwälte \\nWipplingerstraße 30   \n",
       "4                   Siemens AG \\nPostfach 22 16 34   \n",
       "...                                            ...   \n",
       "9340                             Mewburn Ellis LLP   \n",
       "9341                             Mewburn Ellis LLP   \n",
       "9342                             Mewburn Ellis LLP   \n",
       "9343                             Mewburn Ellis LLP   \n",
       "9344                             Mewburn Ellis LLP   \n",
       "\n",
       "                                    representative.city  \\\n",
       "0                                          Bath BA1 2DA   \n",
       "1                                          28043 Madrid   \n",
       "2                                         80686 München   \n",
       "3                                             1010 Wien   \n",
       "4                                         80506 München   \n",
       "...                                                 ...   \n",
       "9340  City Tower\\n40 Basinghall Street\\nLondon EC2V 5DE   \n",
       "9341  City Tower\\n40 Basinghall Street\\nLondon EC2V 5DE   \n",
       "9342  City Tower\\n40 Basinghall Street\\nLondon EC2V 5DE   \n",
       "9343  City Tower\\n40 Basinghall Street\\nLondon EC2V 5DE   \n",
       "9344  City Tower\\n40 Basinghall Street\\nLondon EC2V 5DE   \n",
       "\n",
       "     representative.country                                           title.en  \n",
       "0                        GB  MOBILE COMMUNICATION DEVICE WITH MUSIC INSTRUM...  \n",
       "1                        ES  Clutch mechanism couplable to door locks with ...  \n",
       "2                        DE  MONOCLONAL ANTIBODIES AGAINST GT468 FOR TREATM...  \n",
       "3                        AT  Apparatus and method for mobile contactless me...  \n",
       "4                        DE                   Order tracking method and system  \n",
       "...                     ...                                                ...  \n",
       "9340                     GB                      Method for improving antibody  \n",
       "9341                     GB  FILAMENTOUS FUNGI HAVING AN ALTERED VISCOSITY ...  \n",
       "9342                     GB  COMPOSITE LOAD BEARING PANELS, RESIN-IMPREGNAT...  \n",
       "9343                     GB       Titania-doped quartz glass and making method  \n",
       "9344                     GB  VARIANT IMMUNOGLOBULINS WITH IMPROVED MANUFACT...  \n",
       "\n",
       "[9345 rows x 6 columns]"
      ]
     },
     "execution_count": 15,
     "metadata": {},
     "output_type": "execute_result"
    }
   ],
   "source": [
    "q.get_results(\"application.number, representative, title.en\")"
   ]
  },
  {
   "cell_type": "markdown",
   "id": "676626b2-83af-40a8-ad91-f6a86eb14255",
   "metadata": {},
   "source": [
    "### Limiting the amount of results\n",
    "When working with large results lists, sometimes you want to see a subset of those results. For that you can pass a `limit` parameter to the method."
   ]
  },
  {
   "cell_type": "code",
   "execution_count": 17,
   "id": "6ae4bf57-bcff-46fe-974c-caa2ed30814c",
   "metadata": {},
   "outputs": [
    {
     "data": {
      "text/html": [
       "<div>\n",
       "<style scoped>\n",
       "    .dataframe tbody tr th:only-of-type {\n",
       "        vertical-align: middle;\n",
       "    }\n",
       "\n",
       "    .dataframe tbody tr th {\n",
       "        vertical-align: top;\n",
       "    }\n",
       "\n",
       "    .dataframe thead th {\n",
       "        text-align: right;\n",
       "    }\n",
       "</style>\n",
       "<table border=\"1\" class=\"dataframe\">\n",
       "  <thead>\n",
       "    <tr style=\"text-align: right;\">\n",
       "      <th></th>\n",
       "      <th>application.number</th>\n",
       "    </tr>\n",
       "  </thead>\n",
       "  <tbody>\n",
       "    <tr>\n",
       "      <th>0</th>\n",
       "      <td>12848361.7</td>\n",
       "    </tr>\n",
       "    <tr>\n",
       "      <th>1</th>\n",
       "      <td>12851687.9</td>\n",
       "    </tr>\n",
       "    <tr>\n",
       "      <th>2</th>\n",
       "      <td>12852260.4</td>\n",
       "    </tr>\n",
       "    <tr>\n",
       "      <th>3</th>\n",
       "      <td>12869142.5</td>\n",
       "    </tr>\n",
       "    <tr>\n",
       "      <th>4</th>\n",
       "      <td>13003519.9</td>\n",
       "    </tr>\n",
       "    <tr>\n",
       "      <th>...</th>\n",
       "      <td>...</td>\n",
       "    </tr>\n",
       "    <tr>\n",
       "      <th>9340</th>\n",
       "      <td>10825797.3</td>\n",
       "    </tr>\n",
       "    <tr>\n",
       "      <th>9341</th>\n",
       "      <td>11826254.2</td>\n",
       "    </tr>\n",
       "    <tr>\n",
       "      <th>9342</th>\n",
       "      <td>11835198.0</td>\n",
       "    </tr>\n",
       "    <tr>\n",
       "      <th>9343</th>\n",
       "      <td>12180553.5</td>\n",
       "    </tr>\n",
       "    <tr>\n",
       "      <th>9344</th>\n",
       "      <td>12819568.2</td>\n",
       "    </tr>\n",
       "  </tbody>\n",
       "</table>\n",
       "<p>9345 rows × 1 columns</p>\n",
       "</div>"
      ],
      "text/plain": [
       "     application.number\n",
       "0            12848361.7\n",
       "1            12851687.9\n",
       "2            12852260.4\n",
       "3            12869142.5\n",
       "4            13003519.9\n",
       "...                 ...\n",
       "9340         10825797.3\n",
       "9341         11826254.2\n",
       "9342         11835198.0\n",
       "9343         12180553.5\n",
       "9344         12819568.2\n",
       "\n",
       "[9345 rows x 1 columns]"
      ]
     },
     "execution_count": 17,
     "metadata": {},
     "output_type": "execute_result"
    }
   ],
   "source": [
    "# getting the first 10 results only\n",
    "q.get_results(\"application.number\")"
   ]
  },
  {
   "cell_type": "markdown",
   "id": "477c5517-8b32-4fa9-91b7-430e426ce7b0",
   "metadata": {},
   "source": [
    "## Data formats\n",
    "We have seen that the default output of the `get_results` method is a DataFrame. There are other ways to get the data using the `output_type`parameter: \n",
    "\n",
    "- **List** : Data are embedded in a simple, plain **list of dictionaries**, for ensuring maximum Python compatibility and exchangeability.\n",
    "- **Datagrid**: For tabular visualization in an **Excel-like** widget, which allows simple filtering, sorting etc. (currently still limited)\n",
    "- **Widgets**: A list of reusable **ipywidgets** component, for advanced single-record visualization "
   ]
  },
  {
   "cell_type": "markdown",
   "id": "1f87410d-ac34-4039-9959-02d219e2509b",
   "metadata": {},
   "source": [
    "### Getting results as a list\n",
    "Sometimes it will be more useful to get the results as a list of dictionaries. One example is when displaying the results of fields that can contain multiple entries, such as the applicant. Let's first see what happens when we display the applicant field in a DataFrame. "
   ]
  },
  {
   "cell_type": "code",
   "execution_count": 21,
   "id": "a543fc60-7d01-41c3-9737-e5f9a8173c95",
   "metadata": {},
   "outputs": [
    {
     "data": {
      "text/html": [
       "<div>\n",
       "<style scoped>\n",
       "    .dataframe tbody tr th:only-of-type {\n",
       "        vertical-align: middle;\n",
       "    }\n",
       "\n",
       "    .dataframe tbody tr th {\n",
       "        vertical-align: top;\n",
       "    }\n",
       "\n",
       "    .dataframe thead th {\n",
       "        text-align: right;\n",
       "    }\n",
       "</style>\n",
       "<table border=\"1\" class=\"dataframe\">\n",
       "  <thead>\n",
       "    <tr style=\"text-align: right;\">\n",
       "      <th></th>\n",
       "      <th>applicant</th>\n",
       "    </tr>\n",
       "  </thead>\n",
       "  <tbody>\n",
       "    <tr>\n",
       "      <th>0</th>\n",
       "      <td>[{'name': 'Gilead Apollo, LLC', 'address': '33...</td>\n",
       "    </tr>\n",
       "    <tr>\n",
       "      <th>1</th>\n",
       "      <td>[{'name': 'Novozymes Inc.', 'address': '1445 D...</td>\n",
       "    </tr>\n",
       "    <tr>\n",
       "      <th>2</th>\n",
       "      <td>[{'name': 'Biophore India Pharmaceuticals Pvt....</td>\n",
       "    </tr>\n",
       "    <tr>\n",
       "      <th>3</th>\n",
       "      <td>[{'name': 'Bloomage Freda Biopharm Co. Ltd.', ...</td>\n",
       "    </tr>\n",
       "    <tr>\n",
       "      <th>4</th>\n",
       "      <td>[{'name': 'MYLAN LABORATORIES LIMITED', 'addre...</td>\n",
       "    </tr>\n",
       "  </tbody>\n",
       "</table>\n",
       "</div>"
      ],
      "text/plain": [
       "                                           applicant\n",
       "0  [{'name': 'Gilead Apollo, LLC', 'address': '33...\n",
       "1  [{'name': 'Novozymes Inc.', 'address': '1445 D...\n",
       "2  [{'name': 'Biophore India Pharmaceuticals Pvt....\n",
       "3  [{'name': 'Bloomage Freda Biopharm Co. Ltd.', ...\n",
       "4  [{'name': 'MYLAN LABORATORIES LIMITED', 'addre..."
      ]
     },
     "execution_count": 21,
     "metadata": {},
     "output_type": "execute_result"
    }
   ],
   "source": [
    "# getting the applicant super field \n",
    "q.get_results(\"applicant\", limit = 5)"
   ]
  },
  {
   "cell_type": "markdown",
   "id": "0143a130-765f-4457-bd9d-e6d3fa069369",
   "metadata": {},
   "source": [
    "We can see that the applicant super field is a list of dictionaries. This is because one publication can list multiple applicants, and each applicant has a name, address, etc. In this case, when working with applicants, it is probably more practical to get the plain python list."
   ]
  },
  {
   "cell_type": "code",
   "execution_count": 19,
   "id": "f6ceedb2-e0aa-410e-b682-0151ae3d2afe",
   "metadata": {},
   "outputs": [
    {
     "data": {
      "text/plain": [
       "[{'applicant': [{'name': 'Gilead Apollo, LLC',\n",
       "    'address': '333 Lakeside Drive',\n",
       "    'city': 'Foster City CA 94404',\n",
       "    'country': 'US'}]},\n",
       " {'applicant': [{'name': 'Novozymes Inc.',\n",
       "    'address': '1445 Drew Avenue',\n",
       "    'city': 'Davis, CA 95616',\n",
       "    'country': 'US'}]},\n",
       " {'applicant': [{'name': 'Biophore India Pharmaceuticals Pvt. Ltd.',\n",
       "    'address': 'Plot 193 \\nPremises 5-35/50 \\nPrashant Nagar \\nKukatpally',\n",
       "    'city': 'Hyderabad 500 072',\n",
       "    'country': 'IN'}]},\n",
       " {'applicant': [{'name': 'Bloomage Freda Biopharm Co. Ltd.',\n",
       "    'address': 'No.678 Tianchen Street \\nHi-Tech Development Zone \\nJinan',\n",
       "    'city': 'Shandong 250101',\n",
       "    'country': 'CN'}]},\n",
       " {'applicant': [{'name': 'MYLAN LABORATORIES LIMITED',\n",
       "    'address': 'Plot No. 564/A/22, Road No. 92 \\nJubilee Hills \\nHyderabad',\n",
       "    'city': '500033 Andhra Pradesh',\n",
       "    'country': 'IN'}]}]"
      ]
     },
     "execution_count": 19,
     "metadata": {},
     "output_type": "execute_result"
    }
   ],
   "source": [
    "q.get_results (\"applicant\", output_type= 'list', limit = 5)"
   ]
  },
  {
   "cell_type": "markdown",
   "id": "e25df557-966f-46de-80f3-7a0d00dac92f",
   "metadata": {},
   "source": [
    "### Getting results as Datagrids\n",
    "You can also get the results displayed in a Datagrid. This format is very useful when you get tabular data, and is very similar to a spreadsheet table. You can use it to sort, filter, and process the data in the table much as you would do in a spreadsheet. "
   ]
  },
  {
   "cell_type": "code",
   "execution_count": 22,
   "id": "0cf797b9-9ea7-4103-baf8-69ec1346b8c8",
   "metadata": {},
   "outputs": [
    {
     "data": {
      "application/vnd.jupyter.widget-view+json": {
       "model_id": "933f3e9a300b416f84d6d28bd3ffe2d6",
       "version_major": 2,
       "version_minor": 0
      },
      "text/plain": [
       "DataGrid(auto_fit_columns=True, auto_fit_params={'area': 'all', 'padding': 30, 'numCols': None}, corner_render…"
      ]
     },
     "execution_count": 22,
     "metadata": {},
     "output_type": "execute_result"
    }
   ],
   "source": [
    "# getting results as a Datagrid\n",
    "q.get_results('application.number, application.filing_date, representative.name', output_type='datagrid')"
   ]
  },
  {
   "cell_type": "markdown",
   "id": "6fb39eb4-6c21-49f7-b6cc-b592e9f510df",
   "metadata": {},
   "source": [
    "## Types of queries\n",
    "There are two ways to query the EPAB library, via pre-built query methods or with SQL queries. This section will show all the pre-built queries that you can use with EPAB."
   ]
  },
  {
   "attachments": {},
   "cell_type": "markdown",
   "id": "32efdb20-7585-4b9d-a71f-2023d541ecf0",
   "metadata": {},
   "source": [
    "### Querying by publication fields\n",
    "Running the `fields()` method we saw above you can see that the `publication` super field contains several fields, see the list below. We can combine those fields in a single query, or we can use individual query methods for each field. "
   ]
  },
  {
   "attachments": {
    "86343616-09cb-4b49-b271-b9fd8bb6bb97.png": {
     "image/png": "[encoded data removed]"
    }
   },
   "cell_type": "markdown",
   "id": "99d2f098-9d51-4c27-8702-7bb74a915820",
   "metadata": {},
   "source": [
    "![image.png](attachment:86343616-09cb-4b49-b271-b9fd8bb6bb97.png)"
   ]
  },
  {
   "cell_type": "markdown",
   "id": "21e1a3d6-24b3-44f8-b5e6-ed227db02dcd",
   "metadata": {},
   "source": [
    "You can combine number, kind, date range and language in a query with the `query_publication()` method. Please bear in mind that the number is a mandatory parameter, you can enter `%` in that parameter if you are not interested in searching for a specific application number. In the example below we search for granted patents (kindcode B1) where the grant was published in 2018. Please note that you need to enter a date range, and not a specific date. The format of the date range is `yyyymmdd-yyyymmdd`."
   ]
  },
  {
   "cell_type": "code",
   "execution_count": 23,
   "id": "2445c161-ca2e-4228-91e2-43065bb4bef9",
   "metadata": {},
   "outputs": [
    {
     "name": "stdout",
     "output_type": "stream",
     "text": [
      "9345 publications\n"
     ]
    },
    {
     "data": {
      "text/html": [
       "<div>\n",
       "<style scoped>\n",
       "    .dataframe tbody tr th:only-of-type {\n",
       "        vertical-align: middle;\n",
       "    }\n",
       "\n",
       "    .dataframe tbody tr th {\n",
       "        vertical-align: top;\n",
       "    }\n",
       "\n",
       "    .dataframe thead th {\n",
       "        text-align: right;\n",
       "    }\n",
       "</style>\n",
       "<table border=\"1\" class=\"dataframe\">\n",
       "  <thead>\n",
       "    <tr style=\"text-align: right;\">\n",
       "      <th></th>\n",
       "      <th>publication.country</th>\n",
       "      <th>publication.number</th>\n",
       "      <th>publication.kind</th>\n",
       "      <th>publication.date</th>\n",
       "      <th>publication.language</th>\n",
       "    </tr>\n",
       "  </thead>\n",
       "  <tbody>\n",
       "    <tr>\n",
       "      <th>0</th>\n",
       "      <td>EP</td>\n",
       "      <td>1537309</td>\n",
       "      <td>B1</td>\n",
       "      <td>20180110</td>\n",
       "      <td>EN</td>\n",
       "    </tr>\n",
       "    <tr>\n",
       "      <th>1</th>\n",
       "      <td>EP</td>\n",
       "      <td>1558533</td>\n",
       "      <td>B1</td>\n",
       "      <td>20180110</td>\n",
       "      <td>EN</td>\n",
       "    </tr>\n",
       "    <tr>\n",
       "      <th>2</th>\n",
       "      <td>EP</td>\n",
       "      <td>1579348</td>\n",
       "      <td>B1</td>\n",
       "      <td>20180110</td>\n",
       "      <td>EN</td>\n",
       "    </tr>\n",
       "    <tr>\n",
       "      <th>3</th>\n",
       "      <td>EP</td>\n",
       "      <td>1641431</td>\n",
       "      <td>B1</td>\n",
       "      <td>20180110</td>\n",
       "      <td>EN</td>\n",
       "    </tr>\n",
       "    <tr>\n",
       "      <th>4</th>\n",
       "      <td>EP</td>\n",
       "      <td>1725116</td>\n",
       "      <td>B1</td>\n",
       "      <td>20180110</td>\n",
       "      <td>EN</td>\n",
       "    </tr>\n",
       "  </tbody>\n",
       "</table>\n",
       "</div>"
      ],
      "text/plain": [
       "  publication.country publication.number publication.kind publication.date  \\\n",
       "0                  EP            1537309               B1         20180110   \n",
       "1                  EP            1558533               B1         20180110   \n",
       "2                  EP            1579348               B1         20180110   \n",
       "3                  EP            1641431               B1         20180110   \n",
       "4                  EP            1725116               B1         20180110   \n",
       "\n",
       "  publication.language  \n",
       "0                   EN  \n",
       "1                   EN  \n",
       "2                   EN  \n",
       "3                   EN  \n",
       "4                   EN  "
      ]
     },
     "execution_count": 23,
     "metadata": {},
     "output_type": "execute_result"
    }
   ],
   "source": [
    "# querying for any publication number, granted patents, and the whole year 2018 as the publication date range. \n",
    "q = epab.query_publication(number=\"%\", kind_code=\"B1\", date=\"20180101-20180131\")\n",
    "\n",
    "# printing the amount of communications\n",
    "print(q)\n",
    "\n",
    "# displaying the first 5 publications with all the fields of the publication super field\n",
    "q.get_results(\"publication\", limit=5)"
   ]
  },
  {
   "cell_type": "markdown",
   "id": "51cabddb-4d23-497a-9ed0-2425dbe9a895",
   "metadata": {},
   "source": [
    "#### Querying by individual publication fields\n",
    "You can also query individual fields of the publication super field. This type of individual queries can be very useful when combining queries, which we will see later. Below we see the methods for querying the language or the publication kind. "
   ]
  },
  {
   "cell_type": "code",
   "execution_count": 24,
   "id": "97cb0465-6d32-4b12-b39a-49f556f7d13e",
   "metadata": {},
   "outputs": [
    {
     "name": "stdout",
     "output_type": "stream",
     "text": [
      "3320473 publications\n"
     ]
    },
    {
     "data": {
      "text/html": [
       "<div>\n",
       "<style scoped>\n",
       "    .dataframe tbody tr th:only-of-type {\n",
       "        vertical-align: middle;\n",
       "    }\n",
       "\n",
       "    .dataframe tbody tr th {\n",
       "        vertical-align: top;\n",
       "    }\n",
       "\n",
       "    .dataframe thead th {\n",
       "        text-align: right;\n",
       "    }\n",
       "</style>\n",
       "<table border=\"1\" class=\"dataframe\">\n",
       "  <thead>\n",
       "    <tr style=\"text-align: right;\">\n",
       "      <th></th>\n",
       "      <th>publication.kind</th>\n",
       "      <th>publication.number</th>\n",
       "    </tr>\n",
       "  </thead>\n",
       "  <tbody>\n",
       "    <tr>\n",
       "      <th>0</th>\n",
       "      <td>A1</td>\n",
       "      <td>0225951</td>\n",
       "    </tr>\n",
       "    <tr>\n",
       "      <th>1</th>\n",
       "      <td>A1</td>\n",
       "      <td>0226029</td>\n",
       "    </tr>\n",
       "    <tr>\n",
       "      <th>2</th>\n",
       "      <td>A1</td>\n",
       "      <td>0226032</td>\n",
       "    </tr>\n",
       "    <tr>\n",
       "      <th>3</th>\n",
       "      <td>A1</td>\n",
       "      <td>0226175</td>\n",
       "    </tr>\n",
       "    <tr>\n",
       "      <th>4</th>\n",
       "      <td>A1</td>\n",
       "      <td>0226236</td>\n",
       "    </tr>\n",
       "  </tbody>\n",
       "</table>\n",
       "</div>"
      ],
      "text/plain": [
       "  publication.kind publication.number\n",
       "0               A1            0225951\n",
       "1               A1            0226029\n",
       "2               A1            0226032\n",
       "3               A1            0226175\n",
       "4               A1            0226236"
      ]
     },
     "execution_count": 24,
     "metadata": {},
     "output_type": "execute_result"
    }
   ],
   "source": [
    "# getting all the A1 publications\n",
    "q = epab.query_publication_kind_code(\"A1\")\n",
    "print(q)\n",
    "q.get_results(\"publication.kind, publication.number\", limit=5)"
   ]
  },
  {
   "cell_type": "code",
   "execution_count": 25,
   "id": "af798509-3fc8-42ec-9fb9-0caa59ee25cf",
   "metadata": {},
   "outputs": [
    {
     "name": "stdout",
     "output_type": "stream",
     "text": [
      "1857733 publications\n"
     ]
    },
    {
     "data": {
      "text/html": [
       "<div>\n",
       "<style scoped>\n",
       "    .dataframe tbody tr th:only-of-type {\n",
       "        vertical-align: middle;\n",
       "    }\n",
       "\n",
       "    .dataframe tbody tr th {\n",
       "        vertical-align: top;\n",
       "    }\n",
       "\n",
       "    .dataframe thead th {\n",
       "        text-align: right;\n",
       "    }\n",
       "</style>\n",
       "<table border=\"1\" class=\"dataframe\">\n",
       "  <thead>\n",
       "    <tr style=\"text-align: right;\">\n",
       "      <th></th>\n",
       "      <th>publication.country</th>\n",
       "      <th>publication.number</th>\n",
       "      <th>publication.kind</th>\n",
       "      <th>publication.date</th>\n",
       "      <th>publication.language</th>\n",
       "    </tr>\n",
       "  </thead>\n",
       "  <tbody>\n",
       "    <tr>\n",
       "      <th>0</th>\n",
       "      <td>EP</td>\n",
       "      <td>2782914</td>\n",
       "      <td>A1</td>\n",
       "      <td>20141001</td>\n",
       "      <td>DE</td>\n",
       "    </tr>\n",
       "    <tr>\n",
       "      <th>1</th>\n",
       "      <td>EP</td>\n",
       "      <td>2784347</td>\n",
       "      <td>A1</td>\n",
       "      <td>20141001</td>\n",
       "      <td>DE</td>\n",
       "    </tr>\n",
       "    <tr>\n",
       "      <th>2</th>\n",
       "      <td>EP</td>\n",
       "      <td>2783919</td>\n",
       "      <td>A1</td>\n",
       "      <td>20141001</td>\n",
       "      <td>DE</td>\n",
       "    </tr>\n",
       "    <tr>\n",
       "      <th>3</th>\n",
       "      <td>EP</td>\n",
       "      <td>2784298</td>\n",
       "      <td>A1</td>\n",
       "      <td>20141001</td>\n",
       "      <td>DE</td>\n",
       "    </tr>\n",
       "    <tr>\n",
       "      <th>4</th>\n",
       "      <td>EP</td>\n",
       "      <td>0762339</td>\n",
       "      <td>A2</td>\n",
       "      <td>19970312</td>\n",
       "      <td>DE</td>\n",
       "    </tr>\n",
       "  </tbody>\n",
       "</table>\n",
       "</div>"
      ],
      "text/plain": [
       "  publication.country publication.number publication.kind publication.date  \\\n",
       "0                  EP            2782914               A1         20141001   \n",
       "1                  EP            2784347               A1         20141001   \n",
       "2                  EP            2783919               A1         20141001   \n",
       "3                  EP            2784298               A1         20141001   \n",
       "4                  EP            0762339               A2         19970312   \n",
       "\n",
       "  publication.language  \n",
       "0                   DE  \n",
       "1                   DE  \n",
       "2                   DE  \n",
       "3                   DE  \n",
       "4                   DE  "
      ]
     },
     "execution_count": 25,
     "metadata": {},
     "output_type": "execute_result"
    }
   ],
   "source": [
    "# getting all the French and German publications\n",
    "q = epab.query_publication_language(\"FR,DE\")\n",
    "print(q)\n",
    "q.get_results(\"publication\", limit=5)"
   ]
  },
  {
   "cell_type": "markdown",
   "id": "eeadadb4-f070-423a-a1a5-8fba0abd15e1",
   "metadata": {},
   "source": [
    "#### Querying by publication dates\n",
    "Querying by the publication date can be done with a range or with a specific date. "
   ]
  },
  {
   "cell_type": "code",
   "execution_count": 26,
   "id": "6ae3802b-936b-427b-85ee-46d9b3dd9292",
   "metadata": {},
   "outputs": [
    {
     "name": "stdout",
     "output_type": "stream",
     "text": [
      "5838 publications\n"
     ]
    },
    {
     "data": {
      "text/html": [
       "<div>\n",
       "<style scoped>\n",
       "    .dataframe tbody tr th:only-of-type {\n",
       "        vertical-align: middle;\n",
       "    }\n",
       "\n",
       "    .dataframe tbody tr th {\n",
       "        vertical-align: top;\n",
       "    }\n",
       "\n",
       "    .dataframe thead th {\n",
       "        text-align: right;\n",
       "    }\n",
       "</style>\n",
       "<table border=\"1\" class=\"dataframe\">\n",
       "  <thead>\n",
       "    <tr style=\"text-align: right;\">\n",
       "      <th></th>\n",
       "      <th>publication.country</th>\n",
       "      <th>publication.number</th>\n",
       "      <th>publication.kind</th>\n",
       "      <th>publication.date</th>\n",
       "      <th>publication.language</th>\n",
       "    </tr>\n",
       "  </thead>\n",
       "  <tbody>\n",
       "    <tr>\n",
       "      <th>0</th>\n",
       "      <td>EP</td>\n",
       "      <td>3263164</td>\n",
       "      <td>A1</td>\n",
       "      <td>20180103</td>\n",
       "      <td>DE</td>\n",
       "    </tr>\n",
       "    <tr>\n",
       "      <th>1</th>\n",
       "      <td>EP</td>\n",
       "      <td>3263292</td>\n",
       "      <td>A1</td>\n",
       "      <td>20180103</td>\n",
       "      <td>EN</td>\n",
       "    </tr>\n",
       "    <tr>\n",
       "      <th>2</th>\n",
       "      <td>EP</td>\n",
       "      <td>3263594</td>\n",
       "      <td>A1</td>\n",
       "      <td>20180103</td>\n",
       "      <td>EN</td>\n",
       "    </tr>\n",
       "    <tr>\n",
       "      <th>3</th>\n",
       "      <td>EP</td>\n",
       "      <td>3263569</td>\n",
       "      <td>A1</td>\n",
       "      <td>20180103</td>\n",
       "      <td>EN</td>\n",
       "    </tr>\n",
       "    <tr>\n",
       "      <th>4</th>\n",
       "      <td>EP</td>\n",
       "      <td>3263434</td>\n",
       "      <td>A1</td>\n",
       "      <td>20180103</td>\n",
       "      <td>EN</td>\n",
       "    </tr>\n",
       "  </tbody>\n",
       "</table>\n",
       "</div>"
      ],
      "text/plain": [
       "  publication.country publication.number publication.kind publication.date  \\\n",
       "0                  EP            3263164               A1         20180103   \n",
       "1                  EP            3263292               A1         20180103   \n",
       "2                  EP            3263594               A1         20180103   \n",
       "3                  EP            3263569               A1         20180103   \n",
       "4                  EP            3263434               A1         20180103   \n",
       "\n",
       "  publication.language  \n",
       "0                   DE  \n",
       "1                   EN  \n",
       "2                   EN  \n",
       "3                   EN  \n",
       "4                   EN  "
      ]
     },
     "execution_count": 26,
     "metadata": {},
     "output_type": "execute_result"
    }
   ],
   "source": [
    "# getting the publications for a specific date\n",
    "q = epab.query_publication_date(\"20180103\")\n",
    "print(q)\n",
    "q.get_results(\"publication\", limit=5)"
   ]
  },
  {
   "cell_type": "code",
   "execution_count": null,
   "id": "9e1fe62f-e304-440c-9943-d11fdc3ba258",
   "metadata": {},
   "outputs": [],
   "source": [
    "# getting the publications for a January 2018\n",
    "q = epab.query_publication_date(\"20180101-20180131\")\n",
    "print(q)\n",
    "q.get_results(\"publication\", limit=5)"
   ]
  },
  {
   "cell_type": "markdown",
   "id": "912bcd41-1bea-4acb-a192-4b7fbf34c781",
   "metadata": {},
   "source": [
    "#### Querying by dates with truncation\n",
    "An easy way to enter a date range such as a given year or month is to use truncation"
   ]
  },
  {
   "cell_type": "code",
   "execution_count": 27,
   "id": "c3ea7600-4eb3-4862-8be7-e5d9227de44d",
   "metadata": {},
   "outputs": [
    {
     "name": "stdout",
     "output_type": "stream",
     "text": [
      "2461089 publications\n"
     ]
    },
    {
     "data": {
      "text/html": [
       "<div>\n",
       "<style scoped>\n",
       "    .dataframe tbody tr th:only-of-type {\n",
       "        vertical-align: middle;\n",
       "    }\n",
       "\n",
       "    .dataframe tbody tr th {\n",
       "        vertical-align: top;\n",
       "    }\n",
       "\n",
       "    .dataframe thead th {\n",
       "        text-align: right;\n",
       "    }\n",
       "</style>\n",
       "<table border=\"1\" class=\"dataframe\">\n",
       "  <thead>\n",
       "    <tr style=\"text-align: right;\">\n",
       "      <th></th>\n",
       "      <th>publication.country</th>\n",
       "      <th>publication.number</th>\n",
       "      <th>publication.kind</th>\n",
       "      <th>publication.date</th>\n",
       "      <th>publication.language</th>\n",
       "    </tr>\n",
       "  </thead>\n",
       "  <tbody>\n",
       "    <tr>\n",
       "      <th>0</th>\n",
       "      <td>EP</td>\n",
       "      <td>2370513</td>\n",
       "      <td>A1</td>\n",
       "      <td>20111005</td>\n",
       "      <td>EN</td>\n",
       "    </tr>\n",
       "    <tr>\n",
       "      <th>1</th>\n",
       "      <td>EP</td>\n",
       "      <td>2372925</td>\n",
       "      <td>A1</td>\n",
       "      <td>20111005</td>\n",
       "      <td>EN</td>\n",
       "    </tr>\n",
       "    <tr>\n",
       "      <th>2</th>\n",
       "      <td>EP</td>\n",
       "      <td>2370523</td>\n",
       "      <td>A1</td>\n",
       "      <td>20111005</td>\n",
       "      <td>DE</td>\n",
       "    </tr>\n",
       "    <tr>\n",
       "      <th>3</th>\n",
       "      <td>EP</td>\n",
       "      <td>2370443</td>\n",
       "      <td>A1</td>\n",
       "      <td>20111005</td>\n",
       "      <td>EN</td>\n",
       "    </tr>\n",
       "    <tr>\n",
       "      <th>4</th>\n",
       "      <td>EP</td>\n",
       "      <td>2370450</td>\n",
       "      <td>A1</td>\n",
       "      <td>20111005</td>\n",
       "      <td>EN</td>\n",
       "    </tr>\n",
       "  </tbody>\n",
       "</table>\n",
       "</div>"
      ],
      "text/plain": [
       "  publication.country publication.number publication.kind publication.date  \\\n",
       "0                  EP            2370513               A1         20111005   \n",
       "1                  EP            2372925               A1         20111005   \n",
       "2                  EP            2370523               A1         20111005   \n",
       "3                  EP            2370443               A1         20111005   \n",
       "4                  EP            2370450               A1         20111005   \n",
       "\n",
       "  publication.language  \n",
       "0                   EN  \n",
       "1                   EN  \n",
       "2                   DE  \n",
       "3                   EN  \n",
       "4                   EN  "
      ]
     },
     "execution_count": 27,
     "metadata": {},
     "output_type": "execute_result"
    }
   ],
   "source": [
    "# getting the publications for January 2018 with truncation\n",
    "q = epab.query_publication_date(\"201%\")\n",
    "print(q)\n",
    "q.get_results(\"publication\", limit=5)"
   ]
  },
  {
   "cell_type": "markdown",
   "id": "c2230e4c-e6e0-43c4-9181-508d2b3d3874",
   "metadata": {},
   "source": [
    "### Querrying by application fields\n",
    "Similarly to what we can do with the fields within the `publication` super field, we can query EPAB with fields within the `application` super field. Again, we can combine several fields or query individual fields. One important note is that when querying for applications, the date field is the **filing date**. "
   ]
  },
  {
   "cell_type": "code",
   "execution_count": null,
   "id": "d0cd4fec-8f8b-41b3-b7e7-3de2b998c963",
   "metadata": {},
   "outputs": [],
   "source": [
    "# getting all the applications filed in April 2016\n",
    "q = epab.query_application(number=\"%\", date=\"20160401-20160430\")\n",
    "print(q)\n",
    "q.get_results(\"application\", limit=5)"
   ]
  },
  {
   "cell_type": "markdown",
   "id": "09038a82-3f73-4e69-aad9-729874a35c88",
   "metadata": {},
   "source": [
    "A very important aspect to consider, when querying application fields, is that one application will typically generate more than one publication. This is clearly illustrated in the example below. For one application number you get two publications, the A1 and the B1."
   ]
  },
  {
   "cell_type": "code",
   "execution_count": null,
   "id": "dcb48070-4237-4bea-93ed-b957465f9e9d",
   "metadata": {},
   "outputs": [],
   "source": [
    "q = epab.query_application(number ='16163495.1')\n",
    "q.get_results(\"application, publication.kind\", limit=5)"
   ]
  },
  {
   "cell_type": "markdown",
   "id": "c01056ac-5295-482f-9cca-bfc8e0e03bc3",
   "metadata": {},
   "source": [
    "#### Querying by individual application fields"
   ]
  },
  {
   "cell_type": "code",
   "execution_count": null,
   "id": "1fd24a76-515d-4d29-bce9-f79146f69f4e",
   "metadata": {
    "scrolled": true
   },
   "outputs": [],
   "source": [
    "# getting all the applications with numbers starting in 167\n",
    "q = epab.query_application_number(\"167%\")\n",
    "print(q)\n",
    "q.get_results(\"application\", limit=5)"
   ]
  },
  {
   "cell_type": "code",
   "execution_count": null,
   "id": "11f11349-ba08-426c-9d3f-94c76866d4f8",
   "metadata": {},
   "outputs": [],
   "source": [
    "# getting publications from applications filed on 02-02-16\n",
    "q = epab.query_application_filing_date(\"20160202\")\n",
    "print(q)\n",
    "q.get_results(\"publication.number, application.number\", limit=5)"
   ]
  },
  {
   "cell_type": "markdown",
   "id": "17f6ed85-3e50-455e-92d4-fe158395f1f8",
   "metadata": {},
   "source": [
    "### Querying by parties\n",
    "As you have seen with the `fields` method, the EPAB database contains fields about inventors, applicants, and representatives. Please note that a publication may mention more than one inventor and applicant. However, although the applicant may appoint more than one representative, only the first representative on record is shown in EPAB.\n",
    "\n",
    "The consequence of this is that the super fields `inventor` and `applicant` contain a list of dictionaries, with the fields for each individual applicant or inventor stored in a dictionary within the list. This is very important for visualizing and processing data about applicants and inventors. "
   ]
  },
  {
   "cell_type": "markdown",
   "id": "5d879cf1-15b2-40ee-bee5-7328ff9018f0",
   "metadata": {},
   "source": [
    "#### Querying by inventor fields\n",
    "The `inventor` super field contains the name, address, city, and country of each inventor. You can query by any of those fields with the dedicated methods. There is no general query for inventor fields. "
   ]
  },
  {
   "cell_type": "code",
   "execution_count": null,
   "id": "7a2f8dcb-fd23-47a2-92b1-63c1d346ea89",
   "metadata": {},
   "outputs": [],
   "source": [
    "# getting all the publications naming one inventor called Elon Musk\n",
    "# and yes, there  is one patent granted to THE Michael Jackson as an inventor. \n",
    "q = epab.query_inventor_name(\"%Michael Jackson%\")\n",
    "print(q)\n",
    "\n",
    "# we get the results as a list, to visualize the nested data structure of inventors\n",
    "q.get_results(\"publication, inventor\", limit=2, output_type='list')"
   ]
  },
  {
   "cell_type": "code",
   "execution_count": null,
   "id": "cedbebf5-90e6-456d-85b2-d1abaf0bbabc",
   "metadata": {},
   "outputs": [],
   "source": [
    "# getting all the pubilcations naming one inventor with residence in Madrid\n",
    "q = epab.query_inventor_city(\"%Madrid%\")\n",
    "print(q)\n",
    "\n",
    "\n",
    "q.get_results(\"inventor.city\", output_type=\"list\", limit=2)"
   ]
  },
  {
   "cell_type": "markdown",
   "id": "d70ca734-9c24-47ef-9f03-170741c4f44d",
   "metadata": {},
   "source": [
    "#### Country fields\n",
    "All the fields that contain country information--for applicants, inventors and representatives--contain two leter codes as defined by the [ISO 3166 Standard](https://en.wikipedia.org/wiki/ISO_3166-1_alpha-2)D"
   ]
  },
  {
   "cell_type": "code",
   "execution_count": null,
   "id": "be1eb7be-d2bc-4428-aaf5-c89f9e754fe2",
   "metadata": {},
   "outputs": [],
   "source": [
    "# getting all the publications naming one inventor with residence in Italy\n",
    "q = epab.query_inventor_country(\"GR, IT\")\n",
    "print(q)\n",
    "q.get_results(\" inventor.country\", limit=5,  output_type=\"list\")"
   ]
  },
  {
   "cell_type": "markdown",
   "id": "2dbd66f9-58f2-4380-a448-f77cff0abe30",
   "metadata": {},
   "source": [
    "#### Querying by applicant or representative fields\n",
    "The methods for querying by applicant or representative fields are the same as for inventor fields. Simply substitute `inventor` by `applicant` or `representative`in the method name."
   ]
  },
  {
   "cell_type": "code",
   "execution_count": null,
   "id": "8769d5e4-b6f8-4c00-8dd2-89cbdcda14b7",
   "metadata": {},
   "outputs": [],
   "source": [
    "# getting publications where the representative has their business place in Italy\n",
    "\n",
    "q = epab.query_representative_country(\"%IT%\")\n",
    "print(q)\n",
    "\n",
    "# note that the representative field does not contain a list, but a single representative per publication\n",
    "q.get_results(\"representative\", limit=5)"
   ]
  },
  {
   "cell_type": "code",
   "execution_count": null,
   "id": "5e6d3a42-a00e-4472-b70e-e06133501d51",
   "metadata": {},
   "outputs": [],
   "source": [
    "# getting publications naming one applicant with their business place in Italy\n",
    "\n",
    "q = epab.query_applicant_country(\"%IT%\")\n",
    "print(q)\n",
    "\n",
    "# note that the applicant field does not contains a list with one or more \n",
    "q.get_results(\"representative\", limit=5)"
   ]
  },
  {
   "cell_type": "markdown",
   "id": "5eb0e531-2796-4fb0-a9d1-e5f83bbf8129",
   "metadata": {},
   "source": [
    "### Querying by classification symbols\n",
    "EPAB contains information about the classification symbols assigned to the applications corresponding to the applications we can retrieve. There are fields for the Cooperative Patent Classification (CPC), and for the International Patent Classification. The data structure for classification symbols is similar to the applicant or inventor super fields. Each publication can--annd typically will--display more than one classification symbol. They are, therefore, stored in a list of dictionaries. In this section it is expected that the user is familiar with the CPC and IPC nomenclature. \n",
    "\n",
    "Querying by CPC and IPC fields is similar, simply change `ipc` for `cpc` and vice-versa."
   ]
  },
  {
   "cell_type": "code",
   "execution_count": 5,
   "id": "ff6ff970-7591-4eb8-a871-3f5726c0be38",
   "metadata": {},
   "outputs": [
    {
     "name": "stdout",
     "output_type": "stream",
     "text": [
      "122213 publications\n"
     ]
    },
    {
     "data": {
      "text/plain": [
       "[{'ipc': [{'symbol': 'H04L12/28'}]},\n",
       " {'ipc': [{'symbol': 'H04L12/56'}, {'symbol': 'H04L1/00'}]},\n",
       " {'ipc': [{'symbol': 'H04L12/46'}]},\n",
       " {'ipc': [{'symbol': 'H04L12/46'}]},\n",
       " {'ipc': [{'symbol': 'H04L12/46'}, {'symbol': 'H04L12/24'}]}]"
      ]
     },
     "execution_count": 5,
     "metadata": {},
     "output_type": "execute_result"
    }
   ],
   "source": [
    "# Let's look for all the publications having one of two possible IPC symbols assigned \n",
    "\n",
    "q = epab.query_ipc(symbol=\"H04W36%, H04L12%\")\n",
    "print(q)\n",
    "#notice the nested nature of the IPC data\n",
    "q.get_results(\"ipc.symbol\", output_type=\"list\", limit=5)"
   ]
  },
  {
   "cell_type": "code",
   "execution_count": 6,
   "id": "4268a180-0af4-4a31-93b6-73f64971c178",
   "metadata": {},
   "outputs": [
    {
     "name": "stdout",
     "output_type": "stream",
     "text": [
      "58 publications\n"
     ]
    },
    {
     "data": {
      "text/plain": [
       "[{'ipc': [{'symbol': 'H04W36/00'},\n",
       "   {'symbol': 'H04W36/12'},\n",
       "   {'symbol': 'H04L12/44'},\n",
       "   {'symbol': 'H04W8/08'}]},\n",
       " {'ipc': [{'symbol': 'H04W36/00'},\n",
       "   {'symbol': 'H04L12/14'},\n",
       "   {'symbol': 'H04M15/00'},\n",
       "   {'symbol': 'H04W4/24'},\n",
       "   {'symbol': 'H04W76/12'}]},\n",
       " {'ipc': [{'symbol': 'H04W8/06'},\n",
       "   {'symbol': 'H04L12/46'},\n",
       "   {'symbol': 'H04L61/5014'}]},\n",
       " {'ipc': [{'symbol': 'H04N21/436'},\n",
       "   {'symbol': 'G06F3/16'},\n",
       "   {'symbol': 'H04L69/18'},\n",
       "   {'symbol': 'H04N21/442'},\n",
       "   {'symbol': 'H04R27/00'}]},\n",
       " {'ipc': [{'symbol': 'H04W8/18'},\n",
       "   {'symbol': 'H04W48/18'},\n",
       "   {'symbol': 'H04W36/12'}]}]"
      ]
     },
     "execution_count": 6,
     "metadata": {},
     "output_type": "execute_result"
    }
   ],
   "source": [
    "# We can also find all publications having *all* CPC symbols present, using the match_all parameter\n",
    "\n",
    "q = epab.query_cpc(symbol=[\"H04W36%\", \"H04L12%\"], match_all=True)\n",
    "print(q)\n",
    "q.get_results(\"ipc.symbol\", output_type=\"list\", limit=5)"
   ]
  },
  {
   "cell_type": "markdown",
   "id": "ba85068d-dd7b-49e9-bf52-e310bfe930d3",
   "metadata": {},
   "source": [
    "#### Invention symbols\n",
    "You can query for symbols that are assigned to the publications as invention classifications, with the `invention=True` parameter."
   ]
  },
  {
   "cell_type": "code",
   "execution_count": null,
   "id": "c122d215-fdde-405b-852b-e235cd1c2734",
   "metadata": {},
   "outputs": [],
   "source": [
    "# Let's now query for two symbols which should be both present and assigned as \"invention\" symbols\n",
    "\n",
    "q = epab.query_ipc(symbol=\"H04W36/00, H04W84%\", match_all=True, invention=True)\n",
    "print(q)\n",
    "q.get_results(\"ipc.symbol, ipc.category\", output_type=\"list\", limit=5)"
   ]
  },
  {
   "cell_type": "code",
   "execution_count": 7,
   "id": "28258157-597c-437d-942e-04f3433d0999",
   "metadata": {},
   "outputs": [
    {
     "name": "stdout",
     "output_type": "stream",
     "text": [
      "87 publications\n"
     ]
    },
    {
     "data": {
      "text/plain": [
       "[{'cpc': [{'symbol': 'H04W36/0069', 'category': 'Add'},\n",
       "   {'symbol': 'H04W76/16', 'category': 'Inv'},\n",
       "   {'symbol': 'H04W84/12', 'category': 'Add'},\n",
       "   {'symbol': 'H04W28/082', 'category': 'Inv'}]},\n",
       " {'cpc': [{'symbol': 'H04W36/08', 'category': 'Inv'},\n",
       "   {'symbol': 'H04W84/047', 'category': 'Add'},\n",
       "   {'symbol': 'H04W36/0033', 'category': 'Add'},\n",
       "   {'symbol': 'H04W36/0058', 'category': 'Add'}]},\n",
       " {'cpc': [{'symbol': 'H04B7/18545', 'category': 'Inv'},\n",
       "   {'symbol': 'H04B7/18513', 'category': 'Inv'},\n",
       "   {'symbol': 'H04W4/029', 'category': 'Inv'},\n",
       "   {'symbol': 'H04W4/90', 'category': 'Inv'},\n",
       "   {'symbol': 'H04W84/06', 'category': 'Add'},\n",
       "   {'symbol': 'H04W36/00', 'category': 'Add'},\n",
       "   {'symbol': 'H04W48/10', 'category': 'Add'},\n",
       "   {'symbol': 'H04W60/00', 'category': 'Inv'},\n",
       "   {'symbol': 'H04W48/18', 'category': 'Add'}]},\n",
       " {'cpc': [{'symbol': 'H04B7/18545', 'category': 'Inv'},\n",
       "   {'symbol': 'H04B7/18541', 'category': 'Inv'},\n",
       "   {'symbol': 'H04W36/0061', 'category': 'Add'},\n",
       "   {'symbol': 'H04W36/08', 'category': 'Add'},\n",
       "   {'symbol': 'H04B7/18513', 'category': 'Inv'},\n",
       "   {'symbol': 'H04B7/18547', 'category': 'Inv'},\n",
       "   {'symbol': 'H04W12/08', 'category': 'Inv'},\n",
       "   {'symbol': 'H04W64/00', 'category': 'Add'},\n",
       "   {'symbol': 'H04W84/06', 'category': 'Add'},\n",
       "   {'symbol': 'H04W48/12', 'category': 'Inv'},\n",
       "   {'symbol': 'H04W84/005', 'category': 'Add'},\n",
       "   {'symbol': 'H04W60/04', 'category': 'Add'}]},\n",
       " {'cpc': [{'symbol': 'H04W36/32', 'category': 'Add'},\n",
       "   {'symbol': 'H04W36/08', 'category': 'Inv'},\n",
       "   {'symbol': 'H04W84/045', 'category': 'Add'},\n",
       "   {'symbol': 'H04W36/0069', 'category': 'Add'}]}]"
      ]
     },
     "execution_count": 7,
     "metadata": {},
     "output_type": "execute_result"
    }
   ],
   "source": [
    "# similarly, we can query for additional, i.e. non invention symbols. This time with CPC\n",
    "\n",
    "q = epab.query_cpc(symbol=\"H04W36/00, H04W84%\", match_all=True, invention=False)\n",
    "print(q)\n",
    "q.get_results(\"cpc.symbol, cpc.category\", output_type=\"list\", limit=5)"
   ]
  },
  {
   "cell_type": "markdown",
   "id": "b9d2054b-3c1c-474b-a2e7-9190688d7a36",
   "metadata": {},
   "source": [
    "## Combining queries\n",
    "So far we have seen exapmles with one single query and as we mentioned, querying EPAB is an object that contains a reference to the publications resulting from the queries we run with the methods seen above. Those queries can then be combined for more advanced data processing with boolean logic. \n",
    "\n",
    "  - Intersection (logic *AND*): Using the `&` operator\n",
    "  - Union (logic *OR*): Using the `|` operator\n",
    "  - Exclusion (logic *AND NOT*): Using the `-` operator\n",
    "  - Negation (logic *NOT*): Using the `~` operator\n",
    "\n"
   ]
  },
  {
   "cell_type": "markdown",
   "id": "084e115d-6edf-45e1-829f-d608ea05f8c5",
   "metadata": {},
   "source": [
    "### Getting granted patents in a technology sector\n",
    "We will use the `&` operator to find B1 publications (granted patents) that have been published in between 2020 and 2023 in the field of MRNA vaccines. We will use the CPC symbol A61P31/12 which covers antivirals."
   ]
  },
  {
   "cell_type": "code",
   "execution_count": null,
   "id": "7303098e-bdac-48b0-91f5-43b49fa18aca",
   "metadata": {},
   "outputs": [],
   "source": []
  },
  {
   "cell_type": "code",
   "execution_count": 29,
   "id": "72aebcfd-5dd6-45fe-a1a7-f80efc8a48f8",
   "metadata": {},
   "outputs": [
    {
     "name": "stdout",
     "output_type": "stream",
     "text": [
      "The first query returns 429003 publications and the second 1593 publications\n"
     ]
    }
   ],
   "source": [
    "# getting all the B1 publications in the desired time range\n",
    "q = epab.query_publication(number=\"%\", kind_code=\"B1\", date=\"20200101-20231231\")\n",
    "\n",
    "# getting all the publications with CPC code C12N 15/70 as invention classification\n",
    "r = epab.query_cpc(symbol=\"A61P31/12\", invention = True)\n",
    "\n",
    "print (f'The first query returns', q, 'and the second', r)"
   ]
  },
  {
   "cell_type": "code",
   "execution_count": 30,
   "id": "622c45e4-7b1c-409f-979e-b821d7c6a919",
   "metadata": {},
   "outputs": [
    {
     "name": "stdout",
     "output_type": "stream",
     "text": [
      "The combined query returns 409 publications\n"
     ]
    }
   ],
   "source": [
    "# now we combine the two queries\n",
    "s = q & r\n",
    "print (f'The combined query returns',s)\n"
   ]
  },
  {
   "cell_type": "markdown",
   "id": "e5a3deb5-6253-4698-894f-70a9d43cf46d",
   "metadata": {},
   "source": [
    "#### Further combinations\n",
    "We can take a combined query and further combine it with another query. Let's find how many of those publications named Moderna or Pfizer as an applicant"
   ]
  },
  {
   "cell_type": "code",
   "execution_count": 31,
   "id": "20786435-d83b-4aba-a950-600220174915",
   "metadata": {},
   "outputs": [
    {
     "name": "stdout",
     "output_type": "stream",
     "text": [
      "Publications naming Moderna as an applicant 369 publications\n",
      "Publications naming Pfizer as an applicant 6652 publications\n",
      "Publications with either of the two applicants 7021 publications\n"
     ]
    }
   ],
   "source": [
    "# we generate two queries, one per applicant\n",
    "t = epab.query_applicant_name('moderna')\n",
    "u = epab.query_applicant_name('pfizer')\n",
    "print (f'Publications naming Moderna as an applicant', t)\n",
    "print (f'Publications naming Pfizer as an applicant', u)\n",
    "\n",
    "# combining both applicants with an or combination\n",
    "v = t | u\n",
    "\n",
    "print (f'Publications with either of the two applicants', v)"
   ]
  },
  {
   "cell_type": "markdown",
   "id": "8abd7dea-1678-4c54-845a-3c948bd84dad",
   "metadata": {},
   "source": [
    "### Finding the desired information\n",
    "Now we combine the two combined queries with an `&` combination"
   ]
  },
  {
   "cell_type": "code",
   "execution_count": 35,
   "id": "c7f04a0e-cc44-4dd9-b5b0-f4d492817923",
   "metadata": {},
   "outputs": [
    {
     "name": "stdout",
     "output_type": "stream",
     "text": [
      "4 publications\n"
     ]
    },
    {
     "data": {
      "text/html": [
       "<div>\n",
       "<style scoped>\n",
       "    .dataframe tbody tr th:only-of-type {\n",
       "        vertical-align: middle;\n",
       "    }\n",
       "\n",
       "    .dataframe tbody tr th {\n",
       "        vertical-align: top;\n",
       "    }\n",
       "\n",
       "    .dataframe thead th {\n",
       "        text-align: right;\n",
       "    }\n",
       "</style>\n",
       "<table border=\"1\" class=\"dataframe\">\n",
       "  <thead>\n",
       "    <tr style=\"text-align: right;\">\n",
       "      <th></th>\n",
       "      <th>title.en</th>\n",
       "      <th>application.filing_date</th>\n",
       "      <th>applicant</th>\n",
       "    </tr>\n",
       "  </thead>\n",
       "  <tbody>\n",
       "    <tr>\n",
       "      <th>0</th>\n",
       "      <td>INFECTIOUS DISEASE VACCINES</td>\n",
       "      <td>20160721</td>\n",
       "      <td>[{'name': 'ModernaTX, Inc.'}]</td>\n",
       "    </tr>\n",
       "    <tr>\n",
       "      <th>1</th>\n",
       "      <td>IMMUNOGENIC COMPOSITION</td>\n",
       "      <td>20060623</td>\n",
       "      <td>[{'name': 'Pfizer Ireland Pharmaceuticals'}]</td>\n",
       "    </tr>\n",
       "    <tr>\n",
       "      <th>2</th>\n",
       "      <td>IMMUNOGENIC COMPOSITION</td>\n",
       "      <td>20060623</td>\n",
       "      <td>[{'name': 'Pfizer Ireland Pharmaceuticals'}]</td>\n",
       "    </tr>\n",
       "    <tr>\n",
       "      <th>3</th>\n",
       "      <td>HIGH PURITY RNA COMPOSITIONS AND METHODS FOR P...</td>\n",
       "      <td>20170914</td>\n",
       "      <td>[{'name': 'ModernaTX, Inc.'}]</td>\n",
       "    </tr>\n",
       "  </tbody>\n",
       "</table>\n",
       "</div>"
      ],
      "text/plain": [
       "                                            title.en application.filing_date  \\\n",
       "0                        INFECTIOUS DISEASE VACCINES                20160721   \n",
       "1                            IMMUNOGENIC COMPOSITION                20060623   \n",
       "2                            IMMUNOGENIC COMPOSITION                20060623   \n",
       "3  HIGH PURITY RNA COMPOSITIONS AND METHODS FOR P...                20170914   \n",
       "\n",
       "                                      applicant  \n",
       "0                 [{'name': 'ModernaTX, Inc.'}]  \n",
       "1  [{'name': 'Pfizer Ireland Pharmaceuticals'}]  \n",
       "2  [{'name': 'Pfizer Ireland Pharmaceuticals'}]  \n",
       "3                 [{'name': 'ModernaTX, Inc.'}]  "
      ]
     },
     "execution_count": 35,
     "metadata": {},
     "output_type": "execute_result"
    }
   ],
   "source": [
    "w = v & s \n",
    "print (w)\n",
    "w.get_results('title.en, application.filing_date, applicant.name')"
   ]
  },
  {
   "cell_type": "code",
   "execution_count": null,
   "id": "98e0f1bb-f796-4eb5-b5ac-cd774f98c9b0",
   "metadata": {},
   "outputs": [],
   "source": []
  }
 ],
 "metadata": {
  "kernelspec": {
   "display_name": "Python 3 (ipykernel)",
   "language": "python",
   "name": "python3"
  },
  "language_info": {
   "codemirror_mode": {
    "name": "ipython",
    "version": 3
   },
   "file_extension": ".py",
   "mimetype": "text/x-python",
   "name": "python",
   "nbconvert_exporter": "python",
   "pygments_lexer": "ipython3",
   "version": "3.11.9"
  },
  "widgets": {
   "application/vnd.jupyter.widget-state+json": {
    "state": {},
    "version_major": 2,
    "version_minor": 0
   }
  }
 },
 "nbformat": 4,
 "nbformat_minor": 5
}
