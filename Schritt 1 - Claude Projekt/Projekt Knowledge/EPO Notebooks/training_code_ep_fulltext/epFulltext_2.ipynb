{
 "cells": [
  {
   "cell_type": "markdown",
   "id": "755d5f4f-7c9c-4d7a-ad99-0b27f6ad2ed8",
   "metadata": {},
   "source": [
    "# The EP full-text library - Lesson 2\n",
    "This notebook expands on lesson 1 to dive into more advanced concepts of EPAB, the implementation in TIP of the EP full-text library. We will introduce querying by full text fields, divisionals and parents, and search report fields. As we did in the first notebook, we first create an instance of the EPAB library. Remember that by default we are getting access to a test database"
   ]
  },
  {
   "cell_type": "code",
   "execution_count": null,
   "id": "1274c1e9-de67-4ebc-9e40-4f163702696c",
   "metadata": {},
   "outputs": [],
   "source": [
    "# Importing the EPAB client\n",
    "from epo.tipdata.epab import EPABClient\n",
    "\n",
    "# creating an instance of the EPAB client with the production database\n",
    "epab = EPABClient(env='PROD')\n"
   ]
  },
  {
   "cell_type": "markdown",
   "id": "1a74c20f-8021-4ddf-8518-6955e7d4067d",
   "metadata": {},
   "source": [
    "## Querying by full text fields\n",
    "Much like the [EP full-text search](https://www.epo.org/en/searching-for-patents/technical/ep-full-text), one of the most powerful features of the EPAB library is that it gives you access to the description, claims, title and abstract of the publications within the EPAB database. "
   ]
  },
  {
   "cell_type": "markdown",
   "id": "78ffbb3d-ead3-4fa5-8f69-b70078744d9a",
   "metadata": {},
   "source": [
    "### Querying by the title\n",
    "You can search for applications containing one or more terms in the title. When performing a first search for patent publications of a given technological concept, it is generally a good approach to search in the title, since when a publication contains the search term in the title it is likely that it is a good match for your search query. If you followed lesson 1, you probably can guess nomenclature of the search method: `query_title`."
   ]
  },
  {
   "cell_type": "code",
   "execution_count": null,
   "id": "27a9dcee-a825-4429-8790-39c2553a1dda",
   "metadata": {},
   "outputs": [],
   "source": [
    "# querying by the title of the publication with the word 'covid'\n",
    "q = epab.query_title('covid')\n",
    "q.get_results(\"title\", limit=5, output_type='list')\n"
   ]
  },
  {
   "cell_type": "markdown",
   "id": "b1738655-896d-41da-98af-8a124ec57061",
   "metadata": {},
   "source": [
    "#### Understanding fulltext languages\n",
    "You can see in the result that the title field contains a dictionary with three titles. It is very important, when working with fulltext, to take into consideration that the EPO publishes the fulltext fields in the three official languages: German, English, and French.\n",
    "\n",
    "When you search for a term in a fulltext field, by default you will search in all three languages. This can be problematic. A good example of a search query that would yield different results in English and German is the word \"Gift.\"\n",
    "\n",
    "In English, \"gift\" refers to a present or something given willingly to someone without payment. However, in German, \"Gift\" means \"poison.\" You can change this by specifying one or more of the official languages with the strings `EN`, `DE` and `FR`."
   ]
  },
  {
   "cell_type": "code",
   "execution_count": null,
   "id": "d37ffa92-64bd-474d-94e4-0de010c42acc",
   "metadata": {},
   "outputs": [],
   "source": [
    "# searching for publications with the word GIFT only in the English title\n",
    "q = epab.query_title('gift', language=\"EN\")\n",
    "q.get_results(\"title\", limit=5, )"
   ]
  },
  {
   "cell_type": "markdown",
   "id": "74a814b2-6e54-4ba0-b7bf-437c8cd4fcf4",
   "metadata": {},
   "source": [
    "#### Refresher of query combination\n",
    "We saw in lesson 1 that we can combine queries to create more complex queries. Let's see if there are any publications that contain the word gift in both the German and English titles. "
   ]
  },
  {
   "cell_type": "code",
   "execution_count": null,
   "id": "48d02dc4-718c-45f7-8ee6-79efae8599e6",
   "metadata": {},
   "outputs": [],
   "source": [
    "# we get a second query with publications mentioning poison, in German\n",
    "r = epab.query_title('gift', language=\"DE\")\n",
    "print (f'publications with the word Gift in German', r)\n",
    "\n",
    "#combining the two queries\n",
    "s = q & r\n",
    "\n",
    "print (f'Poisionus gifts found:', s)"
   ]
  },
  {
   "cell_type": "markdown",
   "id": "e5169c66-0e04-400b-a19d-9ab53c542bcd",
   "metadata": {},
   "source": [
    "### Case sensitivity\n",
    "You have seen that we are querying in lowercase and the titles are displayed in all uppercase. It will come at no surprise that the search for full text terms is by default case insensitive. This can be overriden with `ignore_case=False`. Below we perform two queries with and without this parameter, to see the different results we get. "
   ]
  },
  {
   "cell_type": "code",
   "execution_count": null,
   "id": "3cd2e3ea-1a26-4ec4-9091-63807559ee29",
   "metadata": {},
   "outputs": [],
   "source": [
    "# searching for publications with the word GIFT only in the English title ignoring case\n",
    "q = epab.query_title('gift', language=\"EN\")\n",
    "print (f'Publications with the word gift in any combination of lower and upper case', q)\n",
    "\n",
    "q.get_results('title', limit=5)\n",
    "\n",
    "\n"
   ]
  },
  {
   "cell_type": "code",
   "execution_count": null,
   "id": "3858f2c1-25e1-419c-8c70-72d61e0605dc",
   "metadata": {},
   "outputs": [],
   "source": [
    "# searching for publications with the word GIFT only in the English title forcing lowercase\n",
    "r = epab.query_title('gift', language=\"EN\", ignore_case=False)\n",
    "print (f'Publications with the word gift in lowercase', r)\n",
    "\n",
    "r.get_results('title', limit=5)"
   ]
  },
  {
   "cell_type": "markdown",
   "id": "fb0efe7d-c9e9-4089-a54b-ecb9ba3e078d",
   "metadata": {},
   "source": [
    "### Multiple search terms\n",
    "We can enter multiple search terms in the queries we run on EPAB by full text fields. When we enter multiple terms, by default these terms are combined with an `OR`"
   ]
  },
  {
   "cell_type": "code",
   "execution_count": null,
   "id": "28b9770a-110f-47f8-a4eb-ec89563d245d",
   "metadata": {},
   "outputs": [],
   "source": [
    "# Searching a set of possible terms (e.g. synonyms)\n",
    "q = epab.query_title(\"covid, corona virus, coronavirus\", language=\"EN\")\n",
    "print (q)\n",
    "q.get_results(\"title.en\", output_type=\"list\", limit=10)"
   ]
  },
  {
   "cell_type": "markdown",
   "id": "d3c8194c-16da-4ae1-93ec-7f00fa478126",
   "metadata": {},
   "source": [
    "#### Multiple search terms combined with AND\n",
    "We can also query with several strings, and specify that they all should be present, with the `match_all` parameter."
   ]
  },
  {
   "cell_type": "code",
   "execution_count": null,
   "id": "5f84e14c-a2d1-46c7-826a-95c2b21f55f1",
   "metadata": {},
   "outputs": [],
   "source": [
    "# We can also look for having multiple terms in the same title\n",
    "q = epab.query_title(\"coronavirus, vaccine\", match_all=True, language=\"EN\")\n",
    "print(q)\n",
    "q.get_results(\"title.en\", limit=5)"
   ]
  },
  {
   "cell_type": "markdown",
   "id": "c2d97d89-0893-4297-869b-947e998330a2",
   "metadata": {},
   "source": [
    "#### Multiple search terms with advanced combinations\n",
    "What if you want to mix `AND` with `OR` with the combinations of terms? Combining queries comes in handy for this case. "
   ]
  },
  {
   "cell_type": "code",
   "execution_count": null,
   "id": "781a8673-4996-431b-a327-415cf4b507a2",
   "metadata": {},
   "outputs": [],
   "source": [
    "# searching for synonims of Covid \n",
    "q = epab.query_title(search_terms=\"covid, corona virus, coronavirus\", language=\"EN\")\n",
    "\n",
    "# searching for synonims of vaccine\n",
    "r = epab.query_title(search_terms=\"vaccine%, inmun%\", language=\"EN\")\n",
    "\n",
    "s = q & r\n",
    "\n",
    "s.get_results('title.en', limit = 10)"
   ]
  },
  {
   "cell_type": "markdown",
   "id": "44a4e260-487d-4e83-a69c-a9eb100a9e4b",
   "metadata": {},
   "source": [
    "### Querying abstract, claims and description\n",
    "You can query other parts of the fulltext such as the claims, the abstract, and the description with the same methods, obviously changing the part of the fulltext in the method nomenclature. "
   ]
  },
  {
   "cell_type": "code",
   "execution_count": null,
   "id": "9c503bcd-bf09-4ffe-a596-bbc3707a2cc3",
   "metadata": {},
   "outputs": [],
   "source": [
    "# abstract search\n",
    "q = epab.query_abstract(\"handover, base station\", match_all=True, ignore_case=True)\n",
    "print(q)\n",
    "q.get_results(\"abstract\", output_type=\"list\", limit=2)"
   ]
  },
  {
   "cell_type": "markdown",
   "id": "a4d7457e-f437-49b3-851e-2d5a27b88991",
   "metadata": {},
   "source": [
    "## Retrieving statistics from a query\n",
    "Sometimes you will want to get statistics over the results of a query, before further processing it. The method `get_stats` returns a dataframe with the statistics over one or more selected fields. when you run this method on a query object, for the selected field(s) you will get the following information. \n",
    "\n",
    "- the `count` column reports the total number of occurrences of the corresponding field(s) value\n",
    "- the `unique_publications` column reports the number of unique publications having that value\n",
    "- the last two lines of the table are used to report the remainder and the total\n",
    "\n",
    "### Statistics on patents about wireless communication networks\n",
    "Let's look at an example. We will make a query for publications in the field of wireless communication networks, grouped in the CPC under H04W"
   ]
  },
  {
   "cell_type": "code",
   "execution_count": 12,
   "id": "5291f3c3-f834-47f3-a11c-26ca1b1d30b6",
   "metadata": {},
   "outputs": [
    {
     "data": {
      "text/plain": [
       "183817 publications"
      ]
     },
     "execution_count": 12,
     "metadata": {},
     "output_type": "execute_result"
    }
   ],
   "source": [
    "# Running a query for all publications with CPC symbols starting with H04W\n",
    "q = epab.query_ipc(\"H04W%\")\n",
    "q"
   ]
  },
  {
   "cell_type": "code",
   "execution_count": 14,
   "id": "bac8f0f6-aade-4fea-913e-f27ed207675a",
   "metadata": {},
   "outputs": [
    {
     "data": {
      "text/html": [
       "<div>\n",
       "<style scoped>\n",
       "    .dataframe tbody tr th:only-of-type {\n",
       "        vertical-align: middle;\n",
       "    }\n",
       "\n",
       "    .dataframe tbody tr th {\n",
       "        vertical-align: top;\n",
       "    }\n",
       "\n",
       "    .dataframe thead th {\n",
       "        text-align: right;\n",
       "    }\n",
       "</style>\n",
       "<table border=\"1\" class=\"dataframe\">\n",
       "  <thead>\n",
       "    <tr style=\"text-align: right;\">\n",
       "      <th></th>\n",
       "      <th>inventor.country</th>\n",
       "      <th>count</th>\n",
       "      <th>unique_publications</th>\n",
       "    </tr>\n",
       "  </thead>\n",
       "  <tbody>\n",
       "    <tr>\n",
       "      <th>0</th>\n",
       "      <td>US</td>\n",
       "      <td>168276.0</td>\n",
       "      <td>51631.0</td>\n",
       "    </tr>\n",
       "    <tr>\n",
       "      <th>1</th>\n",
       "      <td>CN</td>\n",
       "      <td>113949.0</td>\n",
       "      <td>44220.0</td>\n",
       "    </tr>\n",
       "    <tr>\n",
       "      <th>2</th>\n",
       "      <td>KR</td>\n",
       "      <td>57087.0</td>\n",
       "      <td>16489.0</td>\n",
       "    </tr>\n",
       "    <tr>\n",
       "      <th>3</th>\n",
       "      <td>JP</td>\n",
       "      <td>47794.0</td>\n",
       "      <td>19227.0</td>\n",
       "    </tr>\n",
       "    <tr>\n",
       "      <th>4</th>\n",
       "      <td>SE</td>\n",
       "      <td>41752.0</td>\n",
       "      <td>16104.0</td>\n",
       "    </tr>\n",
       "    <tr>\n",
       "      <th>...</th>\n",
       "      <td>...</td>\n",
       "      <td>...</td>\n",
       "      <td>...</td>\n",
       "    </tr>\n",
       "    <tr>\n",
       "      <th>97</th>\n",
       "      <td>EC</td>\n",
       "      <td>1.0</td>\n",
       "      <td>1.0</td>\n",
       "    </tr>\n",
       "    <tr>\n",
       "      <th>98</th>\n",
       "      <td>GL</td>\n",
       "      <td>1.0</td>\n",
       "      <td>1.0</td>\n",
       "    </tr>\n",
       "    <tr>\n",
       "      <th>99</th>\n",
       "      <td>NC</td>\n",
       "      <td>1.0</td>\n",
       "      <td>1.0</td>\n",
       "    </tr>\n",
       "    <tr>\n",
       "      <th>100</th>\n",
       "      <td>KW</td>\n",
       "      <td>1.0</td>\n",
       "      <td>1.0</td>\n",
       "    </tr>\n",
       "    <tr>\n",
       "      <th>Total</th>\n",
       "      <td>*</td>\n",
       "      <td>564960.0</td>\n",
       "      <td>212527.0</td>\n",
       "    </tr>\n",
       "  </tbody>\n",
       "</table>\n",
       "<p>102 rows × 3 columns</p>\n",
       "</div>"
      ],
      "text/plain": [
       "      inventor.country     count  unique_publications\n",
       "0                   US  168276.0              51631.0\n",
       "1                   CN  113949.0              44220.0\n",
       "2                   KR   57087.0              16489.0\n",
       "3                   JP   47794.0              19227.0\n",
       "4                   SE   41752.0              16104.0\n",
       "...                ...       ...                  ...\n",
       "97                  EC       1.0                  1.0\n",
       "98                  GL       1.0                  1.0\n",
       "99                  NC       1.0                  1.0\n",
       "100                 KW       1.0                  1.0\n",
       "Total                *  564960.0             212527.0\n",
       "\n",
       "[102 rows x 3 columns]"
      ]
     },
     "execution_count": 14,
     "metadata": {},
     "output_type": "execute_result"
    }
   ],
   "source": [
    "# We want to see the distribution of the countries where the inventors mentioned in the publications resulting from the query live\n",
    "q.get_stats(\"inventor.country\")"
   ]
  },
  {
   "cell_type": "markdown",
   "id": "2f43e401-413f-41d4-bc2b-3c592f69a3f1",
   "metadata": {},
   "source": [
    "You can see that there are more inventors than publications. This happens because typically one application lists more than one inventor. We can also see what applicants are most active in the field of wireless communication networks"
   ]
  },
  {
   "cell_type": "code",
   "execution_count": 16,
   "id": "46c99ff9-92d9-4353-9c32-fa17e09a55a1",
   "metadata": {},
   "outputs": [
    {
     "data": {
      "text/html": [
       "<div>\n",
       "<style scoped>\n",
       "    .dataframe tbody tr th:only-of-type {\n",
       "        vertical-align: middle;\n",
       "    }\n",
       "\n",
       "    .dataframe tbody tr th {\n",
       "        vertical-align: top;\n",
       "    }\n",
       "\n",
       "    .dataframe thead th {\n",
       "        text-align: right;\n",
       "    }\n",
       "</style>\n",
       "<table border=\"1\" class=\"dataframe\">\n",
       "  <thead>\n",
       "    <tr style=\"text-align: right;\">\n",
       "      <th></th>\n",
       "      <th>applicant.name</th>\n",
       "      <th>count</th>\n",
       "      <th>unique_publications</th>\n",
       "    </tr>\n",
       "  </thead>\n",
       "  <tbody>\n",
       "    <tr>\n",
       "      <th>0</th>\n",
       "      <td>Huawei Technologies Co., Ltd.</td>\n",
       "      <td>17041.0</td>\n",
       "      <td>17041.0</td>\n",
       "    </tr>\n",
       "    <tr>\n",
       "      <th>1</th>\n",
       "      <td>Telefonaktiebolaget LM Ericsson (publ)</td>\n",
       "      <td>10865.0</td>\n",
       "      <td>10864.0</td>\n",
       "    </tr>\n",
       "    <tr>\n",
       "      <th>2</th>\n",
       "      <td>Samsung Electronics Co., Ltd.</td>\n",
       "      <td>8795.0</td>\n",
       "      <td>8795.0</td>\n",
       "    </tr>\n",
       "    <tr>\n",
       "      <th>3</th>\n",
       "      <td>Qualcomm Incorporated</td>\n",
       "      <td>8404.0</td>\n",
       "      <td>8404.0</td>\n",
       "    </tr>\n",
       "    <tr>\n",
       "      <th>4</th>\n",
       "      <td>ZTE Corporation</td>\n",
       "      <td>5884.0</td>\n",
       "      <td>5884.0</td>\n",
       "    </tr>\n",
       "    <tr>\n",
       "      <th>...</th>\n",
       "      <td>...</td>\n",
       "      <td>...</td>\n",
       "      <td>...</td>\n",
       "    </tr>\n",
       "    <tr>\n",
       "      <th>8840</th>\n",
       "      <td>Pham, Thien, Van</td>\n",
       "      <td>1.0</td>\n",
       "      <td>1.0</td>\n",
       "    </tr>\n",
       "    <tr>\n",
       "      <th>8841</th>\n",
       "      <td>Bhalla, Rajesh</td>\n",
       "      <td>1.0</td>\n",
       "      <td>1.0</td>\n",
       "    </tr>\n",
       "    <tr>\n",
       "      <th>8842</th>\n",
       "      <td>KATALYXER S.r.l.</td>\n",
       "      <td>1.0</td>\n",
       "      <td>1.0</td>\n",
       "    </tr>\n",
       "    <tr>\n",
       "      <th>8843</th>\n",
       "      <td>Eko Devices Inc.</td>\n",
       "      <td>1.0</td>\n",
       "      <td>1.0</td>\n",
       "    </tr>\n",
       "    <tr>\n",
       "      <th>Total</th>\n",
       "      <td>*</td>\n",
       "      <td>189050.0</td>\n",
       "      <td>189046.0</td>\n",
       "    </tr>\n",
       "  </tbody>\n",
       "</table>\n",
       "<p>8845 rows × 3 columns</p>\n",
       "</div>"
      ],
      "text/plain": [
       "                               applicant.name     count  unique_publications\n",
       "0               Huawei Technologies Co., Ltd.   17041.0              17041.0\n",
       "1      Telefonaktiebolaget LM Ericsson (publ)   10865.0              10864.0\n",
       "2               Samsung Electronics Co., Ltd.    8795.0               8795.0\n",
       "3                       Qualcomm Incorporated    8404.0               8404.0\n",
       "4                             ZTE Corporation    5884.0               5884.0\n",
       "...                                       ...       ...                  ...\n",
       "8840                         Pham, Thien, Van       1.0                  1.0\n",
       "8841                           Bhalla, Rajesh       1.0                  1.0\n",
       "8842                         KATALYXER S.r.l.       1.0                  1.0\n",
       "8843                         Eko Devices Inc.       1.0                  1.0\n",
       "Total                                       *  189050.0             189046.0\n",
       "\n",
       "[8845 rows x 3 columns]"
      ]
     },
     "execution_count": 16,
     "metadata": {},
     "output_type": "execute_result"
    }
   ],
   "source": [
    "# We want to see the distribution of the countries where the inventors mentioned in the publications resulting from the query live\n",
    "q.get_stats(\"applicant.name\")"
   ]
  },
  {
   "cell_type": "markdown",
   "id": "a77f9626-9b35-4382-81f7-4d9a2c1ddf56",
   "metadata": {},
   "source": [
    "Again remember that a patent application can name more than one applicant, so it is possible that the sum of the `count` field will be higher than the sum of the `unique_publications` field."
   ]
  },
  {
   "cell_type": "markdown",
   "id": "fbfabe5e-60c6-42e8-8e07-f8752fb215f8",
   "metadata": {},
   "source": []
  }
 ],
 "metadata": {
  "kernelspec": {
   "display_name": "Python 3 (ipykernel)",
   "language": "python",
   "name": "python3"
  },
  "language_info": {
   "codemirror_mode": {
    "name": "ipython",
    "version": 3
   },
   "file_extension": ".py",
   "mimetype": "text/x-python",
   "name": "python",
   "nbconvert_exporter": "python",
   "pygments_lexer": "ipython3",
   "version": "3.11.8"
  }
 },
 "nbformat": 4,
 "nbformat_minor": 5
}
