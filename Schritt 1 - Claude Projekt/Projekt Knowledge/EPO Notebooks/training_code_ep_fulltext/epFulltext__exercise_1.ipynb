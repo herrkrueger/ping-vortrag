{
 "cells": [
  {
   "cell_type": "markdown",
   "id": "89393526-d5c0-44be-ab53-6122df494981",
   "metadata": {},
   "source": [
    "# Data Processing with EP-Fulltext\n",
    "In this notebook we will use the EPAB client that is built in TIP for analyzing the portfolio of granted applications of a given applicant. This lesson assumes that the user is familiar with TIP and the EPAB client. "
   ]
  },
  {
   "cell_type": "code",
   "execution_count": 1,
   "id": "565260ca-baa1-406a-9a9e-533bfa532ea1",
   "metadata": {},
   "outputs": [
    {
     "name": "stdout",
     "output_type": "stream",
     "text": [
      "This client instance is currently configured to use a test dataset with reduced number of publications (~10K).\n",
      "Use EPABClient(env='PROD') to use the complete EPAB dataset (>7M publications).\n",
      "Use EPABClient(env='TEST') to use the test dataset and avoid displaying this warning\n",
      "\n"
     ]
    }
   ],
   "source": [
    "# We first need to initalize the EPAB client.\n",
    "from epo.tipdata.epab import EPABClient\n",
    "epab = EPABClient()"
   ]
  },
  {
   "cell_type": "markdown",
   "id": "51c2b593-dbef-4462-bebc-029fcda31daf",
   "metadata": {},
   "source": [
    "We will create a query that represents the applicant that we want to search. In this case we want to search for publications that contain the string \"Marel Food Systems\" in the applicant field. Please take into consideration that the search is case insensitive. "
   ]
  },
  {
   "cell_type": "code",
   "execution_count": 2,
   "id": "97d84b90-6e34-482f-92a8-fd2652a8d8ca",
   "metadata": {},
   "outputs": [],
   "source": [
    "query = 'marel food systems'\n",
    "q = epab.query_applicant_name(query)"
   ]
  },
  {
   "cell_type": "markdown",
   "id": "9d165487-e567-453a-8254-54fb814e23d6",
   "metadata": {},
   "source": [
    "The query we get is an object, and not yet a list of results"
   ]
  },
  {
   "cell_type": "code",
   "execution_count": 3,
   "id": "dd23fc6a-d2d3-413b-bff8-420ef5252e63",
   "metadata": {},
   "outputs": [
    {
     "name": "stdout",
     "output_type": "stream",
     "text": [
      "<class 'epo.tipdata.epab.query.Query'>\n"
     ]
    }
   ],
   "source": [
    "print (type(q))"
   ]
  },
  {
   "cell_type": "markdown",
   "id": "7cf71e16-7cf9-48aa-8a82-feed061cbbce",
   "metadata": {},
   "source": [
    "In order to get the results from the query, we need to use the method `get_results`. We need to specify the fields that we want to display for each publication that result from our search query. For now we are going to take a look at the applicant field in each publication. We will ask the EPAB object to render the results as a list."
   ]
  },
  {
   "cell_type": "code",
   "execution_count": 4,
   "id": "dc0865b7-66e1-4713-a272-c33327256fdc",
   "metadata": {},
   "outputs": [
    {
     "name": "stdout",
     "output_type": "stream",
     "text": [
      "[{'application': {'number': '06821704.1'}, 'applicant': [{'name': 'Marel Food Systems hf.', 'address': 'Austurhrauni 9', 'city': '210 Gardabær', 'country': 'IS'}]}, {'application': {'number': '08702741.3'}, 'applicant': [{'name': 'Marel Food Systems hf.', 'address': 'Austurhrauni 9', 'city': '210 Gardabær', 'country': 'IS'}]}, {'application': {'number': '02787168.0'}, 'applicant': [{'name': 'Marel Food Systems hf.', 'address': 'Austurhrauni 9', 'city': '210 Gardabær', 'country': 'IS'}]}, {'application': {'number': '07350006.8'}, 'applicant': [{'name': 'Marel Food Systems hf.', 'address': 'Austurhrauni 9', 'city': '210 Gardabær', 'country': 'IS'}]}, {'application': {'number': '07706198.4'}, 'applicant': [{'name': 'Marel Food Systems hf.', 'address': 'Austurhrauni 9', 'city': '210 Gardabær', 'country': 'IS'}]}, {'application': {'number': '08775601.1'}, 'applicant': [{'name': 'Marel Food Systems hf.', 'address': 'Austurhrauni 9', 'city': '210 Gardabær', 'country': 'IS'}]}, {'application': {'number': '08702741.3'}, 'applicant': [{'name': 'Marel Food Systems hf.', 'address': 'Austurhrauni 9', 'city': '210 Gardabær', 'country': 'IS'}]}, {'application': {'number': '08702741.3'}, 'applicant': [{'name': 'Marel Food Systems hf.', 'address': 'Austurhrauni 9', 'city': '210 Gardabær', 'country': 'IS'}]}, {'application': {'number': '06821704.1'}, 'applicant': [{'name': 'Marel Food Systems hf.', 'address': 'Austurhrauni 9', 'city': '210 Gardabær', 'country': 'IS'}]}]\n"
     ]
    }
   ],
   "source": [
    "publications = q.get_results(\" application.number, applicant\", output_type='list')\n",
    "\n",
    "print (publications)"
   ]
  },
  {
   "cell_type": "markdown",
   "id": "2165cb3a-34af-4926-907a-082b7b8d63ac",
   "metadata": {},
   "source": [
    "<p>We can see that the results we get is a list with a dictionary per publication. In each dictionary there is a key `applicant` that contains a list of dictionaries. This is because each publication can mention more than one applicant.</p>\n",
    "<p>Each dictionary in the list corresponds to one applicant, and you can see that it contains information about said applicant beyond the name, such as the address, city and country. As long as the query we specified is present in the applicant's name of one of the applicants mentioned in a publication, this publication will show in the search results.</p>"
   ]
  },
  {
   "cell_type": "markdown",
   "id": "9e18b489-f83c-4e75-bf93-c009fc243ccd",
   "metadata": {},
   "source": [
    "## Publications and applications \n",
    "\n",
    "To continue with our analysis, it's crucial to understand that a patent application may go through multiple publications during its lifetime. For a comprehensive overview of the different types of publications associated with a patent application, please refer to [this link](#).\n",
    "\n",
    "**Key Concepts:**\n",
    "- A patent application is initially published as either an **A1** or **A2 publication**.\n",
    "- If the patent is subsequently granted, it is then published as a **B1 publication**.\n",
    "- Additional publications, denoted as **Bx**, may occur after the patent is granted, e.g. B8.\n",
    "\n",
    "We will now group the different publications according to their corresponding application. We will later use the filing date to get an overview of the patent applications filed (and granted) per year. \n"
   ]
  },
  {
   "cell_type": "code",
   "execution_count": 5,
   "id": "485a82b5-71ab-4834-b301-8495c723c3e0",
   "metadata": {},
   "outputs": [
    {
     "name": "stdout",
     "output_type": "stream",
     "text": [
      "[{'publication': {'kind': 'A1'}, 'application': {'number': '06821704.1', 'filing_date': '20061219'}}, {'publication': {'kind': 'A1'}, 'application': {'number': '08702741.3', 'filing_date': '20080131'}}, {'publication': {'kind': 'B8'}, 'application': {'number': '02787168.0', 'filing_date': '20020712'}}, {'publication': {'kind': 'A1'}, 'application': {'number': '07706198.4', 'filing_date': '20070115'}}, {'publication': {'kind': 'B1'}, 'application': {'number': '07350006.8', 'filing_date': '20070510'}}, {'publication': {'kind': 'B1'}, 'application': {'number': '08702741.3', 'filing_date': '20080131'}}, {'publication': {'kind': 'B2'}, 'application': {'number': '08702741.3', 'filing_date': '20080131'}}, {'publication': {'kind': 'B1'}, 'application': {'number': '06821704.1', 'filing_date': '20061219'}}, {'publication': {'kind': 'B1'}, 'application': {'number': '08775601.1', 'filing_date': '20080226'}}]\n"
     ]
    }
   ],
   "source": [
    "## Extract results again \n",
    "publications = q.get_results(\"publication.kind, application.number, application.filing_date\", output_type='list')\n",
    "print (publications)"
   ]
  },
  {
   "cell_type": "markdown",
   "id": "aea6d9ed-75cf-461c-9673-5d8d8ffb9f35",
   "metadata": {},
   "source": [
    "We can see that there are unique application numbers that have more than one publication associated with it. Let's work on reorganizing the results, grouping the publication kinds into unique application numbers. We want a list containing one dictionary per each application, and in that dictionary a list of all the publications for that specific application. "
   ]
  },
  {
   "cell_type": "code",
   "execution_count": 6,
   "id": "dee6f607-328a-451d-896d-0344cbf2fba1",
   "metadata": {
    "scrolled": true
   },
   "outputs": [
    {
     "name": "stdout",
     "output_type": "stream",
     "text": [
      "[{'application_number': '06821704.1', 'year': '2006', 'publications': ['A1', 'B1']}, {'application_number': '08702741.3', 'year': '2008', 'publications': ['A1', 'B1', 'B2']}, {'application_number': '02787168.0', 'year': '2002', 'publications': ['B8']}, {'application_number': '07706198.4', 'year': '2007', 'publications': ['A1']}, {'application_number': '07350006.8', 'year': '2007', 'publications': ['B1']}, {'application_number': '08775601.1', 'year': '2008', 'publications': ['B1']}]\n"
     ]
    }
   ],
   "source": [
    "# Initialize an empty set to store unique application numbers\n",
    "unique_application_numbers = set()\n",
    "\n",
    "# Initialize an empty list to store unique applications\n",
    "unique_applications = []\n",
    "\n",
    "# Iterate through each item (dictionary) in the publications list\n",
    "for item in publications:\n",
    "    # Extract the application number, filing date, and publication kind from the current item\n",
    "    application_number = item['application']['number']\n",
    "    filing_date = item['application']['filing_date']\n",
    "    publication_kind = item['publication']['kind']\n",
    "    \n",
    "    # Check if the application number is already in the set of unique application numbers\n",
    "    if application_number not in unique_application_numbers:\n",
    "        # If not, add it to the set\n",
    "        unique_application_numbers.add(application_number)\n",
    "        # Create a new dictionary for this unique application number\n",
    "        new_application = {\n",
    "            'application_number': application_number,\n",
    "            ## instead of the filig date, we extract the first 4 digits to determine the year when the application was filed.\n",
    "            'year': filing_date[:4],\n",
    "            'publications': [publication_kind]  # Initialize the list with the current publication kind\n",
    "        }\n",
    "        # Append the new application dictionary to the list of unique applications\n",
    "        unique_applications.append(new_application)\n",
    "    else:\n",
    "        # If the application number is already in the set, find the corresponding dictionary\n",
    "        for app in unique_applications:\n",
    "            if app['application_number'] == application_number:\n",
    "                # Add the new publication kind to the list inside the existing dictionary\n",
    "                app['publications'].append(publication_kind)\n",
    "                break  # Break the loop once the correct dictionary is found\n",
    "\n",
    "print (unique_applications)\n"
   ]
  },
  {
   "cell_type": "markdown",
   "id": "7eda5303-b3b6-4d25-b002-d67c304506bb",
   "metadata": {},
   "source": [
    "## Understanding the results\n",
    "We now have a much clearer view of the results, with the grouping we have done. Let's take a look at some of the results we have obtained.\n",
    "\n",
    "- Application 06821704.1 was filed in 2006, published as an A1 with a search report, then granted with a B1.\n",
    "- Application 08702741.3 was filed in 2008, publisded as an A1 with a search report, granted with a B1, then the patent was amended and published as a B2\n",
    "- Application 07706198.4 was published as an A1, but never granted\n",
    "\n",
    "We have also two curious cases where we see a B type specification but no A type specification. This should not be possible, since we know that every patent application must first be published as an A type publication. What is happening? The answer comes by looking into the history of these applications in the register. \n",
    "\n",
    "For example when opening [application 07350006.8](https://register.epo.org/application?number=EP07350006)  in the register we can see that this application was filed by a private French individual listed as applicant, and published as such. After the publication of the A1 the application was transfered to Marel Food Systems, and the subsequent B1 was published listing the new applicant. Our results make sense then!\n",
    "\n",
    "# Lesson 2\n",
    "## Analyzing granted patents\n",
    "We ended the first lesson with a  result set is small and we can analyze it quickly, but broader searches may need further analysis. For example we may want to see only the applications that have been granted. We know that in order for the application to have been granted, a B type publication must have been issued. "
   ]
  },
  {
   "cell_type": "code",
   "execution_count": 7,
   "id": "7d6c7a4a-55f7-47b3-af70-1559fa53adf1",
   "metadata": {},
   "outputs": [
    {
     "name": "stdout",
     "output_type": "stream",
     "text": [
      "Total applications mentioning  marel food systems as one of the applicants: 6\n",
      "Granted applications: 5\n"
     ]
    }
   ],
   "source": [
    "# We create a new list to include only the applications that have been granted. \n",
    "granted = []\n",
    "\n",
    "# We iterate inside the list of applications\n",
    "for app in unique_applications:\n",
    "    # inside each application, we iterate inside the list of publications with the any() method\n",
    "    # the any() method avoids continuing the loop if one B publication is already found\n",
    "    if any (publication.startswith('B') for publication in app['publications']):\n",
    "        # when the first B type publication is found inside the list of publications for an application\n",
    "        granted.append({\n",
    "                'application': app['application_number'],\n",
    "                'year' : app['year'],\n",
    "                #register link' : url\n",
    "        })\n",
    "          \n",
    "\n",
    "print (\"Total applications mentioning \", query, \"as one of the applicants:\", len(unique_applications))\n",
    "print (\"Granted applications:\", len(granted))"
   ]
  },
  {
   "cell_type": "markdown",
   "id": "46ffa651-3734-4ea4-97bc-e53ff77623d8",
   "metadata": {},
   "source": [
    "We can see that in our results there is one application that was not granted. Let's take a look at the structure of the list we have created. We see that now we have a list of the applications that have been granted as patents mentioning applicants that contain our query in the applicant's name. We see also the year of filing, which can be useful to study trends and to have an overview of the patents that are close to lapsing. X"
   ]
  },
  {
   "cell_type": "code",
   "execution_count": 8,
   "id": "c7ea3945-ad50-489f-a442-85e132b34e1e",
   "metadata": {},
   "outputs": [
    {
     "name": "stdout",
     "output_type": "stream",
     "text": [
      "[{'application': '06821704.1', 'year': '2006'}, {'application': '08702741.3', 'year': '2008'}, {'application': '02787168.0', 'year': '2002'}, {'application': '07350006.8', 'year': '2007'}, {'application': '08775601.1', 'year': '2008'}]\n"
     ]
    }
   ],
   "source": [
    "# We print now the list of granted applications\n",
    "print (granted)"
   ]
  },
  {
   "cell_type": "markdown",
   "id": "a6331ba4-785d-4e94-b37d-f5e979e3a6dd",
   "metadata": {},
   "source": [
    "## Linking to the register\n",
    "When studying a portfolio, it can be very useful to have a link for each application that opens it in the European Patent Register. Luckily for us, the urls of the european register contain the application number, so by knowing said application number we can compose its register link. "
   ]
  },
  {
   "cell_type": "code",
   "execution_count": 9,
   "id": "e1053e26-86cf-416c-bb8d-56261f51004b",
   "metadata": {},
   "outputs": [
    {
     "name": "stdout",
     "output_type": "stream",
     "text": [
      "[{'application': '06821704.1', 'year': '2006', 'register link': 'https://register.epo.org/application?number=EP06821704.'}, {'application': '08702741.3', 'year': '2008', 'register link': 'https://register.epo.org/application?number=EP08702741.'}, {'application': '02787168.0', 'year': '2002', 'register link': 'https://register.epo.org/application?number=EP02787168.'}, {'application': '07350006.8', 'year': '2007', 'register link': 'https://register.epo.org/application?number=EP07350006.'}, {'application': '08775601.1', 'year': '2008', 'register link': 'https://register.epo.org/application?number=EP08775601.'}]\n"
     ]
    }
   ],
   "source": [
    "# We initiate again the list of granted applications to include the creation of the link\n",
    "granted = []\n",
    "for app in unique_applications:\n",
    "    if any (publication.startswith('B') for publication in app['publications']):\n",
    "        # defining the application number as a variable\n",
    "        application_number = app['application_number']\n",
    "        \n",
    "        # the url of the register does not include the application number.\n",
    "        # We remove the last 2 characters of the application number \n",
    "        no_check_digit = application_number[:-1]\n",
    "\n",
    "        # we insert the application number into the \n",
    "        url = f\"https://register.epo.org/application?number=EP{no_check_digit}\"\n",
    "        granted.append({\n",
    "                'application': app['application_number'],\n",
    "                'year' : app['year'],\n",
    "                'register link' : url\n",
    "        })\n",
    "\n",
    "print (granted)"
   ]
  },
  {
   "cell_type": "markdown",
   "id": "1ed2c50a-1433-45ea-8e96-a332a3204448",
   "metadata": {},
   "source": [
    "You can see now that our list contains a link to the register for all the applications in our results that have been granted. \n",
    "\n",
    "## Working with dataframes\n",
    "We have created a list that does not have nested lists or dictionaries inside. We have been working with a list to be able to process data with python, but printing a list is not a practical way of visualizing data. We are now going to start using Pandas,  a very popular library used for working with data sets. It has built-in functions for analyzing, cleaning, exploring, and manipulating data. For a good tutorial about Pandas, visit [this link](https://www.w3schools.com/python/pandas/pandas_intro.asp)."
   ]
  },
  {
   "cell_type": "code",
   "execution_count": 10,
   "id": "048b1088-6a4c-4100-9c4b-a7cf06399ea8",
   "metadata": {},
   "outputs": [
    {
     "data": {
      "text/html": [
       "<div>\n",
       "<style scoped>\n",
       "    .dataframe tbody tr th:only-of-type {\n",
       "        vertical-align: middle;\n",
       "    }\n",
       "\n",
       "    .dataframe tbody tr th {\n",
       "        vertical-align: top;\n",
       "    }\n",
       "\n",
       "    .dataframe thead th {\n",
       "        text-align: right;\n",
       "    }\n",
       "</style>\n",
       "<table border=\"1\" class=\"dataframe\">\n",
       "  <thead>\n",
       "    <tr style=\"text-align: right;\">\n",
       "      <th></th>\n",
       "      <th>application</th>\n",
       "      <th>year</th>\n",
       "      <th>register link</th>\n",
       "    </tr>\n",
       "  </thead>\n",
       "  <tbody>\n",
       "    <tr>\n",
       "      <th>0</th>\n",
       "      <td>06821704.1</td>\n",
       "      <td>2006</td>\n",
       "      <td>https://register.epo.org/application?number=EP...</td>\n",
       "    </tr>\n",
       "    <tr>\n",
       "      <th>1</th>\n",
       "      <td>08702741.3</td>\n",
       "      <td>2008</td>\n",
       "      <td>https://register.epo.org/application?number=EP...</td>\n",
       "    </tr>\n",
       "    <tr>\n",
       "      <th>2</th>\n",
       "      <td>02787168.0</td>\n",
       "      <td>2002</td>\n",
       "      <td>https://register.epo.org/application?number=EP...</td>\n",
       "    </tr>\n",
       "    <tr>\n",
       "      <th>3</th>\n",
       "      <td>07350006.8</td>\n",
       "      <td>2007</td>\n",
       "      <td>https://register.epo.org/application?number=EP...</td>\n",
       "    </tr>\n",
       "    <tr>\n",
       "      <th>4</th>\n",
       "      <td>08775601.1</td>\n",
       "      <td>2008</td>\n",
       "      <td>https://register.epo.org/application?number=EP...</td>\n",
       "    </tr>\n",
       "  </tbody>\n",
       "</table>\n",
       "</div>"
      ],
      "text/plain": [
       "  application  year                                      register link\n",
       "0  06821704.1  2006  https://register.epo.org/application?number=EP...\n",
       "1  08702741.3  2008  https://register.epo.org/application?number=EP...\n",
       "2  02787168.0  2002  https://register.epo.org/application?number=EP...\n",
       "3  07350006.8  2007  https://register.epo.org/application?number=EP...\n",
       "4  08775601.1  2008  https://register.epo.org/application?number=EP..."
      ]
     },
     "execution_count": 10,
     "metadata": {},
     "output_type": "execute_result"
    }
   ],
   "source": [
    "# We import the pandas library\n",
    "import pandas as pd\n",
    "\n",
    "# creating the dataframe\n",
    "df = pd.DataFrame(granted)\n",
    "\n",
    "# displaying the dataframe\n",
    "df"
   ]
  },
  {
   "cell_type": "markdown",
   "id": "5f4902ab-7206-4429-a436-a4bf7e1b4ef1",
   "metadata": {},
   "source": [
    "## Displaying the links as clickable\n",
    "We can see that jupyter rendered the links as clickable when we were displaying the results as a list, but when displaying the dataframe we have lost the formatting. This can be easily solved because Pandas has a method apply() that can run a function over a whole column. We also need to import Ipython to be able to make Dataframes show HTML."
   ]
  },
  {
   "cell_type": "code",
   "execution_count": 11,
   "id": "4298074d-9644-4f49-8a80-bcfda93ce9e7",
   "metadata": {},
   "outputs": [
    {
     "data": {
      "text/html": [
       "<table border=\"1\" class=\"dataframe\">\n",
       "  <thead>\n",
       "    <tr style=\"text-align: right;\">\n",
       "      <th></th>\n",
       "      <th>application</th>\n",
       "      <th>year</th>\n",
       "      <th>register link</th>\n",
       "    </tr>\n",
       "  </thead>\n",
       "  <tbody>\n",
       "    <tr>\n",
       "      <th>0</th>\n",
       "      <td>06821704.1</td>\n",
       "      <td>2006</td>\n",
       "      <td><a target=\"_blank\" href=\"https://register.epo.org/application?number=EP06821704.\">open</a></td>\n",
       "    </tr>\n",
       "    <tr>\n",
       "      <th>1</th>\n",
       "      <td>08702741.3</td>\n",
       "      <td>2008</td>\n",
       "      <td><a target=\"_blank\" href=\"https://register.epo.org/application?number=EP08702741.\">open</a></td>\n",
       "    </tr>\n",
       "    <tr>\n",
       "      <th>2</th>\n",
       "      <td>02787168.0</td>\n",
       "      <td>2002</td>\n",
       "      <td><a target=\"_blank\" href=\"https://register.epo.org/application?number=EP02787168.\">open</a></td>\n",
       "    </tr>\n",
       "    <tr>\n",
       "      <th>3</th>\n",
       "      <td>07350006.8</td>\n",
       "      <td>2007</td>\n",
       "      <td><a target=\"_blank\" href=\"https://register.epo.org/application?number=EP07350006.\">open</a></td>\n",
       "    </tr>\n",
       "    <tr>\n",
       "      <th>4</th>\n",
       "      <td>08775601.1</td>\n",
       "      <td>2008</td>\n",
       "      <td><a target=\"_blank\" href=\"https://register.epo.org/application?number=EP08775601.\">open</a></td>\n",
       "    </tr>\n",
       "  </tbody>\n",
       "</table>"
      ],
      "text/plain": [
       "<IPython.core.display.HTML object>"
      ]
     },
     "metadata": {},
     "output_type": "display_data"
    }
   ],
   "source": [
    "from IPython.display import display, HTML\n",
    "\n",
    "\n",
    "# Function to create clickable links\n",
    "def make_clickable(link):\n",
    "    return f'<a target=\"_blank\" href=\"{link}\">open</a>'\n",
    "\n",
    "# Apply the function to the 'register link' column\n",
    "df['register link'] = df['register link'].apply(make_clickable)\n",
    "\n",
    "\n",
    "\n",
    "# Display the DataFrame with clickable links\n",
    "display(HTML(df.to_html(escape=False)))"
   ]
  },
  {
   "cell_type": "markdown",
   "id": "4a513c02-ec6a-4522-b7fd-41e7e9cfd503",
   "metadata": {},
   "source": [
    "## Further processing results\n",
    "One useful way of displaying the results is to order the applications by year of filing."
   ]
  },
  {
   "cell_type": "code",
   "execution_count": 12,
   "id": "ed5a3502-b128-41c1-a5e4-08a7a015c7e1",
   "metadata": {},
   "outputs": [
    {
     "data": {
      "text/html": [
       "<table border=\"1\" class=\"dataframe\">\n",
       "  <thead>\n",
       "    <tr style=\"text-align: right;\">\n",
       "      <th></th>\n",
       "      <th>application</th>\n",
       "      <th>year</th>\n",
       "      <th>register link</th>\n",
       "    </tr>\n",
       "  </thead>\n",
       "  <tbody>\n",
       "    <tr>\n",
       "      <th>0</th>\n",
       "      <td>02787168.0</td>\n",
       "      <td>2002</td>\n",
       "      <td><a target=\"_blank\" href=\"https://register.epo.org/application?number=EP02787168.\">open</a></td>\n",
       "    </tr>\n",
       "    <tr>\n",
       "      <th>1</th>\n",
       "      <td>06821704.1</td>\n",
       "      <td>2006</td>\n",
       "      <td><a target=\"_blank\" href=\"https://register.epo.org/application?number=EP06821704.\">open</a></td>\n",
       "    </tr>\n",
       "    <tr>\n",
       "      <th>2</th>\n",
       "      <td>07350006.8</td>\n",
       "      <td>2007</td>\n",
       "      <td><a target=\"_blank\" href=\"https://register.epo.org/application?number=EP07350006.\">open</a></td>\n",
       "    </tr>\n",
       "    <tr>\n",
       "      <th>3</th>\n",
       "      <td>08702741.3</td>\n",
       "      <td>2008</td>\n",
       "      <td><a target=\"_blank\" href=\"https://register.epo.org/application?number=EP08702741.\">open</a></td>\n",
       "    </tr>\n",
       "    <tr>\n",
       "      <th>4</th>\n",
       "      <td>08775601.1</td>\n",
       "      <td>2008</td>\n",
       "      <td><a target=\"_blank\" href=\"https://register.epo.org/application?number=EP08775601.\">open</a></td>\n",
       "    </tr>\n",
       "  </tbody>\n",
       "</table>"
      ],
      "text/plain": [
       "<IPython.core.display.HTML object>"
      ]
     },
     "metadata": {},
     "output_type": "display_data"
    }
   ],
   "source": [
    "# Sort the DF\n",
    "df = df.sort_values(by=['year', 'application']).reset_index(drop=True)\n",
    "# Display the DataFrame with clickable links\n",
    "display(HTML(df.to_html(escape=False)))"
   ]
  },
  {
   "cell_type": "markdown",
   "id": "29c453db-7202-499c-bc3f-219705022a6d",
   "metadata": {},
   "source": [
    "### Aggregating the results\n",
    "In our example we are working with a small set of applications, but depending on our query we could have results list several orders of magnitude larger. It can be useful to aggregate data to visualize trends."
   ]
  },
  {
   "cell_type": "code",
   "execution_count": 13,
   "id": "767f77ce-34b2-4225-9a7a-a8b87c4f41a2",
   "metadata": {},
   "outputs": [
    {
     "data": {
      "text/html": [
       "<div>\n",
       "<style scoped>\n",
       "    .dataframe tbody tr th:only-of-type {\n",
       "        vertical-align: middle;\n",
       "    }\n",
       "\n",
       "    .dataframe tbody tr th {\n",
       "        vertical-align: top;\n",
       "    }\n",
       "\n",
       "    .dataframe thead th {\n",
       "        text-align: right;\n",
       "    }\n",
       "</style>\n",
       "<table border=\"1\" class=\"dataframe\">\n",
       "  <thead>\n",
       "    <tr style=\"text-align: right;\">\n",
       "      <th></th>\n",
       "      <th>year</th>\n",
       "      <th>application</th>\n",
       "    </tr>\n",
       "  </thead>\n",
       "  <tbody>\n",
       "    <tr>\n",
       "      <th>0</th>\n",
       "      <td>2002</td>\n",
       "      <td>1</td>\n",
       "    </tr>\n",
       "    <tr>\n",
       "      <th>1</th>\n",
       "      <td>2006</td>\n",
       "      <td>1</td>\n",
       "    </tr>\n",
       "    <tr>\n",
       "      <th>2</th>\n",
       "      <td>2007</td>\n",
       "      <td>1</td>\n",
       "    </tr>\n",
       "    <tr>\n",
       "      <th>3</th>\n",
       "      <td>2008</td>\n",
       "      <td>2</td>\n",
       "    </tr>\n",
       "  </tbody>\n",
       "</table>\n",
       "</div>"
      ],
      "text/plain": [
       "   year  application\n",
       "0  2002            1\n",
       "1  2006            1\n",
       "2  2007            1\n",
       "3  2008            2"
      ]
     },
     "execution_count": 13,
     "metadata": {},
     "output_type": "execute_result"
    }
   ],
   "source": [
    "# Group by year and count the number of applications per year\n",
    "aggregated_df = df.groupby('year').agg({'application': 'count'}).reset_index()\n",
    "\n",
    "\n",
    "aggregated_df"
   ]
  },
  {
   "cell_type": "code",
   "execution_count": null,
   "id": "7f66eb40-f9d1-44ce-b91b-084fc553b788",
   "metadata": {},
   "outputs": [],
   "source": []
  }
 ],
 "metadata": {
  "kernelspec": {
   "display_name": "Python 3 (ipykernel)",
   "language": "python",
   "name": "python3"
  },
  "language_info": {
   "codemirror_mode": {
    "name": "ipython",
    "version": 3
   },
   "file_extension": ".py",
   "mimetype": "text/x-python",
   "name": "python",
   "nbconvert_exporter": "python",
   "pygments_lexer": "ipython3",
   "version": "3.11.8"
  }
 },
 "nbformat": 4,
 "nbformat_minor": 5
}
