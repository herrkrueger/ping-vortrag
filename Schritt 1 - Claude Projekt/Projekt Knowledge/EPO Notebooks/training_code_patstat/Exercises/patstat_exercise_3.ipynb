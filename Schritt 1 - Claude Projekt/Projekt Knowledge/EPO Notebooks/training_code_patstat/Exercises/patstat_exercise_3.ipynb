{
 "cells": [
  {
   "cell_type": "markdown",
   "id": "35a9c43e-f50d-469b-b6db-d8d7bced62d4",
   "metadata": {},
   "source": [
    "# Paststat register - Exercise 3\n",
    "In this exercise we will take a look at inner joins and left joins with ORM, and learn more about the main tables of PATSTAT Global and PATSTAT register.\n",
    "\n",
    "## Joins in ORM\n",
    "We have already seen how to perform joins with ORM in this course with the `.join()` method. These joins are equivalent to inner joins in SQL. Remember that to follow this course it is recommended that you are familiar with the concept of joins in SQL. [This tutorial](https://www.w3schools.com/sql/sql_join.asp) is a good place to get this knowledge.\n",
    "\n",
    "## PATSTAT global and PATSTAT register\n",
    "Both databases are centered around a table containing all the applications in each respective database. PATSTAT Register contains only EP applications, while PATSTAT global includes bibliographic data on patent applications from over 100 patent offices. EP applications are therefore present in both databases. "
   ]
  },
  {
   "cell_type": "code",
   "execution_count": 1,
   "id": "ff923168-d716-4998-ad4c-12613e9eb7dc",
   "metadata": {},
   "outputs": [],
   "source": [
    "# Importing the patstat client\n",
    "from epo.tipdata.patstat import PatstatClient\n",
    "\n",
    "# Initialize the PATSTAT client\n",
    "patstat = PatstatClient()\n",
    "\n",
    "# Access ORM\n",
    "db = patstat.orm()\n",
    "# Importing tables as models\n",
    "from epo.tipdata.patstat.database.models import REG101_APPLN, TLS201_APPLN\n"
   ]
  },
  {
   "cell_type": "markdown",
   "id": "9cdcbc93-cbff-4bc0-b841-32323a29c5dc",
   "metadata": {},
   "source": [
    "## Applications in PATSTAT register\n",
    "Since all applications in PATSTAT register are EP applications, it follows that to know the amount of EP applications in that database we simply need to query for all applications in the table `REG101_APPLN`.Table `REG101_APPLN` includes a field `appln_auth` that should always show the value `EP`. \n",
    "\n",
    "To test this hypothesis, we query table 101 with and without the filter for application authority, and we compare the results."
   ]
  },
  {
   "cell_type": "code",
   "execution_count": 2,
   "id": "4c6844d1-4a2c-49c5-bc71-ee7d8064c213",
   "metadata": {},
   "outputs": [
    {
     "name": "stdout",
     "output_type": "stream",
     "text": [
      "Register applications with EP as the application authority:6,778,524\n",
      "Total register applications:6,778,524\n"
     ]
    }
   ],
   "source": [
    "# Running the query filtering for applications that are Explicitly EP\n",
    "q = db.query(\n",
    "    REG101_APPLN.appln_nr.label('application number'),\n",
    "    REG101_APPLN.appln_id\n",
    ").filter(\n",
    "    REG101_APPLN.appln_auth == 'EP'\n",
    ")\n",
    "\n",
    "# Getting all applications\n",
    "r = db.query(\n",
    "    REG101_APPLN.appln_id\n",
    ")\n",
    "\n",
    "\n",
    "# Execute the query and convert the result to a DataFrame\n",
    "register_applications_ep = patstat.df(q)\n",
    "total_register_applications = patstat.df(r)\n",
    "# Display the result\n",
    "print(f\"Register applications with EP as the application authority:{len(register_applications_ep):,}\")\n",
    "print(f\"Total register applications:{len(total_register_applications):,}\")\n",
    "\n"
   ]
  },
  {
   "cell_type": "markdown",
   "id": "5525426b-a06a-4128-b1bf-7dc7ac46eee9",
   "metadata": {},
   "source": [
    "## Applications in PATSTAT global\n",
    "We can run a similar query in the corresponding table of PATSTAT global. Before we do that, let's see the coverage of application authorities in PATSTAT global."
   ]
  },
  {
   "cell_type": "code",
   "execution_count": 3,
   "id": "1d720689-d2b3-47ee-9486-baa63bfca93d",
   "metadata": {},
   "outputs": [
    {
     "data": {
      "text/html": [
       "<div>\n",
       "<style scoped>\n",
       "    .dataframe tbody tr th:only-of-type {\n",
       "        vertical-align: middle;\n",
       "    }\n",
       "\n",
       "    .dataframe tbody tr th {\n",
       "        vertical-align: top;\n",
       "    }\n",
       "\n",
       "    .dataframe thead th {\n",
       "        text-align: right;\n",
       "    }\n",
       "</style>\n",
       "<table border=\"1\" class=\"dataframe\">\n",
       "  <thead>\n",
       "    <tr style=\"text-align: right;\">\n",
       "      <th></th>\n",
       "      <th>applications</th>\n",
       "      <th>authority</th>\n",
       "    </tr>\n",
       "  </thead>\n",
       "  <tbody>\n",
       "    <tr>\n",
       "      <th>0</th>\n",
       "      <td>38349201</td>\n",
       "      <td>CN</td>\n",
       "    </tr>\n",
       "    <tr>\n",
       "      <th>1</th>\n",
       "      <td>21867386</td>\n",
       "      <td>JP</td>\n",
       "    </tr>\n",
       "    <tr>\n",
       "      <th>2</th>\n",
       "      <td>18865932</td>\n",
       "      <td>US</td>\n",
       "    </tr>\n",
       "    <tr>\n",
       "      <th>3</th>\n",
       "      <td>7396519</td>\n",
       "      <td>DE</td>\n",
       "    </tr>\n",
       "    <tr>\n",
       "      <th>4</th>\n",
       "      <td>5360107</td>\n",
       "      <td>KR</td>\n",
       "    </tr>\n",
       "    <tr>\n",
       "      <th>5</th>\n",
       "      <td>4829514</td>\n",
       "      <td>WO</td>\n",
       "    </tr>\n",
       "    <tr>\n",
       "      <th>6</th>\n",
       "      <td>4496597</td>\n",
       "      <td>EP</td>\n",
       "    </tr>\n",
       "    <tr>\n",
       "      <th>7</th>\n",
       "      <td>3612030</td>\n",
       "      <td>CA</td>\n",
       "    </tr>\n",
       "    <tr>\n",
       "      <th>8</th>\n",
       "      <td>3571821</td>\n",
       "      <td>GB</td>\n",
       "    </tr>\n",
       "    <tr>\n",
       "      <th>9</th>\n",
       "      <td>3221035</td>\n",
       "      <td>FR</td>\n",
       "    </tr>\n",
       "  </tbody>\n",
       "</table>\n",
       "</div>"
      ],
      "text/plain": [
       "   applications authority\n",
       "0      38349201        CN\n",
       "1      21867386        JP\n",
       "2      18865932        US\n",
       "3       7396519        DE\n",
       "4       5360107        KR\n",
       "5       4829514        WO\n",
       "6       4496597        EP\n",
       "7       3612030        CA\n",
       "8       3571821        GB\n",
       "9       3221035        FR"
      ]
     },
     "execution_count": 3,
     "metadata": {},
     "output_type": "execute_result"
    }
   ],
   "source": [
    "from sqlalchemy import func  # Import the func module from SQLAlchemy for SQL functions\n",
    "\n",
    "# Define a query to get the count of applications grouped by application authority\n",
    "q = db.query(\n",
    "    func.count(TLS201_APPLN.appln_id).label('applications'),  # Count the number of application IDs and label the result as 'applications'\n",
    "    TLS201_APPLN.appln_auth.label('authority')  # Get the application authority and label it as 'authority'\n",
    ").group_by(\n",
    "    TLS201_APPLN.appln_auth  # Group the results by application authority\n",
    ").order_by(\n",
    "    func.count(TLS201_APPLN.appln_id).desc()  # Order the results by the count of applications in descending order\n",
    ")\n",
    "\n",
    "# Convert the query result to a DataFrame\n",
    "distribution = patstat.df(q)\n",
    "\n",
    "# Display the first 10 rows of the DataFrame\n",
    "distribution[0:10]\n"
   ]
  },
  {
   "cell_type": "markdown",
   "id": "17365d6e-3c78-41e8-b9f6-28e2f3cf8f89",
   "metadata": {},
   "source": [
    "### EP applications in PATSTAT global \n",
    "We can see that EP applications are only a relatively small part of the applications contained in PATSTAT global. Let's do a simple query now to compare the number of EP applications in PATSTAT global and in PATSTAT register."
   ]
  },
  {
   "cell_type": "code",
   "execution_count": 4,
   "id": "ca1722c4-cd3c-4149-98fe-3b96b9083b9d",
   "metadata": {},
   "outputs": [
    {
     "name": "stdout",
     "output_type": "stream",
     "text": [
      "Register:6,778,524\n",
      "Global:4,496,597\n"
     ]
    }
   ],
   "source": [
    "q = db.query( \n",
    "TLS201_APPLN.appln_id\n",
    ").filter(\n",
    "    TLS201_APPLN.appln_auth == 'EP',\n",
    ")\n",
    "\n",
    "# Execute the query and convert the result to a DataFrame\n",
    "global_applications = patstat.df(q)\n",
    "\n",
    "# Display the result\n",
    "print(f\"Register:{len(total_register_applications):,}\")\n",
    "print(f\"Global:{len(global_applications):,}\")"
   ]
  },
  {
   "cell_type": "markdown",
   "id": "fff7b146-5a4a-4b8a-9249-02969ca457f1",
   "metadata": {},
   "source": [
    "## Inner Joins in ORM\n",
    "We have already seen inner joins in ORM in this course, since the default join in ORM is an inner join. This means that when the two tables with the condition `REG101_APPLN.appln_id == TLS201_APPLN.appln_id` and we apply the filter `TLS201_APPLN.appln_auth == 'EP'` we will get applications that are\n",
    "- present in the table REG `REG101_APPLN` **AND**\n",
    "- present in the table REG `TLS201_APPLN` with application authority EP."
   ]
  },
  {
   "cell_type": "code",
   "execution_count": 9,
   "id": "84709ca3-c1c2-4c6c-b01d-3b7987049286",
   "metadata": {},
   "outputs": [
    {
     "name": "stdout",
     "output_type": "stream",
     "text": [
      "Register:6,778,524\n",
      "Global:4,496,597\n",
      "Inner Join: 4,314,602\n"
     ]
    }
   ],
   "source": [
    "# Join the two tables on the appln_id\n",
    "q = db.query(\n",
    "    REG101_APPLN.appln_id,\n",
    "    TLS201_APPLN.appln_id.label('global_id')\n",
    ").join(\n",
    "    TLS201_APPLN, REG101_APPLN.appln_id == TLS201_APPLN.appln_id  # Perform an inner join on appln_id\n",
    ").filter(\n",
    "    TLS201_APPLN.appln_auth == 'EP'  # Filter to include only rows where appln_auth is 'EP' in global\n",
    ")\n",
    "\n",
    "# Execute the query and convert the result to a DataFrame\n",
    "joined_applications = patstat.df(q)\n",
    "\n",
    "# Display the result\n",
    "print(f\"Register:{len(total_register_applications):,}\")\n",
    "print(f\"Global:{len(global_applications):,}\")\n",
    "print(f\"Inner Join: {len(joined_applications):,}\")"
   ]
  },
  {
   "cell_type": "markdown",
   "id": "9f5a9093-f004-4ea5-a389-82ca2e2e62b0",
   "metadata": {},
   "source": [
    "### Visualizing the inner join\n",
    "We can see in the results above that there are less applications in PATSTAT global than in PATSTAT register, and when we apply the inner join there are even less applications where the ID is in both tables.\n",
    "\n",
    "Let's create a visual representation of the the coverage of PATSTAT register and PATSTAT global, to better understand the concept of joins. We will use [Mathplotlib](https://matplotlib.org/), which is a library for creating interactive visualizations in Python that comes pre-installed in your TIP workspace, and an [matplotlib_venn](https://pypi.org/project/matplotlib-venn/), a package to create venn diagrams in Mathplotlib. This package is also pre-installed in your workspace. The goal of this course is not to explain these common data visualization libraries, so the code below is only a demonstration of what you can create in TIP once you are familiar with these libraries. "
   ]
  },
  {
   "cell_type": "code",
   "execution_count": 6,
   "id": "c8ab6185-2ac7-4d36-88d2-63bb9c81cec9",
   "metadata": {},
   "outputs": [
    {
     "data": {
      "image/png": "[encoded data removed]",
      "text/plain": [
       "<Figure size 600x600 with 1 Axes>"
      ]
     },
     "metadata": {},
     "output_type": "display_data"
    }
   ],
   "source": [
    "import matplotlib.pyplot as plt\n",
    "from matplotlib_venn import venn2\n",
    "\n",
    "\n",
    "# Values from the image\n",
    "register = len(total_register_applications)\n",
    "global_ = len(global_applications)\n",
    "inner_join = len(joined_applications)\n",
    "\n",
    "# Calculate the values for only in Register and only in Global\n",
    "only_register = register - inner_join\n",
    "only_global = global_ - inner_join\n",
    "\n",
    "# Create a Venn diagram\n",
    "plt.figure(figsize=(6, 6))\n",
    "venn = venn2(subsets=(only_register, only_global, inner_join), set_labels=('', ''))\n",
    "\n",
    "# Add a separate legend\n",
    "plt.legend(['Register', 'Global'], loc='upper left')\n",
    "\n",
    "# Display the Venn diagram\n",
    "\n",
    "plt.show()"
   ]
  },
  {
   "cell_type": "markdown",
   "id": "1e915e2a-c56a-49f8-8678-d1129e40f5b8",
   "metadata": {},
   "source": [
    "#### Understanding the venn diagram\n",
    "The diagram above helps us understand the inner join we just performed. \n",
    "\n",
    "- The pink circle is **ALL** the application IDs in the left table, PATSTAT register.\n",
    "- The green circle is the application IDs in the right table, PATSTAT global, filtered so only those with `EP` as the application authority are present.\n",
    "- The beige circle is the [inner join](https://www.w3schools.com/sql/sql_join_inner.asp). These are application IDs that are present in both the pink circle and the green circle.\n",
    "\n",
    "You can see that there is a significant portion of the pink circle not covered by the beige circle. These are application IDs that are in PATSTAT register but do not have a corresponding application ID in PATSTAT global with EP as the application authority. How can this be, if PATSTAT register contains only European patent applications?\n",
    "\n",
    "To find out we need to continue our data analysis."
   ]
  },
  {
   "cell_type": "markdown",
   "id": "ea593a4c-d03a-4110-b0aa-b9fd893f8485",
   "metadata": {},
   "source": [
    "### Finding out the applications in register but not in global\n",
    "We have a dataframe `total_register_applications` that is equivalent to the pink circle, and a dataframe `joined_applications` which is the brown circle. There are several ways to calculate the difference between the two dataframes. In this exercise we are going to use the `isin()` method.\n",
    "\n",
    "#### What is the `isin()` method?\n",
    "The isin method in pandas is used to filter data in a DataFrame or Series by checking if each element is present in a list, set, or another Series. It returns a boolean Series that indicates whether each element is present in the provided collection. The syntax for the `isin()` method is\n",
    "\n",
    "`Series1.isin(series2)`\n",
    "\n",
    "And returns a boolean for each item in series 1 according to whether it is present in series 2. In this case we want application id column of the `total_register` dataframe as series 1, and column `register_applications` of the `joined applications` dataframe as series 2."
   ]
  },
  {
   "cell_type": "code",
   "execution_count": 10,
   "id": "911db510-9119-4bd6-84ea-376100da35d1",
   "metadata": {},
   "outputs": [
    {
     "data": {
      "text/plain": [
       "0           True\n",
       "1           True\n",
       "2           True\n",
       "3           True\n",
       "4           True\n",
       "           ...  \n",
       "6778519    False\n",
       "6778520    False\n",
       "6778521    False\n",
       "6778522    False\n",
       "6778523    False\n",
       "Name: appln_id, Length: 6778524, dtype: bool"
      ]
     },
     "execution_count": 10,
     "metadata": {},
     "output_type": "execute_result"
    }
   ],
   "source": [
    "is_in_join = total_register_applications['appln_id'].isin(joined_applications['global_id'])\n",
    "is_in_join"
   ]
  },
  {
   "cell_type": "markdown",
   "id": "448cfc81-48c1-46a1-810a-1749f21c7fa0",
   "metadata": {},
   "source": [
    "#### Finding the negative isin\n",
    "We have now the information of the application IDs in the pink circle that are also in the beige circle. What we need is the opposite, we want `TRUE` if an application ID in the `total_register_applications` is NOT in the `joined_applications`. To get this boolean series we simlpy need to use the negative operator `~`.  We use the negative image of the boolean series 'is_in_join' to filter the `total_register_applications` dataframe and create a new dataframe `difference` that will contain only the application ids in PATSTAT register that are not in the join dataframe, i.e. they do not appear as EP applications in patstat global."
   ]
  },
  {
   "cell_type": "code",
   "execution_count": 11,
   "id": "bab6fe5a-6c90-4dcd-9340-67d8ccfe8fce",
   "metadata": {},
   "outputs": [
    {
     "name": "stdout",
     "output_type": "stream",
     "text": [
      "Ids in Register:6,778,524\n",
      "Ids in the inner Join: 4,314,602\n",
      "Difference between the two dataframes: 2,463,922\n",
      "Lenght of the new difference dataframe:2,463,922\n"
     ]
    }
   ],
   "source": [
    "# Find the difference in appln_id between total_register_applications and joined_applications\n",
    "difference = total_register_applications[~is_in_join]\n",
    "\n",
    "print(f\"Ids in Register:{len(total_register_applications):,}\")\n",
    "print(f\"Ids in the inner Join: {len(joined_applications):,}\")\n",
    "print (f\"Difference between the two dataframes: {(len(total_register_applications)-len(joined_applications)):,}\")\n",
    "print (f\"Lenght of the new difference dataframe:{len(difference):,}\")\n"
   ]
  },
  {
   "cell_type": "markdown",
   "id": "b954485a-3573-4dc4-a4c6-dbbeaa2ec312",
   "metadata": {},
   "source": [
    "#### What is going on with those applications?\n",
    "We can see that with the use of `~isin` we seem to have found the applications that are in PATSTAT register but not in PATSTAT global as EP applications. Let's inspect the dataframe to see if it gives us a clue. "
   ]
  },
  {
   "cell_type": "code",
   "execution_count": 12,
   "id": "6433a451-2b75-4d7b-aaed-8b787744ecc4",
   "metadata": {},
   "outputs": [
    {
     "data": {
      "text/html": [
       "<div>\n",
       "<style scoped>\n",
       "    .dataframe tbody tr th:only-of-type {\n",
       "        vertical-align: middle;\n",
       "    }\n",
       "\n",
       "    .dataframe tbody tr th {\n",
       "        vertical-align: top;\n",
       "    }\n",
       "\n",
       "    .dataframe thead th {\n",
       "        text-align: right;\n",
       "    }\n",
       "</style>\n",
       "<table border=\"1\" class=\"dataframe\">\n",
       "  <thead>\n",
       "    <tr style=\"text-align: right;\">\n",
       "      <th></th>\n",
       "      <th>appln_id</th>\n",
       "    </tr>\n",
       "  </thead>\n",
       "  <tbody>\n",
       "    <tr>\n",
       "      <th>12951</th>\n",
       "      <td>0</td>\n",
       "    </tr>\n",
       "    <tr>\n",
       "      <th>12960</th>\n",
       "      <td>0</td>\n",
       "    </tr>\n",
       "    <tr>\n",
       "      <th>12976</th>\n",
       "      <td>0</td>\n",
       "    </tr>\n",
       "    <tr>\n",
       "      <th>12980</th>\n",
       "      <td>0</td>\n",
       "    </tr>\n",
       "    <tr>\n",
       "      <th>12981</th>\n",
       "      <td>0</td>\n",
       "    </tr>\n",
       "  </tbody>\n",
       "</table>\n",
       "</div>"
      ],
      "text/plain": [
       "       appln_id\n",
       "12951         0\n",
       "12960         0\n",
       "12976         0\n",
       "12980         0\n",
       "12981         0"
      ]
     },
     "execution_count": 12,
     "metadata": {},
     "output_type": "execute_result"
    }
   ],
   "source": [
    "difference.head()"
   ]
  },
  {
   "cell_type": "markdown",
   "id": "07110ac7-7282-4c85-ad49-9278b33be6f2",
   "metadata": {},
   "source": [
    "## Data replenishment in PATSTAT\n",
    "We can see that all the EP applications that are present in PATSTAT register but not in PATSTAT global have an `application_id` of 0. If you read the [data catalog for PATSTAT global](https://link.epo.org/web/searching-for-patents/business/patstat/data-catalog-patsat-ep-register-spring-en.pdf) you can see that this is indeed expected. \n",
    "\n",
    "In the PATSTAT EP Register, an `application_id` value of 0 signifies that the application is a PCT (Patent Cooperation Treaty) international application that has not entered the EP (European Patent) regional phase. These applications mention EP as a designated state but have not proceeded into the European procedure. This means there is no corresponding EP application in the PATSTAT Global database for these entries.\n",
    "\n"
   ]
  },
  {
   "cell_type": "code",
   "execution_count": null,
   "id": "b6584078-595f-44b2-8bfb-ed263c70300a",
   "metadata": {},
   "outputs": [],
   "source": []
  }
 ],
 "metadata": {
  "kernelspec": {
   "display_name": "Python 3 (ipykernel)",
   "language": "python",
   "name": "python3"
  },
  "language_info": {
   "codemirror_mode": {
    "name": "ipython",
    "version": 3
   },
   "file_extension": ".py",
   "mimetype": "text/x-python",
   "name": "python",
   "nbconvert_exporter": "python",
   "pygments_lexer": "ipython3",
   "version": "3.11.9"
  }
 },
 "nbformat": 4,
 "nbformat_minor": 5
}
